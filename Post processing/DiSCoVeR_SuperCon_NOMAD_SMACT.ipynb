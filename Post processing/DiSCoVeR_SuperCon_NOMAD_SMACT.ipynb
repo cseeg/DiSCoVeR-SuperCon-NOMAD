{
  "cells": [
    {
      "cell_type": "markdown",
      "metadata": {
        "id": "_gu3-28obXrE"
      },
      "source": [
        "[![Open In Colab](https://colab.research.google.com/assets/colab-badge.svg)](https://github.com/cseeg/DiSCoVeR-SuperCon-NOMAD-SMACT/blob/hasan_branch/Post%20processing/DiSCoVeR_SuperCon_NOMAD_SMACT.ipynb)"
      ]
    },
    {
      "cell_type": "markdown",
      "metadata": {},
      "source": [
        "##Setup"
      ]
    },
    {
      "cell_type": "code",
      "execution_count": 22,
      "metadata": {
        "id": "6Vic1nod7pW5"
      },
      "outputs": [],
      "source": [
        "from os import path\n",
        "try:\n",
        "  import google.colab\n",
        "  IN_COLAB = True\n",
        "  base_dir = \"/content/drive/MyDrive/\"\n",
        "except:\n",
        "  IN_COLAB = False\n",
        "  base_dir = path.join(\"data\", \"external\")"
      ]
    },
    {
      "cell_type": "code",
      "execution_count": null,
      "metadata": {
        "id": "67G2oOko7q3L"
      },
      "outputs": [],
      "source": [
        "if IN_COLAB:\n",
        "  %pip install crabnet\n",
        "  %pip install pymatgen"
      ]
    },
    {
      "cell_type": "markdown",
      "metadata": {
        "id": "1NYp-K0YbJto"
      },
      "source": [
        "##Materials Project API Key\n",
        "Get your [Materials Project API key](https://next-gen.materialsproject.org/api) from a file that you store in your Google Drive (see below) or current directory (.).\n",
        "\n",
        "The file named mp-api-key.json placed directly in your MyDrive folder or in your current directory would look like the following:\n",
        "\n",
        "```json\n",
        "{\n",
        "    \"API_KEY\": \"YOUR_API_KEY\"\n",
        "}\n",
        "```"
      ]
    },
    {
      "cell_type": "code",
      "execution_count": null,
      "metadata": {
        "id": "Ov5Ou1847yWl"
      },
      "outputs": [],
      "source": [
        "import json\n",
        "if IN_COLAB:\n",
        "  from google.colab import drive\n",
        "  drive.mount('/content/drive')\n",
        "  apikey_fpath = \"/content/drive/MyDrive/mp-api-key.json\"\n",
        "  try:\n",
        "    # https://stackoverflow.com/a/68442279/13697228\n",
        "    with open(apikey_fpath, 'r') as f:\n",
        "        json_data = json.load(f)\n",
        "        api_key = json_data[\"API_KEY\"]\n",
        "  except Exception as e:\n",
        "    print(e)\n",
        "    api_key = \"\" #@param {type:\"string\"}\n",
        "    if api_key == \"\":\n",
        "      print(f\"Couldn't load API key from {apikey_fpath}, and user-input API key is also empty.\")\n",
        "    print(f\"defaulting to user-input API key {api_key}\")\n",
        "    pass\n",
        "else:\n",
        "  api_key = None\n",
        "  print(\"make sure that you have run `pmg config --add PMG_MAPI_KEY <USER_API_KEY>`\")"
      ]
    },
    {
      "cell_type": "code",
      "execution_count": 25,
      "metadata": {
        "id": "ZVxB8mGFmVtB"
      },
      "outputs": [],
      "source": [
        "from pymatgen.ext.matproj import MPRester\n",
        "import pandas as pd\n",
        "from tqdm import tqdm\n",
        "from sklearn.model_selection import train_test_split\n",
        "from crabnet.crabnet_ import CrabNet"
      ]
    },
    {
      "cell_type": "markdown",
      "metadata": {
        "id": "VnEURpsHm26_"
      },
      "source": [
        "##Download data from materials project"
      ]
    },
    {
      "cell_type": "code",
      "execution_count": null,
      "metadata": {
        "id": "b6qkoFFwxQz7"
      },
      "outputs": [],
      "source": [
        "with MPRester(api_key) as m:\n",
        "      results = m.query(\n",
        "          {\"nelements\": {\"$gte\": 2}},\n",
        "          properties=[\"e_above_hull\", \"full_formula\", \"icsd_ids\"],\n",
        "      )"
      ]
    },
    {
      "cell_type": "markdown",
      "metadata": {
        "id": "zenh-OtznN1w"
      },
      "source": [
        "##Getting training and validation datasets for e_above_hull"
      ]
    },
    {
      "cell_type": "code",
      "execution_count": null,
      "metadata": {
        "id": "s_hmVOnd0i1T"
      },
      "outputs": [],
      "source": [
        "formula = []\n",
        "target = []\n",
        "\n",
        "for s in tqdm(results):\n",
        "    f = s[\"full_formula\"]\n",
        "    e = s[\"e_above_hull\"]\n",
        "    formula.append(f)\n",
        "    target.append(e)\n",
        "  \n",
        "df_e = pd.DataFrame(list(zip(formula, target)), columns =['formula', 'target'])\n",
        "df_e = df_e[df_e['target'].notna()]\n",
        "\n",
        "train_df_e, val_df_e = train_test_split(df_e, test_size=0.20, random_state=42)"
      ]
    },
    {
      "cell_type": "markdown",
      "metadata": {
        "id": "F23WTvO2oeiS"
      },
      "source": [
        "##Training CrabNet for e_above_hull"
      ]
    },
    {
      "cell_type": "code",
      "execution_count": null,
      "metadata": {
        "id": "NjolKykEiKCF"
      },
      "outputs": [],
      "source": [
        "cb_e = CrabNet(mat_prop=\"e_above_hull\", compute_device=\"cuda\", epochs = 10000)\n",
        "cb_e.fit(train_df_e)\n",
        "val_pred_e, val_sigma_e = cb_e.predict(val_df_e, return_uncertainty=True)"
      ]
    },
    {
      "cell_type": "markdown",
      "metadata": {
        "id": "JxSHcAfXvKgU"
      },
      "source": [
        "##Predict energy above hull for our predicted materials\n",
        "\n",
        "Place the file named peak_score.csv directly in your MyDrive folder or in your current directory."
      ]
    },
    {
      "cell_type": "code",
      "execution_count": null,
      "metadata": {
        "id": "d8GRooNWtNeY"
      },
      "outputs": [],
      "source": [
        "test_data_fpath = \"/content/drive/MyDrive/peak_score.csv\"\n",
        "\n",
        "with open(test_data_fpath, 'r') as f:\n",
        "    test_df_e = pd.read_csv(test_data_fpath, sep=\",\")\n",
        "\n",
        "test_pred_e, test_sigma_e = cb_e.predict(test_df_e, return_uncertainty=True)\n",
        "\n",
        "test_df_e[\"predicted_e_above_hull\"] = test_pred_e\n",
        "test_df_e[\"uncertainty_for_e_above_hull\"] = test_sigma_e\n",
        "print(test_df_e)"
      ]
    },
    {
      "cell_type": "markdown",
      "metadata": {
        "id": "Xr5Xah8zMJSV"
      },
      "source": [
        "##Getting training and validation datasets for stability"
      ]
    },
    {
      "cell_type": "code",
      "execution_count": null,
      "metadata": {
        "id": "xRAtndxhMGUz"
      },
      "outputs": [],
      "source": [
        "formula = []\n",
        "target = []\n",
        "\n",
        "for s in tqdm(results):\n",
        "    f = s[\"full_formula\"]\n",
        "    st = s[\"icsd_ids\"]\n",
        "    formula.append(f)\n",
        "    if st:\n",
        "      target.append(1)\n",
        "    else:\n",
        "      target.append(0)\n",
        "  \n",
        "df_st = pd.DataFrame(list(zip(formula, target)), columns =['formula', 'target'])\n",
        "\n",
        "train_df_st, val_df_st = train_test_split(df_st, test_size=0.20, random_state=42)"
      ]
    },
    {
      "cell_type": "markdown",
      "metadata": {
        "id": "TX6qzpWgMaqq"
      },
      "source": [
        "##Training CrabNet for stability prediction"
      ]
    },
    {
      "cell_type": "code",
      "execution_count": null,
      "metadata": {
        "id": "JyvZRggvMG-i"
      },
      "outputs": [],
      "source": [
        "cb_st = CrabNet(mat_prop=\"stability\", classification=True, compute_device=\"cuda\", epochs = 10000)\n",
        "cb_st.fit(train_df_st)\n",
        "val_pred_st, val_sigma_st = cb_st.predict(val_df_st, return_uncertainty=True)"
      ]
    },
    {
      "cell_type": "markdown",
      "metadata": {
        "id": "m2cyORmWMeak"
      },
      "source": [
        "##Predicting stability"
      ]
    },
    {
      "cell_type": "code",
      "execution_count": null,
      "metadata": {
        "id": "NnJ41ECDMHHo"
      },
      "outputs": [],
      "source": [
        "test_df_st = test_df_e\n",
        "test_pred_st = cb_st.predict(test_df_st)\n",
        "\n",
        "test_df_st[\"predicted_stability\"] = test_pred_st\n",
        "#test_df_st[\"uncertainty_for_stability\"] = test_sigma_st\n",
        "#print(test_df_st)\n",
        "\n",
        "test_df_st.to_csv(\"final.csv\")\n",
        "!cp final.csv \"/content/drive/MyDrive/\""
      ]
    }
  ],
  "metadata": {
    "accelerator": "GPU",
    "colab": {
      "collapsed_sections": [],
      "name": "DiSCoVeR-SuperCon-NOMAD-SMACT.ipynb",
      "provenance": []
    },
    "gpuClass": "standard",
    "kernelspec": {
      "display_name": "Python 3",
      "name": "python3"
    },
    "language_info": {
      "name": "python"
    }
  },
  "nbformat": 4,
  "nbformat_minor": 0
}
