{
  "nbformat": 4,
  "nbformat_minor": 0,
  "metadata": {
    "colab": {
      "name": "DiSCoVeR-SuperCon-NOMAD-SMACT.ipynb",
      "provenance": [],
      "collapsed_sections": []
    },
    "kernelspec": {
      "name": "python3",
      "display_name": "Python 3"
    },
    "language_info": {
      "name": "python"
    },
    "accelerator": "GPU",
    "gpuClass": "standard"
  },
  "cells": [
    {
      "cell_type": "markdown",
      "source": [
        "##Setup"
      ],
      "metadata": {
        "id": "_gu3-28obXrE"
      }
    },
    {
      "cell_type": "code",
      "source": [
        "from os import path\n",
        "try:\n",
        "  import google.colab\n",
        "  IN_COLAB = True\n",
        "  base_dir = \"/content/drive/MyDrive/\"\n",
        "except:\n",
        "  IN_COLAB = False\n",
        "  base_dir = path.join(\"data\", \"external\")"
      ],
      "metadata": {
        "id": "6Vic1nod7pW5"
      },
      "execution_count": 22,
      "outputs": []
    },
    {
      "cell_type": "code",
      "source": [
        "if IN_COLAB:\n",
        "  %pip install crabnet\n",
        "  %pip install pymatgen"
      ],
      "metadata": {
        "id": "67G2oOko7q3L"
      },
      "execution_count": null,
      "outputs": []
    },
    {
      "cell_type": "markdown",
      "source": [
        "##Materials Project API Key\n",
        "Get your Materials Project API key from a file that you store in your Google Drive (see below) or current directory (.).\n",
        "\n",
        "The file named mp-api-key.json placed directly in your MyDrive folder or in your current directory would look like the following:\n",
        "\n",
        "{\n",
        "    \"API_KEY\": \"YOUR_API_KEY\"\n",
        "}"
      ],
      "metadata": {
        "id": "1NYp-K0YbJto"
      }
    },
    {
      "cell_type": "code",
      "source": [
        "import json\n",
        "if IN_COLAB:\n",
        "  from google.colab import drive\n",
        "  drive.mount('/content/drive')\n",
        "  apikey_fpath = \"/content/drive/MyDrive/mp-api-key.json\"\n",
        "  try:\n",
        "    # https://stackoverflow.com/a/68442279/13697228\n",
        "    with open(apikey_fpath, 'r') as f:\n",
        "        json_data = json.load(f)\n",
        "        api_key = json_data[\"API_KEY\"]\n",
        "  except Exception as e:\n",
        "    print(e)\n",
        "    api_key = \"\" #@param {type:\"string\"}\n",
        "    if api_key == \"\":\n",
        "      print(f\"Couldn't load API key from {apikey_fpath}, and user-input API key is also empty.\")\n",
        "    print(f\"defaulting to user-input API key {api_key}\")\n",
        "    pass\n",
        "else:\n",
        "  api_key = None\n",
        "  print(\"make sure that you have run `pmg config --add PMG_MAPI_KEY <USER_API_KEY>`\")"
      ],
      "metadata": {
        "id": "Ov5Ou1847yWl"
      },
      "execution_count": null,
      "outputs": []
    },
    {
      "cell_type": "code",
      "source": [
        "from pymatgen.ext.matproj import MPRester\n",
        "import pandas as pd\n",
        "from tqdm import tqdm\n",
        "from sklearn.model_selection import train_test_split\n",
        "from crabnet.crabnet_ import CrabNet"
      ],
      "metadata": {
        "id": "ZVxB8mGFmVtB"
      },
      "execution_count": 25,
      "outputs": []
    },
    {
      "cell_type": "markdown",
      "source": [
        "##Download data from materials project"
      ],
      "metadata": {
        "id": "VnEURpsHm26_"
      }
    },
    {
      "cell_type": "code",
      "source": [
        "with MPRester(api_key) as m:\n",
        "      results = m.query(\n",
        "          {\"nelements\": {\"$gte\": 2}},\n",
        "          properties=[\"e_above_hull\", \"full_formula\", \"icsd_ids\"],\n",
        "      )"
      ],
      "metadata": {
        "id": "b6qkoFFwxQz7"
      },
      "execution_count": null,
      "outputs": []
    },
    {
      "cell_type": "markdown",
      "source": [
        "##Getting training and validation datasets for e_above_hull"
      ],
      "metadata": {
        "id": "zenh-OtznN1w"
      }
    },
    {
      "cell_type": "code",
      "source": [
        "formula = []\n",
        "target = []\n",
        "\n",
        "for s in tqdm(results):\n",
        "    f = s[\"full_formula\"]\n",
        "    e = s[\"e_above_hull\"]\n",
        "    formula.append(f)\n",
        "    target.append(e)\n",
        "  \n",
        "df_e = pd.DataFrame(list(zip(formula, target)), columns =['formula', 'target'])\n",
        "df_e = df_e[df_e['target'].notna()]\n",
        "\n",
        "train_df_e, val_df_e = train_test_split(df_e, test_size=0.20, random_state=42)"
      ],
      "metadata": {
        "id": "s_hmVOnd0i1T"
      },
      "execution_count": null,
      "outputs": []
    },
    {
      "cell_type": "markdown",
      "source": [
        "##Training CrabNet for e_above_hull"
      ],
      "metadata": {
        "id": "F23WTvO2oeiS"
      }
    },
    {
      "cell_type": "code",
      "source": [
        "cb_e = CrabNet(mat_prop=\"e_above_hull\", compute_device=\"cuda\", epochs = 10000)\n",
        "cb_e.fit(train_df_e)\n",
        "val_pred_e, val_sigma_e = cb_e.predict(val_df_e, return_uncertainty=True)"
      ],
      "metadata": {
        "id": "NjolKykEiKCF"
      },
      "execution_count": null,
      "outputs": []
    },
    {
      "cell_type": "markdown",
      "source": [
        "##Predict energy above hull for our predicted materials\n",
        "\n",
        "Place the file named peak_score.csv directly in your MyDrive folder or in your current directory."
      ],
      "metadata": {
        "id": "JxSHcAfXvKgU"
      }
    },
    {
      "cell_type": "code",
      "source": [
        "test_data_fpath = \"/content/drive/MyDrive/peak_score.csv\"\n",
        "\n",
        "with open(test_data_fpath, 'r') as f:\n",
        "    test_df_e = pd.read_csv(test_data_fpath, sep=\",\")\n",
        "\n",
        "test_pred_e, test_sigma_e = cb_e.predict(test_df_e, return_uncertainty=True)\n",
        "\n",
        "test_df_e[\"predicted_e_above_hull\"] = test_pred_e\n",
        "test_df_e[\"uncertainty_for_e_above_hull\"] = test_sigma_e\n",
        "print(test_df_e)"
      ],
      "metadata": {
        "id": "d8GRooNWtNeY"
      },
      "execution_count": null,
      "outputs": []
    },
    {
      "cell_type": "markdown",
      "source": [
        "##Getting training and validation datasets for stability"
      ],
      "metadata": {
        "id": "Xr5Xah8zMJSV"
      }
    },
    {
      "cell_type": "code",
      "source": [
        "formula = []\n",
        "target = []\n",
        "\n",
        "for s in tqdm(results):\n",
        "    f = s[\"full_formula\"]\n",
        "    st = s[\"icsd_ids\"]\n",
        "    formula.append(f)\n",
        "    if st:\n",
        "      target.append(1)\n",
        "    else:\n",
        "      target.append(0)\n",
        "  \n",
        "df_st = pd.DataFrame(list(zip(formula, target)), columns =['formula', 'target'])\n",
        "\n",
        "train_df_st, val_df_st = train_test_split(df_st, test_size=0.20, random_state=42)"
      ],
      "metadata": {
        "id": "xRAtndxhMGUz"
      },
      "execution_count": null,
      "outputs": []
    },
    {
      "cell_type": "markdown",
      "source": [
        "##Training CrabNet for stability prediction"
      ],
      "metadata": {
        "id": "TX6qzpWgMaqq"
      }
    },
    {
      "cell_type": "code",
      "source": [
        "cb_st = CrabNet(mat_prop=\"stability\", classification=True, compute_device=\"cuda\", epochs = 10000)\n",
        "cb_st.fit(train_df_st)\n",
        "val_pred_st, val_sigma_st = cb_st.predict(val_df_st, return_uncertainty=True)"
      ],
      "metadata": {
        "id": "JyvZRggvMG-i"
      },
      "execution_count": null,
      "outputs": []
    },
    {
      "cell_type": "markdown",
      "source": [
        "##Predicting stability"
      ],
      "metadata": {
        "id": "m2cyORmWMeak"
      }
    },
    {
      "cell_type": "code",
      "source": [
        "test_df_st = test_df_e\n",
        "test_pred_st = cb_st.predict(test_df_st)\n",
        "\n",
        "test_df_st[\"predicted_stability\"] = test_pred_st\n",
        "#test_df_st[\"uncertainty_for_stability\"] = test_sigma_st\n",
        "#print(test_df_st)\n",
        "\n",
        "test_df_st.to_csv(\"final.csv\")\n",
        "!cp final.csv \"/content/drive/MyDrive/\""
      ],
      "metadata": {
        "id": "NnJ41ECDMHHo"
      },
      "execution_count": null,
      "outputs": []
    }
  ]
}