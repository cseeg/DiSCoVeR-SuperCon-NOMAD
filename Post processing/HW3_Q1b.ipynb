{
  "cells": [
    {
      "cell_type": "code",
      "execution_count": 1,
      "metadata": {
        "colab": {
          "base_uri": "https://localhost:8080/",
          "height": 1000
        },
        "id": "aNs3RpCCE8Sx",
        "outputId": "b67444ce-a211-4c00-acf0-1cde099c6315"
      },
      "outputs": [
        {
          "name": "stdout",
          "output_type": "stream",
          "text": [
            "            composition  gap expt\n",
            "0              Ag(AuS)2      0.00\n",
            "1            Ag(W3Br7)2      0.00\n",
            "2      Ag0.5Ge1Pb1.75S4      1.83\n",
            "3     Ag0.5Ge1Pb1.75Se4      1.51\n",
            "4                Ag2BBr      0.00\n",
            "...                 ...       ...\n",
            "4599             ZrTaN3      1.72\n",
            "4600               ZrTe      0.00\n",
            "4601             ZrTi2O      0.00\n",
            "4602             ZrTiF6      0.00\n",
            "4603               ZrW2      0.00\n",
            "\n",
            "[4604 rows x 2 columns]\n"
          ]
        }
      ],
      "source": [
        "#!pip install matminer\n",
        "from matminer.datasets import load_dataset\n",
        "\n",
        "# Download and load the dataset\n",
        "# The dataset is stored locally after being downloaded the first time\n",
        "df = load_dataset(\"matbench_expt_gap\")\n",
        "\n",
        "# Check out the downloaded dataframe\n",
        "print(df)"
      ]
    },
    {
      "cell_type": "code",
      "execution_count": 2,
      "metadata": {
        "colab": {
          "base_uri": "https://localhost:8080/"
        },
        "id": "mFaTJi4Sm02q",
        "outputId": "d3a80ff3-c294-4bb4-8691-30c0d07aa268"
      },
      "outputs": [
        {
          "data": {
            "text/plain": [
              "Index(['composition', 'gap expt'], dtype='object')"
            ]
          },
          "execution_count": 2,
          "metadata": {},
          "output_type": "execute_result"
        }
      ],
      "source": [
        "df.columns"
      ]
    },
    {
      "cell_type": "code",
      "execution_count": 3,
      "metadata": {
        "id": "qavfjlD3etjh"
      },
      "outputs": [],
      "source": [
        "from sklearn.model_selection import train_test_split\n",
        "X_train, X_test, y_train, y_test = train_test_split(df['composition'], df['gap expt'], test_size=0.25, random_state=123)"
      ]
    },
    {
      "cell_type": "code",
      "execution_count": 4,
      "metadata": {
        "id": "RQI1gHOPfspe"
      },
      "outputs": [],
      "source": [
        "import pandas as pd\n",
        "df_train = pd.DataFrame({\"formula\": X_train, \"target\": y_train})\n",
        "df_test= pd.DataFrame({\"formula\": X_test, \"target\": y_test})"
      ]
    },
    {
      "cell_type": "code",
      "execution_count": 6,
      "metadata": {
        "colab": {
          "base_uri": "https://localhost:8080/"
        },
        "id": "BPFmWNj_gaTf",
        "outputId": "21bbeb72-2801-47a4-d495-d45305eb2ec3"
      },
      "outputs": [
        {
          "name": "stdout",
          "output_type": "stream",
          "text": [
            "Collecting crabnet\n",
            "  Downloading crabnet-2.0.5-py3-none-any.whl (34.6 MB)\n",
            "\u001b[K     |████████████████████████████████| 34.6 MB 285 kB/s \n",
            "\u001b[?25hRequirement already satisfied: seaborn in /usr/local/lib/python3.7/dist-packages (from crabnet) (0.11.2)\n",
            "Requirement already satisfied: tqdm in /usr/local/lib/python3.7/dist-packages (from crabnet) (4.64.0)\n",
            "Collecting colorama\n",
            "  Downloading colorama-0.4.4-py2.py3-none-any.whl (16 kB)\n",
            "Requirement already satisfied: numpy in /usr/local/lib/python3.7/dist-packages (from crabnet) (1.21.5)\n",
            "Requirement already satisfied: joblib in /usr/local/lib/python3.7/dist-packages (from crabnet) (1.1.0)\n",
            "Requirement already satisfied: scipy in /usr/local/lib/python3.7/dist-packages (from crabnet) (1.7.3)\n",
            "Requirement already satisfied: matplotlib in /usr/local/lib/python3.7/dist-packages (from crabnet) (3.2.2)\n",
            "Requirement already satisfied: scikit-learn in /usr/local/lib/python3.7/dist-packages (from crabnet) (1.0.2)\n",
            "Requirement already satisfied: psutil in /usr/local/lib/python3.7/dist-packages (from crabnet) (5.4.8)\n",
            "Requirement already satisfied: pandas in /usr/local/lib/python3.7/dist-packages (from crabnet) (1.3.5)\n",
            "Requirement already satisfied: cycler>=0.10 in /usr/local/lib/python3.7/dist-packages (from matplotlib->crabnet) (0.11.0)\n",
            "Requirement already satisfied: python-dateutil>=2.1 in /usr/local/lib/python3.7/dist-packages (from matplotlib->crabnet) (2.8.2)\n",
            "Requirement already satisfied: kiwisolver>=1.0.1 in /usr/local/lib/python3.7/dist-packages (from matplotlib->crabnet) (1.4.2)\n",
            "Requirement already satisfied: pyparsing!=2.0.4,!=2.1.2,!=2.1.6,>=2.0.1 in /usr/local/lib/python3.7/dist-packages (from matplotlib->crabnet) (3.0.8)\n",
            "Requirement already satisfied: typing-extensions in /usr/local/lib/python3.7/dist-packages (from kiwisolver>=1.0.1->matplotlib->crabnet) (4.1.1)\n",
            "Requirement already satisfied: six>=1.5 in /usr/local/lib/python3.7/dist-packages (from python-dateutil>=2.1->matplotlib->crabnet) (1.16.0)\n",
            "Requirement already satisfied: pytz>=2017.3 in /usr/local/lib/python3.7/dist-packages (from pandas->crabnet) (2018.9)\n",
            "Requirement already satisfied: threadpoolctl>=2.0.0 in /usr/local/lib/python3.7/dist-packages (from scikit-learn->crabnet) (3.1.0)\n",
            "Installing collected packages: colorama, crabnet\n",
            "Successfully installed colorama-0.4.4 crabnet-2.0.5\n"
          ]
        }
      ],
      "source": [
        "# !pip install crabnet"
      ]
    },
    {
      "cell_type": "code",
      "execution_count": 7,
      "metadata": {
        "colab": {
          "base_uri": "https://localhost:8080/"
        },
        "id": "5wLdgb_Gi0Z0",
        "outputId": "af3e7886-e12f-4e48-d853-151f8a76ae58"
      },
      "outputs": [
        {
          "name": "stdout",
          "output_type": "stream",
          "text": [
            "Collecting ax-platform\n",
            "  Downloading ax_platform-0.2.4-py3-none-any.whl (950 kB)\n",
            "\u001b[K     |████████████████████████████████| 950 kB 5.2 MB/s \n",
            "\u001b[?25hCollecting botorch==0.6.2\n",
            "  Downloading botorch-0.6.2-py3-none-any.whl (347 kB)\n",
            "\u001b[K     |████████████████████████████████| 347 kB 23.8 MB/s \n",
            "\u001b[?25hRequirement already satisfied: typeguard in /usr/local/lib/python3.7/dist-packages (from ax-platform) (2.7.1)\n",
            "Requirement already satisfied: jinja2 in /usr/local/lib/python3.7/dist-packages (from ax-platform) (2.11.3)\n",
            "Requirement already satisfied: scipy in /usr/local/lib/python3.7/dist-packages (from ax-platform) (1.7.3)\n",
            "Requirement already satisfied: pandas in /usr/local/lib/python3.7/dist-packages (from ax-platform) (1.3.5)\n",
            "Requirement already satisfied: scikit-learn in /usr/local/lib/python3.7/dist-packages (from ax-platform) (1.0.2)\n",
            "Requirement already satisfied: plotly in /usr/local/lib/python3.7/dist-packages (from ax-platform) (5.5.0)\n",
            "Requirement already satisfied: torch>=1.9 in /usr/local/lib/python3.7/dist-packages (from botorch==0.6.2->ax-platform) (1.10.0+cu111)\n",
            "Collecting gpytorch>=1.6\n",
            "  Downloading gpytorch-1.6.0.tar.gz (310 kB)\n",
            "\u001b[K     |████████████████████████████████| 310 kB 33.3 MB/s \n",
            "\u001b[?25hCollecting multipledispatch\n",
            "  Downloading multipledispatch-0.6.0-py3-none-any.whl (11 kB)\n",
            "Requirement already satisfied: typing-extensions in /usr/local/lib/python3.7/dist-packages (from torch>=1.9->botorch==0.6.2->ax-platform) (4.1.1)\n",
            "Requirement already satisfied: MarkupSafe>=0.23 in /usr/local/lib/python3.7/dist-packages (from jinja2->ax-platform) (2.0.1)\n",
            "Requirement already satisfied: six in /usr/local/lib/python3.7/dist-packages (from multipledispatch->botorch==0.6.2->ax-platform) (1.16.0)\n",
            "Requirement already satisfied: python-dateutil>=2.7.3 in /usr/local/lib/python3.7/dist-packages (from pandas->ax-platform) (2.8.2)\n",
            "Requirement already satisfied: numpy>=1.17.3 in /usr/local/lib/python3.7/dist-packages (from pandas->ax-platform) (1.21.5)\n",
            "Requirement already satisfied: pytz>=2017.3 in /usr/local/lib/python3.7/dist-packages (from pandas->ax-platform) (2018.9)\n",
            "Requirement already satisfied: tenacity>=6.2.0 in /usr/local/lib/python3.7/dist-packages (from plotly->ax-platform) (8.0.1)\n",
            "Requirement already satisfied: joblib>=0.11 in /usr/local/lib/python3.7/dist-packages (from scikit-learn->ax-platform) (1.1.0)\n",
            "Requirement already satisfied: threadpoolctl>=2.0.0 in /usr/local/lib/python3.7/dist-packages (from scikit-learn->ax-platform) (3.1.0)\n",
            "Building wheels for collected packages: gpytorch\n",
            "  Building wheel for gpytorch (setup.py) ... \u001b[?25l\u001b[?25hdone\n",
            "  Created wheel for gpytorch: filename=gpytorch-1.6.0-py2.py3-none-any.whl size=509889 sha256=e3e194c38858de7e538875261994c062f6abe82f9509334e509a9cb4c45cd605\n",
            "  Stored in directory: /root/.cache/pip/wheels/66/b5/89/34c06ad393a6feb72b4cdde46d0f1c667f3e2632960f9df109\n",
            "Successfully built gpytorch\n",
            "Installing collected packages: multipledispatch, gpytorch, botorch, ax-platform\n",
            "Successfully installed ax-platform-0.2.4 botorch-0.6.2 gpytorch-1.6.0 multipledispatch-0.6.0\n"
          ]
        }
      ],
      "source": [
        "# !pip3 install ax-platform"
      ]
    },
    {
      "cell_type": "code",
      "execution_count": null,
      "metadata": {
        "id": "0miI_EZ9xeuK"
      },
      "outputs": [],
      "source": [
        "import pprint\n",
        "from os.path import join\n",
        "from pathlib import Path\n",
        "import numpy as np\n",
        "import pandas as pd\n",
        "\n",
        "import plotly.graph_objects as go\n",
        "\n",
        "import gc\n",
        "import torch\n",
        "\n",
        "from ax.service.managed_loop import optimize\n",
        "from ax.storage.json_store.save import save_experiment\n",
        "from ax.plot.trace import optimization_trace_single_method\n",
        "from crabnet.crabnet_ import CrabNet\n",
        "from sklearn.metrics import mean_absolute_error"
      ]
    },
    {
      "cell_type": "markdown",
      "metadata": {},
      "source": [
        "correct parameterization just converts from the Ax representation of CrabNet parameters to the CrabNet API for parameters."
      ]
    },
    {
      "cell_type": "code",
      "execution_count": null,
      "metadata": {},
      "outputs": [],
      "source": [
        "def correct_parameterization(parameterization):\n",
        "    pprint.pprint(parameterization)\n",
        "\n",
        "    parameterization[\"out_hidden\"] = [\n",
        "        parameterization.get(\"out_hidden4\") * 8,\n",
        "        parameterization.get(\"out_hidden4\") * 4,\n",
        "        parameterization.get(\"out_hidden4\") * 2,\n",
        "        parameterization.get(\"out_hidden4\"),\n",
        "    ]\n",
        "    parameterization.pop(\"out_hidden4\")\n",
        "\n",
        "    parameterization[\"betas\"] = (\n",
        "        parameterization.get(\"betas1\"),\n",
        "        parameterization.get(\"betas2\"),\n",
        "    )\n",
        "    parameterization.pop(\"betas1\")\n",
        "    parameterization.pop(\"betas2\")\n",
        "\n",
        "    d_model = parameterization[\"d_model\"]\n",
        "\n",
        "    # make heads even (unless it's 1) (because d_model must be even)\n",
        "    heads = parameterization[\"heads\"]\n",
        "    if np.mod(heads, 2) != 0:\n",
        "        heads = heads + 1\n",
        "    parameterization[\"heads\"] = heads\n",
        "\n",
        "    # NOTE: d_model must be divisible by heads\n",
        "    d_model = parameterization[\"heads\"] * round(d_model / parameterization[\"heads\"])\n",
        "\n",
        "    parameterization[\"d_model\"] = d_model\n",
        "\n",
        "    parameterization[\"pos_scaler_log\"] = (\n",
        "        1 - parameterization[\"emb_scaler\"] - parameterization[\"pos_scaler\"]\n",
        "    )\n",
        "\n",
        "    parameterization[\"epochs\"] = parameterization[\"epochs_step\"] * 4\n",
        "\n",
        "    return parameterization"
      ]
    },
    {
      "cell_type": "code",
      "execution_count": 18,
      "metadata": {
        "id": "hKrigUdUqdIB"
      },
      "outputs": [],
      "source": [
        "def crabnet_evaluation(parameterization):\n",
        "        \"\"\"Compute the RMSE of a CrabNet model.\"\"\"\n",
        "        parameterization = correct_parameterization(parameterization)\n",
        "        model= CrabNet(**parameterization, force_cpu=False, epochs=300)\n",
        "        model.fit(df_train)\n",
        "        y_predicted= model.predict(df_test)\n",
        "\n",
        "        mae = mean_absolute_error(df_test['target'].to_list(), y_predicted)\n",
        "        \n",
        "        # deallocate CUDA memory https://discuss.pytorch.org/t/how-can-we-release-gpu-memory-cache/14530/28\n",
        "        del crabnet_model\n",
        "        gc.collect()\n",
        "        torch.cuda.empty_cache()\n",
        "\n",
        "\n",
        "        return {\"mae\":mae}"
      ]
    },
    {
      "cell_type": "code",
      "execution_count": null,
      "metadata": {
        "colab": {
          "base_uri": "https://localhost:8080/",
          "height": 1000
        },
        "id": "3NfA3lfVnNfh",
        "outputId": "e00c6113-565d-41c4-9a14-9d1d55b9b6e0"
      },
      "outputs": [],
      "source": [
        "best_parameters, best_values, experiment, model = optimize(\n",
        "        parameters=[\n",
        "          {\"name\": \"batch_size\", \"type\": \"range\", \"bounds\": [32, 256]},\n",
        "          {\"name\": \"fudge\", \"type\": \"range\", \"bounds\": [0.0, 0.1]},\n",
        "          {\"name\": \"d_model\", \"type\": \"range\", \"bounds\": [100, 1024]},\n",
        "          {\"name\": \"N\", \"type\": \"range\", \"bounds\": [1, 10]},\n",
        "          {\"name\": \"heads\", \"type\": \"range\", \"bounds\": [1, 10]},\n",
        "          {\"name\": \"out_hidden4\", \"type\": \"range\", \"bounds\": [32, 512]},\n",
        "          {\"name\": \"emb_scaler\", \"type\": \"range\", \"bounds\": [0.0, 1.0]},\n",
        "          {\"name\": \"pos_scaler\", \"type\": \"range\", \"bounds\": [0.0, 1.0]},\n",
        "          {\"name\": \"bias\", \"type\": \"choice\", \"values\": [False, True]},\n",
        "          {\"name\": \"dim_feedforward\", \"type\": \"range\", \"bounds\": [1024, 4096],},\n",
        "          {\"name\": \"dropout\", \"type\": \"range\", \"bounds\": [0.0, 1.0]},\n",
        "          {\n",
        "            \"name\": \"elem_prop\",\n",
        "            \"type\": \"choice\",\n",
        "            \"values\": [\"mat2vec\",\n",
        "                    \"oliynyk\",\n",
        "                    \"magpie\",\n",
        "                    \"onehot\",],\n",
        "          },\n",
        "          {\"name\": \"epochs_step\", \"type\": \"range\", \"bounds\": [5, 20]},\n",
        "          {\"name\": \"pe_resolution\", \"type\": \"range\", \"bounds\": [2500, 10000]},\n",
        "          {\"name\": \"ple_resolution\", \"type\": \"range\", \"bounds\": [2500, 10000],},\n",
        "          {\n",
        "            \"name\": \"criterion\",\n",
        "            \"type\": \"choice\",\n",
        "            \"values\": [\"RobustL1\", \"RobustL2\"],\n",
        "          },\n",
        "          {\"name\": \"lr\", \"type\": \"range\", \"bounds\": [0.0001, 0.006]},\n",
        "          {\"name\": \"betas1\", \"type\": \"range\", \"bounds\": [0.5, 0.9999]},\n",
        "          {\"name\": \"betas2\", \"type\": \"range\", \"bounds\": [0.5, 0.9999]},\n",
        "          {\"name\": \"eps\", \"type\": \"range\", \"bounds\": [0.0000001, 0.0001]},\n",
        "          {\"name\": \"weight_decay\", \"type\": \"range\", \"bounds\": [0.0, 1.0]},\n",
        "          {\"name\": \"alpha\", \"type\": \"range\", \"bounds\": [0.0, 1.0]},\n",
        "          {\"name\": \"k\", \"type\": \"range\", \"bounds\": [2, 10]},\n",
        "        ],\n",
        "        experiment_name=\"crabnet-hyperparameter_tuning\",\n",
        "        evaluation_function=crabnet_evaluation,\n",
        "        objective_name=\"mae\",\n",
        "        minimize=True,\n",
        "        parameter_constraints=[\"betas1 <= betas2\", \"emb_scaler + pos_scaler <= 1\"],\n",
        "        total_trials= 100)\n",
        "\n",
        "print(best_parameters)\n",
        "print(best_values)\n",
        "\n",
        "default_model= CrabNet(force_cpu=False, epochs=300)\n",
        "default_model.fit(df_train)\n",
        "default_y_predicted= default_model.predict(df_test)\n",
        "default_mae = mean_absolute_error(df_test['target'].to_list(), default_y_predicted)\n",
        "\n",
        "del default_model\n",
        "gc.collect()\n",
        "torch.cuda.empty_cache()\n",
        "\n",
        "best_parameterization = correct_parameterization(best_parameters)\n",
        "test_model = CrabNet(**best_parameterization, force_cpu=False, epochs=300)\n",
        "test_model.fit(df_train)\n",
        "test_y_predicted= test_model.predict(df_test)\n",
        "test_mae = mean_absolute_error(df_test['target'].to_list(), test_y_predicted)\n",
        "\n",
        "del test_model\n",
        "gc.collect()\n",
        "torch.cuda.empty_cache()\n",
        "\n"
      ]
    },
    {
      "cell_type": "code",
      "execution_count": null,
      "metadata": {},
      "outputs": [],
      "source": [
        "mb = MatbenchBenchmark(autoload=False, subset=[\"matbench_expt_gap\"])\n",
        "kf = KFold(n_splits=n_splits, shuffle=True, random_state=18012019)\n",
        "\n",
        "task = list(mb.tasks)[0]\n",
        "task.load()\n",
        "for i, fold in enumerate(task.folds):\n",
        "    train_inputs, train_outputs = task.get_train_and_val_data(fold)\n",
        "\n",
        "    # TODO: treat train_val_df as Ax fixed_parameter\n",
        "    train_val_df = pd.DataFrame(\n",
        "        {\"formula\": train_inputs.values, \"target\": train_outputs.values}\n",
        "    )\n",
        "    if dummy:\n",
        "        train_val_df = train_val_df[:100]\n",
        "\n",
        "    def crabnet_mae(parameterization):\n",
        "        \"\"\"Compute the mean absolute error of a CrabNet model.\n",
        "        \n",
        "        Assumes that `train_df` and `val_df` are predefined.\n",
        "\n",
        "        Parameters\n",
        "        ----------\n",
        "        parameterization : dict\n",
        "            Dictionary of the parameters passed to `get_model()` after some slight\n",
        "            modification. \n",
        "\n",
        "        Returns\n",
        "        -------\n",
        "        results: dict\n",
        "            Dictionary of `{\"rmse\": rmse}` where `rmse` is the root-mean-square error of the\n",
        "            CrabNet model.\n",
        "        \"\"\"\n",
        "        parameterization = correct_parameterization(parameterization)\n",
        "\n",
        "        mae = 0.0\n",
        "        for train_index, val_index in kf.split(train_val_df):\n",
        "            train_df, val_df = (\n",
        "                train_val_df.loc[train_index],\n",
        "                train_val_df.loc[val_index],\n",
        "            )\n",
        "            crabnet_model = get_model(\n",
        "                mat_prop=\"expt_gap\",\n",
        "                train_df=train_df,\n",
        "                learningcurve=False,\n",
        "                force_cpu=False,\n",
        "                **parameterization\n",
        "            )\n",
        "            val_true, val_pred, val_formulas, val_sigma = crabnet_model.predict(val_df)\n",
        "            # rmse = mean_squared_error(val_true, val_pred, squared=False)\n",
        "            mae = mae + mean_absolute_error(val_true, val_pred)\n",
        "\n",
        "            # deallocate CUDA memory https://discuss.pytorch.org/t/how-can-we-release-gpu-memory-cache/14530/28\n",
        "            del crabnet_model\n",
        "            gc.collect()\n",
        "            torch.cuda.empty_cache()\n",
        "        mae = mae / n_splits\n",
        "        results = {\"mae\": mae}\n",
        "        return results\n",
        "\n",
        "    best_parameters, values, experiment, model = optimize(\n",
        "        parameters=[\n",
        "            {\"name\": \"batch_size\", \"type\": \"range\", \"bounds\": [32, 256]},\n",
        "            {\"name\": \"fudge\", \"type\": \"range\", \"bounds\": [0.0, 0.1]},\n",
        "            {\"name\": \"d_model\", \"type\": \"range\", \"bounds\": [100, 1024]},\n",
        "            {\"name\": \"N\", \"type\": \"range\", \"bounds\": [1, 10]},\n",
        "            {\"name\": \"heads\", \"type\": \"range\", \"bounds\": [1, 10]},\n",
        "            {\"name\": \"out_hidden4\", \"type\": \"range\", \"bounds\": [32, 512]},\n",
        "            {\"name\": \"emb_scaler\", \"type\": \"range\", \"bounds\": [0.0, 1.0]},\n",
        "            {\"name\": \"pos_scaler\", \"type\": \"range\", \"bounds\": [0.0, 1.0]},\n",
        "            {\"name\": \"bias\", \"type\": \"choice\", \"values\": [False, True]},\n",
        "            {\"name\": \"dim_feedforward\", \"type\": \"range\", \"bounds\": [1024, 4096],},\n",
        "            {\"name\": \"dropout\", \"type\": \"range\", \"bounds\": [0.0, 1.0]},\n",
        "            # jarvis and oliynyk don't have enough elements\n",
        "            # ptable contains str, which isn't a handled case\n",
        "            {\n",
        "                \"name\": \"elem_prop\",\n",
        "                \"type\": \"choice\",\n",
        "                \"values\": [\n",
        "                    \"mat2vec\",\n",
        "                    \"magpie\",\n",
        "                    \"onehot\",\n",
        "                ],  # \"jarvis\", \"oliynyk\", \"ptable\"\n",
        "            },\n",
        "            {\"name\": \"epochs_step\", \"type\": \"range\", \"bounds\": [5, 20]},\n",
        "            {\"name\": \"pe_resolution\", \"type\": \"range\", \"bounds\": [2500, 10000]},\n",
        "            {\"name\": \"ple_resolution\", \"type\": \"range\", \"bounds\": [2500, 10000],},\n",
        "            {\n",
        "                \"name\": \"criterion\",\n",
        "                \"type\": \"choice\",\n",
        "                \"values\": [\"RobustL1\", \"RobustL2\"],\n",
        "            },\n",
        "            {\"name\": \"lr\", \"type\": \"range\", \"bounds\": [0.0001, 0.006]},\n",
        "            {\"name\": \"betas1\", \"type\": \"range\", \"bounds\": [0.5, 0.9999]},\n",
        "            {\"name\": \"betas2\", \"type\": \"range\", \"bounds\": [0.5, 0.9999]},\n",
        "            {\"name\": \"eps\", \"type\": \"range\", \"bounds\": [0.0000001, 0.0001]},\n",
        "            {\"name\": \"weight_decay\", \"type\": \"range\", \"bounds\": [0.0, 1.0]},\n",
        "            # {\"name\": \"adam\", \"type\": \"choice\", \"values\": [False, True]}, # issues with onehot\n",
        "            # {\"name\": \"min_trust\", \"type\": \"range\", \"bounds\": [0.0, 1.0]}, #issues with onehot\n",
        "            {\"name\": \"alpha\", \"type\": \"range\", \"bounds\": [0.0, 1.0]},\n",
        "            {\"name\": \"k\", \"type\": \"range\", \"bounds\": [2, 10]},\n",
        "        ],\n",
        "        experiment_name=\"crabnet-hyperparameter\",\n",
        "        evaluation_function=crabnet_mae,\n",
        "        objective_name=\"mae\",\n",
        "        minimize=True,\n",
        "        parameter_constraints=[\"betas1 <= betas2\", \"emb_scaler + pos_scaler <= 1\"],\n",
        "        total_trials=total_trials,\n",
        "    )\n",
        "    print(best_parameters)\n",
        "    print(values)\n",
        "\n",
        "    experiment_fpath = join(experiment_dir, \"experiment\" + str(i) + \".json\")\n",
        "    save_experiment(experiment, experiment_fpath)\n",
        "\n",
        "    # TODO: save plot, save experiment\n",
        "\n",
        "    test_inputs, test_outputs = task.get_test_data(fold, include_target=True)\n",
        "\n",
        "    test_df = pd.DataFrame({\"formula\": test_inputs, \"target\": test_outputs})\n",
        "\n",
        "    default_model = get_model(\n",
        "        mat_prop=\"expt_gap\",\n",
        "        train_df=train_val_df,\n",
        "        learningcurve=False,\n",
        "        force_cpu=False,\n",
        "    )\n",
        "\n",
        "    default_true, default_pred, default_formulas, default_sigma = default_model.predict(\n",
        "        test_df\n",
        "    )\n",
        "    # rmse = mean_squared_error(val_true, val_pred, squared=False)\n",
        "    default_mae = mean_absolute_error(default_true, default_pred)\n",
        "\n",
        "    # deallocate CUDA memory https://discuss.pytorch.org/t/how-can-we-release-gpu-memory-cache/14530/28\n",
        "    del default_model\n",
        "    gc.collect()\n",
        "    torch.cuda.empty_cache()\n",
        "\n",
        "    best_parameterization = correct_parameterization(best_parameters)\n",
        "    test_model = get_model(\n",
        "        mat_prop=\"expt_gap\",\n",
        "        train_df=train_val_df,\n",
        "        learningcurve=False,\n",
        "        force_cpu=False,\n",
        "        **best_parameterization\n",
        "    )\n",
        "    # TODO: update CrabNet predict function to allow for no target specified\n",
        "    test_true, test_pred, test_formulas, test_sigma = test_model.predict(test_df)\n",
        "    # rmse = mean_squared_error(val_true, val_pred, squared=False)\n",
        "    test_mae = mean_absolute_error(test_true, test_pred)\n",
        "\n",
        "    # deallocate CUDA memory https://discuss.pytorch.org/t/how-can-we-release-gpu-memory-cache/14530/28\n",
        "    del test_model\n",
        "    gc.collect()\n",
        "    torch.cuda.empty_cache()\n",
        "\n",
        "    trials = experiment.trials.values()\n",
        "\n",
        "    best_objectives = np.array([[trial.objective_mean for trial in trials]])\n",
        "\n",
        "    parameter_strs = [\n",
        "        pprint.pformat(trial.arm.parameters).replace(\"\\n\", \"<br>\") for trial in trials\n",
        "    ]\n",
        "\n",
        "    best_objective_plot = optimization_trace_single_method(\n",
        "        y=best_objectives,\n",
        "        optimization_direction=\"minimize\",\n",
        "        ylabel=\"MAE (eV)\",\n",
        "        hover_labels=parameter_strs,\n",
        "        plot_trial_points=True,\n",
        "    )\n",
        "\n",
        "    figure_fpath = join(figure_dir, \"best_objective_plot_\" + str(i))\n",
        "\n",
        "    data = best_objective_plot[0][\"data\"]\n",
        "\n",
        "    data.append(\n",
        "        go.Scatter(\n",
        "            x=(1, total_trials),\n",
        "            y=(default_mae, default_mae),\n",
        "            mode=\"lines\",\n",
        "            line={\"dash\": \"dash\"},\n",
        "            name=\"default MAE\",\n",
        "            yaxis=\"y1\",\n",
        "        )\n",
        "    )\n",
        "\n",
        "    data.append(\n",
        "        go.Scatter(\n",
        "            x=(1, total_trials),\n",
        "            y=(test_mae, test_mae),\n",
        "            mode=\"lines\",\n",
        "            line={\"dash\": \"dash\"},\n",
        "            name=\"best model test MAE\",\n",
        "            yaxis=\"y1\",\n",
        "        )\n",
        "    )\n",
        "\n",
        "    layout = best_objective_plot[0][\"layout\"]\n",
        "\n",
        "    fig = go.Figure({\"data\": data, \"layout\": layout})\n",
        "\n",
        "    fig.show()\n",
        "    fig.write_html(figure_fpath + \".html\")\n",
        "    fig.to_json(figure_fpath + \".json\")\n",
        "    fig.update_layout(\n",
        "        legend=dict(\n",
        "            font=dict(size=16),\n",
        "            yanchor=\"top\",\n",
        "            y=0.99,\n",
        "            xanchor=\"right\",\n",
        "            x=0.99,\n",
        "            bgcolor=\"rgba(0,0,0,0)\",\n",
        "        )\n",
        "    )\n",
        "    fig, scale = matplotlibify(fig)\n",
        "    fig.write_image(figure_fpath + \".png\")\n",
        "\n",
        "    task.record(fold, test_pred, params=best_parameterization)"
      ]
    },
    {
      "cell_type": "code",
      "execution_count": 20,
      "metadata": {
        "id": "-14VSOUqT3mg"
      },
      "outputs": [
        {
          "name": "stdout",
          "output_type": "stream",
          "text": [
            "\n",
            "Model architecture: out_dims, d_model, N, heads\n",
            "3, 512, 3, 4\n",
            "Running on compute device: cpu\n",
            "Model size: 11987206 parameters\n",
            "\n"
          ]
        },
        {
          "name": "stderr",
          "output_type": "stream",
          "text": [
            "Generating EDM: 100%|██████████| 2762/2762 [00:00<00:00, 83477.46formulae/s]\n"
          ]
        },
        {
          "name": "stdout",
          "output_type": "stream",
          "text": [
            "loading data with up to 4 elements in the formula\n",
            "training with batchsize 56 (2**5.807)\n"
          ]
        },
        {
          "name": "stderr",
          "output_type": "stream",
          "text": [
            "Generating EDM: 100%|██████████| 691/691 [00:00<00:00, 98093.28formulae/s]\n"
          ]
        },
        {
          "name": "stdout",
          "output_type": "stream",
          "text": [
            "loading data with up to 4 elements in the formula\n",
            "stepping every 500 training passes, cycling lr every 10 epochs\n",
            "checkin at 20 epochs to match lr scheduler\n",
            "Epoch: 0/100 --- train mae: 0.971 val mae: 0.953\n"
          ]
        },
        {
          "data": {
            "image/png": "[encoded data removed]",
            "text/plain": [
              "<Figure size 576x360 with 1 Axes>"
            ]
          },
          "metadata": {
            "needs_background": "light"
          },
          "output_type": "display_data"
        },
        {
          "ename": "KeyboardInterrupt",
          "evalue": "",
          "output_type": "error",
          "traceback": [
            "\u001b[1;31m---------------------------------------------------------------------------\u001b[0m",
            "\u001b[1;31mKeyboardInterrupt\u001b[0m                         Traceback (most recent call last)",
            "\u001b[1;32md:\\Spring 2022\\Mat Informatics\\HW 3\\HW3_Q1b.ipynb Cell 11'\u001b[0m in \u001b[0;36m<cell line: 5>\u001b[1;34m()\u001b[0m\n\u001b[0;32m      <a href='vscode-notebook-cell:/d%3A/Spring%202022/Mat%20Informatics/HW%203/HW3_Q1b.ipynb#ch0000010?line=1'>2</a>\u001b[0m \u001b[39m# Fitting the model with the best parameters\u001b[39;00m\n\u001b[0;32m      <a href='vscode-notebook-cell:/d%3A/Spring%202022/Mat%20Informatics/HW%203/HW3_Q1b.ipynb#ch0000010?line=3'>4</a>\u001b[0m Crabnet_Ax \u001b[39m=\u001b[39m CrabNet(\u001b[39m*\u001b[39m\u001b[39m*\u001b[39mbest_parameters, epochs\u001b[39m=\u001b[39m\u001b[39m100\u001b[39m) \u001b[39m# bias=...., batch_size=....., dropout=....., elem_prop='......')\u001b[39;00m\n\u001b[1;32m----> <a href='vscode-notebook-cell:/d%3A/Spring%202022/Mat%20Informatics/HW%203/HW3_Q1b.ipynb#ch0000010?line=4'>5</a>\u001b[0m Crabnet_Ax\u001b[39m.\u001b[39;49mfit(df_train)\n\u001b[0;32m      <a href='vscode-notebook-cell:/d%3A/Spring%202022/Mat%20Informatics/HW%203/HW3_Q1b.ipynb#ch0000010?line=5'>6</a>\u001b[0m y_pred_Ax \u001b[39m=\u001b[39m Crabnet_Ax\u001b[39m.\u001b[39mpredict(df_test)\n\u001b[0;32m      <a href='vscode-notebook-cell:/d%3A/Spring%202022/Mat%20Informatics/HW%203/HW3_Q1b.ipynb#ch0000010?line=6'>7</a>\u001b[0m mae_Ax \u001b[39m=\u001b[39m mean_absolute_error(df_test[\u001b[39m'\u001b[39m\u001b[39mtarget\u001b[39m\u001b[39m'\u001b[39m]\u001b[39m.\u001b[39mto_list(), y_pred_Ax)\n",
            "File \u001b[1;32md:\\Spring 2022\\Mat Informatics\\HW 3\\.HW3\\lib\\site-packages\\crabnet\\crabnet_.py:409\u001b[0m, in \u001b[0;36mCrabNet.fit\u001b[1;34m(self, train_df, val_df, extend_features, data_dir, transfer)\u001b[0m\n\u001b[0;32m    <a href='file:///d%3A/Spring%202022/Mat%20Informatics/HW%203/.HW3/lib/site-packages/crabnet/crabnet_.py?line=406'>407</a>\u001b[0m \u001b[39mself\u001b[39m\u001b[39m.\u001b[39mepoch \u001b[39m=\u001b[39m epoch\n\u001b[0;32m    <a href='file:///d%3A/Spring%202022/Mat%20Informatics/HW%203/.HW3/lib/site-packages/crabnet/crabnet_.py?line=407'>408</a>\u001b[0m \u001b[39mself\u001b[39m\u001b[39m.\u001b[39mepochs \u001b[39m=\u001b[39m \u001b[39mself\u001b[39m\u001b[39m.\u001b[39mepochs\n\u001b[1;32m--> <a href='file:///d%3A/Spring%202022/Mat%20Informatics/HW%203/.HW3/lib/site-packages/crabnet/crabnet_.py?line=408'>409</a>\u001b[0m \u001b[39mself\u001b[39;49m\u001b[39m.\u001b[39;49m_train()\n\u001b[0;32m    <a href='file:///d%3A/Spring%202022/Mat%20Informatics/HW%203/.HW3/lib/site-packages/crabnet/crabnet_.py?line=409'>410</a>\u001b[0m \u001b[39mself\u001b[39m\u001b[39m.\u001b[39mlr_list\u001b[39m.\u001b[39mappend(\u001b[39mself\u001b[39m\u001b[39m.\u001b[39moptimizer\u001b[39m.\u001b[39mparam_groups[\u001b[39m0\u001b[39m][\u001b[39m\"\u001b[39m\u001b[39mlr\u001b[39m\u001b[39m\"\u001b[39m])\n\u001b[0;32m    <a href='file:///d%3A/Spring%202022/Mat%20Informatics/HW%203/.HW3/lib/site-packages/crabnet/crabnet_.py?line=411'>412</a>\u001b[0m \u001b[39mif\u001b[39;00m (\n\u001b[0;32m    <a href='file:///d%3A/Spring%202022/Mat%20Informatics/HW%203/.HW3/lib/site-packages/crabnet/crabnet_.py?line=412'>413</a>\u001b[0m     (epoch \u001b[39m+\u001b[39m \u001b[39m1\u001b[39m) \u001b[39m%\u001b[39m \u001b[39mself\u001b[39m\u001b[39m.\u001b[39mcheckin \u001b[39m==\u001b[39m \u001b[39m0\u001b[39m\n\u001b[0;32m    <a href='file:///d%3A/Spring%202022/Mat%20Informatics/HW%203/.HW3/lib/site-packages/crabnet/crabnet_.py?line=413'>414</a>\u001b[0m     \u001b[39mor\u001b[39;00m epoch \u001b[39m==\u001b[39m \u001b[39mself\u001b[39m\u001b[39m.\u001b[39mepochs \u001b[39m-\u001b[39m \u001b[39m1\u001b[39m\n\u001b[0;32m    <a href='file:///d%3A/Spring%202022/Mat%20Informatics/HW%203/.HW3/lib/site-packages/crabnet/crabnet_.py?line=414'>415</a>\u001b[0m     \u001b[39mor\u001b[39;00m epoch \u001b[39m==\u001b[39m \u001b[39m0\u001b[39m\n\u001b[0;32m    <a href='file:///d%3A/Spring%202022/Mat%20Informatics/HW%203/.HW3/lib/site-packages/crabnet/crabnet_.py?line=415'>416</a>\u001b[0m ):\n",
            "File \u001b[1;32md:\\Spring 2022\\Mat Informatics\\HW 3\\.HW3\\lib\\site-packages\\crabnet\\crabnet_.py:627\u001b[0m, in \u001b[0;36mCrabNet._train\u001b[1;34m(self)\u001b[0m\n\u001b[0;32m    <a href='file:///d%3A/Spring%202022/Mat%20Informatics/HW%203/.HW3/lib/site-packages/crabnet/crabnet_.py?line=623'>624</a>\u001b[0m loss \u001b[39m=\u001b[39m \u001b[39mself\u001b[39m\u001b[39m.\u001b[39mcriterion(prediction\u001b[39m.\u001b[39mview(\u001b[39m-\u001b[39m\u001b[39m1\u001b[39m), uncertainty\u001b[39m.\u001b[39mview(\u001b[39m-\u001b[39m\u001b[39m1\u001b[39m), y\u001b[39m.\u001b[39mview(\u001b[39m-\u001b[39m\u001b[39m1\u001b[39m))\n\u001b[0;32m    <a href='file:///d%3A/Spring%202022/Mat%20Informatics/HW%203/.HW3/lib/site-packages/crabnet/crabnet_.py?line=625'>626</a>\u001b[0m \u001b[39m# backpropagation\u001b[39;00m\n\u001b[1;32m--> <a href='file:///d%3A/Spring%202022/Mat%20Informatics/HW%203/.HW3/lib/site-packages/crabnet/crabnet_.py?line=626'>627</a>\u001b[0m loss\u001b[39m.\u001b[39;49mbackward()\n\u001b[0;32m    <a href='file:///d%3A/Spring%202022/Mat%20Informatics/HW%203/.HW3/lib/site-packages/crabnet/crabnet_.py?line=627'>628</a>\u001b[0m \u001b[39mself\u001b[39m\u001b[39m.\u001b[39moptimizer\u001b[39m.\u001b[39mstep()\n\u001b[0;32m    <a href='file:///d%3A/Spring%202022/Mat%20Informatics/HW%203/.HW3/lib/site-packages/crabnet/crabnet_.py?line=628'>629</a>\u001b[0m \u001b[39mself\u001b[39m\u001b[39m.\u001b[39moptimizer\u001b[39m.\u001b[39mzero_grad()\n",
            "File \u001b[1;32md:\\Spring 2022\\Mat Informatics\\HW 3\\.HW3\\lib\\site-packages\\torch\\_tensor.py:307\u001b[0m, in \u001b[0;36mTensor.backward\u001b[1;34m(self, gradient, retain_graph, create_graph, inputs)\u001b[0m\n\u001b[0;32m    <a href='file:///d%3A/Spring%202022/Mat%20Informatics/HW%203/.HW3/lib/site-packages/torch/_tensor.py?line=297'>298</a>\u001b[0m \u001b[39mif\u001b[39;00m has_torch_function_unary(\u001b[39mself\u001b[39m):\n\u001b[0;32m    <a href='file:///d%3A/Spring%202022/Mat%20Informatics/HW%203/.HW3/lib/site-packages/torch/_tensor.py?line=298'>299</a>\u001b[0m     \u001b[39mreturn\u001b[39;00m handle_torch_function(\n\u001b[0;32m    <a href='file:///d%3A/Spring%202022/Mat%20Informatics/HW%203/.HW3/lib/site-packages/torch/_tensor.py?line=299'>300</a>\u001b[0m         Tensor\u001b[39m.\u001b[39mbackward,\n\u001b[0;32m    <a href='file:///d%3A/Spring%202022/Mat%20Informatics/HW%203/.HW3/lib/site-packages/torch/_tensor.py?line=300'>301</a>\u001b[0m         (\u001b[39mself\u001b[39m,),\n\u001b[1;32m   (...)\u001b[0m\n\u001b[0;32m    <a href='file:///d%3A/Spring%202022/Mat%20Informatics/HW%203/.HW3/lib/site-packages/torch/_tensor.py?line=304'>305</a>\u001b[0m         create_graph\u001b[39m=\u001b[39mcreate_graph,\n\u001b[0;32m    <a href='file:///d%3A/Spring%202022/Mat%20Informatics/HW%203/.HW3/lib/site-packages/torch/_tensor.py?line=305'>306</a>\u001b[0m         inputs\u001b[39m=\u001b[39minputs)\n\u001b[1;32m--> <a href='file:///d%3A/Spring%202022/Mat%20Informatics/HW%203/.HW3/lib/site-packages/torch/_tensor.py?line=306'>307</a>\u001b[0m torch\u001b[39m.\u001b[39;49mautograd\u001b[39m.\u001b[39;49mbackward(\u001b[39mself\u001b[39;49m, gradient, retain_graph, create_graph, inputs\u001b[39m=\u001b[39;49minputs)\n",
            "File \u001b[1;32md:\\Spring 2022\\Mat Informatics\\HW 3\\.HW3\\lib\\site-packages\\torch\\autograd\\__init__.py:154\u001b[0m, in \u001b[0;36mbackward\u001b[1;34m(tensors, grad_tensors, retain_graph, create_graph, grad_variables, inputs)\u001b[0m\n\u001b[0;32m    <a href='file:///d%3A/Spring%202022/Mat%20Informatics/HW%203/.HW3/lib/site-packages/torch/autograd/__init__.py?line=150'>151</a>\u001b[0m \u001b[39mif\u001b[39;00m retain_graph \u001b[39mis\u001b[39;00m \u001b[39mNone\u001b[39;00m:\n\u001b[0;32m    <a href='file:///d%3A/Spring%202022/Mat%20Informatics/HW%203/.HW3/lib/site-packages/torch/autograd/__init__.py?line=151'>152</a>\u001b[0m     retain_graph \u001b[39m=\u001b[39m create_graph\n\u001b[1;32m--> <a href='file:///d%3A/Spring%202022/Mat%20Informatics/HW%203/.HW3/lib/site-packages/torch/autograd/__init__.py?line=153'>154</a>\u001b[0m Variable\u001b[39m.\u001b[39;49m_execution_engine\u001b[39m.\u001b[39;49mrun_backward(\n\u001b[0;32m    <a href='file:///d%3A/Spring%202022/Mat%20Informatics/HW%203/.HW3/lib/site-packages/torch/autograd/__init__.py?line=154'>155</a>\u001b[0m     tensors, grad_tensors_, retain_graph, create_graph, inputs,\n\u001b[0;32m    <a href='file:///d%3A/Spring%202022/Mat%20Informatics/HW%203/.HW3/lib/site-packages/torch/autograd/__init__.py?line=155'>156</a>\u001b[0m     allow_unreachable\u001b[39m=\u001b[39;49m\u001b[39mTrue\u001b[39;49;00m, accumulate_grad\u001b[39m=\u001b[39;49m\u001b[39mTrue\u001b[39;49;00m)\n",
            "\u001b[1;31mKeyboardInterrupt\u001b[0m: "
          ]
        }
      ],
      "source": [
        "from sklearn.metrics import mean_absolute_error\n",
        "# Fitting the model with the best parameters\n",
        "\n",
        "Crabnet_Ax = CrabNet(**best_parameters, epochs=100) # bias=...., batch_size=....., dropout=....., elem_prop='......')\n",
        "Crabnet_Ax.fit(df_train)\n",
        "y_pred_Ax = Crabnet_Ax.predict(df_test)\n",
        "mae_Ax = mean_absolute_error(df_test['target'].to_list(), y_pred_Ax)"
      ]
    },
    {
      "cell_type": "code",
      "execution_count": null,
      "metadata": {
        "id": "cY4dftWFWBH-"
      },
      "outputs": [],
      "source": [
        "# Fitting the model with default parameters\n",
        "\n",
        "default_Model = CrabNet(epochs=100)\n",
        "default_Model.fit(df_train)\n",
        "y_pred_default = default_Model.predict(df_test)\n",
        "mae_default = mean_absolute_error(df_test['target'].to_list(), y_pred_default)"
      ]
    }
  ],
  "metadata": {
    "colab": {
      "collapsed_sections": [],
      "name": "HW3_Q1b.ipynb",
      "provenance": []
    },
    "kernelspec": {
      "display_name": "Python 3",
      "name": "python3"
    },
    "language_info": {
      "codemirror_mode": {
        "name": "ipython",
        "version": 3
      },
      "file_extension": ".py",
      "mimetype": "text/x-python",
      "name": "python",
      "nbconvert_exporter": "python",
      "pygments_lexer": "ipython3",
      "version": "3.9.7"
    }
  },
  "nbformat": 4,
  "nbformat_minor": 0
}
