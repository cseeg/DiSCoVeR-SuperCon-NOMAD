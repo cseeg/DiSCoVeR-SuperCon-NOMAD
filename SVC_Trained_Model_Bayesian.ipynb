{
  "cells": [
    {
      "cell_type": "markdown",
      "metadata": {
        "id": "view-in-github",
        "colab_type": "text"
      },
      "source": [
        "<a href=\"https://colab.research.google.com/github/cseeg/DiSCoVeR-SuperCon-NOMAD-SMACT/blob/main/SVC_Trained_Model_Bayesian.ipynb\" target=\"_parent\"><img src=\"https://colab.research.google.com/assets/colab-badge.svg\" alt=\"Open In Colab\"/></a>"
      ]
    },
    {
      "cell_type": "markdown",
      "metadata": {
        "id": "A6y91G0Rb-Ng"
      },
      "source": [
        "# **SVC using Hyperparameter Tuning**\n",
        "\n",
        " `imread` is used for featurization of images. After standardization, a trained, bayesian tuned, SVM model is used to predict if an image is a wind turbine or not. `svc_bo` must be downloaded and imported. A folder containing any given number of images in a local directory can be used.\n",
        "\n"
      ]
    },
    {
      "cell_type": "markdown",
      "metadata": {
        "id": "iVU_fv9kFAr5"
      },
      "source": [
        "Imports"
      ]
    },
    {
      "cell_type": "code",
      "execution_count": null,
      "metadata": {
        "colab": {
          "base_uri": "https://localhost:8080/"
        },
        "id": "Yi54ZhyIE_Lz",
        "outputId": "e967d7d9-2465-4738-edd1-1d7dbdb110b2"
      },
      "outputs": [
        {
          "name": "stdout",
          "output_type": "stream",
          "text": [
            "Looking in indexes: https://pypi.org/simple, https://us-python.pkg.dev/colab-wheels/public/simple/\n",
            "Requirement already satisfied: scikit-image in /usr/local/lib/python3.7/dist-packages (0.18.3)\n",
            "Requirement already satisfied: matplotlib!=3.0.0,>=2.0.0 in /usr/local/lib/python3.7/dist-packages (from scikit-image) (3.2.2)\n",
            "Requirement already satisfied: numpy>=1.16.5 in /usr/local/lib/python3.7/dist-packages (from scikit-image) (1.21.6)\n",
            "Requirement already satisfied: imageio>=2.3.0 in /usr/local/lib/python3.7/dist-packages (from scikit-image) (2.9.0)\n",
            "Requirement already satisfied: scipy>=1.0.1 in /usr/local/lib/python3.7/dist-packages (from scikit-image) (1.7.3)\n",
            "Requirement already satisfied: PyWavelets>=1.1.1 in /usr/local/lib/python3.7/dist-packages (from scikit-image) (1.3.0)\n",
            "Requirement already satisfied: tifffile>=2019.7.26 in /usr/local/lib/python3.7/dist-packages (from scikit-image) (2021.11.2)\n",
            "Requirement already satisfied: networkx>=2.0 in /usr/local/lib/python3.7/dist-packages (from scikit-image) (2.6.3)\n",
            "Requirement already satisfied: pillow!=7.1.0,!=7.1.1,>=4.3.0 in /usr/local/lib/python3.7/dist-packages (from scikit-image) (7.1.2)\n",
            "Requirement already satisfied: cycler>=0.10 in /usr/local/lib/python3.7/dist-packages (from matplotlib!=3.0.0,>=2.0.0->scikit-image) (0.11.0)\n",
            "Requirement already satisfied: kiwisolver>=1.0.1 in /usr/local/lib/python3.7/dist-packages (from matplotlib!=3.0.0,>=2.0.0->scikit-image) (1.4.4)\n",
            "Requirement already satisfied: python-dateutil>=2.1 in /usr/local/lib/python3.7/dist-packages (from matplotlib!=3.0.0,>=2.0.0->scikit-image) (2.8.2)\n",
            "Requirement already satisfied: pyparsing!=2.0.4,!=2.1.2,!=2.1.6,>=2.0.1 in /usr/local/lib/python3.7/dist-packages (from matplotlib!=3.0.0,>=2.0.0->scikit-image) (3.0.9)\n",
            "Requirement already satisfied: typing-extensions in /usr/local/lib/python3.7/dist-packages (from kiwisolver>=1.0.1->matplotlib!=3.0.0,>=2.0.0->scikit-image) (4.1.1)\n",
            "Requirement already satisfied: six>=1.5 in /usr/local/lib/python3.7/dist-packages (from python-dateutil>=2.1->matplotlib!=3.0.0,>=2.0.0->scikit-image) (1.15.0)\n",
            "Looking in indexes: https://pypi.org/simple, https://us-python.pkg.dev/colab-wheels/public/simple/\n",
            "Collecting sklearn\n",
            "  Downloading sklearn-0.0.post1.tar.gz (3.6 kB)\n",
            "Building wheels for collected packages: sklearn\n",
            "  Building wheel for sklearn (setup.py) ... \u001b[?25l\u001b[?25hdone\n",
            "  Created wheel for sklearn: filename=sklearn-0.0.post1-py3-none-any.whl size=2344 sha256=6b15d9e26b3d5e34d83cb8c84c290d789a83532f8262bd96a89d8e670a2fb482\n",
            "  Stored in directory: /root/.cache/pip/wheels/42/56/cc/4a8bf86613aafd5b7f1b310477667c1fca5c51c3ae4124a003\n",
            "Successfully built sklearn\n",
            "Installing collected packages: sklearn\n",
            "Successfully installed sklearn-0.0.post1\n"
          ]
        }
      ],
      "source": [
        "%pip install scikit-image\n",
        "%pip install sklearn\n",
        "\n",
        "import os\n",
        "from skimage.io import imread\n",
        "import numpy as np\n",
        "import pandas as pd\n",
        "from sklearn.preprocessing import StandardScaler\n",
        "from sklearn.metrics import plot_confusion_matrix\n",
        "import pickle\n",
        "from sklearn.metrics import classification_report,accuracy_score,confusion_matrix"
      ]
    },
    {
      "cell_type": "markdown",
      "metadata": {
        "id": "W7AusZHPDvbl"
      },
      "source": [
        "Preprocessing"
      ]
    },
    {
      "cell_type": "code",
      "execution_count": null,
      "metadata": {
        "colab": {
          "base_uri": "https://localhost:8080/"
        },
        "id": "WqQ3uKMnARTh",
        "outputId": "5ba2afaf-b310-4aeb-f554-b122d5df955c"
      },
      "outputs": [
        {
          "name": "stdout",
          "output_type": "stream",
          "text": [
            "Mounted at /content/drive/\n"
          ]
        }
      ],
      "source": [
        "#mount drive if necessary\n",
        "from google.colab import drive\n",
        "drive.mount('/content/drive/')"
      ]
    },
    {
      "cell_type": "code",
      "execution_count": null,
      "metadata": {
        "id": "CnH8Zw_FF6FH"
      },
      "outputs": [],
      "source": [
        "#Featurizes images in a folder to a Pandas DataFrame\n",
        "#Assuming all pictures are in one folder called 'WT', must rename final file in directory to a list like below\n",
        "\n",
        "Test= ['WT'] \n",
        "flat_data_arr=[]\n",
        "target_arr=[]\n",
        "\n",
        "#change directory to what is needed, if local or on Drive\n",
        "datadir='/content/drive/MyDrive/USHE-S-22/WT-NWT/test'\n",
        "# datadir= os.path.join(os.path.dirname(notebook_path), \"/Users/jordanmiller/Documents/UVU/USHE Project/WT_vs_NWT_Phase_I/train\")"
      ]
    },
    {
      "cell_type": "code",
      "execution_count": null,
      "metadata": {
        "colab": {
          "base_uri": "https://localhost:8080/",
          "height": 458
        },
        "id": "yRBFMioVF7sF",
        "outputId": "79b423c1-4f61-48ec-ee3b-a3f0e537122c"
      },
      "outputs": [
        {
          "name": "stdout",
          "output_type": "stream",
          "text": [
            "loading... category : WT\n",
            "loaded category:WT successfully\n"
          ]
        },
        {
          "data": {
            "text/html": [
              "\n",
              "  <div id=\"df-9895bed2-26a1-407d-aa41-c007cd6cd2be\">\n",
              "    <div class=\"colab-df-container\">\n",
              "      <div>\n",
              "<style scoped>\n",
              "    .dataframe tbody tr th:only-of-type {\n",
              "        vertical-align: middle;\n",
              "    }\n",
              "\n",
              "    .dataframe tbody tr th {\n",
              "        vertical-align: top;\n",
              "    }\n",
              "\n",
              "    .dataframe thead th {\n",
              "        text-align: right;\n",
              "    }\n",
              "</style>\n",
              "<table border=\"1\" class=\"dataframe\">\n",
              "  <thead>\n",
              "    <tr style=\"text-align: right;\">\n",
              "      <th></th>\n",
              "      <th>0</th>\n",
              "      <th>1</th>\n",
              "      <th>2</th>\n",
              "      <th>3</th>\n",
              "      <th>4</th>\n",
              "      <th>5</th>\n",
              "      <th>6</th>\n",
              "      <th>7</th>\n",
              "      <th>8</th>\n",
              "      <th>9</th>\n",
              "      <th>...</th>\n",
              "      <th>34416</th>\n",
              "      <th>34417</th>\n",
              "      <th>34418</th>\n",
              "      <th>34419</th>\n",
              "      <th>34420</th>\n",
              "      <th>34421</th>\n",
              "      <th>34422</th>\n",
              "      <th>34423</th>\n",
              "      <th>34424</th>\n",
              "      <th>Target</th>\n",
              "    </tr>\n",
              "  </thead>\n",
              "  <tbody>\n",
              "    <tr>\n",
              "      <th>0</th>\n",
              "      <td>195</td>\n",
              "      <td>223</td>\n",
              "      <td>247</td>\n",
              "      <td>182</td>\n",
              "      <td>226</td>\n",
              "      <td>253</td>\n",
              "      <td>179</td>\n",
              "      <td>228</td>\n",
              "      <td>255</td>\n",
              "      <td>191</td>\n",
              "      <td>...</td>\n",
              "      <td>16</td>\n",
              "      <td>28</td>\n",
              "      <td>14</td>\n",
              "      <td>17</td>\n",
              "      <td>29</td>\n",
              "      <td>17</td>\n",
              "      <td>24</td>\n",
              "      <td>36</td>\n",
              "      <td>22</td>\n",
              "      <td>0</td>\n",
              "    </tr>\n",
              "    <tr>\n",
              "      <th>1</th>\n",
              "      <td>73</td>\n",
              "      <td>79</td>\n",
              "      <td>91</td>\n",
              "      <td>87</td>\n",
              "      <td>94</td>\n",
              "      <td>102</td>\n",
              "      <td>240</td>\n",
              "      <td>245</td>\n",
              "      <td>248</td>\n",
              "      <td>252</td>\n",
              "      <td>...</td>\n",
              "      <td>192</td>\n",
              "      <td>193</td>\n",
              "      <td>197</td>\n",
              "      <td>190</td>\n",
              "      <td>191</td>\n",
              "      <td>196</td>\n",
              "      <td>190</td>\n",
              "      <td>191</td>\n",
              "      <td>196</td>\n",
              "      <td>0</td>\n",
              "    </tr>\n",
              "    <tr>\n",
              "      <th>2</th>\n",
              "      <td>254</td>\n",
              "      <td>255</td>\n",
              "      <td>253</td>\n",
              "      <td>255</td>\n",
              "      <td>255</td>\n",
              "      <td>255</td>\n",
              "      <td>255</td>\n",
              "      <td>255</td>\n",
              "      <td>255</td>\n",
              "      <td>254</td>\n",
              "      <td>...</td>\n",
              "      <td>191</td>\n",
              "      <td>192</td>\n",
              "      <td>196</td>\n",
              "      <td>191</td>\n",
              "      <td>192</td>\n",
              "      <td>196</td>\n",
              "      <td>191</td>\n",
              "      <td>192</td>\n",
              "      <td>196</td>\n",
              "      <td>0</td>\n",
              "    </tr>\n",
              "    <tr>\n",
              "      <th>3</th>\n",
              "      <td>255</td>\n",
              "      <td>255</td>\n",
              "      <td>255</td>\n",
              "      <td>254</td>\n",
              "      <td>253</td>\n",
              "      <td>255</td>\n",
              "      <td>255</td>\n",
              "      <td>254</td>\n",
              "      <td>255</td>\n",
              "      <td>255</td>\n",
              "      <td>...</td>\n",
              "      <td>186</td>\n",
              "      <td>186</td>\n",
              "      <td>188</td>\n",
              "      <td>186</td>\n",
              "      <td>186</td>\n",
              "      <td>186</td>\n",
              "      <td>187</td>\n",
              "      <td>187</td>\n",
              "      <td>187</td>\n",
              "      <td>0</td>\n",
              "    </tr>\n",
              "    <tr>\n",
              "      <th>4</th>\n",
              "      <td>112</td>\n",
              "      <td>150</td>\n",
              "      <td>51</td>\n",
              "      <td>85</td>\n",
              "      <td>119</td>\n",
              "      <td>45</td>\n",
              "      <td>51</td>\n",
              "      <td>79</td>\n",
              "      <td>38</td>\n",
              "      <td>60</td>\n",
              "      <td>...</td>\n",
              "      <td>216</td>\n",
              "      <td>217</td>\n",
              "      <td>222</td>\n",
              "      <td>218</td>\n",
              "      <td>217</td>\n",
              "      <td>222</td>\n",
              "      <td>218</td>\n",
              "      <td>217</td>\n",
              "      <td>222</td>\n",
              "      <td>0</td>\n",
              "    </tr>\n",
              "    <tr>\n",
              "      <th>...</th>\n",
              "      <td>...</td>\n",
              "      <td>...</td>\n",
              "      <td>...</td>\n",
              "      <td>...</td>\n",
              "      <td>...</td>\n",
              "      <td>...</td>\n",
              "      <td>...</td>\n",
              "      <td>...</td>\n",
              "      <td>...</td>\n",
              "      <td>...</td>\n",
              "      <td>...</td>\n",
              "      <td>...</td>\n",
              "      <td>...</td>\n",
              "      <td>...</td>\n",
              "      <td>...</td>\n",
              "      <td>...</td>\n",
              "      <td>...</td>\n",
              "      <td>...</td>\n",
              "      <td>...</td>\n",
              "      <td>...</td>\n",
              "      <td>...</td>\n",
              "    </tr>\n",
              "    <tr>\n",
              "      <th>775</th>\n",
              "      <td>230</td>\n",
              "      <td>255</td>\n",
              "      <td>255</td>\n",
              "      <td>231</td>\n",
              "      <td>250</td>\n",
              "      <td>255</td>\n",
              "      <td>239</td>\n",
              "      <td>250</td>\n",
              "      <td>254</td>\n",
              "      <td>234</td>\n",
              "      <td>...</td>\n",
              "      <td>203</td>\n",
              "      <td>204</td>\n",
              "      <td>209</td>\n",
              "      <td>203</td>\n",
              "      <td>204</td>\n",
              "      <td>209</td>\n",
              "      <td>203</td>\n",
              "      <td>204</td>\n",
              "      <td>209</td>\n",
              "      <td>0</td>\n",
              "    </tr>\n",
              "    <tr>\n",
              "      <th>776</th>\n",
              "      <td>236</td>\n",
              "      <td>250</td>\n",
              "      <td>253</td>\n",
              "      <td>236</td>\n",
              "      <td>250</td>\n",
              "      <td>253</td>\n",
              "      <td>236</td>\n",
              "      <td>250</td>\n",
              "      <td>253</td>\n",
              "      <td>239</td>\n",
              "      <td>...</td>\n",
              "      <td>196</td>\n",
              "      <td>196</td>\n",
              "      <td>198</td>\n",
              "      <td>201</td>\n",
              "      <td>201</td>\n",
              "      <td>203</td>\n",
              "      <td>199</td>\n",
              "      <td>199</td>\n",
              "      <td>201</td>\n",
              "      <td>0</td>\n",
              "    </tr>\n",
              "    <tr>\n",
              "      <th>777</th>\n",
              "      <td>255</td>\n",
              "      <td>255</td>\n",
              "      <td>255</td>\n",
              "      <td>255</td>\n",
              "      <td>255</td>\n",
              "      <td>255</td>\n",
              "      <td>255</td>\n",
              "      <td>255</td>\n",
              "      <td>255</td>\n",
              "      <td>255</td>\n",
              "      <td>...</td>\n",
              "      <td>208</td>\n",
              "      <td>204</td>\n",
              "      <td>203</td>\n",
              "      <td>214</td>\n",
              "      <td>206</td>\n",
              "      <td>195</td>\n",
              "      <td>213</td>\n",
              "      <td>204</td>\n",
              "      <td>195</td>\n",
              "      <td>0</td>\n",
              "    </tr>\n",
              "    <tr>\n",
              "      <th>778</th>\n",
              "      <td>49</td>\n",
              "      <td>71</td>\n",
              "      <td>25</td>\n",
              "      <td>33</td>\n",
              "      <td>53</td>\n",
              "      <td>18</td>\n",
              "      <td>20</td>\n",
              "      <td>38</td>\n",
              "      <td>16</td>\n",
              "      <td>19</td>\n",
              "      <td>...</td>\n",
              "      <td>100</td>\n",
              "      <td>129</td>\n",
              "      <td>75</td>\n",
              "      <td>101</td>\n",
              "      <td>130</td>\n",
              "      <td>76</td>\n",
              "      <td>100</td>\n",
              "      <td>129</td>\n",
              "      <td>75</td>\n",
              "      <td>0</td>\n",
              "    </tr>\n",
              "    <tr>\n",
              "      <th>779</th>\n",
              "      <td>152</td>\n",
              "      <td>134</td>\n",
              "      <td>114</td>\n",
              "      <td>153</td>\n",
              "      <td>141</td>\n",
              "      <td>115</td>\n",
              "      <td>120</td>\n",
              "      <td>114</td>\n",
              "      <td>78</td>\n",
              "      <td>96</td>\n",
              "      <td>...</td>\n",
              "      <td>128</td>\n",
              "      <td>153</td>\n",
              "      <td>114</td>\n",
              "      <td>114</td>\n",
              "      <td>137</td>\n",
              "      <td>91</td>\n",
              "      <td>112</td>\n",
              "      <td>136</td>\n",
              "      <td>86</td>\n",
              "      <td>0</td>\n",
              "    </tr>\n",
              "  </tbody>\n",
              "</table>\n",
              "<p>780 rows × 34426 columns</p>\n",
              "</div>\n",
              "      <button class=\"colab-df-convert\" onclick=\"convertToInteractive('df-9895bed2-26a1-407d-aa41-c007cd6cd2be')\"\n",
              "              title=\"Convert this dataframe to an interactive table.\"\n",
              "              style=\"display:none;\">\n",
              "        \n",
              "  <svg xmlns=\"http://www.w3.org/2000/svg\" height=\"24px\"viewBox=\"0 0 24 24\"\n",
              "       width=\"24px\">\n",
              "    <path d=\"M0 0h24v24H0V0z\" fill=\"none\"/>\n",
              "    <path d=\"M18.56 5.44l.94 2.06.94-2.06 2.06-.94-2.06-.94-.94-2.06-.94 2.06-2.06.94zm-11 1L8.5 8.5l.94-2.06 2.06-.94-2.06-.94L8.5 2.5l-.94 2.06-2.06.94zm10 10l.94 2.06.94-2.06 2.06-.94-2.06-.94-.94-2.06-.94 2.06-2.06.94z\"/><path d=\"M17.41 7.96l-1.37-1.37c-.4-.4-.92-.59-1.43-.59-.52 0-1.04.2-1.43.59L10.3 9.45l-7.72 7.72c-.78.78-.78 2.05 0 2.83L4 21.41c.39.39.9.59 1.41.59.51 0 1.02-.2 1.41-.59l7.78-7.78 2.81-2.81c.8-.78.8-2.07 0-2.86zM5.41 20L4 18.59l7.72-7.72 1.47 1.35L5.41 20z\"/>\n",
              "  </svg>\n",
              "      </button>\n",
              "      \n",
              "  <style>\n",
              "    .colab-df-container {\n",
              "      display:flex;\n",
              "      flex-wrap:wrap;\n",
              "      gap: 12px;\n",
              "    }\n",
              "\n",
              "    .colab-df-convert {\n",
              "      background-color: #E8F0FE;\n",
              "      border: none;\n",
              "      border-radius: 50%;\n",
              "      cursor: pointer;\n",
              "      display: none;\n",
              "      fill: #1967D2;\n",
              "      height: 32px;\n",
              "      padding: 0 0 0 0;\n",
              "      width: 32px;\n",
              "    }\n",
              "\n",
              "    .colab-df-convert:hover {\n",
              "      background-color: #E2EBFA;\n",
              "      box-shadow: 0px 1px 2px rgba(60, 64, 67, 0.3), 0px 1px 3px 1px rgba(60, 64, 67, 0.15);\n",
              "      fill: #174EA6;\n",
              "    }\n",
              "\n",
              "    [theme=dark] .colab-df-convert {\n",
              "      background-color: #3B4455;\n",
              "      fill: #D2E3FC;\n",
              "    }\n",
              "\n",
              "    [theme=dark] .colab-df-convert:hover {\n",
              "      background-color: #434B5C;\n",
              "      box-shadow: 0px 1px 3px 1px rgba(0, 0, 0, 0.15);\n",
              "      filter: drop-shadow(0px 1px 2px rgba(0, 0, 0, 0.3));\n",
              "      fill: #FFFFFF;\n",
              "    }\n",
              "  </style>\n",
              "\n",
              "      <script>\n",
              "        const buttonEl =\n",
              "          document.querySelector('#df-9895bed2-26a1-407d-aa41-c007cd6cd2be button.colab-df-convert');\n",
              "        buttonEl.style.display =\n",
              "          google.colab.kernel.accessAllowed ? 'block' : 'none';\n",
              "\n",
              "        async function convertToInteractive(key) {\n",
              "          const element = document.querySelector('#df-9895bed2-26a1-407d-aa41-c007cd6cd2be');\n",
              "          const dataTable =\n",
              "            await google.colab.kernel.invokeFunction('convertToInteractive',\n",
              "                                                     [key], {});\n",
              "          if (!dataTable) return;\n",
              "\n",
              "          const docLinkHtml = 'Like what you see? Visit the ' +\n",
              "            '<a target=\"_blank\" href=https://colab.research.google.com/notebooks/data_table.ipynb>data table notebook</a>'\n",
              "            + ' to learn more about interactive tables.';\n",
              "          element.innerHTML = '';\n",
              "          dataTable['output_type'] = 'display_data';\n",
              "          await google.colab.output.renderOutput(dataTable, element);\n",
              "          const docLink = document.createElement('div');\n",
              "          docLink.innerHTML = docLinkHtml;\n",
              "          element.appendChild(docLink);\n",
              "        }\n",
              "      </script>\n",
              "    </div>\n",
              "  </div>\n",
              "  "
            ],
            "text/plain": [
              "       0    1    2    3    4    5    6    7    8    9  ...  34416  34417  \\\n",
              "0    195  223  247  182  226  253  179  228  255  191  ...     16     28   \n",
              "1     73   79   91   87   94  102  240  245  248  252  ...    192    193   \n",
              "2    254  255  253  255  255  255  255  255  255  254  ...    191    192   \n",
              "3    255  255  255  254  253  255  255  254  255  255  ...    186    186   \n",
              "4    112  150   51   85  119   45   51   79   38   60  ...    216    217   \n",
              "..   ...  ...  ...  ...  ...  ...  ...  ...  ...  ...  ...    ...    ...   \n",
              "775  230  255  255  231  250  255  239  250  254  234  ...    203    204   \n",
              "776  236  250  253  236  250  253  236  250  253  239  ...    196    196   \n",
              "777  255  255  255  255  255  255  255  255  255  255  ...    208    204   \n",
              "778   49   71   25   33   53   18   20   38   16   19  ...    100    129   \n",
              "779  152  134  114  153  141  115  120  114   78   96  ...    128    153   \n",
              "\n",
              "     34418  34419  34420  34421  34422  34423  34424  Target  \n",
              "0       14     17     29     17     24     36     22       0  \n",
              "1      197    190    191    196    190    191    196       0  \n",
              "2      196    191    192    196    191    192    196       0  \n",
              "3      188    186    186    186    187    187    187       0  \n",
              "4      222    218    217    222    218    217    222       0  \n",
              "..     ...    ...    ...    ...    ...    ...    ...     ...  \n",
              "775    209    203    204    209    203    204    209       0  \n",
              "776    198    201    201    203    199    199    201       0  \n",
              "777    203    214    206    195    213    204    195       0  \n",
              "778     75    101    130     76    100    129     75       0  \n",
              "779    114    114    137     91    112    136     86       0  \n",
              "\n",
              "[780 rows x 34426 columns]"
            ]
          },
          "execution_count": 4,
          "metadata": {},
          "output_type": "execute_result"
        }
      ],
      "source": [
        "for i in Test:\n",
        "  print(f'loading... category : {i}')\n",
        "  path=os.path.join(datadir,i)\n",
        "  for img in os.listdir(path):\n",
        "    img_array=imread(os.path.join(path,img), as_gray=False)\n",
        "#   img_resized=resize(img_array,(135,135))\n",
        "    flat_data_arr.append(img_array.flatten())\n",
        "    target_arr.append(Test.index(i))\n",
        "  print(f'loaded category:{i} successfully')\n",
        "flat_data=np.array(flat_data_arr)\n",
        "target=np.array(target_arr)\n",
        "df=pd.DataFrame(flat_data)\n",
        "df['Target']=target\n",
        "df"
      ]
    },
    {
      "cell_type": "code",
      "execution_count": null,
      "metadata": {
        "colab": {
          "base_uri": "https://localhost:8080/"
        },
        "id": "htp2zPMQF9r9",
        "outputId": "9a08dfe3-7cd5-49ae-e78b-ddd570315802"
      },
      "outputs": [
        {
          "name": "stdout",
          "output_type": "stream",
          "text": [
            "Splitted Successfully\n"
          ]
        }
      ],
      "source": [
        "x_test=df.iloc[:,:-1]\n",
        "y_test=df.iloc[:,-1]\n",
        "print('Splitted Successfully')"
      ]
    },
    {
      "cell_type": "markdown",
      "metadata": {
        "id": "e3CSZMBBEP6Z"
      },
      "source": [
        "Standardization"
      ]
    },
    {
      "cell_type": "code",
      "execution_count": null,
      "metadata": {
        "id": "5x8gN7chERS7"
      },
      "outputs": [],
      "source": [
        "#Initiate scaler\n",
        "sc = StandardScaler()\n",
        "\n",
        "#Standardize the testing dataset\n",
        "x_test_t = pd.DataFrame(sc.fit_transform(x_test),index=x_test.index, columns=x_test.columns)"
      ]
    },
    {
      "cell_type": "markdown",
      "metadata": {
        "id": "CgWGtwSrEe5k"
      },
      "source": [
        "Import model and Predict"
      ]
    },
    {
      "cell_type": "code",
      "execution_count": null,
      "metadata": {
        "colab": {
          "base_uri": "https://localhost:8080/"
        },
        "id": "Sdx86PVtAL_5",
        "outputId": "27a1a137-3cbb-4282-fda1-ea04dcb60b78"
      },
      "outputs": [
        {
          "name": "stderr",
          "output_type": "stream",
          "text": [
            "/usr/local/lib/python3.7/dist-packages/sklearn/base.py:338: UserWarning: Trying to unpickle estimator SVC from version 0.23.2 when using version 1.0.2. This might lead to breaking code or invalid results. Use at your own risk. For more info please refer to:\n",
            "https://scikit-learn.org/stable/modules/model_persistence.html#security-maintainability-limitations\n",
            "  UserWarning,\n"
          ]
        }
      ],
      "source": [
        "#change path to where model is downloaded\n",
        "\n",
        "model=pickle.load(open('/content/drive/MyDrive/USHEF22/svc_bo','rb'))"
      ]
    },
    {
      "cell_type": "code",
      "execution_count": null,
      "metadata": {
        "id": "2stS9S_9AvVt"
      },
      "outputs": [],
      "source": [
        "#if not provided with labeled data\n",
        "prediction = model.predict(x_test_t)"
      ]
    },
    {
      "cell_type": "code",
      "execution_count": null,
      "metadata": {
        "colab": {
          "background_save": true
        },
        "id": "i2pGTeXtDcwb"
      },
      "outputs": [],
      "source": [
        "confidence = model.predict_proba(x_test_t)"
      ]
    },
    {
      "cell_type": "code",
      "execution_count": null,
      "metadata": {
        "id": "jqjqmbbwD4ib"
      },
      "outputs": [],
      "source": [
        "#write to text file:\n",
        "f = open(\"output.txt\", \"w\")\n",
        "f.write(\"Below is a report for each image in the given input file.\")\n",
        "f.write(\"\\n\")\n",
        "f.write(\"For each image, a confidence rating is given.\")\n",
        "f.write(\"\\n\")\n",
        "f.write(\"A prediction of 0 is True Negative and 1 is True Positive.\")\n",
        "f.write(\"\\n\")\n",
        "f.write(\"\\n\")\n",
        "im=0\n",
        "j=-1\n",
        "for i in confidence:\n",
        "  im = im+1\n",
        "  j= j+1\n",
        "  f.write(f\"Image {im}\")\n",
        "  f.write(\"\\n\")\n",
        "  f.write(f\"Confidence: {i}\")\n",
        "  f.write(\"\\n\")\n",
        "  f.write(f\"Prediction: {prediction[j]}\")\n",
        "  f.write(\"\\n\")\n",
        "  f.write(\"\\n\")\n",
        "f.close()"
      ]
    }
  ],
  "metadata": {
    "colab": {
      "provenance": [],
      "include_colab_link": true
    },
    "kernelspec": {
      "display_name": "Python 3",
      "name": "python3"
    },
    "language_info": {
      "name": "python"
    }
  },
  "nbformat": 4,
  "nbformat_minor": 0
}