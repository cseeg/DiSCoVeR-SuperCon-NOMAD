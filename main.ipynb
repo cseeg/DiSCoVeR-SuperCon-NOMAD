{
  "cells": [
    {
      "cell_type": "markdown",
      "metadata": {
        "id": "view-in-github",
        "colab_type": "text"
      },
      "source": [
        "<a href=\"https://colab.research.google.com/github/cseeg/DiSCoVeR-SuperCon-NOMAD-SMACT/blob/main/main.ipynb\" target=\"_parent\"><img src=\"https://colab.research.google.com/assets/colab-badge.svg\" alt=\"Open In Colab\"/></a>"
      ]
    },
    {
      "cell_type": "markdown",
      "metadata": {
        "id": "t0-X8HQGfJ85"
      },
      "source": [
        "# **pips and imports**"
      ]
    },
    {
      "cell_type": "code",
      "execution_count": null,
      "metadata": {
        "colab": {
          "base_uri": "https://localhost:8080/"
        },
        "id": "cZMqBI4X3xq6",
        "outputId": "ac8aaadb-923f-467e-ae68-59f0731e8715"
      },
      "outputs": [
        {
          "name": "stdout",
          "output_type": "stream",
          "text": [
            "torch version: 1.12.0+cu113\n",
            "Looking in indexes: https://pypi.org/simple, https://us-python.pkg.dev/colab-wheels/public/simple/\n",
            "Requirement already satisfied: pip in /usr/local/lib/python3.7/dist-packages (21.1.3)\n",
            "Collecting pip\n",
            "  Downloading pip-22.2.2-py3-none-any.whl (2.0 MB)\n",
            "\u001b[K     |████████████████████████████████| 2.0 MB 5.0 MB/s \n",
            "\u001b[?25hInstalling collected packages: pip\n",
            "  Attempting uninstall: pip\n",
            "    Found existing installation: pip 21.1.3\n",
            "    Uninstalling pip-21.1.3:\n",
            "      Successfully uninstalled pip-21.1.3\n",
            "Successfully installed pip-22.2.2\n",
            "Looking in indexes: https://pypi.org/simple, https://us-python.pkg.dev/colab-wheels/public/simple/\n",
            "Collecting mat_discover\n",
            "  Downloading mat_discover-2.2.3-py2.py3-none-any.whl (38 kB)\n",
            "Collecting numba>=0.53.1\n",
            "  Downloading numba-0.56.0-cp37-cp37m-manylinux2014_x86_64.manylinux_2_17_x86_64.whl (3.5 MB)\n",
            "\u001b[2K     \u001b[90m━━━━━━━━━━━━━━━━━━━━━━━━━━━━━━━━━━━━━━━━\u001b[0m \u001b[32m3.5/3.5 MB\u001b[0m \u001b[31m36.7 MB/s\u001b[0m eta \u001b[36m0:00:00\u001b[0m\n",
            "\u001b[?25hCollecting umap-learn\n",
            "  Downloading umap-learn-0.5.3.tar.gz (88 kB)\n",
            "\u001b[2K     \u001b[90m━━━━━━━━━━━━━━━━━━━━━━━━━━━━━━━━━━━━━━━━\u001b[0m \u001b[32m88.2/88.2 kB\u001b[0m \u001b[31m10.0 MB/s\u001b[0m eta \u001b[36m0:00:00\u001b[0m\n",
            "\u001b[?25h  Preparing metadata (setup.py) ... \u001b[?25l\u001b[?25hdone\n",
            "Collecting plotly>=5.6.0\n",
            "  Downloading plotly-5.9.0-py2.py3-none-any.whl (15.2 MB)\n",
            "\u001b[2K     \u001b[90m━━━━━━━━━━━━━━━━━━━━━━━━━━━━━━━━━━━━━━━━\u001b[0m \u001b[32m15.2/15.2 MB\u001b[0m \u001b[31m56.9 MB/s\u001b[0m eta \u001b[36m0:00:00\u001b[0m\n",
            "\u001b[?25hCollecting composition_based_feature_vector\n",
            "  Downloading composition_based_feature_vector-1.0.4-py3-none-any.whl (543 kB)\n",
            "\u001b[2K     \u001b[90m━━━━━━━━━━━━━━━━━━━━━━━━━━━━━━━━━━━━━━\u001b[0m \u001b[32m543.7/543.7 kB\u001b[0m \u001b[31m36.6 MB/s\u001b[0m eta \u001b[36m0:00:00\u001b[0m\n",
            "\u001b[?25hCollecting pandas\n",
            "  Downloading pandas-1.3.5-cp37-cp37m-manylinux_2_17_x86_64.manylinux2014_x86_64.whl (11.3 MB)\n",
            "\u001b[2K     \u001b[90m━━━━━━━━━━━━━━━━━━━━━━━━━━━━━━━━━━━━━━━━\u001b[0m \u001b[32m11.3/11.3 MB\u001b[0m \u001b[31m66.0 MB/s\u001b[0m eta \u001b[36m0:00:00\u001b[0m\n",
            "\u001b[?25hCollecting crabnet<3.0.0,>=2.0.5\n",
            "  Downloading crabnet-2.0.7-py3-none-any.whl (35.2 MB)\n",
            "\u001b[2K     \u001b[90m━━━━━━━━━━━━━━━━━━━━━━━━━━━━━━━━━━━━━━━━\u001b[0m \u001b[32m35.2/35.2 MB\u001b[0m \u001b[31m36.2 MB/s\u001b[0m eta \u001b[36m0:00:00\u001b[0m\n",
            "\u001b[?25hCollecting cython\n",
            "  Downloading Cython-0.29.32-cp37-cp37m-manylinux_2_17_x86_64.manylinux2014_x86_64.manylinux_2_24_x86_64.whl (1.9 MB)\n",
            "\u001b[2K     \u001b[90m━━━━━━━━━━━━━━━━━━━━━━━━━━━━━━━━━━━━━━━━\u001b[0m \u001b[32m1.9/1.9 MB\u001b[0m \u001b[31m54.3 MB/s\u001b[0m eta \u001b[36m0:00:00\u001b[0m\n",
            "\u001b[?25hCollecting seaborn\n",
            "  Downloading seaborn-0.11.2-py3-none-any.whl (292 kB)\n",
            "\u001b[2K     \u001b[90m━━━━━━━━━━━━━━━━━━━━━━━━━━━━━━━━━━━━━━\u001b[0m \u001b[32m292.8/292.8 kB\u001b[0m \u001b[31m25.9 MB/s\u001b[0m eta \u001b[36m0:00:00\u001b[0m\n",
            "\u001b[?25hCollecting scipy\n",
            "  Downloading scipy-1.7.3-cp37-cp37m-manylinux_2_12_x86_64.manylinux2010_x86_64.whl (38.1 MB)\n",
            "\u001b[2K     \u001b[90m━━━━━━━━━━━━━━━━━━━━━━━━━━━━━━━━━━━━━━━━\u001b[0m \u001b[32m38.1/38.1 MB\u001b[0m \u001b[31m36.8 MB/s\u001b[0m eta \u001b[36m0:00:00\u001b[0m\n",
            "\u001b[?25hCollecting kaleido\n",
            "  Downloading kaleido-0.2.1-py2.py3-none-manylinux1_x86_64.whl (79.9 MB)\n",
            "\u001b[2K     \u001b[90m━━━━━━━━━━━━━━━━━━━━━━━━━━━━━━━━━━━━━━━━\u001b[0m \u001b[32m79.9/79.9 MB\u001b[0m \u001b[31m6.2 MB/s\u001b[0m eta \u001b[36m0:00:00\u001b[0m\n",
            "\u001b[?25hCollecting pqdm\n",
            "  Downloading pqdm-0.2.0-py2.py3-none-any.whl (6.8 kB)\n",
            "Collecting matplotlib>=3.4.3\n",
            "  Downloading matplotlib-3.5.2-cp37-cp37m-manylinux_2_5_x86_64.manylinux1_x86_64.whl (11.2 MB)\n",
            "\u001b[2K     \u001b[90m━━━━━━━━━━━━━━━━━━━━━━━━━━━━━━━━━━━━━━━━\u001b[0m \u001b[32m11.2/11.2 MB\u001b[0m \u001b[31m70.8 MB/s\u001b[0m eta \u001b[36m0:00:00\u001b[0m\n",
            "\u001b[?25hCollecting dill\n",
            "  Downloading dill-0.3.5.1-py2.py3-none-any.whl (95 kB)\n",
            "\u001b[2K     \u001b[90m━━━━━━━━━━━━━━━━━━━━━━━━━━━━━━━━━━━━━━━━\u001b[0m \u001b[32m95.8/95.8 kB\u001b[0m \u001b[31m10.8 MB/s\u001b[0m eta \u001b[36m0:00:00\u001b[0m\n",
            "\u001b[?25hCollecting chem_wasserstein<2.0.0,>=1.0.8\n",
            "  Downloading chem_wasserstein-1.0.11-py3-none-any.whl (1.0 MB)\n",
            "\u001b[2K     \u001b[90m━━━━━━━━━━━━━━━━━━━━━━━━━━━━━━━━━━━━━━━━\u001b[0m \u001b[32m1.0/1.0 MB\u001b[0m \u001b[31m40.8 MB/s\u001b[0m eta \u001b[36m0:00:00\u001b[0m\n",
            "\u001b[?25hCollecting scikit_learn\n",
            "  Downloading scikit_learn-1.0.2-cp37-cp37m-manylinux_2_17_x86_64.manylinux2014_x86_64.whl (24.8 MB)\n",
            "\u001b[2K     \u001b[90m━━━━━━━━━━━━━━━━━━━━━━━━━━━━━━━━━━━━━━━━\u001b[0m \u001b[32m24.8/24.8 MB\u001b[0m \u001b[31m50.5 MB/s\u001b[0m eta \u001b[36m0:00:00\u001b[0m\n",
            "\u001b[?25hCollecting hdbscan\n",
            "  Downloading hdbscan-0.8.28.tar.gz (5.2 MB)\n",
            "\u001b[2K     \u001b[90m━━━━━━━━━━━━━━━━━━━━━━━━━━━━━━━━━━━━━━━━\u001b[0m \u001b[32m5.2/5.2 MB\u001b[0m \u001b[31m65.0 MB/s\u001b[0m eta \u001b[36m0:00:00\u001b[0m\n",
            "\u001b[?25h  Installing build dependencies ... \u001b[?25l\u001b[?25hdone\n",
            "  Getting requirements to build wheel ... \u001b[?25l\u001b[?25hdone\n",
            "  Preparing metadata (pyproject.toml) ... \u001b[?25l\u001b[?25hdone\n",
            "Collecting tqdm\n",
            "  Downloading tqdm-4.64.0-py2.py3-none-any.whl (78 kB)\n",
            "\u001b[2K     \u001b[90m━━━━━━━━━━━━━━━━━━━━━━━━━━━━━━━━━━━━━━━━\u001b[0m \u001b[32m78.4/78.4 kB\u001b[0m \u001b[31m8.4 MB/s\u001b[0m eta \u001b[36m0:00:00\u001b[0m\n",
            "\u001b[?25hCollecting colorama\n",
            "  Downloading colorama-0.4.5-py2.py3-none-any.whl (16 kB)\n",
            "Collecting dist_matrix>=1.0.2\n",
            "  Downloading dist_matrix-1.0.2-py3-none-any.whl (43 kB)\n",
            "\u001b[2K     \u001b[90m━━━━━━━━━━━━━━━━━━━━━━━━━━━━━━━━━━━━━━━━\u001b[0m \u001b[32m43.8/43.8 kB\u001b[0m \u001b[31m4.5 MB/s\u001b[0m eta \u001b[36m0:00:00\u001b[0m\n",
            "\u001b[?25hCollecting ElMD==0.4.8\n",
            "  Downloading ElMD-0.4.8.tar.gz (1.1 MB)\n",
            "\u001b[2K     \u001b[90m━━━━━━━━━━━━━━━━━━━━━━━━━━━━━━━━━━━━━━━━\u001b[0m \u001b[32m1.1/1.1 MB\u001b[0m \u001b[31m49.0 MB/s\u001b[0m eta \u001b[36m0:00:00\u001b[0m\n",
            "\u001b[?25h  Preparing metadata (setup.py) ... \u001b[?25l\u001b[?25hdone\n",
            "Collecting setuptools\n",
            "  Using cached setuptools-63.4.2-py3-none-any.whl (1.2 MB)\n",
            "Collecting numpy\n",
            "  Downloading numpy-1.21.6-cp37-cp37m-manylinux_2_12_x86_64.manylinux2010_x86_64.whl (15.7 MB)\n",
            "\u001b[2K     \u001b[90m━━━━━━━━━━━━━━━━━━━━━━━━━━━━━━━━━━━━━━━━\u001b[0m \u001b[32m15.7/15.7 MB\u001b[0m \u001b[31m60.3 MB/s\u001b[0m eta \u001b[36m0:00:00\u001b[0m\n",
            "\u001b[?25hCollecting psutil\n",
            "  Downloading psutil-5.9.1-cp37-cp37m-manylinux_2_12_x86_64.manylinux2010_x86_64.manylinux_2_17_x86_64.manylinux2014_x86_64.whl (281 kB)\n",
            "\u001b[2K     \u001b[90m━━━━━━━━━━━━━━━━━━━━━━━━━━━━━━━━━━━━━━\u001b[0m \u001b[32m281.4/281.4 kB\u001b[0m \u001b[31m21.8 MB/s\u001b[0m eta \u001b[36m0:00:00\u001b[0m\n",
            "\u001b[?25hCollecting joblib\n",
            "  Downloading joblib-1.1.0-py2.py3-none-any.whl (306 kB)\n",
            "\u001b[2K     \u001b[90m━━━━━━━━━━━━━━━━━━━━━━━━━━━━━━━━━━━━━━\u001b[0m \u001b[32m307.0/307.0 kB\u001b[0m \u001b[31m26.4 MB/s\u001b[0m eta \u001b[36m0:00:00\u001b[0m\n",
            "\u001b[?25hCollecting pillow>=6.2.0\n",
            "  Downloading Pillow-9.2.0-cp37-cp37m-manylinux_2_17_x86_64.manylinux2014_x86_64.whl (3.1 MB)\n",
            "\u001b[2K     \u001b[90m━━━━━━━━━━━━━━━━━━━━━━━━━━━━━━━━━━━━━━━━\u001b[0m \u001b[32m3.1/3.1 MB\u001b[0m \u001b[31m71.0 MB/s\u001b[0m eta \u001b[36m0:00:00\u001b[0m\n",
            "\u001b[?25hCollecting fonttools>=4.22.0\n",
            "  Downloading fonttools-4.34.4-py3-none-any.whl (944 kB)\n",
            "\u001b[2K     \u001b[90m━━━━━━━━━━━━━━━━━━━━━━━━━━━━━━━━━━━━━━\u001b[0m \u001b[32m944.1/944.1 kB\u001b[0m \u001b[31m46.8 MB/s\u001b[0m eta \u001b[36m0:00:00\u001b[0m\n",
            "\u001b[?25hCollecting pyparsing>=2.2.1\n",
            "  Downloading pyparsing-3.0.9-py3-none-any.whl (98 kB)\n",
            "\u001b[2K     \u001b[90m━━━━━━━━━━━━━━━━━━━━━━━━━━━━━━━━━━━━━━━━\u001b[0m \u001b[32m98.3/98.3 kB\u001b[0m \u001b[31m11.3 MB/s\u001b[0m eta \u001b[36m0:00:00\u001b[0m\n",
            "\u001b[?25hCollecting cycler>=0.10\n",
            "  Downloading cycler-0.11.0-py3-none-any.whl (6.4 kB)\n",
            "Collecting packaging>=20.0\n",
            "  Downloading packaging-21.3-py3-none-any.whl (40 kB)\n",
            "\u001b[2K     \u001b[90m━━━━━━━━━━━━━━━━━━━━━━━━━━━━━━━━━━━━━━━━\u001b[0m \u001b[32m40.8/40.8 kB\u001b[0m \u001b[31m4.7 MB/s\u001b[0m eta \u001b[36m0:00:00\u001b[0m\n",
            "\u001b[?25hCollecting python-dateutil>=2.7\n",
            "  Downloading python_dateutil-2.8.2-py2.py3-none-any.whl (247 kB)\n",
            "\u001b[2K     \u001b[90m━━━━━━━━━━━━━━━━━━━━━━━━━━━━━━━━━━━━━━\u001b[0m \u001b[32m247.7/247.7 kB\u001b[0m \u001b[31m19.6 MB/s\u001b[0m eta \u001b[36m0:00:00\u001b[0m\n",
            "\u001b[?25hCollecting kiwisolver>=1.0.1\n",
            "  Downloading kiwisolver-1.4.4-cp37-cp37m-manylinux_2_5_x86_64.manylinux1_x86_64.whl (1.1 MB)\n",
            "\u001b[2K     \u001b[90m━━━━━━━━━━━━━━━━━━━━━━━━━━━━━━━━━━━━━━━━\u001b[0m \u001b[32m1.1/1.1 MB\u001b[0m \u001b[31m49.4 MB/s\u001b[0m eta \u001b[36m0:00:00\u001b[0m\n",
            "\u001b[?25hCollecting importlib-metadata\n",
            "  Downloading importlib_metadata-4.12.0-py3-none-any.whl (21 kB)\n",
            "Collecting llvmlite<0.40,>=0.39.0dev0\n",
            "  Downloading llvmlite-0.39.0-cp37-cp37m-manylinux_2_17_x86_64.manylinux2014_x86_64.whl (34.6 MB)\n",
            "\u001b[2K     \u001b[90m━━━━━━━━━━━━━━━━━━━━━━━━━━━━━━━━━━━━━━━━\u001b[0m \u001b[32m34.6/34.6 MB\u001b[0m \u001b[31m39.3 MB/s\u001b[0m eta \u001b[36m0:00:00\u001b[0m\n",
            "\u001b[?25hCollecting tenacity>=6.2.0\n",
            "  Downloading tenacity-8.0.1-py3-none-any.whl (24 kB)\n",
            "Collecting bounded-pool-executor\n",
            "  Downloading bounded_pool_executor-0.0.3-py3-none-any.whl (3.4 kB)\n",
            "Collecting typing-extensions\n",
            "  Downloading typing_extensions-4.3.0-py3-none-any.whl (25 kB)\n",
            "Collecting pytest\n",
            "  Downloading pytest-7.1.2-py3-none-any.whl (297 kB)\n",
            "\u001b[2K     \u001b[90m━━━━━━━━━━━━━━━━━━━━━━━━━━━━━━━━━━━━━━\u001b[0m \u001b[32m297.0/297.0 kB\u001b[0m \u001b[31m22.7 MB/s\u001b[0m eta \u001b[36m0:00:00\u001b[0m\n",
            "\u001b[?25hCollecting threadpoolctl>=2.0.0\n",
            "  Downloading threadpoolctl-3.1.0-py3-none-any.whl (14 kB)\n",
            "Collecting pytz>=2017.3\n",
            "  Downloading pytz-2022.1-py2.py3-none-any.whl (503 kB)\n",
            "\u001b[2K     \u001b[90m━━━━━━━━━━━━━━━━━━━━━━━━━━━━━━━━━━━━━━\u001b[0m \u001b[32m503.5/503.5 kB\u001b[0m \u001b[31m33.5 MB/s\u001b[0m eta \u001b[36m0:00:00\u001b[0m\n",
            "\u001b[?25hCollecting pynndescent>=0.5\n",
            "  Downloading pynndescent-0.5.7.tar.gz (1.1 MB)\n",
            "\u001b[2K     \u001b[90m━━━━━━━━━━━━━━━━━━━━━━━━━━━━━━━━━━━━━━━━\u001b[0m \u001b[32m1.1/1.1 MB\u001b[0m \u001b[31m51.4 MB/s\u001b[0m eta \u001b[36m0:00:00\u001b[0m\n",
            "\u001b[?25h  Preparing metadata (setup.py) ... \u001b[?25l\u001b[?25hdone\n",
            "Collecting six>=1.5\n",
            "  Downloading six-1.16.0-py2.py3-none-any.whl (11 kB)\n",
            "Collecting zipp>=0.5\n",
            "  Downloading zipp-3.8.1-py3-none-any.whl (5.6 kB)\n",
            "Collecting py>=1.8.2\n",
            "  Downloading py-1.11.0-py2.py3-none-any.whl (98 kB)\n",
            "\u001b[2K     \u001b[90m━━━━━━━━━━━━━━━━━━━━━━━━━━━━━━━━━━━━━━━━\u001b[0m \u001b[32m98.7/98.7 kB\u001b[0m \u001b[31m10.8 MB/s\u001b[0m eta \u001b[36m0:00:00\u001b[0m\n",
            "\u001b[?25hCollecting attrs>=19.2.0\n",
            "  Downloading attrs-22.1.0-py2.py3-none-any.whl (58 kB)\n",
            "\u001b[2K     \u001b[90m━━━━━━━━━━━━━━━━━━━━━━━━━━━━━━━━━━━━━━━━\u001b[0m \u001b[32m58.8/58.8 kB\u001b[0m \u001b[31m6.7 MB/s\u001b[0m eta \u001b[36m0:00:00\u001b[0m\n",
            "\u001b[?25hCollecting iniconfig\n",
            "  Downloading iniconfig-1.1.1-py2.py3-none-any.whl (5.0 kB)\n",
            "Collecting tomli>=1.0.0\n",
            "  Downloading tomli-2.0.1-py3-none-any.whl (12 kB)\n",
            "Collecting pluggy<2.0,>=0.12\n",
            "  Downloading pluggy-1.0.0-py2.py3-none-any.whl (13 kB)\n",
            "Building wheels for collected packages: ElMD, hdbscan, umap-learn, pynndescent\n",
            "  Building wheel for ElMD (setup.py) ... \u001b[?25l\u001b[?25hdone\n",
            "  Created wheel for ElMD: filename=ElMD-0.4.8-py3-none-any.whl size=1153056 sha256=d14fa90ddde026f50c6ee7d2e8675d751d3892a347170b66f705862fdbd31075\n",
            "  Stored in directory: /root/.cache/pip/wheels/3b/7c/98/31025ba575f0a4379a6d190a2235a950b7568ba0f672dcf5ab\n",
            "  Building wheel for hdbscan (pyproject.toml) ... \u001b[?25l\u001b[?25hdone\n",
            "  Created wheel for hdbscan: filename=hdbscan-0.8.28-cp37-cp37m-linux_x86_64.whl size=2340301 sha256=721b43fa39d08099c72b7ff70bd0b367811e793139a248cc5aa3820ff5f9422a\n",
            "  Stored in directory: /root/.cache/pip/wheels/6e/7a/5e/259ccc841c085fc41b99ef4a71e896b62f5161f2bc8a14c97a\n",
            "  Building wheel for umap-learn (setup.py) ... \u001b[?25l\u001b[?25hdone\n",
            "  Created wheel for umap-learn: filename=umap_learn-0.5.3-py3-none-any.whl size=82829 sha256=aff57ed0d23226702ef0bca17fd7d9ff91ccd452ec550bec5b197a7b94f3ac52\n",
            "  Stored in directory: /root/.cache/pip/wheels/b3/52/a5/1fd9e3e76a7ab34f134c07469cd6f16e27ef3a37aeff1fe821\n",
            "  Building wheel for pynndescent (setup.py) ... \u001b[?25l\u001b[?25hdone\n",
            "  Created wheel for pynndescent: filename=pynndescent-0.5.7-py3-none-any.whl size=54286 sha256=c42daaa7b8025debf4925d00d98996ab25552a2cf98d7bfc161d73f1d0d9d060\n",
            "  Stored in directory: /root/.cache/pip/wheels/7f/2a/f8/7bd5dcec71bd5c669f6f574db3113513696b98f3f9b51f496c\n",
            "Successfully built ElMD hdbscan umap-learn pynndescent\n",
            "Installing collected packages: pytz, kaleido, iniconfig, bounded-pool-executor, zipp, typing-extensions, tqdm, tomli, threadpoolctl, tenacity, six, setuptools, pyparsing, py, psutil, pillow, numpy, llvmlite, joblib, fonttools, dill, cython, cycler, colorama, attrs, scipy, python-dateutil, pqdm, plotly, packaging, kiwisolver, importlib-metadata, scikit_learn, pluggy, pandas, numba, matplotlib, seaborn, pytest, pynndescent, hdbscan, ElMD, dist_matrix, umap-learn, crabnet, composition_based_feature_vector, chem_wasserstein, mat_discover\n",
            "\u001b[31mERROR: pip's dependency resolver does not currently take into account all the packages that are installed. This behaviour is the source of the following dependency conflicts.\n",
            "thinc 8.1.0 requires typing-extensions<4.2.0,>=3.7.4.1; python_version < \"3.8\", but you have typing-extensions 4.3.0 which is incompatible.\n",
            "spacy 3.4.1 requires typing-extensions<4.2.0,>=3.7.4; python_version < \"3.8\", but you have typing-extensions 4.3.0 which is incompatible.\u001b[0m\u001b[31m\n",
            "\u001b[0mSuccessfully installed ElMD-0.4.8 attrs-22.1.0 bounded-pool-executor-0.0.3 chem_wasserstein-1.0.11 colorama-0.4.5 composition_based_feature_vector-1.0.4 crabnet-2.0.7 cycler-0.11.0 cython-0.29.32 dill-0.3.5.1 dist_matrix-1.0.2 fonttools-4.34.4 hdbscan-0.8.28 importlib-metadata-4.12.0 iniconfig-1.1.1 joblib-1.1.0 kaleido-0.2.1 kiwisolver-1.4.4 llvmlite-0.39.0 mat_discover-2.2.3 matplotlib-3.5.2 numba-0.56.0 numpy-1.21.6 packaging-21.3 pandas-1.3.5 pillow-9.2.0 plotly-5.9.0 pluggy-1.0.0 pqdm-0.2.0 psutil-5.9.1 py-1.11.0 pynndescent-0.5.7 pyparsing-3.0.9 pytest-7.1.2 python-dateutil-2.8.2 pytz-2022.1 scikit_learn-1.0.2 scipy-1.7.3 seaborn-0.11.2 setuptools-63.4.2 six-1.16.0 tenacity-8.0.1 threadpoolctl-3.1.0 tomli-2.0.1 tqdm-4.64.0 typing-extensions-4.3.0 umap-learn-0.5.3 zipp-3.8.1\n",
            "\u001b[33mWARNING: Running pip as the 'root' user can result in broken permissions and conflicting behaviour with the system package manager. It is recommended to use a virtual environment instead: https://pip.pypa.io/warnings/venv\u001b[0m\u001b[33m\n",
            "\u001b[0mLooking in indexes: https://pypi.org/simple, https://us-python.pkg.dev/colab-wheels/public/simple/\n",
            "Collecting pymatgen\n",
            "  Downloading pymatgen-2022.0.17.tar.gz (40.6 MB)\n",
            "\u001b[2K     \u001b[90m━━━━━━━━━━━━━━━━━━━━━━━━━━━━━━━━━━━━━━━━\u001b[0m \u001b[32m40.6/40.6 MB\u001b[0m \u001b[31m14.5 MB/s\u001b[0m eta \u001b[36m0:00:00\u001b[0m\n",
            "\u001b[?25h  Installing build dependencies ... \u001b[?25l\u001b[?25hdone\n",
            "  Getting requirements to build wheel ... \u001b[?25l\u001b[?25hdone\n",
            "  Installing backend dependencies ... \u001b[?25l\u001b[?25hdone\n",
            "  Preparing metadata (pyproject.toml) ... \u001b[?25l\u001b[?25hdone\n",
            "Requirement already satisfied: scipy>=1.5.0 in /usr/local/lib/python3.7/dist-packages (from pymatgen) (1.7.3)\n",
            "Requirement already satisfied: numpy>=1.20.1 in /usr/local/lib/python3.7/dist-packages (from pymatgen) (1.21.6)\n",
            "Collecting spglib>=1.9.9.44\n",
            "  Downloading spglib-1.16.5-cp37-cp37m-manylinux_2_17_x86_64.manylinux2014_x86_64.whl (325 kB)\n",
            "\u001b[2K     \u001b[90m━━━━━━━━━━━━━━━━━━━━━━━━━━━━━━━━━━━━━━\u001b[0m \u001b[32m325.1/325.1 kB\u001b[0m \u001b[31m24.4 MB/s\u001b[0m eta \u001b[36m0:00:00\u001b[0m\n",
            "\u001b[?25hRequirement already satisfied: matplotlib>=1.5 in /usr/local/lib/python3.7/dist-packages (from pymatgen) (3.5.2)\n",
            "Requirement already satisfied: sympy in /usr/local/lib/python3.7/dist-packages (from pymatgen) (1.7.1)\n",
            "Collecting uncertainties>=3.1.4\n",
            "  Downloading uncertainties-3.1.7-py2.py3-none-any.whl (98 kB)\n",
            "\u001b[2K     \u001b[90m━━━━━━━━━━━━━━━━━━━━━━━━━━━━━━━━━━━━━━━━\u001b[0m \u001b[32m98.4/98.4 kB\u001b[0m \u001b[31m7.3 MB/s\u001b[0m eta \u001b[36m0:00:00\u001b[0m\n",
            "\u001b[?25hRequirement already satisfied: plotly>=4.5.0 in /usr/local/lib/python3.7/dist-packages (from pymatgen) (5.9.0)\n",
            "Requirement already satisfied: typing-extensions>=3.7.4.3 in /usr/local/lib/python3.7/dist-packages (from pymatgen) (4.3.0)\n",
            "Collecting ruamel.yaml>=0.15.6\n",
            "  Downloading ruamel.yaml-0.17.21-py3-none-any.whl (109 kB)\n",
            "\u001b[2K     \u001b[90m━━━━━━━━━━━━━━━━━━━━━━━━━━━━━━━━━━━━━━\u001b[0m \u001b[32m109.5/109.5 kB\u001b[0m \u001b[31m13.0 MB/s\u001b[0m eta \u001b[36m0:00:00\u001b[0m\n",
            "\u001b[?25hRequirement already satisfied: palettable>=3.1.1 in /usr/local/lib/python3.7/dist-packages (from pymatgen) (3.3.0)\n",
            "Requirement already satisfied: requests in /usr/local/lib/python3.7/dist-packages (from pymatgen) (2.23.0)\n",
            "Requirement already satisfied: networkx>=2.2 in /usr/local/lib/python3.7/dist-packages (from pymatgen) (2.6.3)\n",
            "Collecting monty>=3.0.2\n",
            "  Downloading monty-2022.4.26-py3-none-any.whl (65 kB)\n",
            "\u001b[2K     \u001b[90m━━━━━━━━━━━━━━━━━━━━━━━━━━━━━━━━━━━━━━━━\u001b[0m \u001b[32m66.0/66.0 kB\u001b[0m \u001b[31m8.2 MB/s\u001b[0m eta \u001b[36m0:00:00\u001b[0m\n",
            "\u001b[?25hRequirement already satisfied: tabulate in /usr/local/lib/python3.7/dist-packages (from pymatgen) (0.8.10)\n",
            "Requirement already satisfied: pandas in /usr/local/lib/python3.7/dist-packages (from pymatgen) (1.3.5)\n",
            "Requirement already satisfied: python-dateutil>=2.7 in /usr/local/lib/python3.7/dist-packages (from matplotlib>=1.5->pymatgen) (2.8.2)\n",
            "Requirement already satisfied: cycler>=0.10 in /usr/local/lib/python3.7/dist-packages (from matplotlib>=1.5->pymatgen) (0.11.0)\n",
            "Requirement already satisfied: pillow>=6.2.0 in /usr/local/lib/python3.7/dist-packages (from matplotlib>=1.5->pymatgen) (9.2.0)\n",
            "Requirement already satisfied: fonttools>=4.22.0 in /usr/local/lib/python3.7/dist-packages (from matplotlib>=1.5->pymatgen) (4.34.4)\n",
            "Requirement already satisfied: kiwisolver>=1.0.1 in /usr/local/lib/python3.7/dist-packages (from matplotlib>=1.5->pymatgen) (1.4.4)\n",
            "Requirement already satisfied: pyparsing>=2.2.1 in /usr/local/lib/python3.7/dist-packages (from matplotlib>=1.5->pymatgen) (3.0.9)\n",
            "Requirement already satisfied: packaging>=20.0 in /usr/local/lib/python3.7/dist-packages (from matplotlib>=1.5->pymatgen) (21.3)\n",
            "Requirement already satisfied: tenacity>=6.2.0 in /usr/local/lib/python3.7/dist-packages (from plotly>=4.5.0->pymatgen) (8.0.1)\n",
            "Collecting ruamel.yaml.clib>=0.2.6\n",
            "  Downloading ruamel.yaml.clib-0.2.6-cp37-cp37m-manylinux1_x86_64.whl (546 kB)\n",
            "\u001b[2K     \u001b[90m━━━━━━━━━━━━━━━━━━━━━━━━━━━━━━━━━━━━━━\u001b[0m \u001b[32m546.8/546.8 kB\u001b[0m \u001b[31m19.6 MB/s\u001b[0m eta \u001b[36m0:00:00\u001b[0m\n",
            "\u001b[?25hRequirement already satisfied: future in /usr/local/lib/python3.7/dist-packages (from uncertainties>=3.1.4->pymatgen) (0.16.0)\n",
            "Requirement already satisfied: pytz>=2017.3 in /usr/local/lib/python3.7/dist-packages (from pandas->pymatgen) (2022.1)\n",
            "Requirement already satisfied: certifi>=2017.4.17 in /usr/local/lib/python3.7/dist-packages (from requests->pymatgen) (2022.6.15)\n",
            "Requirement already satisfied: chardet<4,>=3.0.2 in /usr/local/lib/python3.7/dist-packages (from requests->pymatgen) (3.0.4)\n",
            "Requirement already satisfied: idna<3,>=2.5 in /usr/local/lib/python3.7/dist-packages (from requests->pymatgen) (2.10)\n",
            "Requirement already satisfied: urllib3!=1.25.0,!=1.25.1,<1.26,>=1.21.1 in /usr/local/lib/python3.7/dist-packages (from requests->pymatgen) (1.24.3)\n",
            "Requirement already satisfied: mpmath>=0.19 in /usr/local/lib/python3.7/dist-packages (from sympy->pymatgen) (1.2.1)\n",
            "Requirement already satisfied: six>=1.5 in /usr/local/lib/python3.7/dist-packages (from python-dateutil>=2.7->matplotlib>=1.5->pymatgen) (1.16.0)\n",
            "Building wheels for collected packages: pymatgen\n",
            "  Building wheel for pymatgen (pyproject.toml) ... \u001b[?25l\u001b[?25hdone\n",
            "  Created wheel for pymatgen: filename=pymatgen-2022.0.17-cp37-cp37m-linux_x86_64.whl size=41841021 sha256=edc8198a04ad71901ab127d02fb703d8e156161a4633f13c2db83fb492a02993\n",
            "  Stored in directory: /root/.cache/pip/wheels/cf/f6/22/58a9be23c5f1b452770e02ff42047175eaf0f9c2f15219fc76\n",
            "Successfully built pymatgen\n",
            "Installing collected packages: uncertainties, spglib, ruamel.yaml.clib, monty, ruamel.yaml, pymatgen\n",
            "Successfully installed monty-2022.4.26 pymatgen-2022.0.17 ruamel.yaml-0.17.21 ruamel.yaml.clib-0.2.6 spglib-1.16.5 uncertainties-3.1.7\n",
            "\u001b[33mWARNING: Running pip as the 'root' user can result in broken permissions and conflicting behaviour with the system package manager. It is recommended to use a virtual environment instead: https://pip.pypa.io/warnings/venv\u001b[0m\u001b[33m\n",
            "\u001b[0mLooking in indexes: https://pypi.org/simple, https://us-python.pkg.dev/colab-wheels/public/simple/\n",
            "Collecting CBFV\n",
            "  Downloading CBFV-1.1.0-py3-none-any.whl (539 kB)\n",
            "\u001b[2K     \u001b[90m━━━━━━━━━━━━━━━━━━━━━━━━━━━━━━━━━━━━━━\u001b[0m \u001b[32m539.2/539.2 kB\u001b[0m \u001b[31m11.2 MB/s\u001b[0m eta \u001b[36m0:00:00\u001b[0m\n",
            "\u001b[?25hRequirement already satisfied: pytest in /usr/local/lib/python3.7/dist-packages (from CBFV) (7.1.2)\n",
            "Requirement already satisfied: tqdm in /usr/local/lib/python3.7/dist-packages (from CBFV) (4.64.0)\n",
            "Requirement already satisfied: pandas in /usr/local/lib/python3.7/dist-packages (from CBFV) (1.3.5)\n",
            "Requirement already satisfied: numpy in /usr/local/lib/python3.7/dist-packages (from CBFV) (1.21.6)\n",
            "Requirement already satisfied: python-dateutil>=2.7.3 in /usr/local/lib/python3.7/dist-packages (from pandas->CBFV) (2.8.2)\n",
            "Requirement already satisfied: pytz>=2017.3 in /usr/local/lib/python3.7/dist-packages (from pandas->CBFV) (2022.1)\n",
            "Requirement already satisfied: importlib-metadata>=0.12 in /usr/local/lib/python3.7/dist-packages (from pytest->CBFV) (4.12.0)\n",
            "Requirement already satisfied: attrs>=19.2.0 in /usr/local/lib/python3.7/dist-packages (from pytest->CBFV) (22.1.0)\n",
            "Requirement already satisfied: packaging in /usr/local/lib/python3.7/dist-packages (from pytest->CBFV) (21.3)\n",
            "Requirement already satisfied: iniconfig in /usr/local/lib/python3.7/dist-packages (from pytest->CBFV) (1.1.1)\n",
            "Requirement already satisfied: pluggy<2.0,>=0.12 in /usr/local/lib/python3.7/dist-packages (from pytest->CBFV) (1.0.0)\n",
            "Requirement already satisfied: py>=1.8.2 in /usr/local/lib/python3.7/dist-packages (from pytest->CBFV) (1.11.0)\n",
            "Requirement already satisfied: tomli>=1.0.0 in /usr/local/lib/python3.7/dist-packages (from pytest->CBFV) (2.0.1)\n",
            "Requirement already satisfied: typing-extensions>=3.6.4 in /usr/local/lib/python3.7/dist-packages (from importlib-metadata>=0.12->pytest->CBFV) (4.3.0)\n",
            "Requirement already satisfied: zipp>=0.5 in /usr/local/lib/python3.7/dist-packages (from importlib-metadata>=0.12->pytest->CBFV) (3.8.1)\n",
            "Requirement already satisfied: six>=1.5 in /usr/local/lib/python3.7/dist-packages (from python-dateutil>=2.7.3->pandas->CBFV) (1.16.0)\n",
            "Requirement already satisfied: pyparsing!=3.0.5,>=2.0.2 in /usr/local/lib/python3.7/dist-packages (from packaging->pytest->CBFV) (3.0.9)\n",
            "Installing collected packages: CBFV\n",
            "Successfully installed CBFV-1.1.0\n",
            "\u001b[33mWARNING: Running pip as the 'root' user can result in broken permissions and conflicting behaviour with the system package manager. It is recommended to use a virtual environment instead: https://pip.pypa.io/warnings/venv\u001b[0m\u001b[33m\n",
            "\u001b[0mLooking in indexes: https://pypi.org/simple, https://us-python.pkg.dev/colab-wheels/public/simple/\n",
            "Collecting SMACT\n",
            "  Downloading SMACT-2.3.3-py3-none-any.whl (123 kB)\n",
            "\u001b[2K     \u001b[90m━━━━━━━━━━━━━━━━━━━━━━━━━━━━━━━━━━━━━━━\u001b[0m \u001b[32m123.5/123.5 kB\u001b[0m \u001b[31m4.7 MB/s\u001b[0m eta \u001b[36m0:00:00\u001b[0m\n",
            "\u001b[?25hRequirement already satisfied: numpy in /usr/local/lib/python3.7/dist-packages (from SMACT) (1.21.6)\n",
            "Requirement already satisfied: pandas in /usr/local/lib/python3.7/dist-packages (from SMACT) (1.3.5)\n",
            "Requirement already satisfied: spglib in /usr/local/lib/python3.7/dist-packages (from SMACT) (1.16.5)\n",
            "Requirement already satisfied: scipy in /usr/local/lib/python3.7/dist-packages (from SMACT) (1.7.3)\n",
            "Collecting pathos\n",
            "  Downloading pathos-0.2.9-py3-none-any.whl (76 kB)\n",
            "\u001b[2K     \u001b[90m━━━━━━━━━━━━━━━━━━━━━━━━━━━━━━━━━━━━━━━━\u001b[0m \u001b[32m76.9/76.9 kB\u001b[0m \u001b[31m9.2 MB/s\u001b[0m eta \u001b[36m0:00:00\u001b[0m\n",
            "\u001b[?25hCollecting ase\n",
            "  Downloading ase-3.22.1-py3-none-any.whl (2.2 MB)\n",
            "\u001b[2K     \u001b[90m━━━━━━━━━━━━━━━━━━━━━━━━━━━━━━━━━━━━━━━━\u001b[0m \u001b[32m2.2/2.2 MB\u001b[0m \u001b[31m37.9 MB/s\u001b[0m eta \u001b[36m0:00:00\u001b[0m\n",
            "\u001b[?25hRequirement already satisfied: pymatgen in /usr/local/lib/python3.7/dist-packages (from SMACT) (2022.0.17)\n",
            "Requirement already satisfied: matplotlib>=3.1.0 in /usr/local/lib/python3.7/dist-packages (from ase->SMACT) (3.5.2)\n",
            "Requirement already satisfied: python-dateutil>=2.7.3 in /usr/local/lib/python3.7/dist-packages (from pandas->SMACT) (2.8.2)\n",
            "Requirement already satisfied: pytz>=2017.3 in /usr/local/lib/python3.7/dist-packages (from pandas->SMACT) (2022.1)\n",
            "Collecting ppft>=1.7.6.5\n",
            "  Downloading ppft-1.7.6.5-py2.py3-none-any.whl (52 kB)\n",
            "\u001b[2K     \u001b[90m━━━━━━━━━━━━━━━━━━━━━━━━━━━━━━━━━━━━━━━━\u001b[0m \u001b[32m52.5/52.5 kB\u001b[0m \u001b[31m6.3 MB/s\u001b[0m eta \u001b[36m0:00:00\u001b[0m\n",
            "\u001b[?25hCollecting pox>=0.3.1\n",
            "  Downloading pox-0.3.1-py2.py3-none-any.whl (28 kB)\n",
            "Requirement already satisfied: dill>=0.3.5.1 in /usr/local/lib/python3.7/dist-packages (from pathos->SMACT) (0.3.5.1)\n",
            "Collecting multiprocess>=0.70.13\n",
            "  Downloading multiprocess-0.70.13-py37-none-any.whl (115 kB)\n",
            "\u001b[2K     \u001b[90m━━━━━━━━━━━━━━━━━━━━━━━━━━━━━━━━━━━━━━\u001b[0m \u001b[32m115.1/115.1 kB\u001b[0m \u001b[31m12.1 MB/s\u001b[0m eta \u001b[36m0:00:00\u001b[0m\n",
            "\u001b[?25hRequirement already satisfied: uncertainties>=3.1.4 in /usr/local/lib/python3.7/dist-packages (from pymatgen->SMACT) (3.1.7)\n",
            "Requirement already satisfied: ruamel.yaml>=0.15.6 in /usr/local/lib/python3.7/dist-packages (from pymatgen->SMACT) (0.17.21)\n",
            "Requirement already satisfied: palettable>=3.1.1 in /usr/local/lib/python3.7/dist-packages (from pymatgen->SMACT) (3.3.0)\n",
            "Requirement already satisfied: networkx>=2.2 in /usr/local/lib/python3.7/dist-packages (from pymatgen->SMACT) (2.6.3)\n",
            "Requirement already satisfied: sympy in /usr/local/lib/python3.7/dist-packages (from pymatgen->SMACT) (1.7.1)\n",
            "Requirement already satisfied: plotly>=4.5.0 in /usr/local/lib/python3.7/dist-packages (from pymatgen->SMACT) (5.9.0)\n",
            "Requirement already satisfied: tabulate in /usr/local/lib/python3.7/dist-packages (from pymatgen->SMACT) (0.8.10)\n",
            "Requirement already satisfied: typing-extensions>=3.7.4.3 in /usr/local/lib/python3.7/dist-packages (from pymatgen->SMACT) (4.3.0)\n",
            "Requirement already satisfied: requests in /usr/local/lib/python3.7/dist-packages (from pymatgen->SMACT) (2.23.0)\n",
            "Requirement already satisfied: monty>=3.0.2 in /usr/local/lib/python3.7/dist-packages (from pymatgen->SMACT) (2022.4.26)\n",
            "Requirement already satisfied: packaging>=20.0 in /usr/local/lib/python3.7/dist-packages (from matplotlib>=3.1.0->ase->SMACT) (21.3)\n",
            "Requirement already satisfied: kiwisolver>=1.0.1 in /usr/local/lib/python3.7/dist-packages (from matplotlib>=3.1.0->ase->SMACT) (1.4.4)\n",
            "Requirement already satisfied: fonttools>=4.22.0 in /usr/local/lib/python3.7/dist-packages (from matplotlib>=3.1.0->ase->SMACT) (4.34.4)\n",
            "Requirement already satisfied: cycler>=0.10 in /usr/local/lib/python3.7/dist-packages (from matplotlib>=3.1.0->ase->SMACT) (0.11.0)\n",
            "Requirement already satisfied: pillow>=6.2.0 in /usr/local/lib/python3.7/dist-packages (from matplotlib>=3.1.0->ase->SMACT) (9.2.0)\n",
            "Requirement already satisfied: pyparsing>=2.2.1 in /usr/local/lib/python3.7/dist-packages (from matplotlib>=3.1.0->ase->SMACT) (3.0.9)\n",
            "Requirement already satisfied: tenacity>=6.2.0 in /usr/local/lib/python3.7/dist-packages (from plotly>=4.5.0->pymatgen->SMACT) (8.0.1)\n",
            "Requirement already satisfied: six>=1.7.3 in /usr/local/lib/python3.7/dist-packages (from ppft>=1.7.6.5->pathos->SMACT) (1.16.0)\n",
            "Requirement already satisfied: ruamel.yaml.clib>=0.2.6 in /usr/local/lib/python3.7/dist-packages (from ruamel.yaml>=0.15.6->pymatgen->SMACT) (0.2.6)\n",
            "Requirement already satisfied: future in /usr/local/lib/python3.7/dist-packages (from uncertainties>=3.1.4->pymatgen->SMACT) (0.16.0)\n",
            "Requirement already satisfied: chardet<4,>=3.0.2 in /usr/local/lib/python3.7/dist-packages (from requests->pymatgen->SMACT) (3.0.4)\n",
            "Requirement already satisfied: certifi>=2017.4.17 in /usr/local/lib/python3.7/dist-packages (from requests->pymatgen->SMACT) (2022.6.15)\n",
            "Requirement already satisfied: urllib3!=1.25.0,!=1.25.1,<1.26,>=1.21.1 in /usr/local/lib/python3.7/dist-packages (from requests->pymatgen->SMACT) (1.24.3)\n",
            "Requirement already satisfied: idna<3,>=2.5 in /usr/local/lib/python3.7/dist-packages (from requests->pymatgen->SMACT) (2.10)\n",
            "Requirement already satisfied: mpmath>=0.19 in /usr/local/lib/python3.7/dist-packages (from sympy->pymatgen->SMACT) (1.2.1)\n",
            "Installing collected packages: ppft, pox, multiprocess, pathos, ase, SMACT\n",
            "Successfully installed SMACT-2.3.3 ase-3.22.1 multiprocess-0.70.13 pathos-0.2.9 pox-0.3.1 ppft-1.7.6.5\n",
            "\u001b[33mWARNING: Running pip as the 'root' user can result in broken permissions and conflicting behaviour with the system package manager. It is recommended to use a virtual environment instead: https://pip.pypa.io/warnings/venv\u001b[0m\u001b[33m\n",
            "\u001b[0mCPU times: user 2.21 s, sys: 550 ms, total: 2.76 s\n",
            "Wall time: 3min 12s\n"
          ]
        }
      ],
      "source": [
        "%%time\n",
        "import os\n",
        "os.environ['CUDA_LAUNCH_BLOCKING'] = \"1\"\n",
        "import torch\n",
        "print(f\"torch version: {torch.__version__}\")\n",
        "!pip install -U pip\n",
        "try:\n",
        "  import mat_discover\n",
        "except:\n",
        "  !pip install -UI mat_discover\n",
        "\n",
        "%pip install pymatgen\n",
        "%pip install CBFV\n",
        "%pip install SMACT\n",
        "\n",
        "# **You must restart the runtime after this step**\n"
      ]
    },
    {
      "cell_type": "code",
      "execution_count": null,
      "metadata": {
        "colab": {
          "base_uri": "https://localhost:8080/"
        },
        "id": "W1vvpSAE4Nmi",
        "outputId": "8e694221-88ee-487f-f345-501215dc94ce"
      },
      "outputs": [
        {
          "name": "stdout",
          "output_type": "stream",
          "text": [
            "DiSCoVeR version 2.2.3\n",
            "CrabNet version 2.0.7\n"
          ]
        }
      ],
      "source": [
        "# imports\n",
        "import pandas as pd\n",
        "import numpy as np\n",
        "import mat_discover\n",
        "print(f\"DiSCoVeR version {mat_discover.__version__}\")\n",
        "from mat_discover.mat_discover_ import Discover\n",
        "from pymatgen.core.composition import Composition\n",
        "import math\n",
        "from os.path import join\n",
        "from pathlib import Path\n",
        "import crabnet\n",
        "print(f\"CrabNet version {crabnet.__version__}\")\n",
        "from CBFV import composition\n",
        "from sklearn.dummy import DummyRegressor\n",
        "from sklearn.metrics import mean_absolute_error, mean_squared_error, r2_score\n",
        "\n",
        "import smact\n",
        "from smact.screening import pauling_test\n",
        "import itertools\n",
        "from fractions import Fraction\n",
        "import functools"
      ]
    },
    {
      "cell_type": "code",
      "execution_count": null,
      "metadata": {
        "colab": {
          "base_uri": "https://localhost:8080/"
        },
        "id": "cJLUex1i4dla",
        "outputId": "4e776024-5ea0-4f5f-8a0b-e7e6207e0ae5"
      },
      "outputs": [
        {
          "name": "stdout",
          "output_type": "stream",
          "text": [
            "Mounted at /content/drive\n"
          ]
        }
      ],
      "source": [
        "#mount Drive\n",
        "\n",
        "from google.colab import drive\n",
        "drive.mount('/content/drive')"
      ]
    },
    {
      "cell_type": "markdown",
      "metadata": {
        "id": "Gem6R9XIfpGw"
      },
      "source": [
        "# **Read in and organize `train_df` and `val_df`**"
      ]
    },
    {
      "cell_type": "code",
      "execution_count": null,
      "metadata": {
        "colab": {
          "base_uri": "https://localhost:8080/",
          "height": 830
        },
        "id": "hAy09iEn4hdE",
        "outputId": "75dd6bcb-8bfb-4c2f-9e4a-114557578ecb"
      },
      "outputs": [
        {
          "data": {
            "text/html": [
              "\n",
              "  <div id=\"df-40feecab-102d-411e-9286-1cf2d066c203\">\n",
              "    <div class=\"colab-df-container\">\n",
              "      <div>\n",
              "<style scoped>\n",
              "    .dataframe tbody tr th:only-of-type {\n",
              "        vertical-align: middle;\n",
              "    }\n",
              "\n",
              "    .dataframe tbody tr th {\n",
              "        vertical-align: top;\n",
              "    }\n",
              "\n",
              "    .dataframe thead th {\n",
              "        text-align: right;\n",
              "    }\n",
              "</style>\n",
              "<table border=\"1\" class=\"dataframe\">\n",
              "  <thead>\n",
              "    <tr style=\"text-align: right;\">\n",
              "      <th></th>\n",
              "      <th>formula</th>\n",
              "      <th>target</th>\n",
              "    </tr>\n",
              "  </thead>\n",
              "  <tbody>\n",
              "    <tr>\n",
              "      <th>0</th>\n",
              "      <td>Ba0.4K0.6Fe2As2</td>\n",
              "      <td>31.20</td>\n",
              "    </tr>\n",
              "    <tr>\n",
              "      <th>1</th>\n",
              "      <td>Ca0.4Ba1.25La1.25Cu3O6.98</td>\n",
              "      <td>40.10</td>\n",
              "    </tr>\n",
              "    <tr>\n",
              "      <th>2</th>\n",
              "      <td>Mo0.39Ru0.61</td>\n",
              "      <td>6.90</td>\n",
              "    </tr>\n",
              "    <tr>\n",
              "      <th>3</th>\n",
              "      <td>Tm4Os6Sn19</td>\n",
              "      <td>1.10</td>\n",
              "    </tr>\n",
              "    <tr>\n",
              "      <th>4</th>\n",
              "      <td>Nd1Bi0.99Pb0.01S2F0.3O0.7</td>\n",
              "      <td>4.85</td>\n",
              "    </tr>\n",
              "    <tr>\n",
              "      <th>...</th>\n",
              "      <td>...</td>\n",
              "      <td>...</td>\n",
              "    </tr>\n",
              "    <tr>\n",
              "      <th>16374</th>\n",
              "      <td>La1.78Sr0.22Cu0.9975Zn0.0025O4</td>\n",
              "      <td>19.25</td>\n",
              "    </tr>\n",
              "    <tr>\n",
              "      <th>16376</th>\n",
              "      <td>Nb0.96Ta0.04</td>\n",
              "      <td>8.87</td>\n",
              "    </tr>\n",
              "    <tr>\n",
              "      <th>16377</th>\n",
              "      <td>Pb2Sr2Ho0.5Ca0.5Cu2.982Al0.018O8</td>\n",
              "      <td>63.60</td>\n",
              "    </tr>\n",
              "    <tr>\n",
              "      <th>16378</th>\n",
              "      <td>Yb0.5Pr0.5Ba2Cu3O6.9</td>\n",
              "      <td>34.80</td>\n",
              "    </tr>\n",
              "    <tr>\n",
              "      <th>16379</th>\n",
              "      <td>La5Si3</td>\n",
              "      <td>1.60</td>\n",
              "    </tr>\n",
              "  </tbody>\n",
              "</table>\n",
              "<p>12415 rows × 2 columns</p>\n",
              "</div>\n",
              "      <button class=\"colab-df-convert\" onclick=\"convertToInteractive('df-40feecab-102d-411e-9286-1cf2d066c203')\"\n",
              "              title=\"Convert this dataframe to an interactive table.\"\n",
              "              style=\"display:none;\">\n",
              "        \n",
              "  <svg xmlns=\"http://www.w3.org/2000/svg\" height=\"24px\"viewBox=\"0 0 24 24\"\n",
              "       width=\"24px\">\n",
              "    <path d=\"M0 0h24v24H0V0z\" fill=\"none\"/>\n",
              "    <path d=\"M18.56 5.44l.94 2.06.94-2.06 2.06-.94-2.06-.94-.94-2.06-.94 2.06-2.06.94zm-11 1L8.5 8.5l.94-2.06 2.06-.94-2.06-.94L8.5 2.5l-.94 2.06-2.06.94zm10 10l.94 2.06.94-2.06 2.06-.94-2.06-.94-.94-2.06-.94 2.06-2.06.94z\"/><path d=\"M17.41 7.96l-1.37-1.37c-.4-.4-.92-.59-1.43-.59-.52 0-1.04.2-1.43.59L10.3 9.45l-7.72 7.72c-.78.78-.78 2.05 0 2.83L4 21.41c.39.39.9.59 1.41.59.51 0 1.02-.2 1.41-.59l7.78-7.78 2.81-2.81c.8-.78.8-2.07 0-2.86zM5.41 20L4 18.59l7.72-7.72 1.47 1.35L5.41 20z\"/>\n",
              "  </svg>\n",
              "      </button>\n",
              "      \n",
              "  <style>\n",
              "    .colab-df-container {\n",
              "      display:flex;\n",
              "      flex-wrap:wrap;\n",
              "      gap: 12px;\n",
              "    }\n",
              "\n",
              "    .colab-df-convert {\n",
              "      background-color: #E8F0FE;\n",
              "      border: none;\n",
              "      border-radius: 50%;\n",
              "      cursor: pointer;\n",
              "      display: none;\n",
              "      fill: #1967D2;\n",
              "      height: 32px;\n",
              "      padding: 0 0 0 0;\n",
              "      width: 32px;\n",
              "    }\n",
              "\n",
              "    .colab-df-convert:hover {\n",
              "      background-color: #E2EBFA;\n",
              "      box-shadow: 0px 1px 2px rgba(60, 64, 67, 0.3), 0px 1px 3px 1px rgba(60, 64, 67, 0.15);\n",
              "      fill: #174EA6;\n",
              "    }\n",
              "\n",
              "    [theme=dark] .colab-df-convert {\n",
              "      background-color: #3B4455;\n",
              "      fill: #D2E3FC;\n",
              "    }\n",
              "\n",
              "    [theme=dark] .colab-df-convert:hover {\n",
              "      background-color: #434B5C;\n",
              "      box-shadow: 0px 1px 3px 1px rgba(0, 0, 0, 0.15);\n",
              "      filter: drop-shadow(0px 1px 2px rgba(0, 0, 0, 0.3));\n",
              "      fill: #FFFFFF;\n",
              "    }\n",
              "  </style>\n",
              "\n",
              "      <script>\n",
              "        const buttonEl =\n",
              "          document.querySelector('#df-40feecab-102d-411e-9286-1cf2d066c203 button.colab-df-convert');\n",
              "        buttonEl.style.display =\n",
              "          google.colab.kernel.accessAllowed ? 'block' : 'none';\n",
              "\n",
              "        async function convertToInteractive(key) {\n",
              "          const element = document.querySelector('#df-40feecab-102d-411e-9286-1cf2d066c203');\n",
              "          const dataTable =\n",
              "            await google.colab.kernel.invokeFunction('convertToInteractive',\n",
              "                                                     [key], {});\n",
              "          if (!dataTable) return;\n",
              "\n",
              "          const docLinkHtml = 'Like what you see? Visit the ' +\n",
              "            '<a target=\"_blank\" href=https://colab.research.google.com/notebooks/data_table.ipynb>data table notebook</a>'\n",
              "            + ' to learn more about interactive tables.';\n",
              "          element.innerHTML = '';\n",
              "          dataTable['output_type'] = 'display_data';\n",
              "          await google.colab.output.renderOutput(dataTable, element);\n",
              "          const docLink = document.createElement('div');\n",
              "          docLink.innerHTML = docLinkHtml;\n",
              "          element.appendChild(docLink);\n",
              "        }\n",
              "      </script>\n",
              "    </div>\n",
              "  </div>\n",
              "  "
            ],
            "text/plain": [
              "                                formula  target\n",
              "0                       Ba0.4K0.6Fe2As2   31.20\n",
              "1             Ca0.4Ba1.25La1.25Cu3O6.98   40.10\n",
              "2                          Mo0.39Ru0.61    6.90\n",
              "3                            Tm4Os6Sn19    1.10\n",
              "4             Nd1Bi0.99Pb0.01S2F0.3O0.7    4.85\n",
              "...                                 ...     ...\n",
              "16374    La1.78Sr0.22Cu0.9975Zn0.0025O4   19.25\n",
              "16376                      Nb0.96Ta0.04    8.87\n",
              "16377  Pb2Sr2Ho0.5Ca0.5Cu2.982Al0.018O8   63.60\n",
              "16378              Yb0.5Pr0.5Ba2Cu3O6.9   34.80\n",
              "16379                            La5Si3    1.60\n",
              "\n",
              "[12415 rows x 2 columns]"
            ]
          },
          "metadata": {},
          "output_type": "display_data"
        },
        {
          "data": {
            "text/html": [
              "\n",
              "  <div id=\"df-03df7e63-5fee-4802-a13e-bf3b02ee543a\">\n",
              "    <div class=\"colab-df-container\">\n",
              "      <div>\n",
              "<style scoped>\n",
              "    .dataframe tbody tr th:only-of-type {\n",
              "        vertical-align: middle;\n",
              "    }\n",
              "\n",
              "    .dataframe tbody tr th {\n",
              "        vertical-align: top;\n",
              "    }\n",
              "\n",
              "    .dataframe thead th {\n",
              "        text-align: right;\n",
              "    }\n",
              "</style>\n",
              "<table border=\"1\" class=\"dataframe\">\n",
              "  <thead>\n",
              "    <tr style=\"text-align: right;\">\n",
              "      <th></th>\n",
              "      <th>formula</th>\n",
              "    </tr>\n",
              "  </thead>\n",
              "  <tbody>\n",
              "    <tr>\n",
              "      <th>0</th>\n",
              "      <td>Ac</td>\n",
              "    </tr>\n",
              "    <tr>\n",
              "      <th>1</th>\n",
              "      <td>Ac(AgO2)2</td>\n",
              "    </tr>\n",
              "    <tr>\n",
              "      <th>2</th>\n",
              "      <td>Ac(AsO2)2</td>\n",
              "    </tr>\n",
              "    <tr>\n",
              "      <th>3</th>\n",
              "      <td>Ac(AuO2)2</td>\n",
              "    </tr>\n",
              "    <tr>\n",
              "      <th>4</th>\n",
              "      <td>Ac(BO2)2</td>\n",
              "    </tr>\n",
              "    <tr>\n",
              "      <th>...</th>\n",
              "      <td>...</td>\n",
              "    </tr>\n",
              "    <tr>\n",
              "      <th>695606</th>\n",
              "      <td>ZrZnW3</td>\n",
              "    </tr>\n",
              "    <tr>\n",
              "      <th>695607</th>\n",
              "      <td>ZrZnW4</td>\n",
              "    </tr>\n",
              "    <tr>\n",
              "      <th>695608</th>\n",
              "      <td>ZrZnWAu</td>\n",
              "    </tr>\n",
              "    <tr>\n",
              "      <th>695609</th>\n",
              "      <td>ZrZnWC</td>\n",
              "    </tr>\n",
              "    <tr>\n",
              "      <th>695610</th>\n",
              "      <td>ZrZnWSe</td>\n",
              "    </tr>\n",
              "  </tbody>\n",
              "</table>\n",
              "<p>695611 rows × 1 columns</p>\n",
              "</div>\n",
              "      <button class=\"colab-df-convert\" onclick=\"convertToInteractive('df-03df7e63-5fee-4802-a13e-bf3b02ee543a')\"\n",
              "              title=\"Convert this dataframe to an interactive table.\"\n",
              "              style=\"display:none;\">\n",
              "        \n",
              "  <svg xmlns=\"http://www.w3.org/2000/svg\" height=\"24px\"viewBox=\"0 0 24 24\"\n",
              "       width=\"24px\">\n",
              "    <path d=\"M0 0h24v24H0V0z\" fill=\"none\"/>\n",
              "    <path d=\"M18.56 5.44l.94 2.06.94-2.06 2.06-.94-2.06-.94-.94-2.06-.94 2.06-2.06.94zm-11 1L8.5 8.5l.94-2.06 2.06-.94-2.06-.94L8.5 2.5l-.94 2.06-2.06.94zm10 10l.94 2.06.94-2.06 2.06-.94-2.06-.94-.94-2.06-.94 2.06-2.06.94z\"/><path d=\"M17.41 7.96l-1.37-1.37c-.4-.4-.92-.59-1.43-.59-.52 0-1.04.2-1.43.59L10.3 9.45l-7.72 7.72c-.78.78-.78 2.05 0 2.83L4 21.41c.39.39.9.59 1.41.59.51 0 1.02-.2 1.41-.59l7.78-7.78 2.81-2.81c.8-.78.8-2.07 0-2.86zM5.41 20L4 18.59l7.72-7.72 1.47 1.35L5.41 20z\"/>\n",
              "  </svg>\n",
              "      </button>\n",
              "      \n",
              "  <style>\n",
              "    .colab-df-container {\n",
              "      display:flex;\n",
              "      flex-wrap:wrap;\n",
              "      gap: 12px;\n",
              "    }\n",
              "\n",
              "    .colab-df-convert {\n",
              "      background-color: #E8F0FE;\n",
              "      border: none;\n",
              "      border-radius: 50%;\n",
              "      cursor: pointer;\n",
              "      display: none;\n",
              "      fill: #1967D2;\n",
              "      height: 32px;\n",
              "      padding: 0 0 0 0;\n",
              "      width: 32px;\n",
              "    }\n",
              "\n",
              "    .colab-df-convert:hover {\n",
              "      background-color: #E2EBFA;\n",
              "      box-shadow: 0px 1px 2px rgba(60, 64, 67, 0.3), 0px 1px 3px 1px rgba(60, 64, 67, 0.15);\n",
              "      fill: #174EA6;\n",
              "    }\n",
              "\n",
              "    [theme=dark] .colab-df-convert {\n",
              "      background-color: #3B4455;\n",
              "      fill: #D2E3FC;\n",
              "    }\n",
              "\n",
              "    [theme=dark] .colab-df-convert:hover {\n",
              "      background-color: #434B5C;\n",
              "      box-shadow: 0px 1px 3px 1px rgba(0, 0, 0, 0.15);\n",
              "      filter: drop-shadow(0px 1px 2px rgba(0, 0, 0, 0.3));\n",
              "      fill: #FFFFFF;\n",
              "    }\n",
              "  </style>\n",
              "\n",
              "      <script>\n",
              "        const buttonEl =\n",
              "          document.querySelector('#df-03df7e63-5fee-4802-a13e-bf3b02ee543a button.colab-df-convert');\n",
              "        buttonEl.style.display =\n",
              "          google.colab.kernel.accessAllowed ? 'block' : 'none';\n",
              "\n",
              "        async function convertToInteractive(key) {\n",
              "          const element = document.querySelector('#df-03df7e63-5fee-4802-a13e-bf3b02ee543a');\n",
              "          const dataTable =\n",
              "            await google.colab.kernel.invokeFunction('convertToInteractive',\n",
              "                                                     [key], {});\n",
              "          if (!dataTable) return;\n",
              "\n",
              "          const docLinkHtml = 'Like what you see? Visit the ' +\n",
              "            '<a target=\"_blank\" href=https://colab.research.google.com/notebooks/data_table.ipynb>data table notebook</a>'\n",
              "            + ' to learn more about interactive tables.';\n",
              "          element.innerHTML = '';\n",
              "          dataTable['output_type'] = 'display_data';\n",
              "          await google.colab.output.renderOutput(dataTable, element);\n",
              "          const docLink = document.createElement('div');\n",
              "          docLink.innerHTML = docLinkHtml;\n",
              "          element.appendChild(docLink);\n",
              "        }\n",
              "      </script>\n",
              "    </div>\n",
              "  </div>\n",
              "  "
            ],
            "text/plain": [
              "          formula\n",
              "0              Ac\n",
              "1       Ac(AgO2)2\n",
              "2       Ac(AsO2)2\n",
              "3       Ac(AuO2)2\n",
              "4        Ac(BO2)2\n",
              "...           ...\n",
              "695606     ZrZnW3\n",
              "695607     ZrZnW4\n",
              "695608    ZrZnWAu\n",
              "695609     ZrZnWC\n",
              "695610    ZrZnWSe\n",
              "\n",
              "[695611 rows x 1 columns]"
            ]
          },
          "metadata": {},
          "output_type": "display_data"
        }
      ],
      "source": [
        "# Read in data, delete unwanted columns\n",
        "\n",
        "df = pd.read_csv(\"/content/drive/MyDrive/ReUSE/CDVAE-Discover/supercon.csv\")\n",
        "train_df = df[(df[['target']] != 0).all(axis=1)]\n",
        "\n",
        "val_df = pd.read_csv(\"/content/drive/MyDrive/ReUSE/CDVAE-Discover/NOMAD-unique-reduced-formula.csv\")\n",
        "\n",
        "del val_df[\"calc_id\"]\n",
        "del val_df[\"count\"]\n",
        "val_df.rename(columns = {'reduced_formula':'formula'}, inplace=True)\n",
        "val_df.drop(val_df.tail(1).index, inplace=True)\n",
        "val_df.dropna()\n",
        "\n",
        "display(train_df)\n",
        "display(val_df)"
      ]
    },
    {
      "cell_type": "code",
      "execution_count": null,
      "metadata": {
        "colab": {
          "base_uri": "https://localhost:8080/",
          "height": 580
        },
        "id": "Tqio7K2g5VAc",
        "outputId": "7c970338-8da5-4f03-8a9e-974cd5710ee5"
      },
      "outputs": [
        {
          "name": "stdout",
          "output_type": "stream",
          "text": [
            "There are 220 reduced compositions\n"
          ]
        },
        {
          "name": "stderr",
          "output_type": "stream",
          "text": [
            "/usr/local/lib/python3.7/dist-packages/pandas/core/indexing.py:1773: SettingWithCopyWarning:\n",
            "\n",
            "\n",
            "A value is trying to be set on a copy of a slice from a DataFrame.\n",
            "Try using .loc[row_indexer,col_indexer] = value instead\n",
            "\n",
            "See the caveats in the documentation: https://pandas.pydata.org/pandas-docs/stable/user_guide/indexing.html#returning-a-view-versus-a-copy\n",
            "\n"
          ]
        },
        {
          "data": {
            "text/html": [
              "\n",
              "  <div id=\"df-c69e7a2b-3273-4578-b114-7038e92f0a1c\">\n",
              "    <div class=\"colab-df-container\">\n",
              "      <div>\n",
              "<style scoped>\n",
              "    .dataframe tbody tr th:only-of-type {\n",
              "        vertical-align: middle;\n",
              "    }\n",
              "\n",
              "    .dataframe tbody tr th {\n",
              "        vertical-align: top;\n",
              "    }\n",
              "\n",
              "    .dataframe thead th {\n",
              "        text-align: right;\n",
              "    }\n",
              "</style>\n",
              "<table border=\"1\" class=\"dataframe\">\n",
              "  <thead>\n",
              "    <tr style=\"text-align: right;\">\n",
              "      <th></th>\n",
              "      <th>formula</th>\n",
              "      <th>target</th>\n",
              "    </tr>\n",
              "  </thead>\n",
              "  <tbody>\n",
              "    <tr>\n",
              "      <th>0</th>\n",
              "      <td>K0.6Ba0.4Fe2As2</td>\n",
              "      <td>31.20</td>\n",
              "    </tr>\n",
              "    <tr>\n",
              "      <th>1</th>\n",
              "      <td>Ba1.25Ca0.4La1.25Cu3O6.98</td>\n",
              "      <td>40.10</td>\n",
              "    </tr>\n",
              "    <tr>\n",
              "      <th>2</th>\n",
              "      <td>Mo0.39Ru0.61</td>\n",
              "      <td>6.90</td>\n",
              "    </tr>\n",
              "    <tr>\n",
              "      <th>3</th>\n",
              "      <td>Tm4Sn19Os6</td>\n",
              "      <td>1.10</td>\n",
              "    </tr>\n",
              "    <tr>\n",
              "      <th>4</th>\n",
              "      <td>Nd1Bi0.99Pb0.01S2O0.7F0.3</td>\n",
              "      <td>4.85</td>\n",
              "    </tr>\n",
              "    <tr>\n",
              "      <th>...</th>\n",
              "      <td>...</td>\n",
              "      <td>...</td>\n",
              "    </tr>\n",
              "    <tr>\n",
              "      <th>16374</th>\n",
              "      <td>Sr0.22La1.78Zn0.0025Cu0.9975O4</td>\n",
              "      <td>19.25</td>\n",
              "    </tr>\n",
              "    <tr>\n",
              "      <th>16376</th>\n",
              "      <td>Ta0.04Nb0.96</td>\n",
              "      <td>8.87</td>\n",
              "    </tr>\n",
              "    <tr>\n",
              "      <th>16377</th>\n",
              "      <td>Sr2Ca0.5Ho0.5Al0.018Cu2.982Pb2O8</td>\n",
              "      <td>63.60</td>\n",
              "    </tr>\n",
              "    <tr>\n",
              "      <th>16378</th>\n",
              "      <td>Ba2Yb0.5Pr0.5Cu3O6.9</td>\n",
              "      <td>34.80</td>\n",
              "    </tr>\n",
              "    <tr>\n",
              "      <th>16379</th>\n",
              "      <td>La5Si3</td>\n",
              "      <td>1.60</td>\n",
              "    </tr>\n",
              "  </tbody>\n",
              "</table>\n",
              "<p>12415 rows × 2 columns</p>\n",
              "</div>\n",
              "      <button class=\"colab-df-convert\" onclick=\"convertToInteractive('df-c69e7a2b-3273-4578-b114-7038e92f0a1c')\"\n",
              "              title=\"Convert this dataframe to an interactive table.\"\n",
              "              style=\"display:none;\">\n",
              "        \n",
              "  <svg xmlns=\"http://www.w3.org/2000/svg\" height=\"24px\"viewBox=\"0 0 24 24\"\n",
              "       width=\"24px\">\n",
              "    <path d=\"M0 0h24v24H0V0z\" fill=\"none\"/>\n",
              "    <path d=\"M18.56 5.44l.94 2.06.94-2.06 2.06-.94-2.06-.94-.94-2.06-.94 2.06-2.06.94zm-11 1L8.5 8.5l.94-2.06 2.06-.94-2.06-.94L8.5 2.5l-.94 2.06-2.06.94zm10 10l.94 2.06.94-2.06 2.06-.94-2.06-.94-.94-2.06-.94 2.06-2.06.94z\"/><path d=\"M17.41 7.96l-1.37-1.37c-.4-.4-.92-.59-1.43-.59-.52 0-1.04.2-1.43.59L10.3 9.45l-7.72 7.72c-.78.78-.78 2.05 0 2.83L4 21.41c.39.39.9.59 1.41.59.51 0 1.02-.2 1.41-.59l7.78-7.78 2.81-2.81c.8-.78.8-2.07 0-2.86zM5.41 20L4 18.59l7.72-7.72 1.47 1.35L5.41 20z\"/>\n",
              "  </svg>\n",
              "      </button>\n",
              "      \n",
              "  <style>\n",
              "    .colab-df-container {\n",
              "      display:flex;\n",
              "      flex-wrap:wrap;\n",
              "      gap: 12px;\n",
              "    }\n",
              "\n",
              "    .colab-df-convert {\n",
              "      background-color: #E8F0FE;\n",
              "      border: none;\n",
              "      border-radius: 50%;\n",
              "      cursor: pointer;\n",
              "      display: none;\n",
              "      fill: #1967D2;\n",
              "      height: 32px;\n",
              "      padding: 0 0 0 0;\n",
              "      width: 32px;\n",
              "    }\n",
              "\n",
              "    .colab-df-convert:hover {\n",
              "      background-color: #E2EBFA;\n",
              "      box-shadow: 0px 1px 2px rgba(60, 64, 67, 0.3), 0px 1px 3px 1px rgba(60, 64, 67, 0.15);\n",
              "      fill: #174EA6;\n",
              "    }\n",
              "\n",
              "    [theme=dark] .colab-df-convert {\n",
              "      background-color: #3B4455;\n",
              "      fill: #D2E3FC;\n",
              "    }\n",
              "\n",
              "    [theme=dark] .colab-df-convert:hover {\n",
              "      background-color: #434B5C;\n",
              "      box-shadow: 0px 1px 3px 1px rgba(0, 0, 0, 0.15);\n",
              "      filter: drop-shadow(0px 1px 2px rgba(0, 0, 0, 0.3));\n",
              "      fill: #FFFFFF;\n",
              "    }\n",
              "  </style>\n",
              "\n",
              "      <script>\n",
              "        const buttonEl =\n",
              "          document.querySelector('#df-c69e7a2b-3273-4578-b114-7038e92f0a1c button.colab-df-convert');\n",
              "        buttonEl.style.display =\n",
              "          google.colab.kernel.accessAllowed ? 'block' : 'none';\n",
              "\n",
              "        async function convertToInteractive(key) {\n",
              "          const element = document.querySelector('#df-c69e7a2b-3273-4578-b114-7038e92f0a1c');\n",
              "          const dataTable =\n",
              "            await google.colab.kernel.invokeFunction('convertToInteractive',\n",
              "                                                     [key], {});\n",
              "          if (!dataTable) return;\n",
              "\n",
              "          const docLinkHtml = 'Like what you see? Visit the ' +\n",
              "            '<a target=\"_blank\" href=https://colab.research.google.com/notebooks/data_table.ipynb>data table notebook</a>'\n",
              "            + ' to learn more about interactive tables.';\n",
              "          element.innerHTML = '';\n",
              "          dataTable['output_type'] = 'display_data';\n",
              "          await google.colab.output.renderOutput(dataTable, element);\n",
              "          const docLink = document.createElement('div');\n",
              "          docLink.innerHTML = docLinkHtml;\n",
              "          element.appendChild(docLink);\n",
              "        }\n",
              "      </script>\n",
              "    </div>\n",
              "  </div>\n",
              "  "
            ],
            "text/plain": [
              "                                formula  target\n",
              "0                       K0.6Ba0.4Fe2As2   31.20\n",
              "1             Ba1.25Ca0.4La1.25Cu3O6.98   40.10\n",
              "2                          Mo0.39Ru0.61    6.90\n",
              "3                            Tm4Sn19Os6    1.10\n",
              "4             Nd1Bi0.99Pb0.01S2O0.7F0.3    4.85\n",
              "...                                 ...     ...\n",
              "16374    Sr0.22La1.78Zn0.0025Cu0.9975O4   19.25\n",
              "16376                      Ta0.04Nb0.96    8.87\n",
              "16377  Sr2Ca0.5Ho0.5Al0.018Cu2.982Pb2O8   63.60\n",
              "16378              Ba2Yb0.5Pr0.5Cu3O6.9   34.80\n",
              "16379                            La5Si3    1.60\n",
              "\n",
              "[12415 rows x 2 columns]"
            ]
          },
          "metadata": {},
          "output_type": "display_data"
        }
      ],
      "source": [
        "# Reducing the compositions in train_df using get_reduced_composition_and_factor() from pymatgen.core.composition\n",
        "\n",
        "num_reduced_comps=[]\n",
        "reduced_comps = []\n",
        "for i in (train_df.loc[:,\"formula\"]):\n",
        "  comp = Composition(i).get_reduced_formula_and_factor()\n",
        "  reduced_comps.append(comp[0])\n",
        "  if comp[1]>1:\n",
        "    num_reduced_comps.append(comp[1])\n",
        "\n",
        "print(f\"There are {(len(num_reduced_comps))} reduced compositions\")\n",
        "\n",
        "train_df.loc[:,\"formula\"] = reduced_comps\n",
        "\n",
        "display(train_df)"
      ]
    },
    {
      "cell_type": "code",
      "execution_count": null,
      "metadata": {
        "colab": {
          "base_uri": "https://localhost:8080/",
          "height": 830
        },
        "id": "Hi9nbxSn5WPW",
        "outputId": "f94c2551-c1ef-4c45-8bc0-7f4cddc04f5f"
      },
      "outputs": [
        {
          "data": {
            "text/html": [
              "\n",
              "  <div id=\"df-36be6fbb-927b-455c-a2f5-a0174976017f\">\n",
              "    <div class=\"colab-df-container\">\n",
              "      <div>\n",
              "<style scoped>\n",
              "    .dataframe tbody tr th:only-of-type {\n",
              "        vertical-align: middle;\n",
              "    }\n",
              "\n",
              "    .dataframe tbody tr th {\n",
              "        vertical-align: top;\n",
              "    }\n",
              "\n",
              "    .dataframe thead th {\n",
              "        text-align: right;\n",
              "    }\n",
              "</style>\n",
              "<table border=\"1\" class=\"dataframe\">\n",
              "  <thead>\n",
              "    <tr style=\"text-align: right;\">\n",
              "      <th></th>\n",
              "      <th>formula</th>\n",
              "      <th>target</th>\n",
              "    </tr>\n",
              "  </thead>\n",
              "  <tbody>\n",
              "    <tr>\n",
              "      <th>0</th>\n",
              "      <td>K0.6Ba0.4Fe2As2</td>\n",
              "      <td>31.20</td>\n",
              "    </tr>\n",
              "    <tr>\n",
              "      <th>1</th>\n",
              "      <td>Ba1.25Ca0.4La1.25Cu3O6.98</td>\n",
              "      <td>40.10</td>\n",
              "    </tr>\n",
              "    <tr>\n",
              "      <th>2</th>\n",
              "      <td>Mo0.39Ru0.61</td>\n",
              "      <td>6.90</td>\n",
              "    </tr>\n",
              "    <tr>\n",
              "      <th>3</th>\n",
              "      <td>Tm4Sn19Os6</td>\n",
              "      <td>1.10</td>\n",
              "    </tr>\n",
              "    <tr>\n",
              "      <th>4</th>\n",
              "      <td>Nd1Bi0.99Pb0.01S2O0.7F0.3</td>\n",
              "      <td>4.85</td>\n",
              "    </tr>\n",
              "    <tr>\n",
              "      <th>...</th>\n",
              "      <td>...</td>\n",
              "      <td>...</td>\n",
              "    </tr>\n",
              "    <tr>\n",
              "      <th>16374</th>\n",
              "      <td>Sr0.22La1.78Zn0.0025Cu0.9975O4</td>\n",
              "      <td>19.25</td>\n",
              "    </tr>\n",
              "    <tr>\n",
              "      <th>16376</th>\n",
              "      <td>Ta0.04Nb0.96</td>\n",
              "      <td>8.87</td>\n",
              "    </tr>\n",
              "    <tr>\n",
              "      <th>16377</th>\n",
              "      <td>Sr2Ca0.5Ho0.5Al0.018Cu2.982Pb2O8</td>\n",
              "      <td>63.60</td>\n",
              "    </tr>\n",
              "    <tr>\n",
              "      <th>16378</th>\n",
              "      <td>Ba2Yb0.5Pr0.5Cu3O6.9</td>\n",
              "      <td>34.80</td>\n",
              "    </tr>\n",
              "    <tr>\n",
              "      <th>16379</th>\n",
              "      <td>La5Si3</td>\n",
              "      <td>1.60</td>\n",
              "    </tr>\n",
              "  </tbody>\n",
              "</table>\n",
              "<p>12415 rows × 2 columns</p>\n",
              "</div>\n",
              "      <button class=\"colab-df-convert\" onclick=\"convertToInteractive('df-36be6fbb-927b-455c-a2f5-a0174976017f')\"\n",
              "              title=\"Convert this dataframe to an interactive table.\"\n",
              "              style=\"display:none;\">\n",
              "        \n",
              "  <svg xmlns=\"http://www.w3.org/2000/svg\" height=\"24px\"viewBox=\"0 0 24 24\"\n",
              "       width=\"24px\">\n",
              "    <path d=\"M0 0h24v24H0V0z\" fill=\"none\"/>\n",
              "    <path d=\"M18.56 5.44l.94 2.06.94-2.06 2.06-.94-2.06-.94-.94-2.06-.94 2.06-2.06.94zm-11 1L8.5 8.5l.94-2.06 2.06-.94-2.06-.94L8.5 2.5l-.94 2.06-2.06.94zm10 10l.94 2.06.94-2.06 2.06-.94-2.06-.94-.94-2.06-.94 2.06-2.06.94z\"/><path d=\"M17.41 7.96l-1.37-1.37c-.4-.4-.92-.59-1.43-.59-.52 0-1.04.2-1.43.59L10.3 9.45l-7.72 7.72c-.78.78-.78 2.05 0 2.83L4 21.41c.39.39.9.59 1.41.59.51 0 1.02-.2 1.41-.59l7.78-7.78 2.81-2.81c.8-.78.8-2.07 0-2.86zM5.41 20L4 18.59l7.72-7.72 1.47 1.35L5.41 20z\"/>\n",
              "  </svg>\n",
              "      </button>\n",
              "      \n",
              "  <style>\n",
              "    .colab-df-container {\n",
              "      display:flex;\n",
              "      flex-wrap:wrap;\n",
              "      gap: 12px;\n",
              "    }\n",
              "\n",
              "    .colab-df-convert {\n",
              "      background-color: #E8F0FE;\n",
              "      border: none;\n",
              "      border-radius: 50%;\n",
              "      cursor: pointer;\n",
              "      display: none;\n",
              "      fill: #1967D2;\n",
              "      height: 32px;\n",
              "      padding: 0 0 0 0;\n",
              "      width: 32px;\n",
              "    }\n",
              "\n",
              "    .colab-df-convert:hover {\n",
              "      background-color: #E2EBFA;\n",
              "      box-shadow: 0px 1px 2px rgba(60, 64, 67, 0.3), 0px 1px 3px 1px rgba(60, 64, 67, 0.15);\n",
              "      fill: #174EA6;\n",
              "    }\n",
              "\n",
              "    [theme=dark] .colab-df-convert {\n",
              "      background-color: #3B4455;\n",
              "      fill: #D2E3FC;\n",
              "    }\n",
              "\n",
              "    [theme=dark] .colab-df-convert:hover {\n",
              "      background-color: #434B5C;\n",
              "      box-shadow: 0px 1px 3px 1px rgba(0, 0, 0, 0.15);\n",
              "      filter: drop-shadow(0px 1px 2px rgba(0, 0, 0, 0.3));\n",
              "      fill: #FFFFFF;\n",
              "    }\n",
              "  </style>\n",
              "\n",
              "      <script>\n",
              "        const buttonEl =\n",
              "          document.querySelector('#df-36be6fbb-927b-455c-a2f5-a0174976017f button.colab-df-convert');\n",
              "        buttonEl.style.display =\n",
              "          google.colab.kernel.accessAllowed ? 'block' : 'none';\n",
              "\n",
              "        async function convertToInteractive(key) {\n",
              "          const element = document.querySelector('#df-36be6fbb-927b-455c-a2f5-a0174976017f');\n",
              "          const dataTable =\n",
              "            await google.colab.kernel.invokeFunction('convertToInteractive',\n",
              "                                                     [key], {});\n",
              "          if (!dataTable) return;\n",
              "\n",
              "          const docLinkHtml = 'Like what you see? Visit the ' +\n",
              "            '<a target=\"_blank\" href=https://colab.research.google.com/notebooks/data_table.ipynb>data table notebook</a>'\n",
              "            + ' to learn more about interactive tables.';\n",
              "          element.innerHTML = '';\n",
              "          dataTable['output_type'] = 'display_data';\n",
              "          await google.colab.output.renderOutput(dataTable, element);\n",
              "          const docLink = document.createElement('div');\n",
              "          docLink.innerHTML = docLinkHtml;\n",
              "          element.appendChild(docLink);\n",
              "        }\n",
              "      </script>\n",
              "    </div>\n",
              "  </div>\n",
              "  "
            ],
            "text/plain": [
              "                                formula  target\n",
              "0                       K0.6Ba0.4Fe2As2   31.20\n",
              "1             Ba1.25Ca0.4La1.25Cu3O6.98   40.10\n",
              "2                          Mo0.39Ru0.61    6.90\n",
              "3                            Tm4Sn19Os6    1.10\n",
              "4             Nd1Bi0.99Pb0.01S2O0.7F0.3    4.85\n",
              "...                                 ...     ...\n",
              "16374    Sr0.22La1.78Zn0.0025Cu0.9975O4   19.25\n",
              "16376                      Ta0.04Nb0.96    8.87\n",
              "16377  Sr2Ca0.5Ho0.5Al0.018Cu2.982Pb2O8   63.60\n",
              "16378              Ba2Yb0.5Pr0.5Cu3O6.9   34.80\n",
              "16379                            La5Si3    1.60\n",
              "\n",
              "[12415 rows x 2 columns]"
            ]
          },
          "metadata": {},
          "output_type": "display_data"
        },
        {
          "data": {
            "text/html": [
              "\n",
              "  <div id=\"df-1b1e315d-6a95-46c7-9045-9a760ef89235\">\n",
              "    <div class=\"colab-df-container\">\n",
              "      <div>\n",
              "<style scoped>\n",
              "    .dataframe tbody tr th:only-of-type {\n",
              "        vertical-align: middle;\n",
              "    }\n",
              "\n",
              "    .dataframe tbody tr th {\n",
              "        vertical-align: top;\n",
              "    }\n",
              "\n",
              "    .dataframe thead th {\n",
              "        text-align: right;\n",
              "    }\n",
              "</style>\n",
              "<table border=\"1\" class=\"dataframe\">\n",
              "  <thead>\n",
              "    <tr style=\"text-align: right;\">\n",
              "      <th></th>\n",
              "      <th>formula</th>\n",
              "    </tr>\n",
              "  </thead>\n",
              "  <tbody>\n",
              "    <tr>\n",
              "      <th>0</th>\n",
              "      <td>Ac</td>\n",
              "    </tr>\n",
              "    <tr>\n",
              "      <th>1</th>\n",
              "      <td>Ac(AgO2)2</td>\n",
              "    </tr>\n",
              "    <tr>\n",
              "      <th>2</th>\n",
              "      <td>Ac(AsO2)2</td>\n",
              "    </tr>\n",
              "    <tr>\n",
              "      <th>3</th>\n",
              "      <td>Ac(AuO2)2</td>\n",
              "    </tr>\n",
              "    <tr>\n",
              "      <th>4</th>\n",
              "      <td>Ac(BO2)2</td>\n",
              "    </tr>\n",
              "    <tr>\n",
              "      <th>...</th>\n",
              "      <td>...</td>\n",
              "    </tr>\n",
              "    <tr>\n",
              "      <th>695606</th>\n",
              "      <td>ZrZnW3</td>\n",
              "    </tr>\n",
              "    <tr>\n",
              "      <th>695607</th>\n",
              "      <td>ZrZnW4</td>\n",
              "    </tr>\n",
              "    <tr>\n",
              "      <th>695608</th>\n",
              "      <td>ZrZnWAu</td>\n",
              "    </tr>\n",
              "    <tr>\n",
              "      <th>695609</th>\n",
              "      <td>ZrZnWC</td>\n",
              "    </tr>\n",
              "    <tr>\n",
              "      <th>695610</th>\n",
              "      <td>ZrZnWSe</td>\n",
              "    </tr>\n",
              "  </tbody>\n",
              "</table>\n",
              "<p>694400 rows × 1 columns</p>\n",
              "</div>\n",
              "      <button class=\"colab-df-convert\" onclick=\"convertToInteractive('df-1b1e315d-6a95-46c7-9045-9a760ef89235')\"\n",
              "              title=\"Convert this dataframe to an interactive table.\"\n",
              "              style=\"display:none;\">\n",
              "        \n",
              "  <svg xmlns=\"http://www.w3.org/2000/svg\" height=\"24px\"viewBox=\"0 0 24 24\"\n",
              "       width=\"24px\">\n",
              "    <path d=\"M0 0h24v24H0V0z\" fill=\"none\"/>\n",
              "    <path d=\"M18.56 5.44l.94 2.06.94-2.06 2.06-.94-2.06-.94-.94-2.06-.94 2.06-2.06.94zm-11 1L8.5 8.5l.94-2.06 2.06-.94-2.06-.94L8.5 2.5l-.94 2.06-2.06.94zm10 10l.94 2.06.94-2.06 2.06-.94-2.06-.94-.94-2.06-.94 2.06-2.06.94z\"/><path d=\"M17.41 7.96l-1.37-1.37c-.4-.4-.92-.59-1.43-.59-.52 0-1.04.2-1.43.59L10.3 9.45l-7.72 7.72c-.78.78-.78 2.05 0 2.83L4 21.41c.39.39.9.59 1.41.59.51 0 1.02-.2 1.41-.59l7.78-7.78 2.81-2.81c.8-.78.8-2.07 0-2.86zM5.41 20L4 18.59l7.72-7.72 1.47 1.35L5.41 20z\"/>\n",
              "  </svg>\n",
              "      </button>\n",
              "      \n",
              "  <style>\n",
              "    .colab-df-container {\n",
              "      display:flex;\n",
              "      flex-wrap:wrap;\n",
              "      gap: 12px;\n",
              "    }\n",
              "\n",
              "    .colab-df-convert {\n",
              "      background-color: #E8F0FE;\n",
              "      border: none;\n",
              "      border-radius: 50%;\n",
              "      cursor: pointer;\n",
              "      display: none;\n",
              "      fill: #1967D2;\n",
              "      height: 32px;\n",
              "      padding: 0 0 0 0;\n",
              "      width: 32px;\n",
              "    }\n",
              "\n",
              "    .colab-df-convert:hover {\n",
              "      background-color: #E2EBFA;\n",
              "      box-shadow: 0px 1px 2px rgba(60, 64, 67, 0.3), 0px 1px 3px 1px rgba(60, 64, 67, 0.15);\n",
              "      fill: #174EA6;\n",
              "    }\n",
              "\n",
              "    [theme=dark] .colab-df-convert {\n",
              "      background-color: #3B4455;\n",
              "      fill: #D2E3FC;\n",
              "    }\n",
              "\n",
              "    [theme=dark] .colab-df-convert:hover {\n",
              "      background-color: #434B5C;\n",
              "      box-shadow: 0px 1px 3px 1px rgba(0, 0, 0, 0.15);\n",
              "      filter: drop-shadow(0px 1px 2px rgba(0, 0, 0, 0.3));\n",
              "      fill: #FFFFFF;\n",
              "    }\n",
              "  </style>\n",
              "\n",
              "      <script>\n",
              "        const buttonEl =\n",
              "          document.querySelector('#df-1b1e315d-6a95-46c7-9045-9a760ef89235 button.colab-df-convert');\n",
              "        buttonEl.style.display =\n",
              "          google.colab.kernel.accessAllowed ? 'block' : 'none';\n",
              "\n",
              "        async function convertToInteractive(key) {\n",
              "          const element = document.querySelector('#df-1b1e315d-6a95-46c7-9045-9a760ef89235');\n",
              "          const dataTable =\n",
              "            await google.colab.kernel.invokeFunction('convertToInteractive',\n",
              "                                                     [key], {});\n",
              "          if (!dataTable) return;\n",
              "\n",
              "          const docLinkHtml = 'Like what you see? Visit the ' +\n",
              "            '<a target=\"_blank\" href=https://colab.research.google.com/notebooks/data_table.ipynb>data table notebook</a>'\n",
              "            + ' to learn more about interactive tables.';\n",
              "          element.innerHTML = '';\n",
              "          dataTable['output_type'] = 'display_data';\n",
              "          await google.colab.output.renderOutput(dataTable, element);\n",
              "          const docLink = document.createElement('div');\n",
              "          docLink.innerHTML = docLinkHtml;\n",
              "          element.appendChild(docLink);\n",
              "        }\n",
              "      </script>\n",
              "    </div>\n",
              "  </div>\n",
              "  "
            ],
            "text/plain": [
              "          formula\n",
              "0              Ac\n",
              "1       Ac(AgO2)2\n",
              "2       Ac(AsO2)2\n",
              "3       Ac(AuO2)2\n",
              "4        Ac(BO2)2\n",
              "...           ...\n",
              "695606     ZrZnW3\n",
              "695607     ZrZnW4\n",
              "695608    ZrZnWAu\n",
              "695609     ZrZnWC\n",
              "695610    ZrZnWSe\n",
              "\n",
              "[694400 rows x 1 columns]"
            ]
          },
          "metadata": {},
          "output_type": "display_data"
        }
      ],
      "source": [
        "# remove rows corresponding to formulas in val_df that overlap with train_df\n",
        "cond = val_df['formula'].isin(train_df['formula'])\n",
        "\n",
        "val_df.drop(val_df[cond].index, inplace = True)\n",
        "\n",
        "display(train_df)\n",
        "display(val_df)"
      ]
    },
    {
      "cell_type": "code",
      "execution_count": null,
      "metadata": {
        "colab": {
          "base_uri": "https://localhost:8080/",
          "height": 424
        },
        "id": "YxGx_fnV5Wr1",
        "outputId": "57f01cfc-6a3d-43dc-845f-ea3c97eadd1e"
      },
      "outputs": [
        {
          "data": {
            "text/html": [
              "\n",
              "  <div id=\"df-31c7b154-20f8-4d83-a217-73311ad19b2c\">\n",
              "    <div class=\"colab-df-container\">\n",
              "      <div>\n",
              "<style scoped>\n",
              "    .dataframe tbody tr th:only-of-type {\n",
              "        vertical-align: middle;\n",
              "    }\n",
              "\n",
              "    .dataframe tbody tr th {\n",
              "        vertical-align: top;\n",
              "    }\n",
              "\n",
              "    .dataframe thead th {\n",
              "        text-align: right;\n",
              "    }\n",
              "</style>\n",
              "<table border=\"1\" class=\"dataframe\">\n",
              "  <thead>\n",
              "    <tr style=\"text-align: right;\">\n",
              "      <th></th>\n",
              "      <th>formula</th>\n",
              "    </tr>\n",
              "  </thead>\n",
              "  <tbody>\n",
              "    <tr>\n",
              "      <th>0</th>\n",
              "      <td>Ac</td>\n",
              "    </tr>\n",
              "    <tr>\n",
              "      <th>1</th>\n",
              "      <td>Ac(AgO2)2</td>\n",
              "    </tr>\n",
              "    <tr>\n",
              "      <th>2</th>\n",
              "      <td>Ac(AsO2)2</td>\n",
              "    </tr>\n",
              "    <tr>\n",
              "      <th>3</th>\n",
              "      <td>Ac(AuO2)2</td>\n",
              "    </tr>\n",
              "    <tr>\n",
              "      <th>4</th>\n",
              "      <td>Ac(BO2)2</td>\n",
              "    </tr>\n",
              "    <tr>\n",
              "      <th>...</th>\n",
              "      <td>...</td>\n",
              "    </tr>\n",
              "    <tr>\n",
              "      <th>695606</th>\n",
              "      <td>ZrZnW3</td>\n",
              "    </tr>\n",
              "    <tr>\n",
              "      <th>695607</th>\n",
              "      <td>ZrZnW4</td>\n",
              "    </tr>\n",
              "    <tr>\n",
              "      <th>695608</th>\n",
              "      <td>ZrZnWAu</td>\n",
              "    </tr>\n",
              "    <tr>\n",
              "      <th>695609</th>\n",
              "      <td>ZrZnWC</td>\n",
              "    </tr>\n",
              "    <tr>\n",
              "      <th>695610</th>\n",
              "      <td>ZrZnWSe</td>\n",
              "    </tr>\n",
              "  </tbody>\n",
              "</table>\n",
              "<p>694398 rows × 1 columns</p>\n",
              "</div>\n",
              "      <button class=\"colab-df-convert\" onclick=\"convertToInteractive('df-31c7b154-20f8-4d83-a217-73311ad19b2c')\"\n",
              "              title=\"Convert this dataframe to an interactive table.\"\n",
              "              style=\"display:none;\">\n",
              "        \n",
              "  <svg xmlns=\"http://www.w3.org/2000/svg\" height=\"24px\"viewBox=\"0 0 24 24\"\n",
              "       width=\"24px\">\n",
              "    <path d=\"M0 0h24v24H0V0z\" fill=\"none\"/>\n",
              "    <path d=\"M18.56 5.44l.94 2.06.94-2.06 2.06-.94-2.06-.94-.94-2.06-.94 2.06-2.06.94zm-11 1L8.5 8.5l.94-2.06 2.06-.94-2.06-.94L8.5 2.5l-.94 2.06-2.06.94zm10 10l.94 2.06.94-2.06 2.06-.94-2.06-.94-.94-2.06-.94 2.06-2.06.94z\"/><path d=\"M17.41 7.96l-1.37-1.37c-.4-.4-.92-.59-1.43-.59-.52 0-1.04.2-1.43.59L10.3 9.45l-7.72 7.72c-.78.78-.78 2.05 0 2.83L4 21.41c.39.39.9.59 1.41.59.51 0 1.02-.2 1.41-.59l7.78-7.78 2.81-2.81c.8-.78.8-2.07 0-2.86zM5.41 20L4 18.59l7.72-7.72 1.47 1.35L5.41 20z\"/>\n",
              "  </svg>\n",
              "      </button>\n",
              "      \n",
              "  <style>\n",
              "    .colab-df-container {\n",
              "      display:flex;\n",
              "      flex-wrap:wrap;\n",
              "      gap: 12px;\n",
              "    }\n",
              "\n",
              "    .colab-df-convert {\n",
              "      background-color: #E8F0FE;\n",
              "      border: none;\n",
              "      border-radius: 50%;\n",
              "      cursor: pointer;\n",
              "      display: none;\n",
              "      fill: #1967D2;\n",
              "      height: 32px;\n",
              "      padding: 0 0 0 0;\n",
              "      width: 32px;\n",
              "    }\n",
              "\n",
              "    .colab-df-convert:hover {\n",
              "      background-color: #E2EBFA;\n",
              "      box-shadow: 0px 1px 2px rgba(60, 64, 67, 0.3), 0px 1px 3px 1px rgba(60, 64, 67, 0.15);\n",
              "      fill: #174EA6;\n",
              "    }\n",
              "\n",
              "    [theme=dark] .colab-df-convert {\n",
              "      background-color: #3B4455;\n",
              "      fill: #D2E3FC;\n",
              "    }\n",
              "\n",
              "    [theme=dark] .colab-df-convert:hover {\n",
              "      background-color: #434B5C;\n",
              "      box-shadow: 0px 1px 3px 1px rgba(0, 0, 0, 0.15);\n",
              "      filter: drop-shadow(0px 1px 2px rgba(0, 0, 0, 0.3));\n",
              "      fill: #FFFFFF;\n",
              "    }\n",
              "  </style>\n",
              "\n",
              "      <script>\n",
              "        const buttonEl =\n",
              "          document.querySelector('#df-31c7b154-20f8-4d83-a217-73311ad19b2c button.colab-df-convert');\n",
              "        buttonEl.style.display =\n",
              "          google.colab.kernel.accessAllowed ? 'block' : 'none';\n",
              "\n",
              "        async function convertToInteractive(key) {\n",
              "          const element = document.querySelector('#df-31c7b154-20f8-4d83-a217-73311ad19b2c');\n",
              "          const dataTable =\n",
              "            await google.colab.kernel.invokeFunction('convertToInteractive',\n",
              "                                                     [key], {});\n",
              "          if (!dataTable) return;\n",
              "\n",
              "          const docLinkHtml = 'Like what you see? Visit the ' +\n",
              "            '<a target=\"_blank\" href=https://colab.research.google.com/notebooks/data_table.ipynb>data table notebook</a>'\n",
              "            + ' to learn more about interactive tables.';\n",
              "          element.innerHTML = '';\n",
              "          dataTable['output_type'] = 'display_data';\n",
              "          await google.colab.output.renderOutput(dataTable, element);\n",
              "          const docLink = document.createElement('div');\n",
              "          docLink.innerHTML = docLinkHtml;\n",
              "          element.appendChild(docLink);\n",
              "        }\n",
              "      </script>\n",
              "    </div>\n",
              "  </div>\n",
              "  "
            ],
            "text/plain": [
              "          formula\n",
              "0              Ac\n",
              "1       Ac(AgO2)2\n",
              "2       Ac(AsO2)2\n",
              "3       Ac(AuO2)2\n",
              "4        Ac(BO2)2\n",
              "...           ...\n",
              "695606     ZrZnW3\n",
              "695607     ZrZnW4\n",
              "695608    ZrZnWAu\n",
              "695609     ZrZnWC\n",
              "695610    ZrZnWSe\n",
              "\n",
              "[694398 rows x 1 columns]"
            ]
          },
          "metadata": {},
          "output_type": "display_data"
        }
      ],
      "source": [
        "# Drop NaNs in val_df and random formula named Zircaloy\n",
        "val_df = val_df.dropna()\n",
        "val_df = val_df[val_df[\"formula\"].str.contains(\"Zircaloy\") == False]\n",
        "  \n",
        "\n",
        "display(val_df)\n"
      ]
    },
    {
      "cell_type": "markdown",
      "metadata": {
        "id": "I-n_xwub8pdZ"
      },
      "source": [
        "#**Check validity of formulas in `train_df` and `val_df` using SMACT**"
      ]
    },
    {
      "cell_type": "code",
      "execution_count": null,
      "metadata": {
        "id": "aSqOC3-Q9dwG"
      },
      "outputs": [],
      "source": [
        "#define smact function\n",
        "\n",
        "def smact_validity(comp, count,\n",
        "                   use_pauling_test=True,\n",
        "                   include_alloys=True):\n",
        "    global compositions\n",
        "    space = smact.element_dictionary(comp)\n",
        "    smact_elems = [e[1] for e in space.items()]\n",
        "    electronegs = [e.pauling_eneg for e in smact_elems]\n",
        "    ox_combos = [e.oxidation_states for e in smact_elems]\n",
        "    if len(set(comp)) == 1:\n",
        "        return True\n",
        "    if include_alloys:\n",
        "        is_metal_list = [elem_s in smact.metals for elem_s in comp]\n",
        "        if all(is_metal_list):\n",
        "            return True\n",
        "\n",
        "    threshold = np.max(count)\n",
        "    compositions = []\n",
        "    for ox_states in itertools.product(*ox_combos):\n",
        "        stoichs = [(c,) for c in count]\n",
        "        # Test for charge balance\n",
        "        cn_e, cn_r = smact.neutral_ratios(\n",
        "            ox_states, stoichs=stoichs, threshold=threshold)\n",
        "        # Electronegativity test\n",
        "        if cn_e:\n",
        "            if use_pauling_test:\n",
        "                try:\n",
        "                    electroneg_OK = pauling_test(ox_states, electronegs)\n",
        "                except TypeError:\n",
        "                    # if no electronegativity data, assume it is okay\n",
        "                    electroneg_OK = True\n",
        "            else:\n",
        "                electroneg_OK = True\n",
        "            if electroneg_OK:\n",
        "                for ratio in cn_r:\n",
        "                    compositions.append(\n",
        "                        tuple([comp, ox_states, ratio]))\n",
        "    compositions = [(i[0], i[2]) for i in compositions]\n",
        "    compositions = list(set(compositions))\n",
        "    if len(compositions) > 0:\n",
        "        return True\n",
        "    else:\n",
        "        return False\n"
      ]
    },
    {
      "cell_type": "markdown",
      "metadata": {
        "id": "CH26_A4hOrlq"
      },
      "source": [
        "**First with `train_df`**\n",
        "\n",
        "*   Formulas with floats for subscripts are computed into whole integers ex. `'Ta0.25Nb0.75'` is changed to `Ta1Nb3`\n",
        "\n"
      ]
    },
    {
      "cell_type": "code",
      "execution_count": null,
      "metadata": {
        "id": "WjrGCwwyOxJe"
      },
      "outputs": [],
      "source": [
        "vals2 = []\n",
        "for i in train_df['formula']:\n",
        "  form_dict = Composition(i).to_reduced_dict\n",
        "\n",
        "  comp = tuple(form_dict.keys())\n",
        "\n",
        "  count = list(form_dict.values())\n",
        "\n",
        "  #find least common multiple to get count as a tuple of ints\n",
        "  denom_list = [(Fraction(x).limit_denominator()).denominator for x in count]\n",
        "  lcm = functools.reduce(lambda a,b: a*b//math.gcd(a,b), denom_list)\n",
        "\n",
        "  count_list= []\n",
        "  for i in count:\n",
        "    count_list.append(int(i*lcm))\n",
        "\n",
        "  count = tuple(count_list)\n",
        "  \n",
        "  #vals2 is a list of Boolean corresponding to each formula's validity\n",
        "  vals2.append(smact_validity(comp, count))"
      ]
    },
    {
      "cell_type": "code",
      "execution_count": null,
      "metadata": {
        "colab": {
          "base_uri": "https://localhost:8080/",
          "height": 562
        },
        "id": "WTX3UinXbyuR",
        "outputId": "34abf492-6922-4dcc-ab74-54a3c27115c6"
      },
      "outputs": [
        {
          "name": "stderr",
          "output_type": "stream",
          "text": [
            "/usr/local/lib/python3.7/dist-packages/ipykernel_launcher.py:4: SettingWithCopyWarning:\n",
            "\n",
            "\n",
            "A value is trying to be set on a copy of a slice from a DataFrame.\n",
            "Try using .loc[row_indexer,col_indexer] = value instead\n",
            "\n",
            "See the caveats in the documentation: https://pandas.pydata.org/pandas-docs/stable/user_guide/indexing.html#returning-a-view-versus-a-copy\n",
            "\n"
          ]
        },
        {
          "data": {
            "text/html": [
              "\n",
              "  <div id=\"df-4c27ee66-3f33-4abb-ad18-cdeef1443cb8\">\n",
              "    <div class=\"colab-df-container\">\n",
              "      <div>\n",
              "<style scoped>\n",
              "    .dataframe tbody tr th:only-of-type {\n",
              "        vertical-align: middle;\n",
              "    }\n",
              "\n",
              "    .dataframe tbody tr th {\n",
              "        vertical-align: top;\n",
              "    }\n",
              "\n",
              "    .dataframe thead th {\n",
              "        text-align: right;\n",
              "    }\n",
              "</style>\n",
              "<table border=\"1\" class=\"dataframe\">\n",
              "  <thead>\n",
              "    <tr style=\"text-align: right;\">\n",
              "      <th></th>\n",
              "      <th>formula</th>\n",
              "      <th>target</th>\n",
              "      <th>is_valid</th>\n",
              "    </tr>\n",
              "  </thead>\n",
              "  <tbody>\n",
              "    <tr>\n",
              "      <th>0</th>\n",
              "      <td>K0.6Ba0.4Fe2As2</td>\n",
              "      <td>31.20</td>\n",
              "      <td>False</td>\n",
              "    </tr>\n",
              "    <tr>\n",
              "      <th>1</th>\n",
              "      <td>Ba1.25Ca0.4La1.25Cu3O6.98</td>\n",
              "      <td>40.10</td>\n",
              "      <td>False</td>\n",
              "    </tr>\n",
              "    <tr>\n",
              "      <th>2</th>\n",
              "      <td>Mo0.39Ru0.61</td>\n",
              "      <td>6.90</td>\n",
              "      <td>True</td>\n",
              "    </tr>\n",
              "    <tr>\n",
              "      <th>3</th>\n",
              "      <td>Tm4Sn19Os6</td>\n",
              "      <td>1.10</td>\n",
              "      <td>True</td>\n",
              "    </tr>\n",
              "    <tr>\n",
              "      <th>4</th>\n",
              "      <td>Nd1Bi0.99Pb0.01S2O0.7F0.3</td>\n",
              "      <td>4.85</td>\n",
              "      <td>False</td>\n",
              "    </tr>\n",
              "    <tr>\n",
              "      <th>...</th>\n",
              "      <td>...</td>\n",
              "      <td>...</td>\n",
              "      <td>...</td>\n",
              "    </tr>\n",
              "    <tr>\n",
              "      <th>16374</th>\n",
              "      <td>Sr0.22La1.78Zn0.0025Cu0.9975O4</td>\n",
              "      <td>19.25</td>\n",
              "      <td>False</td>\n",
              "    </tr>\n",
              "    <tr>\n",
              "      <th>16376</th>\n",
              "      <td>Ta0.04Nb0.96</td>\n",
              "      <td>8.87</td>\n",
              "      <td>True</td>\n",
              "    </tr>\n",
              "    <tr>\n",
              "      <th>16377</th>\n",
              "      <td>Sr2Ca0.5Ho0.5Al0.018Cu2.982Pb2O8</td>\n",
              "      <td>63.60</td>\n",
              "      <td>True</td>\n",
              "    </tr>\n",
              "    <tr>\n",
              "      <th>16378</th>\n",
              "      <td>Ba2Yb0.5Pr0.5Cu3O6.9</td>\n",
              "      <td>34.80</td>\n",
              "      <td>False</td>\n",
              "    </tr>\n",
              "    <tr>\n",
              "      <th>16379</th>\n",
              "      <td>La5Si3</td>\n",
              "      <td>1.60</td>\n",
              "      <td>False</td>\n",
              "    </tr>\n",
              "  </tbody>\n",
              "</table>\n",
              "<p>12415 rows × 3 columns</p>\n",
              "</div>\n",
              "      <button class=\"colab-df-convert\" onclick=\"convertToInteractive('df-4c27ee66-3f33-4abb-ad18-cdeef1443cb8')\"\n",
              "              title=\"Convert this dataframe to an interactive table.\"\n",
              "              style=\"display:none;\">\n",
              "        \n",
              "  <svg xmlns=\"http://www.w3.org/2000/svg\" height=\"24px\"viewBox=\"0 0 24 24\"\n",
              "       width=\"24px\">\n",
              "    <path d=\"M0 0h24v24H0V0z\" fill=\"none\"/>\n",
              "    <path d=\"M18.56 5.44l.94 2.06.94-2.06 2.06-.94-2.06-.94-.94-2.06-.94 2.06-2.06.94zm-11 1L8.5 8.5l.94-2.06 2.06-.94-2.06-.94L8.5 2.5l-.94 2.06-2.06.94zm10 10l.94 2.06.94-2.06 2.06-.94-2.06-.94-.94-2.06-.94 2.06-2.06.94z\"/><path d=\"M17.41 7.96l-1.37-1.37c-.4-.4-.92-.59-1.43-.59-.52 0-1.04.2-1.43.59L10.3 9.45l-7.72 7.72c-.78.78-.78 2.05 0 2.83L4 21.41c.39.39.9.59 1.41.59.51 0 1.02-.2 1.41-.59l7.78-7.78 2.81-2.81c.8-.78.8-2.07 0-2.86zM5.41 20L4 18.59l7.72-7.72 1.47 1.35L5.41 20z\"/>\n",
              "  </svg>\n",
              "      </button>\n",
              "      \n",
              "  <style>\n",
              "    .colab-df-container {\n",
              "      display:flex;\n",
              "      flex-wrap:wrap;\n",
              "      gap: 12px;\n",
              "    }\n",
              "\n",
              "    .colab-df-convert {\n",
              "      background-color: #E8F0FE;\n",
              "      border: none;\n",
              "      border-radius: 50%;\n",
              "      cursor: pointer;\n",
              "      display: none;\n",
              "      fill: #1967D2;\n",
              "      height: 32px;\n",
              "      padding: 0 0 0 0;\n",
              "      width: 32px;\n",
              "    }\n",
              "\n",
              "    .colab-df-convert:hover {\n",
              "      background-color: #E2EBFA;\n",
              "      box-shadow: 0px 1px 2px rgba(60, 64, 67, 0.3), 0px 1px 3px 1px rgba(60, 64, 67, 0.15);\n",
              "      fill: #174EA6;\n",
              "    }\n",
              "\n",
              "    [theme=dark] .colab-df-convert {\n",
              "      background-color: #3B4455;\n",
              "      fill: #D2E3FC;\n",
              "    }\n",
              "\n",
              "    [theme=dark] .colab-df-convert:hover {\n",
              "      background-color: #434B5C;\n",
              "      box-shadow: 0px 1px 3px 1px rgba(0, 0, 0, 0.15);\n",
              "      filter: drop-shadow(0px 1px 2px rgba(0, 0, 0, 0.3));\n",
              "      fill: #FFFFFF;\n",
              "    }\n",
              "  </style>\n",
              "\n",
              "      <script>\n",
              "        const buttonEl =\n",
              "          document.querySelector('#df-4c27ee66-3f33-4abb-ad18-cdeef1443cb8 button.colab-df-convert');\n",
              "        buttonEl.style.display =\n",
              "          google.colab.kernel.accessAllowed ? 'block' : 'none';\n",
              "\n",
              "        async function convertToInteractive(key) {\n",
              "          const element = document.querySelector('#df-4c27ee66-3f33-4abb-ad18-cdeef1443cb8');\n",
              "          const dataTable =\n",
              "            await google.colab.kernel.invokeFunction('convertToInteractive',\n",
              "                                                     [key], {});\n",
              "          if (!dataTable) return;\n",
              "\n",
              "          const docLinkHtml = 'Like what you see? Visit the ' +\n",
              "            '<a target=\"_blank\" href=https://colab.research.google.com/notebooks/data_table.ipynb>data table notebook</a>'\n",
              "            + ' to learn more about interactive tables.';\n",
              "          element.innerHTML = '';\n",
              "          dataTable['output_type'] = 'display_data';\n",
              "          await google.colab.output.renderOutput(dataTable, element);\n",
              "          const docLink = document.createElement('div');\n",
              "          docLink.innerHTML = docLinkHtml;\n",
              "          element.appendChild(docLink);\n",
              "        }\n",
              "      </script>\n",
              "    </div>\n",
              "  </div>\n",
              "  "
            ],
            "text/plain": [
              "                                formula  target  is_valid\n",
              "0                       K0.6Ba0.4Fe2As2   31.20     False\n",
              "1             Ba1.25Ca0.4La1.25Cu3O6.98   40.10     False\n",
              "2                          Mo0.39Ru0.61    6.90      True\n",
              "3                            Tm4Sn19Os6    1.10      True\n",
              "4             Nd1Bi0.99Pb0.01S2O0.7F0.3    4.85     False\n",
              "...                                 ...     ...       ...\n",
              "16374    Sr0.22La1.78Zn0.0025Cu0.9975O4   19.25     False\n",
              "16376                      Ta0.04Nb0.96    8.87      True\n",
              "16377  Sr2Ca0.5Ho0.5Al0.018Cu2.982Pb2O8   63.60      True\n",
              "16378              Ba2Yb0.5Pr0.5Cu3O6.9   34.80     False\n",
              "16379                            La5Si3    1.60     False\n",
              "\n",
              "[12415 rows x 3 columns]"
            ]
          },
          "execution_count": 10,
          "metadata": {},
          "output_type": "execute_result"
        }
      ],
      "source": [
        "### 6730/12415 formulas are valid (54%)\n",
        "### append Boolean vals to train_df\n",
        "\n",
        "train_df['is_valid'] = vals2\n",
        "train_df"
      ]
    },
    {
      "cell_type": "markdown",
      "metadata": {
        "id": "UmmbwiVmOoEX"
      },
      "source": [
        "**Then with `val_df`**\n",
        "\n",
        "*   Subscripts are already whole numbers\n",
        "*   Takes ~15 minutes running on a GPU since there are a lot of formulas"
      ]
    },
    {
      "cell_type": "code",
      "execution_count": null,
      "metadata": {
        "colab": {
          "background_save": true
        },
        "id": "-Wz7kT-688PX"
      },
      "outputs": [],
      "source": [
        "vals = []\n",
        "for i in val_df['formula']:\n",
        "  form_dict = Composition(i).to_reduced_dict\n",
        "\n",
        "  comp = tuple(form_dict.keys())\n",
        "\n",
        "  lyst = list(form_dict.values())\n",
        "  lyst = [int(x) for x in lyst]\n",
        "  count = tuple(lyst)\n",
        "\n",
        "  vals.append(smact_validity(comp, count))\n",
        "\n"
      ]
    },
    {
      "cell_type": "code",
      "execution_count": null,
      "metadata": {
        "colab": {
          "background_save": true
        },
        "id": "adtaW1P9bdUc",
        "outputId": "7e7952b0-62bb-4cb3-c262-ad417e97bbc1"
      },
      "outputs": [
        {
          "data": {
            "text/html": [
              "\n",
              "  <div id=\"df-e566f98d-0a26-48ef-8fe6-cc7fda94410a\">\n",
              "    <div class=\"colab-df-container\">\n",
              "      <div>\n",
              "<style scoped>\n",
              "    .dataframe tbody tr th:only-of-type {\n",
              "        vertical-align: middle;\n",
              "    }\n",
              "\n",
              "    .dataframe tbody tr th {\n",
              "        vertical-align: top;\n",
              "    }\n",
              "\n",
              "    .dataframe thead th {\n",
              "        text-align: right;\n",
              "    }\n",
              "</style>\n",
              "<table border=\"1\" class=\"dataframe\">\n",
              "  <thead>\n",
              "    <tr style=\"text-align: right;\">\n",
              "      <th></th>\n",
              "      <th>formula</th>\n",
              "      <th>is_valid</th>\n",
              "    </tr>\n",
              "  </thead>\n",
              "  <tbody>\n",
              "    <tr>\n",
              "      <th>0</th>\n",
              "      <td>Ac</td>\n",
              "      <td>True</td>\n",
              "    </tr>\n",
              "    <tr>\n",
              "      <th>1</th>\n",
              "      <td>Ac(AgO2)2</td>\n",
              "      <td>True</td>\n",
              "    </tr>\n",
              "    <tr>\n",
              "      <th>2</th>\n",
              "      <td>Ac(AsO2)2</td>\n",
              "      <td>True</td>\n",
              "    </tr>\n",
              "    <tr>\n",
              "      <th>3</th>\n",
              "      <td>Ac(AuO2)2</td>\n",
              "      <td>True</td>\n",
              "    </tr>\n",
              "    <tr>\n",
              "      <th>4</th>\n",
              "      <td>Ac(BO2)2</td>\n",
              "      <td>True</td>\n",
              "    </tr>\n",
              "    <tr>\n",
              "      <th>...</th>\n",
              "      <td>...</td>\n",
              "      <td>...</td>\n",
              "    </tr>\n",
              "    <tr>\n",
              "      <th>695606</th>\n",
              "      <td>ZrZnW3</td>\n",
              "      <td>True</td>\n",
              "    </tr>\n",
              "    <tr>\n",
              "      <th>695607</th>\n",
              "      <td>ZrZnW4</td>\n",
              "      <td>True</td>\n",
              "    </tr>\n",
              "    <tr>\n",
              "      <th>695608</th>\n",
              "      <td>ZrZnWAu</td>\n",
              "      <td>True</td>\n",
              "    </tr>\n",
              "    <tr>\n",
              "      <th>695609</th>\n",
              "      <td>ZrZnWC</td>\n",
              "      <td>True</td>\n",
              "    </tr>\n",
              "    <tr>\n",
              "      <th>695610</th>\n",
              "      <td>ZrZnWSe</td>\n",
              "      <td>True</td>\n",
              "    </tr>\n",
              "  </tbody>\n",
              "</table>\n",
              "<p>694398 rows × 2 columns</p>\n",
              "</div>\n",
              "      <button class=\"colab-df-convert\" onclick=\"convertToInteractive('df-e566f98d-0a26-48ef-8fe6-cc7fda94410a')\"\n",
              "              title=\"Convert this dataframe to an interactive table.\"\n",
              "              style=\"display:none;\">\n",
              "        \n",
              "  <svg xmlns=\"http://www.w3.org/2000/svg\" height=\"24px\"viewBox=\"0 0 24 24\"\n",
              "       width=\"24px\">\n",
              "    <path d=\"M0 0h24v24H0V0z\" fill=\"none\"/>\n",
              "    <path d=\"M18.56 5.44l.94 2.06.94-2.06 2.06-.94-2.06-.94-.94-2.06-.94 2.06-2.06.94zm-11 1L8.5 8.5l.94-2.06 2.06-.94-2.06-.94L8.5 2.5l-.94 2.06-2.06.94zm10 10l.94 2.06.94-2.06 2.06-.94-2.06-.94-.94-2.06-.94 2.06-2.06.94z\"/><path d=\"M17.41 7.96l-1.37-1.37c-.4-.4-.92-.59-1.43-.59-.52 0-1.04.2-1.43.59L10.3 9.45l-7.72 7.72c-.78.78-.78 2.05 0 2.83L4 21.41c.39.39.9.59 1.41.59.51 0 1.02-.2 1.41-.59l7.78-7.78 2.81-2.81c.8-.78.8-2.07 0-2.86zM5.41 20L4 18.59l7.72-7.72 1.47 1.35L5.41 20z\"/>\n",
              "  </svg>\n",
              "      </button>\n",
              "      \n",
              "  <style>\n",
              "    .colab-df-container {\n",
              "      display:flex;\n",
              "      flex-wrap:wrap;\n",
              "      gap: 12px;\n",
              "    }\n",
              "\n",
              "    .colab-df-convert {\n",
              "      background-color: #E8F0FE;\n",
              "      border: none;\n",
              "      border-radius: 50%;\n",
              "      cursor: pointer;\n",
              "      display: none;\n",
              "      fill: #1967D2;\n",
              "      height: 32px;\n",
              "      padding: 0 0 0 0;\n",
              "      width: 32px;\n",
              "    }\n",
              "\n",
              "    .colab-df-convert:hover {\n",
              "      background-color: #E2EBFA;\n",
              "      box-shadow: 0px 1px 2px rgba(60, 64, 67, 0.3), 0px 1px 3px 1px rgba(60, 64, 67, 0.15);\n",
              "      fill: #174EA6;\n",
              "    }\n",
              "\n",
              "    [theme=dark] .colab-df-convert {\n",
              "      background-color: #3B4455;\n",
              "      fill: #D2E3FC;\n",
              "    }\n",
              "\n",
              "    [theme=dark] .colab-df-convert:hover {\n",
              "      background-color: #434B5C;\n",
              "      box-shadow: 0px 1px 3px 1px rgba(0, 0, 0, 0.15);\n",
              "      filter: drop-shadow(0px 1px 2px rgba(0, 0, 0, 0.3));\n",
              "      fill: #FFFFFF;\n",
              "    }\n",
              "  </style>\n",
              "\n",
              "      <script>\n",
              "        const buttonEl =\n",
              "          document.querySelector('#df-e566f98d-0a26-48ef-8fe6-cc7fda94410a button.colab-df-convert');\n",
              "        buttonEl.style.display =\n",
              "          google.colab.kernel.accessAllowed ? 'block' : 'none';\n",
              "\n",
              "        async function convertToInteractive(key) {\n",
              "          const element = document.querySelector('#df-e566f98d-0a26-48ef-8fe6-cc7fda94410a');\n",
              "          const dataTable =\n",
              "            await google.colab.kernel.invokeFunction('convertToInteractive',\n",
              "                                                     [key], {});\n",
              "          if (!dataTable) return;\n",
              "\n",
              "          const docLinkHtml = 'Like what you see? Visit the ' +\n",
              "            '<a target=\"_blank\" href=https://colab.research.google.com/notebooks/data_table.ipynb>data table notebook</a>'\n",
              "            + ' to learn more about interactive tables.';\n",
              "          element.innerHTML = '';\n",
              "          dataTable['output_type'] = 'display_data';\n",
              "          await google.colab.output.renderOutput(dataTable, element);\n",
              "          const docLink = document.createElement('div');\n",
              "          docLink.innerHTML = docLinkHtml;\n",
              "          element.appendChild(docLink);\n",
              "        }\n",
              "      </script>\n",
              "    </div>\n",
              "  </div>\n",
              "  "
            ],
            "text/plain": [
              "          formula  is_valid\n",
              "0              Ac      True\n",
              "1       Ac(AgO2)2      True\n",
              "2       Ac(AsO2)2      True\n",
              "3       Ac(AuO2)2      True\n",
              "4        Ac(BO2)2      True\n",
              "...           ...       ...\n",
              "695606     ZrZnW3      True\n",
              "695607     ZrZnW4      True\n",
              "695608    ZrZnWAu      True\n",
              "695609     ZrZnWC      True\n",
              "695610    ZrZnWSe      True\n",
              "\n",
              "[694398 rows x 2 columns]"
            ]
          },
          "execution_count": 12,
          "metadata": {},
          "output_type": "execute_result"
        }
      ],
      "source": [
        "### 544383/694398 formulas are valid (78.3964%)\n",
        "### append Boolean vals to val_df\n",
        "\n",
        "val_df['is_valid'] = vals\n",
        "val_df"
      ]
    },
    {
      "cell_type": "markdown",
      "metadata": {
        "id": "a_X0LZQzmfWI"
      },
      "source": [
        "#**Train dummy model and DiSCoVeR model**"
      ]
    },
    {
      "cell_type": "markdown",
      "metadata": {
        "id": "WY6RC_191XH4"
      },
      "source": [
        "**First set up and test on a dummy regressor (using mat2vec as the CBFV) and calculate error metrics**\n"
      ]
    },
    {
      "cell_type": "code",
      "execution_count": null,
      "metadata": {
        "colab": {
          "base_uri": "https://localhost:8080/"
        },
        "id": "J3zln-yh1Wn1",
        "outputId": "247291b2-8b4b-46b7-8f47-fd452a9bcc8e"
      },
      "outputs": [
        {
          "name": "stderr",
          "output_type": "stream",
          "text": [
            "Processing Input Data: 100%|██████████| 12415/12415 [00:00<00:00, 18670.43it/s]\n"
          ]
        },
        {
          "name": "stdout",
          "output_type": "stream",
          "text": [
            "\tFeaturizing Compositions...\n"
          ]
        },
        {
          "name": "stderr",
          "output_type": "stream",
          "text": [
            "Assigning Features...: 100%|██████████| 12415/12415 [00:01<00:00, 8575.49it/s]\n"
          ]
        },
        {
          "name": "stdout",
          "output_type": "stream",
          "text": [
            "\tCreating Pandas Objects...\n",
            "MAE on Dummy Regressor: 22.665175674489305\n"
          ]
        }
      ],
      "source": [
        "X,y,formulae,skipped=composition.generate_features(train_df,elem_prop='mat2vec')\n",
        "\n",
        "dummy_regr = DummyRegressor(strategy=\"mean\")\n",
        "dummy_regr.fit(X, y)\n",
        "y_pred = dummy_regr.predict(X)\n",
        "\n",
        "print(f\"MAE on Dummy Regressor: {mean_absolute_error(y, y_pred)}\")\n",
        "# print(f\"MSE on Dummy Regressor: {mean_squared_error(y, y_pred)}\")\n",
        "# print(f\"R squared on Dummy Regressor: {r2_score(y, y_pred)}\")\n",
        "\n"
      ]
    },
    {
      "cell_type": "markdown",
      "metadata": {
        "id": "ePUZ10i6nlEu"
      },
      "source": [
        "**Next set up DiSCoVeR model**"
      ]
    },
    {
      "cell_type": "code",
      "execution_count": null,
      "metadata": {
        "id": "xqXIUwKL4WFA"
      },
      "outputs": [],
      "source": [
        "# initialize DiSCoVeR model\n",
        "\n",
        "disc = Discover(hdbscan_kwargs=dict(min_samples=1, min_cluster_size=225), use_plotly_offline=False, target_unit=\"Tc\", dist_device=\"cuda\")\n",
        "# disc = Discover(hdbscan_kwargs=dict(min_samples=1, min_cluster_size=256), use_plotly_offline=False, target_unit=\"Tc\", dist_device=\"cpu\")"
      ]
    },
    {
      "cell_type": "code",
      "execution_count": null,
      "metadata": {
        "colab": {
          "base_uri": "https://localhost:8080/",
          "height": 830
        },
        "id": "cp6qKu9D5WzH",
        "outputId": "7e0a121f-16ab-4e2d-d571-d1d0dc7ce683"
      },
      "outputs": [
        {
          "data": {
            "text/html": [
              "\n",
              "  <div id=\"df-0fe521ed-f3a3-4aa2-b518-f840ce36fc8e\">\n",
              "    <div class=\"colab-df-container\">\n",
              "      <div>\n",
              "<style scoped>\n",
              "    .dataframe tbody tr th:only-of-type {\n",
              "        vertical-align: middle;\n",
              "    }\n",
              "\n",
              "    .dataframe tbody tr th {\n",
              "        vertical-align: top;\n",
              "    }\n",
              "\n",
              "    .dataframe thead th {\n",
              "        text-align: right;\n",
              "    }\n",
              "</style>\n",
              "<table border=\"1\" class=\"dataframe\">\n",
              "  <thead>\n",
              "    <tr style=\"text-align: right;\">\n",
              "      <th></th>\n",
              "      <th>formula</th>\n",
              "      <th>target</th>\n",
              "      <th>is_valid</th>\n",
              "    </tr>\n",
              "  </thead>\n",
              "  <tbody>\n",
              "    <tr>\n",
              "      <th>9573</th>\n",
              "      <td>Nb0.86Rh1.04</td>\n",
              "      <td>3.76</td>\n",
              "      <td>True</td>\n",
              "    </tr>\n",
              "    <tr>\n",
              "      <th>3127</th>\n",
              "      <td>Mg0.9Zn0.1Ni3C1</td>\n",
              "      <td>4.50</td>\n",
              "      <td>True</td>\n",
              "    </tr>\n",
              "    <tr>\n",
              "      <th>13657</th>\n",
              "      <td>Zr0.5Nb3In0.5</td>\n",
              "      <td>6.40</td>\n",
              "      <td>True</td>\n",
              "    </tr>\n",
              "    <tr>\n",
              "      <th>5417</th>\n",
              "      <td>Sm1Fe0.92Ni0.08As1O1</td>\n",
              "      <td>6.00</td>\n",
              "      <td>True</td>\n",
              "    </tr>\n",
              "    <tr>\n",
              "      <th>1897</th>\n",
              "      <td>Hf0.261V2.739Ga1</td>\n",
              "      <td>6.40</td>\n",
              "      <td>True</td>\n",
              "    </tr>\n",
              "    <tr>\n",
              "      <th>...</th>\n",
              "      <td>...</td>\n",
              "      <td>...</td>\n",
              "      <td>...</td>\n",
              "    </tr>\n",
              "    <tr>\n",
              "      <th>15814</th>\n",
              "      <td>La0.999Gd0.001Al2</td>\n",
              "      <td>2.78</td>\n",
              "      <td>True</td>\n",
              "    </tr>\n",
              "    <tr>\n",
              "      <th>6857</th>\n",
              "      <td>Rb2Na1H2.58C60N0.86</td>\n",
              "      <td>12.00</td>\n",
              "      <td>False</td>\n",
              "    </tr>\n",
              "    <tr>\n",
              "      <th>7135</th>\n",
              "      <td>MgHg3</td>\n",
              "      <td>0.48</td>\n",
              "      <td>True</td>\n",
              "    </tr>\n",
              "    <tr>\n",
              "      <th>1156</th>\n",
              "      <td>Sr2Ce0.7Eu1.3Cu2Ru1O10</td>\n",
              "      <td>33.00</td>\n",
              "      <td>True</td>\n",
              "    </tr>\n",
              "    <tr>\n",
              "      <th>9662</th>\n",
              "      <td>GdReBC</td>\n",
              "      <td>4.00</td>\n",
              "      <td>True</td>\n",
              "    </tr>\n",
              "  </tbody>\n",
              "</table>\n",
              "<p>12415 rows × 3 columns</p>\n",
              "</div>\n",
              "      <button class=\"colab-df-convert\" onclick=\"convertToInteractive('df-0fe521ed-f3a3-4aa2-b518-f840ce36fc8e')\"\n",
              "              title=\"Convert this dataframe to an interactive table.\"\n",
              "              style=\"display:none;\">\n",
              "        \n",
              "  <svg xmlns=\"http://www.w3.org/2000/svg\" height=\"24px\"viewBox=\"0 0 24 24\"\n",
              "       width=\"24px\">\n",
              "    <path d=\"M0 0h24v24H0V0z\" fill=\"none\"/>\n",
              "    <path d=\"M18.56 5.44l.94 2.06.94-2.06 2.06-.94-2.06-.94-.94-2.06-.94 2.06-2.06.94zm-11 1L8.5 8.5l.94-2.06 2.06-.94-2.06-.94L8.5 2.5l-.94 2.06-2.06.94zm10 10l.94 2.06.94-2.06 2.06-.94-2.06-.94-.94-2.06-.94 2.06-2.06.94z\"/><path d=\"M17.41 7.96l-1.37-1.37c-.4-.4-.92-.59-1.43-.59-.52 0-1.04.2-1.43.59L10.3 9.45l-7.72 7.72c-.78.78-.78 2.05 0 2.83L4 21.41c.39.39.9.59 1.41.59.51 0 1.02-.2 1.41-.59l7.78-7.78 2.81-2.81c.8-.78.8-2.07 0-2.86zM5.41 20L4 18.59l7.72-7.72 1.47 1.35L5.41 20z\"/>\n",
              "  </svg>\n",
              "      </button>\n",
              "      \n",
              "  <style>\n",
              "    .colab-df-container {\n",
              "      display:flex;\n",
              "      flex-wrap:wrap;\n",
              "      gap: 12px;\n",
              "    }\n",
              "\n",
              "    .colab-df-convert {\n",
              "      background-color: #E8F0FE;\n",
              "      border: none;\n",
              "      border-radius: 50%;\n",
              "      cursor: pointer;\n",
              "      display: none;\n",
              "      fill: #1967D2;\n",
              "      height: 32px;\n",
              "      padding: 0 0 0 0;\n",
              "      width: 32px;\n",
              "    }\n",
              "\n",
              "    .colab-df-convert:hover {\n",
              "      background-color: #E2EBFA;\n",
              "      box-shadow: 0px 1px 2px rgba(60, 64, 67, 0.3), 0px 1px 3px 1px rgba(60, 64, 67, 0.15);\n",
              "      fill: #174EA6;\n",
              "    }\n",
              "\n",
              "    [theme=dark] .colab-df-convert {\n",
              "      background-color: #3B4455;\n",
              "      fill: #D2E3FC;\n",
              "    }\n",
              "\n",
              "    [theme=dark] .colab-df-convert:hover {\n",
              "      background-color: #434B5C;\n",
              "      box-shadow: 0px 1px 3px 1px rgba(0, 0, 0, 0.15);\n",
              "      filter: drop-shadow(0px 1px 2px rgba(0, 0, 0, 0.3));\n",
              "      fill: #FFFFFF;\n",
              "    }\n",
              "  </style>\n",
              "\n",
              "      <script>\n",
              "        const buttonEl =\n",
              "          document.querySelector('#df-0fe521ed-f3a3-4aa2-b518-f840ce36fc8e button.colab-df-convert');\n",
              "        buttonEl.style.display =\n",
              "          google.colab.kernel.accessAllowed ? 'block' : 'none';\n",
              "\n",
              "        async function convertToInteractive(key) {\n",
              "          const element = document.querySelector('#df-0fe521ed-f3a3-4aa2-b518-f840ce36fc8e');\n",
              "          const dataTable =\n",
              "            await google.colab.kernel.invokeFunction('convertToInteractive',\n",
              "                                                     [key], {});\n",
              "          if (!dataTable) return;\n",
              "\n",
              "          const docLinkHtml = 'Like what you see? Visit the ' +\n",
              "            '<a target=\"_blank\" href=https://colab.research.google.com/notebooks/data_table.ipynb>data table notebook</a>'\n",
              "            + ' to learn more about interactive tables.';\n",
              "          element.innerHTML = '';\n",
              "          dataTable['output_type'] = 'display_data';\n",
              "          await google.colab.output.renderOutput(dataTable, element);\n",
              "          const docLink = document.createElement('div');\n",
              "          docLink.innerHTML = docLinkHtml;\n",
              "          element.appendChild(docLink);\n",
              "        }\n",
              "      </script>\n",
              "    </div>\n",
              "  </div>\n",
              "  "
            ],
            "text/plain": [
              "                      formula  target  is_valid\n",
              "9573             Nb0.86Rh1.04    3.76      True\n",
              "3127          Mg0.9Zn0.1Ni3C1    4.50      True\n",
              "13657           Zr0.5Nb3In0.5    6.40      True\n",
              "5417     Sm1Fe0.92Ni0.08As1O1    6.00      True\n",
              "1897         Hf0.261V2.739Ga1    6.40      True\n",
              "...                       ...     ...       ...\n",
              "15814       La0.999Gd0.001Al2    2.78      True\n",
              "6857      Rb2Na1H2.58C60N0.86   12.00     False\n",
              "7135                    MgHg3    0.48      True\n",
              "1156   Sr2Ce0.7Eu1.3Cu2Ru1O10   33.00      True\n",
              "9662                   GdReBC    4.00      True\n",
              "\n",
              "[12415 rows x 3 columns]"
            ]
          },
          "metadata": {},
          "output_type": "display_data"
        },
        {
          "data": {
            "text/html": [
              "\n",
              "  <div id=\"df-60355447-4a57-4ea6-b493-c0293c55eda3\">\n",
              "    <div class=\"colab-df-container\">\n",
              "      <div>\n",
              "<style scoped>\n",
              "    .dataframe tbody tr th:only-of-type {\n",
              "        vertical-align: middle;\n",
              "    }\n",
              "\n",
              "    .dataframe tbody tr th {\n",
              "        vertical-align: top;\n",
              "    }\n",
              "\n",
              "    .dataframe thead th {\n",
              "        text-align: right;\n",
              "    }\n",
              "</style>\n",
              "<table border=\"1\" class=\"dataframe\">\n",
              "  <thead>\n",
              "    <tr style=\"text-align: right;\">\n",
              "      <th></th>\n",
              "      <th>formula</th>\n",
              "      <th>is_valid</th>\n",
              "    </tr>\n",
              "  </thead>\n",
              "  <tbody>\n",
              "    <tr>\n",
              "      <th>375381</th>\n",
              "      <td>MgCoReW</td>\n",
              "      <td>True</td>\n",
              "    </tr>\n",
              "    <tr>\n",
              "      <th>690863</th>\n",
              "      <td>ZrSc4Ir</td>\n",
              "      <td>True</td>\n",
              "    </tr>\n",
              "    <tr>\n",
              "      <th>186475</th>\n",
              "      <td>Ga4As</td>\n",
              "      <td>False</td>\n",
              "    </tr>\n",
              "    <tr>\n",
              "      <th>663205</th>\n",
              "      <td>Zn3Ga9O</td>\n",
              "      <td>False</td>\n",
              "    </tr>\n",
              "    <tr>\n",
              "      <th>467969</th>\n",
              "      <td>PH14(C3S)2</td>\n",
              "      <td>True</td>\n",
              "    </tr>\n",
              "    <tr>\n",
              "      <th>...</th>\n",
              "      <td>...</td>\n",
              "      <td>...</td>\n",
              "    </tr>\n",
              "    <tr>\n",
              "      <th>305829</th>\n",
              "      <td>La2SmCr</td>\n",
              "      <td>True</td>\n",
              "    </tr>\n",
              "    <tr>\n",
              "      <th>578490</th>\n",
              "      <td>TaMnPt2</td>\n",
              "      <td>True</td>\n",
              "    </tr>\n",
              "    <tr>\n",
              "      <th>1049</th>\n",
              "      <td>AcEr2Re</td>\n",
              "      <td>True</td>\n",
              "    </tr>\n",
              "    <tr>\n",
              "      <th>133188</th>\n",
              "      <td>Cr4CdRe</td>\n",
              "      <td>True</td>\n",
              "    </tr>\n",
              "    <tr>\n",
              "      <th>424006</th>\n",
              "      <td>NaLaCrCd</td>\n",
              "      <td>True</td>\n",
              "    </tr>\n",
              "  </tbody>\n",
              "</table>\n",
              "<p>694398 rows × 2 columns</p>\n",
              "</div>\n",
              "      <button class=\"colab-df-convert\" onclick=\"convertToInteractive('df-60355447-4a57-4ea6-b493-c0293c55eda3')\"\n",
              "              title=\"Convert this dataframe to an interactive table.\"\n",
              "              style=\"display:none;\">\n",
              "        \n",
              "  <svg xmlns=\"http://www.w3.org/2000/svg\" height=\"24px\"viewBox=\"0 0 24 24\"\n",
              "       width=\"24px\">\n",
              "    <path d=\"M0 0h24v24H0V0z\" fill=\"none\"/>\n",
              "    <path d=\"M18.56 5.44l.94 2.06.94-2.06 2.06-.94-2.06-.94-.94-2.06-.94 2.06-2.06.94zm-11 1L8.5 8.5l.94-2.06 2.06-.94-2.06-.94L8.5 2.5l-.94 2.06-2.06.94zm10 10l.94 2.06.94-2.06 2.06-.94-2.06-.94-.94-2.06-.94 2.06-2.06.94z\"/><path d=\"M17.41 7.96l-1.37-1.37c-.4-.4-.92-.59-1.43-.59-.52 0-1.04.2-1.43.59L10.3 9.45l-7.72 7.72c-.78.78-.78 2.05 0 2.83L4 21.41c.39.39.9.59 1.41.59.51 0 1.02-.2 1.41-.59l7.78-7.78 2.81-2.81c.8-.78.8-2.07 0-2.86zM5.41 20L4 18.59l7.72-7.72 1.47 1.35L5.41 20z\"/>\n",
              "  </svg>\n",
              "      </button>\n",
              "      \n",
              "  <style>\n",
              "    .colab-df-container {\n",
              "      display:flex;\n",
              "      flex-wrap:wrap;\n",
              "      gap: 12px;\n",
              "    }\n",
              "\n",
              "    .colab-df-convert {\n",
              "      background-color: #E8F0FE;\n",
              "      border: none;\n",
              "      border-radius: 50%;\n",
              "      cursor: pointer;\n",
              "      display: none;\n",
              "      fill: #1967D2;\n",
              "      height: 32px;\n",
              "      padding: 0 0 0 0;\n",
              "      width: 32px;\n",
              "    }\n",
              "\n",
              "    .colab-df-convert:hover {\n",
              "      background-color: #E2EBFA;\n",
              "      box-shadow: 0px 1px 2px rgba(60, 64, 67, 0.3), 0px 1px 3px 1px rgba(60, 64, 67, 0.15);\n",
              "      fill: #174EA6;\n",
              "    }\n",
              "\n",
              "    [theme=dark] .colab-df-convert {\n",
              "      background-color: #3B4455;\n",
              "      fill: #D2E3FC;\n",
              "    }\n",
              "\n",
              "    [theme=dark] .colab-df-convert:hover {\n",
              "      background-color: #434B5C;\n",
              "      box-shadow: 0px 1px 3px 1px rgba(0, 0, 0, 0.15);\n",
              "      filter: drop-shadow(0px 1px 2px rgba(0, 0, 0, 0.3));\n",
              "      fill: #FFFFFF;\n",
              "    }\n",
              "  </style>\n",
              "\n",
              "      <script>\n",
              "        const buttonEl =\n",
              "          document.querySelector('#df-60355447-4a57-4ea6-b493-c0293c55eda3 button.colab-df-convert');\n",
              "        buttonEl.style.display =\n",
              "          google.colab.kernel.accessAllowed ? 'block' : 'none';\n",
              "\n",
              "        async function convertToInteractive(key) {\n",
              "          const element = document.querySelector('#df-60355447-4a57-4ea6-b493-c0293c55eda3');\n",
              "          const dataTable =\n",
              "            await google.colab.kernel.invokeFunction('convertToInteractive',\n",
              "                                                     [key], {});\n",
              "          if (!dataTable) return;\n",
              "\n",
              "          const docLinkHtml = 'Like what you see? Visit the ' +\n",
              "            '<a target=\"_blank\" href=https://colab.research.google.com/notebooks/data_table.ipynb>data table notebook</a>'\n",
              "            + ' to learn more about interactive tables.';\n",
              "          element.innerHTML = '';\n",
              "          dataTable['output_type'] = 'display_data';\n",
              "          await google.colab.output.renderOutput(dataTable, element);\n",
              "          const docLink = document.createElement('div');\n",
              "          docLink.innerHTML = docLinkHtml;\n",
              "          element.appendChild(docLink);\n",
              "        }\n",
              "      </script>\n",
              "    </div>\n",
              "  </div>\n",
              "  "
            ],
            "text/plain": [
              "           formula  is_valid\n",
              "375381     MgCoReW      True\n",
              "690863     ZrSc4Ir      True\n",
              "186475       Ga4As     False\n",
              "663205     Zn3Ga9O     False\n",
              "467969  PH14(C3S)2      True\n",
              "...            ...       ...\n",
              "305829     La2SmCr      True\n",
              "578490     TaMnPt2      True\n",
              "1049       AcEr2Re      True\n",
              "133188     Cr4CdRe      True\n",
              "424006    NaLaCrCd      True\n",
              "\n",
              "[694398 rows x 2 columns]"
            ]
          },
          "metadata": {},
          "output_type": "display_data"
        }
      ],
      "source": [
        "#shuffle data\n",
        "\n",
        "train_df = train_df.sample(frac=1)\n",
        "\n",
        "val_df = val_df.sample(frac=1)\n",
        "\n",
        "display(train_df)\n",
        "display(val_df)"
      ]
    },
    {
      "cell_type": "markdown",
      "metadata": {
        "id": "JKboJwhAmyo0"
      },
      "source": [
        "**Fit training data on DiSCoVeR**"
      ]
    },
    {
      "cell_type": "code",
      "execution_count": null,
      "metadata": {
        "colab": {
          "base_uri": "https://localhost:8080/"
        },
        "id": "qB04AfmB5lu0",
        "outputId": "c56a6e5a-87aa-4686-dc9d-24794be8dac1"
      },
      "outputs": [
        {
          "name": "stdout",
          "output_type": "stream",
          "text": [
            "\n",
            "Model architecture: out_dims, d_model, N, heads\n",
            "3, 512, 3, 4\n",
            "Running on compute device: cuda:0\n",
            "Model size: 11987206 parameters\n",
            "\n"
          ]
        },
        {
          "name": "stderr",
          "output_type": "stream",
          "text": [
            "Generating EDM: 100%|██████████| 9932/9932 [00:00<00:00, 115486.50formulae/s]\n"
          ]
        },
        {
          "name": "stdout",
          "output_type": "stream",
          "text": [
            "loading data with up to 8 elements in the formula\n",
            "training with batchsize 512 (2**9.000)\n"
          ]
        },
        {
          "name": "stderr",
          "output_type": "stream",
          "text": [
            "Generating EDM: 100%|██████████| 2483/2483 [00:00<00:00, 92862.68formulae/s]"
          ]
        },
        {
          "name": "stdout",
          "output_type": "stream",
          "text": [
            "loading data with up to 8 elements in the formula\n",
            "stepping every 200 training passes, cycling lr every 10 epochs\n",
            "running for 300 epochs, unless early stopping occurs\n",
            "checkin at 20 epochs to match lr scheduler\n"
          ]
        },
        {
          "name": "stderr",
          "output_type": "stream",
          "text": [
            "\n"
          ]
        },
        {
          "name": "stdout",
          "output_type": "stream",
          "text": [
            "Epoch: 0/300 --- train mae: 20 val mae: 20\n",
            "Epoch: 19/300 --- train mae: 4.94 val mae: 5.38\n",
            "Epoch: 39/300 --- train mae: 3.23 val mae: 4.52\n",
            "Epoch: 59/300 --- train mae: 2.41 val mae: 4.26\n",
            "Epoch: 79/300 --- train mae: 2 val mae: 4.16\n",
            "Epoch: 99/300 --- train mae: 1.74 val mae: 4.09\n",
            "Epoch: 119/300 --- train mae: 1.58 val mae: 4.05\n",
            "Epoch: 139/300 --- train mae: 1.48 val mae: 4\n",
            "Epoch: 159/300 --- train mae: 1.39 val mae: 3.99\n",
            "Epoch: 179/300 --- train mae: 1.33 val mae: 3.99\n",
            "Epoch: 199/300 --- train mae: 1.29 val mae: 3.97\n",
            "Epoch: 219/300 --- train mae: 1.25 val mae: 3.99\n",
            "Epoch 239 failed to improve.\n",
            "Discarded: 1/3 weight updates\n",
            "Epoch: 239/300 --- train mae: 1.22 val mae: 4.01\n",
            "Epoch 259 failed to improve.\n",
            "Discarded: 2/3 weight updates\n",
            "Epoch: 259/300 --- train mae: 1.2 val mae: 4.03\n",
            "Epoch 279 failed to improve.\n",
            "Discarded: 3/3 weight updates\n",
            "Epoch: 279/300 --- train mae: 1.17 val mae: 4.03\n",
            "Discarded: 3/3weight updates, early-stopping now\n",
            "Saving network (UnnamedModel) to models/trained_models/UnnamedModel.pth\n",
            "[train-CrabNet]\n",
            "Elapsed: 609.8285\n",
            "\n"
          ]
        }
      ],
      "source": [
        "disc.fit(train_df)"
      ]
    },
    {
      "cell_type": "code",
      "execution_count": null,
      "metadata": {
        "colab": {
          "base_uri": "https://localhost:8080/",
          "height": 424
        },
        "id": "6UoZmpCu1MgD",
        "outputId": "6db51e01-94c7-473c-d5d8-3433c2d71f42"
      },
      "outputs": [
        {
          "data": {
            "text/html": [
              "\n",
              "  <div id=\"df-2d4bf560-22d5-4881-86ea-d0e5fab52c6c\">\n",
              "    <div class=\"colab-df-container\">\n",
              "      <div>\n",
              "<style scoped>\n",
              "    .dataframe tbody tr th:only-of-type {\n",
              "        vertical-align: middle;\n",
              "    }\n",
              "\n",
              "    .dataframe tbody tr th {\n",
              "        vertical-align: top;\n",
              "    }\n",
              "\n",
              "    .dataframe thead th {\n",
              "        text-align: right;\n",
              "    }\n",
              "</style>\n",
              "<table border=\"1\" class=\"dataframe\">\n",
              "  <thead>\n",
              "    <tr style=\"text-align: right;\">\n",
              "      <th></th>\n",
              "      <th>formula</th>\n",
              "      <th>is_valid</th>\n",
              "    </tr>\n",
              "  </thead>\n",
              "  <tbody>\n",
              "    <tr>\n",
              "      <th>39273</th>\n",
              "      <td>BaBeB3</td>\n",
              "      <td>False</td>\n",
              "    </tr>\n",
              "    <tr>\n",
              "      <th>504203</th>\n",
              "      <td>Sc2TlAu</td>\n",
              "      <td>True</td>\n",
              "    </tr>\n",
              "    <tr>\n",
              "      <th>422133</th>\n",
              "      <td>NaHfCrMo</td>\n",
              "      <td>True</td>\n",
              "    </tr>\n",
              "    <tr>\n",
              "      <th>329978</th>\n",
              "      <td>Li14GaGe(IO2)4</td>\n",
              "      <td>True</td>\n",
              "    </tr>\n",
              "    <tr>\n",
              "      <th>528650</th>\n",
              "      <td>Sm2GaGe</td>\n",
              "      <td>True</td>\n",
              "    </tr>\n",
              "    <tr>\n",
              "      <th>...</th>\n",
              "      <td>...</td>\n",
              "      <td>...</td>\n",
              "    </tr>\n",
              "    <tr>\n",
              "      <th>328752</th>\n",
              "      <td>LaZrIrAu</td>\n",
              "      <td>True</td>\n",
              "    </tr>\n",
              "    <tr>\n",
              "      <th>266549</th>\n",
              "      <td>Ir3WSe</td>\n",
              "      <td>True</td>\n",
              "    </tr>\n",
              "    <tr>\n",
              "      <th>435176</th>\n",
              "      <td>NaTlP4</td>\n",
              "      <td>True</td>\n",
              "    </tr>\n",
              "    <tr>\n",
              "      <th>612755</th>\n",
              "      <td>TlCr4Ag</td>\n",
              "      <td>True</td>\n",
              "    </tr>\n",
              "    <tr>\n",
              "      <th>406732</th>\n",
              "      <td>Na2Be2Tl</td>\n",
              "      <td>True</td>\n",
              "    </tr>\n",
              "  </tbody>\n",
              "</table>\n",
              "<p>100 rows × 2 columns</p>\n",
              "</div>\n",
              "      <button class=\"colab-df-convert\" onclick=\"convertToInteractive('df-2d4bf560-22d5-4881-86ea-d0e5fab52c6c')\"\n",
              "              title=\"Convert this dataframe to an interactive table.\"\n",
              "              style=\"display:none;\">\n",
              "        \n",
              "  <svg xmlns=\"http://www.w3.org/2000/svg\" height=\"24px\"viewBox=\"0 0 24 24\"\n",
              "       width=\"24px\">\n",
              "    <path d=\"M0 0h24v24H0V0z\" fill=\"none\"/>\n",
              "    <path d=\"M18.56 5.44l.94 2.06.94-2.06 2.06-.94-2.06-.94-.94-2.06-.94 2.06-2.06.94zm-11 1L8.5 8.5l.94-2.06 2.06-.94-2.06-.94L8.5 2.5l-.94 2.06-2.06.94zm10 10l.94 2.06.94-2.06 2.06-.94-2.06-.94-.94-2.06-.94 2.06-2.06.94z\"/><path d=\"M17.41 7.96l-1.37-1.37c-.4-.4-.92-.59-1.43-.59-.52 0-1.04.2-1.43.59L10.3 9.45l-7.72 7.72c-.78.78-.78 2.05 0 2.83L4 21.41c.39.39.9.59 1.41.59.51 0 1.02-.2 1.41-.59l7.78-7.78 2.81-2.81c.8-.78.8-2.07 0-2.86zM5.41 20L4 18.59l7.72-7.72 1.47 1.35L5.41 20z\"/>\n",
              "  </svg>\n",
              "      </button>\n",
              "      \n",
              "  <style>\n",
              "    .colab-df-container {\n",
              "      display:flex;\n",
              "      flex-wrap:wrap;\n",
              "      gap: 12px;\n",
              "    }\n",
              "\n",
              "    .colab-df-convert {\n",
              "      background-color: #E8F0FE;\n",
              "      border: none;\n",
              "      border-radius: 50%;\n",
              "      cursor: pointer;\n",
              "      display: none;\n",
              "      fill: #1967D2;\n",
              "      height: 32px;\n",
              "      padding: 0 0 0 0;\n",
              "      width: 32px;\n",
              "    }\n",
              "\n",
              "    .colab-df-convert:hover {\n",
              "      background-color: #E2EBFA;\n",
              "      box-shadow: 0px 1px 2px rgba(60, 64, 67, 0.3), 0px 1px 3px 1px rgba(60, 64, 67, 0.15);\n",
              "      fill: #174EA6;\n",
              "    }\n",
              "\n",
              "    [theme=dark] .colab-df-convert {\n",
              "      background-color: #3B4455;\n",
              "      fill: #D2E3FC;\n",
              "    }\n",
              "\n",
              "    [theme=dark] .colab-df-convert:hover {\n",
              "      background-color: #434B5C;\n",
              "      box-shadow: 0px 1px 3px 1px rgba(0, 0, 0, 0.15);\n",
              "      filter: drop-shadow(0px 1px 2px rgba(0, 0, 0, 0.3));\n",
              "      fill: #FFFFFF;\n",
              "    }\n",
              "  </style>\n",
              "\n",
              "      <script>\n",
              "        const buttonEl =\n",
              "          document.querySelector('#df-2d4bf560-22d5-4881-86ea-d0e5fab52c6c button.colab-df-convert');\n",
              "        buttonEl.style.display =\n",
              "          google.colab.kernel.accessAllowed ? 'block' : 'none';\n",
              "\n",
              "        async function convertToInteractive(key) {\n",
              "          const element = document.querySelector('#df-2d4bf560-22d5-4881-86ea-d0e5fab52c6c');\n",
              "          const dataTable =\n",
              "            await google.colab.kernel.invokeFunction('convertToInteractive',\n",
              "                                                     [key], {});\n",
              "          if (!dataTable) return;\n",
              "\n",
              "          const docLinkHtml = 'Like what you see? Visit the ' +\n",
              "            '<a target=\"_blank\" href=https://colab.research.google.com/notebooks/data_table.ipynb>data table notebook</a>'\n",
              "            + ' to learn more about interactive tables.';\n",
              "          element.innerHTML = '';\n",
              "          dataTable['output_type'] = 'display_data';\n",
              "          await google.colab.output.renderOutput(dataTable, element);\n",
              "          const docLink = document.createElement('div');\n",
              "          docLink.innerHTML = docLinkHtml;\n",
              "          element.appendChild(docLink);\n",
              "        }\n",
              "      </script>\n",
              "    </div>\n",
              "  </div>\n",
              "  "
            ],
            "text/plain": [
              "               formula  is_valid\n",
              "39273           BaBeB3     False\n",
              "504203         Sc2TlAu      True\n",
              "422133        NaHfCrMo      True\n",
              "329978  Li14GaGe(IO2)4      True\n",
              "528650         Sm2GaGe      True\n",
              "...                ...       ...\n",
              "328752        LaZrIrAu      True\n",
              "266549          Ir3WSe      True\n",
              "435176          NaTlP4      True\n",
              "612755         TlCr4Ag      True\n",
              "406732        Na2Be2Tl      True\n",
              "\n",
              "[100 rows x 2 columns]"
            ]
          },
          "execution_count": 19,
          "metadata": {},
          "output_type": "execute_result"
        }
      ],
      "source": [
        "test_val = val_df.sample(100)\n",
        "test_val"
      ]
    },
    {
      "cell_type": "markdown",
      "metadata": {
        "id": "dWVzF-r4jmQn"
      },
      "source": [
        "**Predict val_df in chunks**"
      ]
    },
    {
      "cell_type": "code",
      "execution_count": null,
      "metadata": {
        "colab": {
          "base_uri": "https://localhost:8080/"
        },
        "id": "Bq4evUEG-Axc",
        "outputId": "608ef46b-16ca-4e83-9fa7-37e0e03aaa49"
      },
      "outputs": [
        {
          "name": "stderr",
          "output_type": "stream",
          "text": [
            "Generating EDM: 100%|██████████| 12415/12415 [00:00<00:00, 106887.95formulae/s]\n"
          ]
        },
        {
          "name": "stdout",
          "output_type": "stream",
          "text": [
            "loading data with up to 8 elements in the formula\n"
          ]
        },
        {
          "name": "stderr",
          "output_type": "stream",
          "text": [
            "Generating EDM: 100%|██████████| 20/20 [00:00<00:00, 50655.85formulae/s]\n"
          ]
        },
        {
          "name": "stdout",
          "output_type": "stream",
          "text": [
            "loading data with up to 8 elements in the formula\n",
            "val RMSE:  6.102283318942137\n",
            "Fitting mod_petti kernel matrix\n",
            "Constructing distances\n",
            "[fit-wasserstein]\n",
            "Elapsed: 14.31611\n",
            "\n"
          ]
        },
        {
          "name": "stderr",
          "output_type": "stream",
          "text": [
            "/usr/local/lib/python3.7/dist-packages/umap/umap_.py:1780: UserWarning:\n",
            "\n",
            "using precomputed metric; inverse_transform will be unavailable\n",
            "\n"
          ]
        },
        {
          "name": "stdout",
          "output_type": "stream",
          "text": [
            "[fit-UMAP]\n",
            "Elapsed: 87.707\n",
            "\n"
          ]
        },
        {
          "name": "stderr",
          "output_type": "stream",
          "text": [
            "/usr/local/lib/python3.7/dist-packages/umap/umap_.py:1780: UserWarning:\n",
            "\n",
            "using precomputed metric; inverse_transform will be unavailable\n",
            "\n"
          ]
        },
        {
          "name": "stdout",
          "output_type": "stream",
          "text": [
            "[fit-vis-UMAP]\n",
            "Elapsed: 46.33633\n",
            "\n",
            "[DensMAP]\n",
            "Elapsed: 134.04482\n",
            "\n",
            "[HDBSCAN*]\n",
            "Elapsed: 0.16614\n",
            "\n",
            "[pdf-summation]\n",
            "Elapsed: 14.1237\n",
            "\n",
            "[gridded-pdf-summation]\n",
            "Elapsed: 14.31883\n",
            "\n",
            "[train-val-pdf-summation]\n",
            "Elapsed: 2.35713\n",
            "\n",
            "[nearest-neighbor-properties]\n",
            "Elapsed: 4.11886\n",
            "\n",
            "\n",
            "Done with iteration 1\n",
            "\n"
          ]
        },
        {
          "name": "stderr",
          "output_type": "stream",
          "text": [
            "Generating EDM: 100%|██████████| 12415/12415 [00:00<00:00, 69076.50formulae/s]\n"
          ]
        },
        {
          "name": "stdout",
          "output_type": "stream",
          "text": [
            "loading data with up to 8 elements in the formula\n"
          ]
        },
        {
          "name": "stderr",
          "output_type": "stream",
          "text": [
            "Generating EDM: 100%|██████████| 20/20 [00:00<00:00, 66418.12formulae/s]\n"
          ]
        },
        {
          "name": "stdout",
          "output_type": "stream",
          "text": [
            "loading data with up to 8 elements in the formula\n",
            "val RMSE:  6.9145499831544415\n",
            "Fitting mod_petti kernel matrix\n",
            "Constructing distances\n",
            "[fit-wasserstein]\n",
            "Elapsed: 13.54832\n",
            "\n"
          ]
        },
        {
          "name": "stderr",
          "output_type": "stream",
          "text": [
            "/usr/local/lib/python3.7/dist-packages/umap/umap_.py:1780: UserWarning:\n",
            "\n",
            "using precomputed metric; inverse_transform will be unavailable\n",
            "\n"
          ]
        },
        {
          "name": "stdout",
          "output_type": "stream",
          "text": [
            "[fit-UMAP]\n",
            "Elapsed: 64.88844\n",
            "\n"
          ]
        },
        {
          "name": "stderr",
          "output_type": "stream",
          "text": [
            "/usr/local/lib/python3.7/dist-packages/umap/umap_.py:1780: UserWarning:\n",
            "\n",
            "using precomputed metric; inverse_transform will be unavailable\n",
            "\n"
          ]
        },
        {
          "name": "stdout",
          "output_type": "stream",
          "text": [
            "[fit-vis-UMAP]\n",
            "Elapsed: 44.76001\n",
            "\n",
            "[DensMAP]\n",
            "Elapsed: 109.69709\n",
            "\n",
            "[HDBSCAN*]\n",
            "Elapsed: 0.15865\n",
            "\n",
            "[pdf-summation]\n",
            "Elapsed: 14.08952\n",
            "\n",
            "[gridded-pdf-summation]\n",
            "Elapsed: 14.30213\n",
            "\n",
            "[train-val-pdf-summation]\n",
            "Elapsed: 2.27205\n",
            "\n",
            "[nearest-neighbor-properties]\n",
            "Elapsed: 3.92402\n",
            "\n",
            "\n",
            "Done with iteration 2\n",
            "\n"
          ]
        },
        {
          "name": "stderr",
          "output_type": "stream",
          "text": [
            "Generating EDM: 100%|██████████| 12415/12415 [00:00<00:00, 96262.94formulae/s]\n"
          ]
        },
        {
          "name": "stdout",
          "output_type": "stream",
          "text": [
            "loading data with up to 8 elements in the formula\n"
          ]
        },
        {
          "name": "stderr",
          "output_type": "stream",
          "text": [
            "Generating EDM: 100%|██████████| 20/20 [00:00<00:00, 52200.42formulae/s]\n"
          ]
        },
        {
          "name": "stdout",
          "output_type": "stream",
          "text": [
            "loading data with up to 8 elements in the formula\n",
            "val RMSE:  14.483337681413861\n",
            "Fitting mod_petti kernel matrix\n",
            "Constructing distances\n",
            "[fit-wasserstein]\n",
            "Elapsed: 13.20333\n",
            "\n"
          ]
        },
        {
          "name": "stderr",
          "output_type": "stream",
          "text": [
            "/usr/local/lib/python3.7/dist-packages/umap/umap_.py:1780: UserWarning:\n",
            "\n",
            "using precomputed metric; inverse_transform will be unavailable\n",
            "\n"
          ]
        },
        {
          "name": "stdout",
          "output_type": "stream",
          "text": [
            "[fit-UMAP]\n",
            "Elapsed: 64.22875\n",
            "\n"
          ]
        },
        {
          "name": "stderr",
          "output_type": "stream",
          "text": [
            "/usr/local/lib/python3.7/dist-packages/umap/umap_.py:1780: UserWarning:\n",
            "\n",
            "using precomputed metric; inverse_transform will be unavailable\n",
            "\n"
          ]
        },
        {
          "name": "stdout",
          "output_type": "stream",
          "text": [
            "[fit-vis-UMAP]\n",
            "Elapsed: 45.39301\n",
            "\n",
            "[DensMAP]\n",
            "Elapsed: 109.66966\n",
            "\n",
            "[HDBSCAN*]\n",
            "Elapsed: 0.15668\n",
            "\n",
            "[pdf-summation]\n",
            "Elapsed: 13.55257\n",
            "\n",
            "[gridded-pdf-summation]\n",
            "Elapsed: 13.79109\n",
            "\n",
            "[train-val-pdf-summation]\n",
            "Elapsed: 2.42178\n",
            "\n",
            "[nearest-neighbor-properties]\n",
            "Elapsed: 4.2035\n",
            "\n",
            "\n",
            "Done with iteration 3\n",
            "\n"
          ]
        },
        {
          "name": "stderr",
          "output_type": "stream",
          "text": [
            "Generating EDM: 100%|██████████| 12415/12415 [00:00<00:00, 111676.72formulae/s]\n"
          ]
        },
        {
          "name": "stdout",
          "output_type": "stream",
          "text": [
            "loading data with up to 8 elements in the formula\n"
          ]
        },
        {
          "name": "stderr",
          "output_type": "stream",
          "text": [
            "Generating EDM: 100%|██████████| 20/20 [00:00<00:00, 66000.06formulae/s]\n"
          ]
        },
        {
          "name": "stdout",
          "output_type": "stream",
          "text": [
            "loading data with up to 8 elements in the formula\n",
            "val RMSE:  7.796872916710295\n",
            "Fitting mod_petti kernel matrix\n",
            "Constructing distances\n",
            "[fit-wasserstein]\n",
            "Elapsed: 13.66036\n",
            "\n"
          ]
        },
        {
          "name": "stderr",
          "output_type": "stream",
          "text": [
            "/usr/local/lib/python3.7/dist-packages/umap/umap_.py:1780: UserWarning:\n",
            "\n",
            "using precomputed metric; inverse_transform will be unavailable\n",
            "\n"
          ]
        },
        {
          "name": "stdout",
          "output_type": "stream",
          "text": [
            "[fit-UMAP]\n",
            "Elapsed: 64.19393\n",
            "\n"
          ]
        },
        {
          "name": "stderr",
          "output_type": "stream",
          "text": [
            "/usr/local/lib/python3.7/dist-packages/umap/umap_.py:1780: UserWarning:\n",
            "\n",
            "using precomputed metric; inverse_transform will be unavailable\n",
            "\n"
          ]
        },
        {
          "name": "stdout",
          "output_type": "stream",
          "text": [
            "[fit-vis-UMAP]\n",
            "Elapsed: 44.62149\n",
            "\n",
            "[DensMAP]\n",
            "Elapsed: 108.86394\n",
            "\n",
            "[HDBSCAN*]\n",
            "Elapsed: 0.16138\n",
            "\n",
            "[pdf-summation]\n",
            "Elapsed: 14.13824\n",
            "\n",
            "[gridded-pdf-summation]\n",
            "Elapsed: 14.36485\n",
            "\n",
            "[train-val-pdf-summation]\n",
            "Elapsed: 2.26912\n",
            "\n",
            "[nearest-neighbor-properties]\n",
            "Elapsed: 4.27876\n",
            "\n",
            "\n",
            "Done with iteration 4\n",
            "\n"
          ]
        },
        {
          "name": "stderr",
          "output_type": "stream",
          "text": [
            "Generating EDM: 100%|██████████| 12415/12415 [00:00<00:00, 110978.40formulae/s]\n"
          ]
        },
        {
          "name": "stdout",
          "output_type": "stream",
          "text": [
            "loading data with up to 8 elements in the formula\n"
          ]
        },
        {
          "name": "stderr",
          "output_type": "stream",
          "text": [
            "Generating EDM: 100%|██████████| 20/20 [00:00<00:00, 55886.80formulae/s]\n"
          ]
        },
        {
          "name": "stdout",
          "output_type": "stream",
          "text": [
            "loading data with up to 8 elements in the formula\n",
            "val RMSE:  20.716488491561996\n",
            "Fitting mod_petti kernel matrix\n",
            "Constructing distances\n",
            "[fit-wasserstein]\n",
            "Elapsed: 13.20766\n",
            "\n"
          ]
        },
        {
          "name": "stderr",
          "output_type": "stream",
          "text": [
            "/usr/local/lib/python3.7/dist-packages/umap/umap_.py:1780: UserWarning:\n",
            "\n",
            "using precomputed metric; inverse_transform will be unavailable\n",
            "\n"
          ]
        },
        {
          "name": "stdout",
          "output_type": "stream",
          "text": [
            "[fit-UMAP]\n",
            "Elapsed: 64.9732\n",
            "\n"
          ]
        },
        {
          "name": "stderr",
          "output_type": "stream",
          "text": [
            "/usr/local/lib/python3.7/dist-packages/umap/umap_.py:1780: UserWarning:\n",
            "\n",
            "using precomputed metric; inverse_transform will be unavailable\n",
            "\n"
          ]
        },
        {
          "name": "stdout",
          "output_type": "stream",
          "text": [
            "[fit-vis-UMAP]\n",
            "Elapsed: 46.35833\n",
            "\n",
            "[DensMAP]\n",
            "Elapsed: 111.3796\n",
            "\n",
            "[HDBSCAN*]\n",
            "Elapsed: 0.16756\n",
            "\n",
            "[pdf-summation]\n",
            "Elapsed: 13.75525\n",
            "\n",
            "[gridded-pdf-summation]\n",
            "Elapsed: 13.976\n",
            "\n",
            "[train-val-pdf-summation]\n",
            "Elapsed: 2.36734\n",
            "\n",
            "[nearest-neighbor-properties]\n",
            "Elapsed: 4.10579\n",
            "\n",
            "\n",
            "Done with iteration 5\n",
            "\n"
          ]
        }
      ],
      "source": [
        "#Predict through val_df in chunks (chunks are split to match 70/30 Training/Validation data)\n",
        "#There are 70 chunks each with ~10,000 compositions\n",
        "\n",
        "dens_score = []\n",
        "peak_score = []\n",
        "\n",
        "val_dfs = np.array_split(test_val, 5)\n",
        "# print((val_dfs[0]))\n",
        "\n",
        "jd = 0\n",
        "for i, val_df in enumerate(val_dfs):\n",
        "    jd = jd + 1\n",
        "    disc.predict(val_df, umap_random_state=42)\n",
        "    dens_score.append(disc.dens_score_df.sample(frac=1))\n",
        "    peak_score.append(disc.peak_score_df.sample(frac=1))\n",
        "    print(f\"\\nDone with iteration {jd}\\n\")"
      ]
    },
    {
      "cell_type": "code",
      "execution_count": null,
      "metadata": {
        "colab": {
          "base_uri": "https://localhost:8080/"
        },
        "id": "RUNzPgML5mYi",
        "outputId": "2a537964-c33f-4915-ab9e-4ed1649e5422"
      },
      "outputs": [
        {
          "name": "stderr",
          "output_type": "stream",
          "text": [
            "Generating EDM: 100%|██████████| 12415/12415 [00:00<00:00, 91686.56formulae/s]\n"
          ]
        },
        {
          "name": "stdout",
          "output_type": "stream",
          "text": [
            "loading data with up to 8 elements in the formula\n"
          ]
        },
        {
          "name": "stderr",
          "output_type": "stream",
          "text": [
            "Generating EDM: 100%|██████████| 9920/9920 [00:00<00:00, 106659.91formulae/s]\n"
          ]
        },
        {
          "name": "stdout",
          "output_type": "stream",
          "text": [
            "loading data with up to 8 elements in the formula\n",
            "val RMSE:  7.735142994064792\n",
            "Fitting mod_petti kernel matrix\n",
            "Constructing distances\n",
            "[fit-wasserstein]\n",
            "Elapsed: 33.48519\n",
            "\n"
          ]
        },
        {
          "name": "stderr",
          "output_type": "stream",
          "text": [
            "/usr/local/lib/python3.7/dist-packages/umap/umap_.py:1780: UserWarning:\n",
            "\n",
            "using precomputed metric; inverse_transform will be unavailable\n",
            "\n"
          ]
        },
        {
          "name": "stdout",
          "output_type": "stream",
          "text": [
            "[fit-UMAP]\n",
            "Elapsed: 182.91476\n",
            "\n"
          ]
        },
        {
          "name": "stderr",
          "output_type": "stream",
          "text": [
            "/usr/local/lib/python3.7/dist-packages/umap/umap_.py:1780: UserWarning:\n",
            "\n",
            "using precomputed metric; inverse_transform will be unavailable\n",
            "\n"
          ]
        },
        {
          "name": "stdout",
          "output_type": "stream",
          "text": [
            "[fit-vis-UMAP]\n",
            "Elapsed: 107.66048\n",
            "\n",
            "[DensMAP]\n",
            "Elapsed: 290.57749\n",
            "\n",
            "[HDBSCAN*]\n",
            "Elapsed: 2.43781\n",
            "\n",
            "[pdf-summation]\n",
            "Elapsed: 30.48769\n",
            "\n",
            "[gridded-pdf-summation]\n",
            "Elapsed: 31.03727\n",
            "\n",
            "[train-val-pdf-summation]\n",
            "Elapsed: 11.64035\n",
            "\n",
            "[nearest-neighbor-properties]\n",
            "Elapsed: 16.03455\n",
            "\n",
            "\n",
            "Done with iteration 1\n",
            "\n"
          ]
        },
        {
          "name": "stderr",
          "output_type": "stream",
          "text": [
            "Generating EDM: 100%|██████████| 12415/12415 [00:00<00:00, 93560.62formulae/s]\n"
          ]
        },
        {
          "name": "stdout",
          "output_type": "stream",
          "text": [
            "loading data with up to 8 elements in the formula\n"
          ]
        },
        {
          "name": "stderr",
          "output_type": "stream",
          "text": [
            "Generating EDM: 100%|██████████| 9920/9920 [00:00<00:00, 107891.78formulae/s]\n"
          ]
        },
        {
          "name": "stdout",
          "output_type": "stream",
          "text": [
            "loading data with up to 8 elements in the formula\n",
            "val RMSE:  7.514408372608866\n",
            "Fitting mod_petti kernel matrix\n",
            "Constructing distances\n",
            "[fit-wasserstein]\n",
            "Elapsed: 30.41723\n",
            "\n"
          ]
        },
        {
          "name": "stderr",
          "output_type": "stream",
          "text": [
            "/usr/local/lib/python3.7/dist-packages/umap/umap_.py:1780: UserWarning:\n",
            "\n",
            "using precomputed metric; inverse_transform will be unavailable\n",
            "\n"
          ]
        },
        {
          "name": "stdout",
          "output_type": "stream",
          "text": [
            "[fit-UMAP]\n",
            "Elapsed: 155.63757\n",
            "\n"
          ]
        },
        {
          "name": "stderr",
          "output_type": "stream",
          "text": [
            "/usr/local/lib/python3.7/dist-packages/umap/umap_.py:1780: UserWarning:\n",
            "\n",
            "using precomputed metric; inverse_transform will be unavailable\n",
            "\n"
          ]
        },
        {
          "name": "stdout",
          "output_type": "stream",
          "text": [
            "[fit-vis-UMAP]\n",
            "Elapsed: 106.63822\n",
            "\n",
            "[DensMAP]\n",
            "Elapsed: 262.40234\n",
            "\n",
            "[HDBSCAN*]\n",
            "Elapsed: 2.18759\n",
            "\n",
            "[pdf-summation]\n",
            "Elapsed: 33.33141\n",
            "\n",
            "[gridded-pdf-summation]\n",
            "Elapsed: 33.8533\n",
            "\n",
            "[train-val-pdf-summation]\n",
            "Elapsed: 12.14492\n",
            "\n",
            "[nearest-neighbor-properties]\n",
            "Elapsed: 14.9371\n",
            "\n",
            "\n",
            "Done with iteration 2\n",
            "\n"
          ]
        },
        {
          "name": "stderr",
          "output_type": "stream",
          "text": [
            "Generating EDM: 100%|██████████| 12415/12415 [00:00<00:00, 95132.65formulae/s]\n"
          ]
        },
        {
          "name": "stdout",
          "output_type": "stream",
          "text": [
            "loading data with up to 8 elements in the formula\n"
          ]
        },
        {
          "name": "stderr",
          "output_type": "stream",
          "text": [
            "Generating EDM: 100%|██████████| 9920/9920 [00:00<00:00, 110843.96formulae/s]\n"
          ]
        },
        {
          "name": "stdout",
          "output_type": "stream",
          "text": [
            "loading data with up to 8 elements in the formula\n",
            "val RMSE:  7.728863849586114\n",
            "Fitting mod_petti kernel matrix\n",
            "Constructing distances\n",
            "[fit-wasserstein]\n",
            "Elapsed: 30.40119\n",
            "\n"
          ]
        },
        {
          "name": "stderr",
          "output_type": "stream",
          "text": [
            "/usr/local/lib/python3.7/dist-packages/umap/umap_.py:1780: UserWarning:\n",
            "\n",
            "using precomputed metric; inverse_transform will be unavailable\n",
            "\n"
          ]
        },
        {
          "name": "stdout",
          "output_type": "stream",
          "text": [
            "[fit-UMAP]\n",
            "Elapsed: 156.5854\n",
            "\n"
          ]
        },
        {
          "name": "stderr",
          "output_type": "stream",
          "text": [
            "/usr/local/lib/python3.7/dist-packages/umap/umap_.py:1780: UserWarning:\n",
            "\n",
            "using precomputed metric; inverse_transform will be unavailable\n",
            "\n"
          ]
        },
        {
          "name": "stdout",
          "output_type": "stream",
          "text": [
            "[fit-vis-UMAP]\n",
            "Elapsed: 106.6503\n",
            "\n",
            "[DensMAP]\n",
            "Elapsed: 263.36734\n",
            "\n",
            "[HDBSCAN*]\n",
            "Elapsed: 2.17606\n",
            "\n",
            "[pdf-summation]\n",
            "Elapsed: 29.43788\n",
            "\n",
            "[gridded-pdf-summation]\n",
            "Elapsed: 29.91425\n",
            "\n",
            "[train-val-pdf-summation]\n",
            "Elapsed: 12.07979\n",
            "\n",
            "[nearest-neighbor-properties]\n",
            "Elapsed: 15.58991\n",
            "\n",
            "\n",
            "Done with iteration 3\n",
            "\n"
          ]
        },
        {
          "name": "stderr",
          "output_type": "stream",
          "text": [
            "Generating EDM: 100%|██████████| 12415/12415 [00:00<00:00, 92357.04formulae/s]\n"
          ]
        },
        {
          "name": "stdout",
          "output_type": "stream",
          "text": [
            "loading data with up to 8 elements in the formula\n"
          ]
        },
        {
          "name": "stderr",
          "output_type": "stream",
          "text": [
            "Generating EDM: 100%|██████████| 9920/9920 [00:00<00:00, 102056.20formulae/s]\n"
          ]
        },
        {
          "name": "stdout",
          "output_type": "stream",
          "text": [
            "loading data with up to 8 elements in the formula\n",
            "val RMSE:  7.571421467087651\n",
            "Fitting mod_petti kernel matrix\n",
            "Constructing distances\n",
            "[fit-wasserstein]\n",
            "Elapsed: 30.40205\n",
            "\n"
          ]
        },
        {
          "name": "stderr",
          "output_type": "stream",
          "text": [
            "/usr/local/lib/python3.7/dist-packages/umap/umap_.py:1780: UserWarning:\n",
            "\n",
            "using precomputed metric; inverse_transform will be unavailable\n",
            "\n"
          ]
        },
        {
          "name": "stdout",
          "output_type": "stream",
          "text": [
            "[fit-UMAP]\n",
            "Elapsed: 152.77383\n",
            "\n"
          ]
        },
        {
          "name": "stderr",
          "output_type": "stream",
          "text": [
            "/usr/local/lib/python3.7/dist-packages/umap/umap_.py:1780: UserWarning:\n",
            "\n",
            "using precomputed metric; inverse_transform will be unavailable\n",
            "\n"
          ]
        },
        {
          "name": "stdout",
          "output_type": "stream",
          "text": [
            "[fit-vis-UMAP]\n",
            "Elapsed: 105.81095\n",
            "\n",
            "[DensMAP]\n",
            "Elapsed: 258.72348\n",
            "\n",
            "[HDBSCAN*]\n",
            "Elapsed: 2.11782\n",
            "\n",
            "[pdf-summation]\n",
            "Elapsed: 29.4746\n",
            "\n",
            "[gridded-pdf-summation]\n",
            "Elapsed: 29.89908\n",
            "\n",
            "[train-val-pdf-summation]\n",
            "Elapsed: 11.46912\n",
            "\n",
            "[nearest-neighbor-properties]\n",
            "Elapsed: 14.08831\n",
            "\n",
            "\n",
            "Done with iteration 4\n",
            "\n"
          ]
        },
        {
          "name": "stderr",
          "output_type": "stream",
          "text": [
            "Generating EDM: 100%|██████████| 12415/12415 [00:00<00:00, 88684.09formulae/s]\n"
          ]
        },
        {
          "name": "stdout",
          "output_type": "stream",
          "text": [
            "loading data with up to 8 elements in the formula\n"
          ]
        },
        {
          "name": "stderr",
          "output_type": "stream",
          "text": [
            "Generating EDM: 100%|██████████| 9920/9920 [00:00<00:00, 113031.60formulae/s]\n"
          ]
        },
        {
          "name": "stdout",
          "output_type": "stream",
          "text": [
            "loading data with up to 8 elements in the formula\n",
            "val RMSE:  7.5176946292169875\n",
            "Fitting mod_petti kernel matrix\n",
            "Constructing distances\n",
            "[fit-wasserstein]\n",
            "Elapsed: 30.17848\n",
            "\n"
          ]
        },
        {
          "name": "stderr",
          "output_type": "stream",
          "text": [
            "/usr/local/lib/python3.7/dist-packages/umap/umap_.py:1780: UserWarning:\n",
            "\n",
            "using precomputed metric; inverse_transform will be unavailable\n",
            "\n"
          ]
        },
        {
          "name": "stdout",
          "output_type": "stream",
          "text": [
            "[fit-UMAP]\n",
            "Elapsed: 151.73538\n",
            "\n"
          ]
        },
        {
          "name": "stderr",
          "output_type": "stream",
          "text": [
            "/usr/local/lib/python3.7/dist-packages/umap/umap_.py:1780: UserWarning:\n",
            "\n",
            "using precomputed metric; inverse_transform will be unavailable\n",
            "\n"
          ]
        },
        {
          "name": "stdout",
          "output_type": "stream",
          "text": [
            "[fit-vis-UMAP]\n",
            "Elapsed: 107.05705\n",
            "\n",
            "[DensMAP]\n",
            "Elapsed: 258.92259\n",
            "\n",
            "[HDBSCAN*]\n",
            "Elapsed: 2.11748\n",
            "\n",
            "[pdf-summation]\n",
            "Elapsed: 29.44706\n",
            "\n",
            "[gridded-pdf-summation]\n",
            "Elapsed: 29.85629\n",
            "\n",
            "[train-val-pdf-summation]\n",
            "Elapsed: 11.59798\n",
            "\n",
            "[nearest-neighbor-properties]\n",
            "Elapsed: 14.8873\n",
            "\n",
            "\n",
            "Done with iteration 5\n",
            "\n"
          ]
        },
        {
          "name": "stderr",
          "output_type": "stream",
          "text": [
            "Generating EDM: 100%|██████████| 12415/12415 [00:00<00:00, 97319.18formulae/s] \n"
          ]
        },
        {
          "name": "stdout",
          "output_type": "stream",
          "text": [
            "loading data with up to 8 elements in the formula\n"
          ]
        },
        {
          "name": "stderr",
          "output_type": "stream",
          "text": [
            "Generating EDM: 100%|██████████| 9920/9920 [00:00<00:00, 114616.78formulae/s]\n"
          ]
        },
        {
          "name": "stdout",
          "output_type": "stream",
          "text": [
            "loading data with up to 8 elements in the formula\n",
            "val RMSE:  7.510014065991247\n",
            "Fitting mod_petti kernel matrix\n",
            "Constructing distances\n",
            "[fit-wasserstein]\n",
            "Elapsed: 30.7999\n",
            "\n"
          ]
        },
        {
          "name": "stderr",
          "output_type": "stream",
          "text": [
            "/usr/local/lib/python3.7/dist-packages/umap/umap_.py:1780: UserWarning:\n",
            "\n",
            "using precomputed metric; inverse_transform will be unavailable\n",
            "\n"
          ]
        },
        {
          "name": "stdout",
          "output_type": "stream",
          "text": [
            "[fit-UMAP]\n",
            "Elapsed: 153.56388\n",
            "\n"
          ]
        },
        {
          "name": "stderr",
          "output_type": "stream",
          "text": [
            "/usr/local/lib/python3.7/dist-packages/umap/umap_.py:1780: UserWarning:\n",
            "\n",
            "using precomputed metric; inverse_transform will be unavailable\n",
            "\n"
          ]
        },
        {
          "name": "stdout",
          "output_type": "stream",
          "text": [
            "[fit-vis-UMAP]\n",
            "Elapsed: 107.57375\n",
            "\n",
            "[DensMAP]\n",
            "Elapsed: 261.26705\n",
            "\n",
            "[HDBSCAN*]\n",
            "Elapsed: 2.14648\n",
            "\n",
            "[pdf-summation]\n",
            "Elapsed: 30.02652\n",
            "\n",
            "[gridded-pdf-summation]\n",
            "Elapsed: 30.40649\n",
            "\n",
            "[train-val-pdf-summation]\n",
            "Elapsed: 11.49723\n",
            "\n",
            "[nearest-neighbor-properties]\n",
            "Elapsed: 14.6622\n",
            "\n",
            "\n",
            "Done with iteration 6\n",
            "\n"
          ]
        },
        {
          "name": "stderr",
          "output_type": "stream",
          "text": [
            "Generating EDM: 100%|██████████| 12415/12415 [00:00<00:00, 97147.43formulae/s] \n"
          ]
        },
        {
          "name": "stdout",
          "output_type": "stream",
          "text": [
            "loading data with up to 8 elements in the formula\n"
          ]
        },
        {
          "name": "stderr",
          "output_type": "stream",
          "text": [
            "Generating EDM: 100%|██████████| 9920/9920 [00:00<00:00, 109067.19formulae/s]\n"
          ]
        },
        {
          "name": "stdout",
          "output_type": "stream",
          "text": [
            "loading data with up to 8 elements in the formula\n",
            "val RMSE:  7.394491569265343\n",
            "Fitting mod_petti kernel matrix\n",
            "Constructing distances\n",
            "[fit-wasserstein]\n",
            "Elapsed: 30.06484\n",
            "\n"
          ]
        },
        {
          "name": "stderr",
          "output_type": "stream",
          "text": [
            "/usr/local/lib/python3.7/dist-packages/umap/umap_.py:1780: UserWarning:\n",
            "\n",
            "using precomputed metric; inverse_transform will be unavailable\n",
            "\n"
          ]
        },
        {
          "name": "stdout",
          "output_type": "stream",
          "text": [
            "[fit-UMAP]\n",
            "Elapsed: 153.78781\n",
            "\n"
          ]
        },
        {
          "name": "stderr",
          "output_type": "stream",
          "text": [
            "/usr/local/lib/python3.7/dist-packages/umap/umap_.py:1780: UserWarning:\n",
            "\n",
            "using precomputed metric; inverse_transform will be unavailable\n",
            "\n"
          ]
        },
        {
          "name": "stdout",
          "output_type": "stream",
          "text": [
            "[fit-vis-UMAP]\n",
            "Elapsed: 105.57152\n",
            "\n",
            "[DensMAP]\n",
            "Elapsed: 259.49123\n",
            "\n",
            "[HDBSCAN*]\n",
            "Elapsed: 2.14574\n",
            "\n",
            "[pdf-summation]\n",
            "Elapsed: 29.57162\n",
            "\n",
            "[gridded-pdf-summation]\n",
            "Elapsed: 29.93908\n",
            "\n",
            "[train-val-pdf-summation]\n",
            "Elapsed: 12.19402\n",
            "\n",
            "[nearest-neighbor-properties]\n",
            "Elapsed: 15.32527\n",
            "\n",
            "\n",
            "Done with iteration 7\n",
            "\n"
          ]
        },
        {
          "name": "stderr",
          "output_type": "stream",
          "text": [
            "Generating EDM: 100%|██████████| 12415/12415 [00:00<00:00, 95864.55formulae/s]\n"
          ]
        },
        {
          "name": "stdout",
          "output_type": "stream",
          "text": [
            "loading data with up to 8 elements in the formula\n"
          ]
        },
        {
          "name": "stderr",
          "output_type": "stream",
          "text": [
            "Generating EDM: 100%|██████████| 9920/9920 [00:00<00:00, 111843.60formulae/s]\n"
          ]
        },
        {
          "name": "stdout",
          "output_type": "stream",
          "text": [
            "loading data with up to 8 elements in the formula\n",
            "val RMSE:  7.778855740128315\n",
            "Fitting mod_petti kernel matrix\n",
            "Constructing distances\n",
            "[fit-wasserstein]\n",
            "Elapsed: 30.47561\n",
            "\n"
          ]
        },
        {
          "name": "stderr",
          "output_type": "stream",
          "text": [
            "/usr/local/lib/python3.7/dist-packages/umap/umap_.py:1780: UserWarning:\n",
            "\n",
            "using precomputed metric; inverse_transform will be unavailable\n",
            "\n"
          ]
        },
        {
          "name": "stdout",
          "output_type": "stream",
          "text": [
            "[fit-UMAP]\n",
            "Elapsed: 152.90785\n",
            "\n"
          ]
        },
        {
          "name": "stderr",
          "output_type": "stream",
          "text": [
            "/usr/local/lib/python3.7/dist-packages/umap/umap_.py:1780: UserWarning:\n",
            "\n",
            "using precomputed metric; inverse_transform will be unavailable\n",
            "\n"
          ]
        },
        {
          "name": "stdout",
          "output_type": "stream",
          "text": [
            "[fit-vis-UMAP]\n",
            "Elapsed: 105.94641\n",
            "\n",
            "[DensMAP]\n",
            "Elapsed: 258.98204\n",
            "\n",
            "[HDBSCAN*]\n",
            "Elapsed: 2.17804\n",
            "\n",
            "[pdf-summation]\n",
            "Elapsed: 29.459\n",
            "\n",
            "[gridded-pdf-summation]\n",
            "Elapsed: 29.81924\n",
            "\n",
            "[train-val-pdf-summation]\n",
            "Elapsed: 11.48022\n",
            "\n",
            "[nearest-neighbor-properties]\n",
            "Elapsed: 14.48185\n",
            "\n",
            "\n",
            "Done with iteration 8\n",
            "\n"
          ]
        },
        {
          "name": "stderr",
          "output_type": "stream",
          "text": [
            "Generating EDM: 100%|██████████| 12415/12415 [00:00<00:00, 91999.85formulae/s]\n"
          ]
        },
        {
          "name": "stdout",
          "output_type": "stream",
          "text": [
            "loading data with up to 8 elements in the formula\n"
          ]
        },
        {
          "name": "stderr",
          "output_type": "stream",
          "text": [
            "Generating EDM: 100%|██████████| 9920/9920 [00:00<00:00, 113837.20formulae/s]\n"
          ]
        },
        {
          "name": "stdout",
          "output_type": "stream",
          "text": [
            "loading data with up to 8 elements in the formula\n",
            "val RMSE:  7.64724510630063\n",
            "Fitting mod_petti kernel matrix\n",
            "Constructing distances\n",
            "[fit-wasserstein]\n",
            "Elapsed: 30.79966\n",
            "\n"
          ]
        },
        {
          "name": "stderr",
          "output_type": "stream",
          "text": [
            "/usr/local/lib/python3.7/dist-packages/umap/umap_.py:1780: UserWarning:\n",
            "\n",
            "using precomputed metric; inverse_transform will be unavailable\n",
            "\n"
          ]
        },
        {
          "name": "stdout",
          "output_type": "stream",
          "text": [
            "[fit-UMAP]\n",
            "Elapsed: 153.33681\n",
            "\n"
          ]
        },
        {
          "name": "stderr",
          "output_type": "stream",
          "text": [
            "/usr/local/lib/python3.7/dist-packages/umap/umap_.py:1780: UserWarning:\n",
            "\n",
            "using precomputed metric; inverse_transform will be unavailable\n",
            "\n"
          ]
        },
        {
          "name": "stdout",
          "output_type": "stream",
          "text": [
            "[fit-vis-UMAP]\n",
            "Elapsed: 105.65721\n",
            "\n",
            "[DensMAP]\n",
            "Elapsed: 259.11976\n",
            "\n",
            "[HDBSCAN*]\n",
            "Elapsed: 2.19359\n",
            "\n",
            "[pdf-summation]\n",
            "Elapsed: 30.16311\n",
            "\n",
            "[gridded-pdf-summation]\n",
            "Elapsed: 30.5054\n",
            "\n",
            "[train-val-pdf-summation]\n",
            "Elapsed: 11.53371\n",
            "\n",
            "[nearest-neighbor-properties]\n",
            "Elapsed: 15.35478\n",
            "\n",
            "\n",
            "Done with iteration 9\n",
            "\n"
          ]
        },
        {
          "name": "stderr",
          "output_type": "stream",
          "text": [
            "Generating EDM: 100%|██████████| 12415/12415 [00:00<00:00, 97971.94formulae/s]\n"
          ]
        },
        {
          "name": "stdout",
          "output_type": "stream",
          "text": [
            "loading data with up to 8 elements in the formula\n"
          ]
        },
        {
          "name": "stderr",
          "output_type": "stream",
          "text": [
            "Generating EDM: 100%|██████████| 9920/9920 [00:00<00:00, 110908.37formulae/s]\n"
          ]
        },
        {
          "name": "stdout",
          "output_type": "stream",
          "text": [
            "loading data with up to 8 elements in the formula\n",
            "val RMSE:  7.742893767038757\n",
            "Fitting mod_petti kernel matrix\n",
            "Constructing distances\n",
            "[fit-wasserstein]\n",
            "Elapsed: 30.28486\n",
            "\n"
          ]
        },
        {
          "name": "stderr",
          "output_type": "stream",
          "text": [
            "/usr/local/lib/python3.7/dist-packages/umap/umap_.py:1780: UserWarning:\n",
            "\n",
            "using precomputed metric; inverse_transform will be unavailable\n",
            "\n"
          ]
        },
        {
          "name": "stdout",
          "output_type": "stream",
          "text": [
            "[fit-UMAP]\n",
            "Elapsed: 154.28355\n",
            "\n"
          ]
        },
        {
          "name": "stderr",
          "output_type": "stream",
          "text": [
            "/usr/local/lib/python3.7/dist-packages/umap/umap_.py:1780: UserWarning:\n",
            "\n",
            "using precomputed metric; inverse_transform will be unavailable\n",
            "\n"
          ]
        },
        {
          "name": "stdout",
          "output_type": "stream",
          "text": [
            "[fit-vis-UMAP]\n",
            "Elapsed: 107.07091\n",
            "\n",
            "[DensMAP]\n",
            "Elapsed: 261.48846\n",
            "\n",
            "[HDBSCAN*]\n",
            "Elapsed: 2.18983\n",
            "\n",
            "[pdf-summation]\n",
            "Elapsed: 29.45458\n",
            "\n",
            "[gridded-pdf-summation]\n",
            "Elapsed: 29.78877\n",
            "\n",
            "[train-val-pdf-summation]\n",
            "Elapsed: 11.64438\n",
            "\n",
            "[nearest-neighbor-properties]\n",
            "Elapsed: 14.38546\n",
            "\n",
            "\n",
            "Done with iteration 10\n",
            "\n"
          ]
        },
        {
          "name": "stderr",
          "output_type": "stream",
          "text": [
            "Generating EDM: 100%|██████████| 12415/12415 [00:00<00:00, 94000.25formulae/s]\n"
          ]
        },
        {
          "name": "stdout",
          "output_type": "stream",
          "text": [
            "loading data with up to 8 elements in the formula\n"
          ]
        },
        {
          "name": "stderr",
          "output_type": "stream",
          "text": [
            "Generating EDM: 100%|██████████| 9920/9920 [00:00<00:00, 111960.37formulae/s]\n"
          ]
        },
        {
          "name": "stdout",
          "output_type": "stream",
          "text": [
            "loading data with up to 8 elements in the formula\n",
            "val RMSE:  7.9770730786803\n",
            "Fitting mod_petti kernel matrix\n",
            "Constructing distances\n",
            "[fit-wasserstein]\n",
            "Elapsed: 30.715\n",
            "\n"
          ]
        },
        {
          "name": "stderr",
          "output_type": "stream",
          "text": [
            "/usr/local/lib/python3.7/dist-packages/umap/umap_.py:1780: UserWarning:\n",
            "\n",
            "using precomputed metric; inverse_transform will be unavailable\n",
            "\n"
          ]
        },
        {
          "name": "stdout",
          "output_type": "stream",
          "text": [
            "[fit-UMAP]\n",
            "Elapsed: 152.97845\n",
            "\n"
          ]
        },
        {
          "name": "stderr",
          "output_type": "stream",
          "text": [
            "/usr/local/lib/python3.7/dist-packages/umap/umap_.py:1780: UserWarning:\n",
            "\n",
            "using precomputed metric; inverse_transform will be unavailable\n",
            "\n"
          ]
        },
        {
          "name": "stdout",
          "output_type": "stream",
          "text": [
            "[fit-vis-UMAP]\n",
            "Elapsed: 106.04169\n",
            "\n",
            "[DensMAP]\n",
            "Elapsed: 259.14485\n",
            "\n",
            "[HDBSCAN*]\n",
            "Elapsed: 2.15078\n",
            "\n",
            "[pdf-summation]\n",
            "Elapsed: 29.45604\n",
            "\n",
            "[gridded-pdf-summation]\n",
            "Elapsed: 29.77306\n",
            "\n",
            "[train-val-pdf-summation]\n",
            "Elapsed: 12.41598\n",
            "\n",
            "[nearest-neighbor-properties]\n",
            "Elapsed: 15.48487\n",
            "\n",
            "\n",
            "Done with iteration 11\n",
            "\n"
          ]
        },
        {
          "name": "stderr",
          "output_type": "stream",
          "text": [
            "Generating EDM: 100%|██████████| 12415/12415 [00:00<00:00, 96405.52formulae/s]\n"
          ]
        },
        {
          "name": "stdout",
          "output_type": "stream",
          "text": [
            "loading data with up to 8 elements in the formula\n"
          ]
        },
        {
          "name": "stderr",
          "output_type": "stream",
          "text": [
            "Generating EDM: 100%|██████████| 9920/9920 [00:00<00:00, 113952.55formulae/s]\n"
          ]
        },
        {
          "name": "stdout",
          "output_type": "stream",
          "text": [
            "loading data with up to 8 elements in the formula\n",
            "val RMSE:  7.577011114968033\n",
            "Fitting mod_petti kernel matrix\n",
            "Constructing distances\n",
            "[fit-wasserstein]\n",
            "Elapsed: 30.22182\n",
            "\n"
          ]
        },
        {
          "name": "stderr",
          "output_type": "stream",
          "text": [
            "/usr/local/lib/python3.7/dist-packages/umap/umap_.py:1780: UserWarning:\n",
            "\n",
            "using precomputed metric; inverse_transform will be unavailable\n",
            "\n"
          ]
        },
        {
          "name": "stdout",
          "output_type": "stream",
          "text": [
            "[fit-UMAP]\n",
            "Elapsed: 153.09003\n",
            "\n"
          ]
        },
        {
          "name": "stderr",
          "output_type": "stream",
          "text": [
            "/usr/local/lib/python3.7/dist-packages/umap/umap_.py:1780: UserWarning:\n",
            "\n",
            "using precomputed metric; inverse_transform will be unavailable\n",
            "\n"
          ]
        },
        {
          "name": "stdout",
          "output_type": "stream",
          "text": [
            "[fit-vis-UMAP]\n",
            "Elapsed: 106.20289\n",
            "\n",
            "[DensMAP]\n",
            "Elapsed: 259.4221\n",
            "\n",
            "[HDBSCAN*]\n",
            "Elapsed: 2.15901\n",
            "\n",
            "[pdf-summation]\n",
            "Elapsed: 29.42991\n",
            "\n",
            "[gridded-pdf-summation]\n",
            "Elapsed: 29.73766\n",
            "\n",
            "[train-val-pdf-summation]\n",
            "Elapsed: 11.53474\n",
            "\n",
            "[nearest-neighbor-properties]\n",
            "Elapsed: 15.02932\n",
            "\n",
            "\n",
            "Done with iteration 12\n",
            "\n"
          ]
        },
        {
          "name": "stderr",
          "output_type": "stream",
          "text": [
            "Generating EDM: 100%|██████████| 12415/12415 [00:00<00:00, 93024.43formulae/s]\n"
          ]
        },
        {
          "name": "stdout",
          "output_type": "stream",
          "text": [
            "loading data with up to 8 elements in the formula\n"
          ]
        },
        {
          "name": "stderr",
          "output_type": "stream",
          "text": [
            "Generating EDM: 100%|██████████| 9920/9920 [00:00<00:00, 111934.77formulae/s]\n"
          ]
        },
        {
          "name": "stdout",
          "output_type": "stream",
          "text": [
            "loading data with up to 8 elements in the formula\n",
            "val RMSE:  7.704815446452655\n",
            "Fitting mod_petti kernel matrix\n",
            "Constructing distances\n",
            "[fit-wasserstein]\n",
            "Elapsed: 30.14777\n",
            "\n"
          ]
        },
        {
          "name": "stderr",
          "output_type": "stream",
          "text": [
            "/usr/local/lib/python3.7/dist-packages/umap/umap_.py:1780: UserWarning:\n",
            "\n",
            "using precomputed metric; inverse_transform will be unavailable\n",
            "\n"
          ]
        },
        {
          "name": "stdout",
          "output_type": "stream",
          "text": [
            "[fit-UMAP]\n",
            "Elapsed: 153.64857\n",
            "\n"
          ]
        },
        {
          "name": "stderr",
          "output_type": "stream",
          "text": [
            "/usr/local/lib/python3.7/dist-packages/umap/umap_.py:1780: UserWarning:\n",
            "\n",
            "using precomputed metric; inverse_transform will be unavailable\n",
            "\n"
          ]
        },
        {
          "name": "stdout",
          "output_type": "stream",
          "text": [
            "[fit-vis-UMAP]\n",
            "Elapsed: 105.06998\n",
            "\n",
            "[DensMAP]\n",
            "Elapsed: 258.84337\n",
            "\n",
            "[HDBSCAN*]\n",
            "Elapsed: 2.18549\n",
            "\n",
            "[pdf-summation]\n",
            "Elapsed: 29.40385\n",
            "\n",
            "[gridded-pdf-summation]\n",
            "Elapsed: 29.7111\n",
            "\n",
            "[train-val-pdf-summation]\n",
            "Elapsed: 12.19411\n",
            "\n",
            "[nearest-neighbor-properties]\n",
            "Elapsed: 15.4458\n",
            "\n",
            "\n",
            "Done with iteration 13\n",
            "\n"
          ]
        },
        {
          "name": "stderr",
          "output_type": "stream",
          "text": [
            "Generating EDM: 100%|██████████| 12415/12415 [00:00<00:00, 97424.61formulae/s]\n"
          ]
        },
        {
          "name": "stdout",
          "output_type": "stream",
          "text": [
            "loading data with up to 8 elements in the formula\n"
          ]
        },
        {
          "name": "stderr",
          "output_type": "stream",
          "text": [
            "Generating EDM: 100%|██████████| 9920/9920 [00:00<00:00, 105053.25formulae/s]\n"
          ]
        },
        {
          "name": "stdout",
          "output_type": "stream",
          "text": [
            "loading data with up to 8 elements in the formula\n",
            "val RMSE:  7.654748094439763\n",
            "Fitting mod_petti kernel matrix\n",
            "Constructing distances\n",
            "[fit-wasserstein]\n",
            "Elapsed: 30.22404\n",
            "\n"
          ]
        },
        {
          "name": "stderr",
          "output_type": "stream",
          "text": [
            "/usr/local/lib/python3.7/dist-packages/umap/umap_.py:1780: UserWarning:\n",
            "\n",
            "using precomputed metric; inverse_transform will be unavailable\n",
            "\n"
          ]
        },
        {
          "name": "stdout",
          "output_type": "stream",
          "text": [
            "[fit-UMAP]\n",
            "Elapsed: 153.916\n",
            "\n"
          ]
        },
        {
          "name": "stderr",
          "output_type": "stream",
          "text": [
            "/usr/local/lib/python3.7/dist-packages/umap/umap_.py:1780: UserWarning:\n",
            "\n",
            "using precomputed metric; inverse_transform will be unavailable\n",
            "\n"
          ]
        },
        {
          "name": "stdout",
          "output_type": "stream",
          "text": [
            "[fit-vis-UMAP]\n",
            "Elapsed: 105.73588\n",
            "\n",
            "[DensMAP]\n",
            "Elapsed: 259.78289\n",
            "\n",
            "[HDBSCAN*]\n",
            "Elapsed: 2.21986\n",
            "\n",
            "[pdf-summation]\n",
            "Elapsed: 30.45799\n",
            "\n",
            "[gridded-pdf-summation]\n",
            "Elapsed: 30.7671\n",
            "\n",
            "[train-val-pdf-summation]\n",
            "Elapsed: 11.54092\n",
            "\n",
            "[nearest-neighbor-properties]\n",
            "Elapsed: 14.96593\n",
            "\n",
            "\n",
            "Done with iteration 14\n",
            "\n"
          ]
        },
        {
          "name": "stderr",
          "output_type": "stream",
          "text": [
            "Generating EDM: 100%|██████████| 12415/12415 [00:00<00:00, 93007.65formulae/s]\n"
          ]
        },
        {
          "name": "stdout",
          "output_type": "stream",
          "text": [
            "loading data with up to 8 elements in the formula\n"
          ]
        },
        {
          "name": "stderr",
          "output_type": "stream",
          "text": [
            "Generating EDM: 100%|██████████| 9920/9920 [00:00<00:00, 107826.08formulae/s]\n"
          ]
        },
        {
          "name": "stdout",
          "output_type": "stream",
          "text": [
            "loading data with up to 8 elements in the formula\n",
            "val RMSE:  7.690562223491664\n",
            "Fitting mod_petti kernel matrix\n",
            "Constructing distances\n",
            "[fit-wasserstein]\n",
            "Elapsed: 30.05856\n",
            "\n"
          ]
        },
        {
          "name": "stderr",
          "output_type": "stream",
          "text": [
            "/usr/local/lib/python3.7/dist-packages/umap/umap_.py:1780: UserWarning:\n",
            "\n",
            "using precomputed metric; inverse_transform will be unavailable\n",
            "\n"
          ]
        },
        {
          "name": "stdout",
          "output_type": "stream",
          "text": [
            "[fit-UMAP]\n",
            "Elapsed: 154.58825\n",
            "\n"
          ]
        },
        {
          "name": "stderr",
          "output_type": "stream",
          "text": [
            "/usr/local/lib/python3.7/dist-packages/umap/umap_.py:1780: UserWarning:\n",
            "\n",
            "using precomputed metric; inverse_transform will be unavailable\n",
            "\n"
          ]
        },
        {
          "name": "stdout",
          "output_type": "stream",
          "text": [
            "[fit-vis-UMAP]\n",
            "Elapsed: 106.97005\n",
            "\n",
            "[DensMAP]\n",
            "Elapsed: 261.68246\n",
            "\n",
            "[HDBSCAN*]\n",
            "Elapsed: 2.17797\n",
            "\n",
            "[pdf-summation]\n",
            "Elapsed: 29.48163\n",
            "\n",
            "[gridded-pdf-summation]\n",
            "Elapsed: 29.78081\n",
            "\n",
            "[train-val-pdf-summation]\n",
            "Elapsed: 11.44698\n",
            "\n",
            "[nearest-neighbor-properties]\n",
            "Elapsed: 14.97084\n",
            "\n",
            "\n",
            "Done with iteration 15\n",
            "\n"
          ]
        },
        {
          "name": "stderr",
          "output_type": "stream",
          "text": [
            "Generating EDM: 100%|██████████| 12415/12415 [00:00<00:00, 96197.14formulae/s]\n"
          ]
        },
        {
          "name": "stdout",
          "output_type": "stream",
          "text": [
            "loading data with up to 8 elements in the formula\n"
          ]
        },
        {
          "name": "stderr",
          "output_type": "stream",
          "text": [
            "Generating EDM: 100%|██████████| 9920/9920 [00:00<00:00, 114477.08formulae/s]\n"
          ]
        },
        {
          "name": "stdout",
          "output_type": "stream",
          "text": [
            "loading data with up to 8 elements in the formula\n",
            "val RMSE:  7.628603119101006\n",
            "Fitting mod_petti kernel matrix\n",
            "Constructing distances\n",
            "[fit-wasserstein]\n",
            "Elapsed: 30.99596\n",
            "\n"
          ]
        },
        {
          "name": "stderr",
          "output_type": "stream",
          "text": [
            "/usr/local/lib/python3.7/dist-packages/umap/umap_.py:1780: UserWarning:\n",
            "\n",
            "using precomputed metric; inverse_transform will be unavailable\n",
            "\n"
          ]
        },
        {
          "name": "stdout",
          "output_type": "stream",
          "text": [
            "[fit-UMAP]\n",
            "Elapsed: 153.15201\n",
            "\n"
          ]
        },
        {
          "name": "stderr",
          "output_type": "stream",
          "text": [
            "/usr/local/lib/python3.7/dist-packages/umap/umap_.py:1780: UserWarning:\n",
            "\n",
            "using precomputed metric; inverse_transform will be unavailable\n",
            "\n"
          ]
        },
        {
          "name": "stdout",
          "output_type": "stream",
          "text": [
            "[fit-vis-UMAP]\n",
            "Elapsed: 105.23004\n",
            "\n",
            "[DensMAP]\n",
            "Elapsed: 258.51409\n",
            "\n",
            "[HDBSCAN*]\n",
            "Elapsed: 2.24023\n",
            "\n",
            "[pdf-summation]\n",
            "Elapsed: 29.46205\n",
            "\n",
            "[gridded-pdf-summation]\n",
            "Elapsed: 29.76343\n",
            "\n",
            "[train-val-pdf-summation]\n",
            "Elapsed: 12.33142\n",
            "\n",
            "[nearest-neighbor-properties]\n",
            "Elapsed: 15.26566\n",
            "\n",
            "\n",
            "Done with iteration 16\n",
            "\n"
          ]
        },
        {
          "name": "stderr",
          "output_type": "stream",
          "text": [
            "Generating EDM: 100%|██████████| 12415/12415 [00:00<00:00, 92242.52formulae/s]\n"
          ]
        },
        {
          "name": "stdout",
          "output_type": "stream",
          "text": [
            "loading data with up to 8 elements in the formula\n"
          ]
        },
        {
          "name": "stderr",
          "output_type": "stream",
          "text": [
            "Generating EDM: 100%|██████████| 9920/9920 [00:00<00:00, 111503.41formulae/s]\n"
          ]
        },
        {
          "name": "stdout",
          "output_type": "stream",
          "text": [
            "loading data with up to 8 elements in the formula\n",
            "val RMSE:  7.6882754345193955\n",
            "Fitting mod_petti kernel matrix\n",
            "Constructing distances\n",
            "[fit-wasserstein]\n",
            "Elapsed: 30.08794\n",
            "\n"
          ]
        },
        {
          "name": "stderr",
          "output_type": "stream",
          "text": [
            "/usr/local/lib/python3.7/dist-packages/umap/umap_.py:1780: UserWarning:\n",
            "\n",
            "using precomputed metric; inverse_transform will be unavailable\n",
            "\n"
          ]
        },
        {
          "name": "stdout",
          "output_type": "stream",
          "text": [
            "[fit-UMAP]\n",
            "Elapsed: 153.01795\n",
            "\n"
          ]
        },
        {
          "name": "stderr",
          "output_type": "stream",
          "text": [
            "/usr/local/lib/python3.7/dist-packages/umap/umap_.py:1780: UserWarning:\n",
            "\n",
            "using precomputed metric; inverse_transform will be unavailable\n",
            "\n"
          ]
        },
        {
          "name": "stdout",
          "output_type": "stream",
          "text": [
            "[fit-vis-UMAP]\n",
            "Elapsed: 105.67915\n",
            "\n",
            "[DensMAP]\n",
            "Elapsed: 258.8175\n",
            "\n",
            "[HDBSCAN*]\n",
            "Elapsed: 2.1889\n",
            "\n",
            "[pdf-summation]\n",
            "Elapsed: 30.51412\n",
            "\n",
            "[gridded-pdf-summation]\n",
            "Elapsed: 30.81505\n",
            "\n",
            "[train-val-pdf-summation]\n",
            "Elapsed: 11.67648\n",
            "\n",
            "[nearest-neighbor-properties]\n",
            "Elapsed: 15.13894\n",
            "\n",
            "\n",
            "Done with iteration 17\n",
            "\n"
          ]
        },
        {
          "name": "stderr",
          "output_type": "stream",
          "text": [
            "Generating EDM: 100%|██████████| 12415/12415 [00:00<00:00, 93449.63formulae/s]\n"
          ]
        },
        {
          "name": "stdout",
          "output_type": "stream",
          "text": [
            "loading data with up to 8 elements in the formula\n"
          ]
        },
        {
          "name": "stderr",
          "output_type": "stream",
          "text": [
            "Generating EDM: 100%|██████████| 9920/9920 [00:00<00:00, 111697.38formulae/s]\n"
          ]
        },
        {
          "name": "stdout",
          "output_type": "stream",
          "text": [
            "loading data with up to 8 elements in the formula\n",
            "val RMSE:  7.803012181357002\n",
            "Fitting mod_petti kernel matrix\n",
            "Constructing distances\n",
            "[fit-wasserstein]\n",
            "Elapsed: 30.26128\n",
            "\n"
          ]
        },
        {
          "name": "stderr",
          "output_type": "stream",
          "text": [
            "/usr/local/lib/python3.7/dist-packages/umap/umap_.py:1780: UserWarning:\n",
            "\n",
            "using precomputed metric; inverse_transform will be unavailable\n",
            "\n"
          ]
        },
        {
          "name": "stdout",
          "output_type": "stream",
          "text": [
            "[fit-UMAP]\n",
            "Elapsed: 154.88662\n",
            "\n"
          ]
        },
        {
          "name": "stderr",
          "output_type": "stream",
          "text": [
            "/usr/local/lib/python3.7/dist-packages/umap/umap_.py:1780: UserWarning:\n",
            "\n",
            "using precomputed metric; inverse_transform will be unavailable\n",
            "\n"
          ]
        },
        {
          "name": "stdout",
          "output_type": "stream",
          "text": [
            "[fit-vis-UMAP]\n",
            "Elapsed: 107.57803\n",
            "\n",
            "[DensMAP]\n",
            "Elapsed: 262.59413\n",
            "\n",
            "[HDBSCAN*]\n",
            "Elapsed: 2.18509\n",
            "\n",
            "[pdf-summation]\n",
            "Elapsed: 30.05414\n",
            "\n",
            "[gridded-pdf-summation]\n",
            "Elapsed: 30.34945\n",
            "\n",
            "[train-val-pdf-summation]\n",
            "Elapsed: 11.61808\n",
            "\n",
            "[nearest-neighbor-properties]\n",
            "Elapsed: 15.14678\n",
            "\n",
            "\n",
            "Done with iteration 18\n",
            "\n"
          ]
        },
        {
          "name": "stderr",
          "output_type": "stream",
          "text": [
            "Generating EDM: 100%|██████████| 12415/12415 [00:00<00:00, 97492.65formulae/s]\n"
          ]
        },
        {
          "name": "stdout",
          "output_type": "stream",
          "text": [
            "loading data with up to 8 elements in the formula\n"
          ]
        },
        {
          "name": "stderr",
          "output_type": "stream",
          "text": [
            "Generating EDM: 100%|██████████| 9920/9920 [00:00<00:00, 110274.03formulae/s]\n"
          ]
        },
        {
          "name": "stdout",
          "output_type": "stream",
          "text": [
            "loading data with up to 8 elements in the formula\n",
            "val RMSE:  7.554541566804466\n",
            "Fitting mod_petti kernel matrix\n",
            "Constructing distances\n",
            "[fit-wasserstein]\n",
            "Elapsed: 30.21479\n",
            "\n"
          ]
        },
        {
          "name": "stderr",
          "output_type": "stream",
          "text": [
            "/usr/local/lib/python3.7/dist-packages/umap/umap_.py:1780: UserWarning:\n",
            "\n",
            "using precomputed metric; inverse_transform will be unavailable\n",
            "\n"
          ]
        },
        {
          "name": "stdout",
          "output_type": "stream",
          "text": [
            "[fit-UMAP]\n",
            "Elapsed: 154.77494\n",
            "\n"
          ]
        },
        {
          "name": "stderr",
          "output_type": "stream",
          "text": [
            "/usr/local/lib/python3.7/dist-packages/umap/umap_.py:1780: UserWarning:\n",
            "\n",
            "using precomputed metric; inverse_transform will be unavailable\n",
            "\n"
          ]
        },
        {
          "name": "stdout",
          "output_type": "stream",
          "text": [
            "[fit-vis-UMAP]\n",
            "Elapsed: 106.80764\n",
            "\n",
            "[DensMAP]\n",
            "Elapsed: 261.71233\n",
            "\n",
            "[HDBSCAN*]\n",
            "Elapsed: 2.19043\n",
            "\n",
            "[pdf-summation]\n",
            "Elapsed: 29.56056\n",
            "\n",
            "[gridded-pdf-summation]\n",
            "Elapsed: 29.85697\n",
            "\n",
            "[train-val-pdf-summation]\n",
            "Elapsed: 11.46429\n",
            "\n",
            "[nearest-neighbor-properties]\n",
            "Elapsed: 14.29662\n",
            "\n",
            "\n",
            "Done with iteration 19\n",
            "\n"
          ]
        },
        {
          "name": "stderr",
          "output_type": "stream",
          "text": [
            "Generating EDM: 100%|██████████| 12415/12415 [00:00<00:00, 97822.31formulae/s] \n"
          ]
        },
        {
          "name": "stdout",
          "output_type": "stream",
          "text": [
            "loading data with up to 8 elements in the formula\n"
          ]
        },
        {
          "name": "stderr",
          "output_type": "stream",
          "text": [
            "Generating EDM: 100%|██████████| 9920/9920 [00:00<00:00, 111558.41formulae/s]\n"
          ]
        },
        {
          "name": "stdout",
          "output_type": "stream",
          "text": [
            "loading data with up to 8 elements in the formula\n",
            "val RMSE:  7.673159333613023\n",
            "Fitting mod_petti kernel matrix\n",
            "Constructing distances\n",
            "[fit-wasserstein]\n",
            "Elapsed: 31.30639\n",
            "\n"
          ]
        },
        {
          "name": "stderr",
          "output_type": "stream",
          "text": [
            "/usr/local/lib/python3.7/dist-packages/umap/umap_.py:1780: UserWarning:\n",
            "\n",
            "using precomputed metric; inverse_transform will be unavailable\n",
            "\n"
          ]
        },
        {
          "name": "stdout",
          "output_type": "stream",
          "text": [
            "[fit-UMAP]\n",
            "Elapsed: 153.12173\n",
            "\n"
          ]
        },
        {
          "name": "stderr",
          "output_type": "stream",
          "text": [
            "/usr/local/lib/python3.7/dist-packages/umap/umap_.py:1780: UserWarning:\n",
            "\n",
            "using precomputed metric; inverse_transform will be unavailable\n",
            "\n"
          ]
        },
        {
          "name": "stdout",
          "output_type": "stream",
          "text": [
            "[fit-vis-UMAP]\n",
            "Elapsed: 105.57593\n",
            "\n",
            "[DensMAP]\n",
            "Elapsed: 258.82765\n",
            "\n",
            "[HDBSCAN*]\n",
            "Elapsed: 2.21249\n",
            "\n",
            "[pdf-summation]\n",
            "Elapsed: 29.16651\n",
            "\n",
            "[gridded-pdf-summation]\n",
            "Elapsed: 29.45471\n",
            "\n",
            "[train-val-pdf-summation]\n",
            "Elapsed: 12.43472\n",
            "\n",
            "[nearest-neighbor-properties]\n",
            "Elapsed: 15.25869\n",
            "\n",
            "\n",
            "Done with iteration 20\n",
            "\n"
          ]
        },
        {
          "name": "stderr",
          "output_type": "stream",
          "text": [
            "Generating EDM: 100%|██████████| 12415/12415 [00:00<00:00, 94720.62formulae/s]\n"
          ]
        },
        {
          "name": "stdout",
          "output_type": "stream",
          "text": [
            "loading data with up to 8 elements in the formula\n"
          ]
        },
        {
          "name": "stderr",
          "output_type": "stream",
          "text": [
            "Generating EDM: 100%|██████████| 9920/9920 [00:00<00:00, 110407.47formulae/s]\n"
          ]
        },
        {
          "name": "stdout",
          "output_type": "stream",
          "text": [
            "loading data with up to 8 elements in the formula\n",
            "val RMSE:  7.891669894887444\n",
            "Fitting mod_petti kernel matrix\n",
            "Constructing distances\n",
            "[fit-wasserstein]\n",
            "Elapsed: 30.07725\n",
            "\n"
          ]
        },
        {
          "name": "stderr",
          "output_type": "stream",
          "text": [
            "/usr/local/lib/python3.7/dist-packages/umap/umap_.py:1780: UserWarning:\n",
            "\n",
            "using precomputed metric; inverse_transform will be unavailable\n",
            "\n"
          ]
        },
        {
          "name": "stdout",
          "output_type": "stream",
          "text": [
            "[fit-UMAP]\n",
            "Elapsed: 152.72244\n",
            "\n"
          ]
        },
        {
          "name": "stderr",
          "output_type": "stream",
          "text": [
            "/usr/local/lib/python3.7/dist-packages/umap/umap_.py:1780: UserWarning:\n",
            "\n",
            "using precomputed metric; inverse_transform will be unavailable\n",
            "\n"
          ]
        },
        {
          "name": "stdout",
          "output_type": "stream",
          "text": [
            "[fit-vis-UMAP]\n",
            "Elapsed: 105.8178\n",
            "\n",
            "[DensMAP]\n",
            "Elapsed: 258.66448\n",
            "\n",
            "[HDBSCAN*]\n",
            "Elapsed: 2.26902\n",
            "\n",
            "[pdf-summation]\n",
            "Elapsed: 30.67754\n",
            "\n",
            "[gridded-pdf-summation]\n",
            "Elapsed: 30.96245\n",
            "\n",
            "[train-val-pdf-summation]\n",
            "Elapsed: 11.53754\n",
            "\n",
            "[nearest-neighbor-properties]\n",
            "Elapsed: 14.74825\n",
            "\n",
            "\n",
            "Done with iteration 21\n",
            "\n"
          ]
        },
        {
          "name": "stderr",
          "output_type": "stream",
          "text": [
            "Generating EDM: 100%|██████████| 12415/12415 [00:00<00:00, 95592.66formulae/s]\n"
          ]
        },
        {
          "name": "stdout",
          "output_type": "stream",
          "text": [
            "loading data with up to 8 elements in the formula\n"
          ]
        },
        {
          "name": "stderr",
          "output_type": "stream",
          "text": [
            "Generating EDM: 100%|██████████| 9920/9920 [00:00<00:00, 109224.37formulae/s]\n"
          ]
        },
        {
          "name": "stdout",
          "output_type": "stream",
          "text": [
            "loading data with up to 8 elements in the formula\n",
            "val RMSE:  8.265510898225559\n",
            "Fitting mod_petti kernel matrix\n",
            "Constructing distances\n",
            "[fit-wasserstein]\n",
            "Elapsed: 30.33642\n",
            "\n"
          ]
        },
        {
          "name": "stderr",
          "output_type": "stream",
          "text": [
            "/usr/local/lib/python3.7/dist-packages/umap/umap_.py:1780: UserWarning:\n",
            "\n",
            "using precomputed metric; inverse_transform will be unavailable\n",
            "\n"
          ]
        },
        {
          "name": "stdout",
          "output_type": "stream",
          "text": [
            "[fit-UMAP]\n",
            "Elapsed: 152.21654\n",
            "\n"
          ]
        },
        {
          "name": "stderr",
          "output_type": "stream",
          "text": [
            "/usr/local/lib/python3.7/dist-packages/umap/umap_.py:1780: UserWarning:\n",
            "\n",
            "using precomputed metric; inverse_transform will be unavailable\n",
            "\n"
          ]
        },
        {
          "name": "stdout",
          "output_type": "stream",
          "text": [
            "[fit-vis-UMAP]\n",
            "Elapsed: 106.70971\n",
            "\n",
            "[DensMAP]\n",
            "Elapsed: 259.06242\n",
            "\n",
            "[HDBSCAN*]\n",
            "Elapsed: 2.20085\n",
            "\n",
            "[pdf-summation]\n",
            "Elapsed: 29.53255\n",
            "\n",
            "[gridded-pdf-summation]\n",
            "Elapsed: 29.81075\n",
            "\n",
            "[train-val-pdf-summation]\n",
            "Elapsed: 11.51065\n",
            "\n",
            "[nearest-neighbor-properties]\n",
            "Elapsed: 14.45214\n",
            "\n",
            "\n",
            "Done with iteration 22\n",
            "\n"
          ]
        },
        {
          "name": "stderr",
          "output_type": "stream",
          "text": [
            "Generating EDM: 100%|██████████| 12415/12415 [00:00<00:00, 95943.33formulae/s]\n"
          ]
        },
        {
          "name": "stdout",
          "output_type": "stream",
          "text": [
            "loading data with up to 8 elements in the formula\n"
          ]
        },
        {
          "name": "stderr",
          "output_type": "stream",
          "text": [
            "Generating EDM: 100%|██████████| 9920/9920 [00:00<00:00, 109879.72formulae/s]\n"
          ]
        },
        {
          "name": "stdout",
          "output_type": "stream",
          "text": [
            "loading data with up to 8 elements in the formula\n",
            "val RMSE:  7.713106634100107\n",
            "Fitting mod_petti kernel matrix\n",
            "Constructing distances\n",
            "[fit-wasserstein]\n",
            "Elapsed: 30.166\n",
            "\n"
          ]
        },
        {
          "name": "stderr",
          "output_type": "stream",
          "text": [
            "/usr/local/lib/python3.7/dist-packages/umap/umap_.py:1780: UserWarning:\n",
            "\n",
            "using precomputed metric; inverse_transform will be unavailable\n",
            "\n"
          ]
        },
        {
          "name": "stdout",
          "output_type": "stream",
          "text": [
            "[fit-UMAP]\n",
            "Elapsed: 155.7695\n",
            "\n"
          ]
        },
        {
          "name": "stderr",
          "output_type": "stream",
          "text": [
            "/usr/local/lib/python3.7/dist-packages/umap/umap_.py:1780: UserWarning:\n",
            "\n",
            "using precomputed metric; inverse_transform will be unavailable\n",
            "\n"
          ]
        },
        {
          "name": "stdout",
          "output_type": "stream",
          "text": [
            "[fit-vis-UMAP]\n",
            "Elapsed: 106.00066\n",
            "\n",
            "[DensMAP]\n",
            "Elapsed: 261.89617\n",
            "\n",
            "[HDBSCAN*]\n",
            "Elapsed: 2.19901\n",
            "\n",
            "[pdf-summation]\n",
            "Elapsed: 30.16317\n",
            "\n",
            "[gridded-pdf-summation]\n",
            "Elapsed: 30.44573\n",
            "\n",
            "[train-val-pdf-summation]\n",
            "Elapsed: 11.63967\n",
            "\n",
            "[nearest-neighbor-properties]\n",
            "Elapsed: 14.58724\n",
            "\n",
            "\n",
            "Done with iteration 23\n",
            "\n"
          ]
        },
        {
          "name": "stderr",
          "output_type": "stream",
          "text": [
            "Generating EDM: 100%|██████████| 12415/12415 [00:00<00:00, 92101.23formulae/s]\n"
          ]
        },
        {
          "name": "stdout",
          "output_type": "stream",
          "text": [
            "loading data with up to 8 elements in the formula\n"
          ]
        },
        {
          "name": "stderr",
          "output_type": "stream",
          "text": [
            "Generating EDM: 100%|██████████| 9920/9920 [00:00<00:00, 109684.20formulae/s]\n"
          ]
        },
        {
          "name": "stdout",
          "output_type": "stream",
          "text": [
            "loading data with up to 8 elements in the formula\n",
            "val RMSE:  8.065349828972105\n",
            "Fitting mod_petti kernel matrix\n",
            "Constructing distances\n",
            "[fit-wasserstein]\n",
            "Elapsed: 30.3217\n",
            "\n"
          ]
        },
        {
          "name": "stderr",
          "output_type": "stream",
          "text": [
            "/usr/local/lib/python3.7/dist-packages/umap/umap_.py:1780: UserWarning:\n",
            "\n",
            "using precomputed metric; inverse_transform will be unavailable\n",
            "\n"
          ]
        },
        {
          "name": "stdout",
          "output_type": "stream",
          "text": [
            "[fit-UMAP]\n",
            "Elapsed: 154.71947\n",
            "\n"
          ]
        },
        {
          "name": "stderr",
          "output_type": "stream",
          "text": [
            "/usr/local/lib/python3.7/dist-packages/umap/umap_.py:1780: UserWarning:\n",
            "\n",
            "using precomputed metric; inverse_transform will be unavailable\n",
            "\n"
          ]
        },
        {
          "name": "stdout",
          "output_type": "stream",
          "text": [
            "[fit-vis-UMAP]\n",
            "Elapsed: 106.15234\n",
            "\n",
            "[DensMAP]\n",
            "Elapsed: 261.00594\n",
            "\n",
            "[HDBSCAN*]\n",
            "Elapsed: 2.17841\n",
            "\n",
            "[pdf-summation]\n",
            "Elapsed: 29.51993\n",
            "\n",
            "[gridded-pdf-summation]\n",
            "Elapsed: 29.81342\n",
            "\n",
            "[train-val-pdf-summation]\n",
            "Elapsed: 11.43753\n",
            "\n",
            "[nearest-neighbor-properties]\n",
            "Elapsed: 14.14983\n",
            "\n",
            "\n",
            "Done with iteration 24\n",
            "\n"
          ]
        },
        {
          "name": "stderr",
          "output_type": "stream",
          "text": [
            "Generating EDM: 100%|██████████| 12415/12415 [00:00<00:00, 91893.35formulae/s]\n"
          ]
        },
        {
          "name": "stdout",
          "output_type": "stream",
          "text": [
            "loading data with up to 8 elements in the formula\n"
          ]
        },
        {
          "name": "stderr",
          "output_type": "stream",
          "text": [
            "Generating EDM: 100%|██████████| 9920/9920 [00:00<00:00, 109256.50formulae/s]\n"
          ]
        },
        {
          "name": "stdout",
          "output_type": "stream",
          "text": [
            "loading data with up to 8 elements in the formula\n",
            "val RMSE:  7.770429907323881\n",
            "Fitting mod_petti kernel matrix\n",
            "Constructing distances\n",
            "[fit-wasserstein]\n",
            "Elapsed: 30.91231\n",
            "\n"
          ]
        },
        {
          "name": "stderr",
          "output_type": "stream",
          "text": [
            "/usr/local/lib/python3.7/dist-packages/umap/umap_.py:1780: UserWarning:\n",
            "\n",
            "using precomputed metric; inverse_transform will be unavailable\n",
            "\n"
          ]
        },
        {
          "name": "stdout",
          "output_type": "stream",
          "text": [
            "[fit-UMAP]\n",
            "Elapsed: 152.37547\n",
            "\n"
          ]
        },
        {
          "name": "stderr",
          "output_type": "stream",
          "text": [
            "/usr/local/lib/python3.7/dist-packages/umap/umap_.py:1780: UserWarning:\n",
            "\n",
            "using precomputed metric; inverse_transform will be unavailable\n",
            "\n"
          ]
        },
        {
          "name": "stdout",
          "output_type": "stream",
          "text": [
            "[fit-vis-UMAP]\n",
            "Elapsed: 104.86047\n",
            "\n",
            "[DensMAP]\n",
            "Elapsed: 257.36258\n",
            "\n",
            "[HDBSCAN*]\n",
            "Elapsed: 2.18781\n",
            "\n",
            "[pdf-summation]\n",
            "Elapsed: 29.4108\n",
            "\n",
            "[gridded-pdf-summation]\n",
            "Elapsed: 29.69959\n",
            "\n",
            "[train-val-pdf-summation]\n",
            "Elapsed: 11.47828\n",
            "\n",
            "[nearest-neighbor-properties]\n",
            "Elapsed: 14.59627\n",
            "\n",
            "\n",
            "Done with iteration 25\n",
            "\n"
          ]
        },
        {
          "name": "stderr",
          "output_type": "stream",
          "text": [
            "Generating EDM: 100%|██████████| 12415/12415 [00:00<00:00, 96181.51formulae/s]\n"
          ]
        },
        {
          "name": "stdout",
          "output_type": "stream",
          "text": [
            "loading data with up to 8 elements in the formula\n"
          ]
        },
        {
          "name": "stderr",
          "output_type": "stream",
          "text": [
            "Generating EDM: 100%|██████████| 9920/9920 [00:00<00:00, 109313.04formulae/s]\n"
          ]
        },
        {
          "name": "stdout",
          "output_type": "stream",
          "text": [
            "loading data with up to 8 elements in the formula\n",
            "val RMSE:  7.707747274131619\n",
            "Fitting mod_petti kernel matrix\n",
            "Constructing distances\n",
            "[fit-wasserstein]\n",
            "Elapsed: 30.1611\n",
            "\n"
          ]
        },
        {
          "name": "stderr",
          "output_type": "stream",
          "text": [
            "/usr/local/lib/python3.7/dist-packages/umap/umap_.py:1780: UserWarning:\n",
            "\n",
            "using precomputed metric; inverse_transform will be unavailable\n",
            "\n"
          ]
        },
        {
          "name": "stdout",
          "output_type": "stream",
          "text": [
            "[fit-UMAP]\n",
            "Elapsed: 151.8666\n",
            "\n"
          ]
        },
        {
          "name": "stderr",
          "output_type": "stream",
          "text": [
            "/usr/local/lib/python3.7/dist-packages/umap/umap_.py:1780: UserWarning:\n",
            "\n",
            "using precomputed metric; inverse_transform will be unavailable\n",
            "\n"
          ]
        },
        {
          "name": "stdout",
          "output_type": "stream",
          "text": [
            "[fit-vis-UMAP]\n",
            "Elapsed: 105.32755\n",
            "\n",
            "[DensMAP]\n",
            "Elapsed: 257.32517\n",
            "\n",
            "[HDBSCAN*]\n",
            "Elapsed: 2.23324\n",
            "\n",
            "[pdf-summation]\n",
            "Elapsed: 29.1606\n",
            "\n",
            "[gridded-pdf-summation]\n",
            "Elapsed: 29.44998\n",
            "\n",
            "[train-val-pdf-summation]\n",
            "Elapsed: 12.36036\n",
            "\n",
            "[nearest-neighbor-properties]\n",
            "Elapsed: 14.98063\n",
            "\n",
            "\n",
            "Done with iteration 26\n",
            "\n"
          ]
        },
        {
          "name": "stderr",
          "output_type": "stream",
          "text": [
            "Generating EDM: 100%|██████████| 12415/12415 [00:00<00:00, 97599.18formulae/s]\n"
          ]
        },
        {
          "name": "stdout",
          "output_type": "stream",
          "text": [
            "loading data with up to 8 elements in the formula\n"
          ]
        },
        {
          "name": "stderr",
          "output_type": "stream",
          "text": [
            "Generating EDM: 100%|██████████| 9920/9920 [00:00<00:00, 110084.97formulae/s]\n"
          ]
        },
        {
          "name": "stdout",
          "output_type": "stream",
          "text": [
            "loading data with up to 8 elements in the formula\n",
            "val RMSE:  7.410663701093703\n",
            "Fitting mod_petti kernel matrix\n",
            "Constructing distances\n",
            "[fit-wasserstein]\n",
            "Elapsed: 30.07562\n",
            "\n"
          ]
        },
        {
          "name": "stderr",
          "output_type": "stream",
          "text": [
            "/usr/local/lib/python3.7/dist-packages/umap/umap_.py:1780: UserWarning:\n",
            "\n",
            "using precomputed metric; inverse_transform will be unavailable\n",
            "\n"
          ]
        },
        {
          "name": "stdout",
          "output_type": "stream",
          "text": [
            "[fit-UMAP]\n",
            "Elapsed: 153.9739\n",
            "\n"
          ]
        },
        {
          "name": "stderr",
          "output_type": "stream",
          "text": [
            "/usr/local/lib/python3.7/dist-packages/umap/umap_.py:1780: UserWarning:\n",
            "\n",
            "using precomputed metric; inverse_transform will be unavailable\n",
            "\n"
          ]
        },
        {
          "name": "stdout",
          "output_type": "stream",
          "text": [
            "[fit-vis-UMAP]\n",
            "Elapsed: 106.5745\n",
            "\n",
            "[DensMAP]\n",
            "Elapsed: 260.67487\n",
            "\n",
            "[HDBSCAN*]\n",
            "Elapsed: 2.21455\n",
            "\n",
            "[pdf-summation]\n",
            "Elapsed: 29.78289\n",
            "\n",
            "[gridded-pdf-summation]\n",
            "Elapsed: 30.06994\n",
            "\n",
            "[train-val-pdf-summation]\n",
            "Elapsed: 12.45667\n",
            "\n",
            "[nearest-neighbor-properties]\n",
            "Elapsed: 15.08337\n",
            "\n",
            "\n",
            "Done with iteration 27\n",
            "\n"
          ]
        },
        {
          "name": "stderr",
          "output_type": "stream",
          "text": [
            "Generating EDM: 100%|██████████| 12415/12415 [00:00<00:00, 94034.54formulae/s]\n"
          ]
        },
        {
          "name": "stdout",
          "output_type": "stream",
          "text": [
            "loading data with up to 8 elements in the formula\n"
          ]
        },
        {
          "name": "stderr",
          "output_type": "stream",
          "text": [
            "Generating EDM: 100%|██████████| 9920/9920 [00:00<00:00, 110950.95formulae/s]\n"
          ]
        },
        {
          "name": "stdout",
          "output_type": "stream",
          "text": [
            "loading data with up to 8 elements in the formula\n",
            "val RMSE:  7.781148187775334\n",
            "Fitting mod_petti kernel matrix\n",
            "Constructing distances\n",
            "[fit-wasserstein]\n",
            "Elapsed: 30.37847\n",
            "\n"
          ]
        },
        {
          "name": "stderr",
          "output_type": "stream",
          "text": [
            "/usr/local/lib/python3.7/dist-packages/umap/umap_.py:1780: UserWarning:\n",
            "\n",
            "using precomputed metric; inverse_transform will be unavailable\n",
            "\n"
          ]
        },
        {
          "name": "stdout",
          "output_type": "stream",
          "text": [
            "[fit-UMAP]\n",
            "Elapsed: 153.9949\n",
            "\n"
          ]
        },
        {
          "name": "stderr",
          "output_type": "stream",
          "text": [
            "/usr/local/lib/python3.7/dist-packages/umap/umap_.py:1780: UserWarning:\n",
            "\n",
            "using precomputed metric; inverse_transform will be unavailable\n",
            "\n"
          ]
        },
        {
          "name": "stdout",
          "output_type": "stream",
          "text": [
            "[fit-vis-UMAP]\n",
            "Elapsed: 106.41038\n",
            "\n",
            "[DensMAP]\n",
            "Elapsed: 260.53861\n",
            "\n",
            "[HDBSCAN*]\n",
            "Elapsed: 2.25948\n",
            "\n",
            "[pdf-summation]\n",
            "Elapsed: 30.83597\n",
            "\n",
            "[gridded-pdf-summation]\n",
            "Elapsed: 31.11716\n",
            "\n",
            "[train-val-pdf-summation]\n",
            "Elapsed: 11.72186\n",
            "\n",
            "[nearest-neighbor-properties]\n",
            "Elapsed: 14.3562\n",
            "\n",
            "\n",
            "Done with iteration 28\n",
            "\n"
          ]
        },
        {
          "name": "stderr",
          "output_type": "stream",
          "text": [
            "Generating EDM: 100%|██████████| 12415/12415 [00:00<00:00, 95897.57formulae/s]\n"
          ]
        },
        {
          "name": "stdout",
          "output_type": "stream",
          "text": [
            "loading data with up to 8 elements in the formula\n"
          ]
        },
        {
          "name": "stderr",
          "output_type": "stream",
          "text": [
            "Generating EDM: 100%|██████████| 9920/9920 [00:00<00:00, 107928.17formulae/s]\n"
          ]
        },
        {
          "name": "stdout",
          "output_type": "stream",
          "text": [
            "loading data with up to 8 elements in the formula\n",
            "val RMSE:  8.019563737919547\n",
            "Fitting mod_petti kernel matrix\n",
            "Constructing distances\n",
            "[fit-wasserstein]\n",
            "Elapsed: 30.14069\n",
            "\n"
          ]
        },
        {
          "name": "stderr",
          "output_type": "stream",
          "text": [
            "/usr/local/lib/python3.7/dist-packages/umap/umap_.py:1780: UserWarning:\n",
            "\n",
            "using precomputed metric; inverse_transform will be unavailable\n",
            "\n"
          ]
        },
        {
          "name": "stdout",
          "output_type": "stream",
          "text": [
            "[fit-UMAP]\n",
            "Elapsed: 153.72403\n",
            "\n"
          ]
        },
        {
          "name": "stderr",
          "output_type": "stream",
          "text": [
            "/usr/local/lib/python3.7/dist-packages/umap/umap_.py:1780: UserWarning:\n",
            "\n",
            "using precomputed metric; inverse_transform will be unavailable\n",
            "\n"
          ]
        },
        {
          "name": "stdout",
          "output_type": "stream",
          "text": [
            "[fit-vis-UMAP]\n",
            "Elapsed: 105.66626\n",
            "\n",
            "[DensMAP]\n",
            "Elapsed: 259.51862\n",
            "\n",
            "[HDBSCAN*]\n",
            "Elapsed: 2.17055\n",
            "\n",
            "[pdf-summation]\n",
            "Elapsed: 30.86027\n",
            "\n",
            "[gridded-pdf-summation]\n",
            "Elapsed: 31.14633\n",
            "\n",
            "[train-val-pdf-summation]\n",
            "Elapsed: 11.47252\n",
            "\n",
            "[nearest-neighbor-properties]\n",
            "Elapsed: 14.92631\n",
            "\n",
            "\n",
            "Done with iteration 29\n",
            "\n"
          ]
        },
        {
          "name": "stderr",
          "output_type": "stream",
          "text": [
            "Generating EDM: 100%|██████████| 12415/12415 [00:00<00:00, 93985.32formulae/s]\n"
          ]
        },
        {
          "name": "stdout",
          "output_type": "stream",
          "text": [
            "loading data with up to 8 elements in the formula\n"
          ]
        },
        {
          "name": "stderr",
          "output_type": "stream",
          "text": [
            "Generating EDM: 100%|██████████| 9920/9920 [00:00<00:00, 112832.05formulae/s]\n"
          ]
        },
        {
          "name": "stdout",
          "output_type": "stream",
          "text": [
            "loading data with up to 8 elements in the formula\n",
            "val RMSE:  7.479777842467827\n",
            "Fitting mod_petti kernel matrix\n",
            "Constructing distances\n",
            "[fit-wasserstein]\n",
            "Elapsed: 30.26599\n",
            "\n"
          ]
        },
        {
          "name": "stderr",
          "output_type": "stream",
          "text": [
            "/usr/local/lib/python3.7/dist-packages/umap/umap_.py:1780: UserWarning:\n",
            "\n",
            "using precomputed metric; inverse_transform will be unavailable\n",
            "\n"
          ]
        },
        {
          "name": "stdout",
          "output_type": "stream",
          "text": [
            "[fit-UMAP]\n",
            "Elapsed: 153.32129\n",
            "\n"
          ]
        },
        {
          "name": "stderr",
          "output_type": "stream",
          "text": [
            "/usr/local/lib/python3.7/dist-packages/umap/umap_.py:1780: UserWarning:\n",
            "\n",
            "using precomputed metric; inverse_transform will be unavailable\n",
            "\n"
          ]
        },
        {
          "name": "stdout",
          "output_type": "stream",
          "text": [
            "[fit-vis-UMAP]\n",
            "Elapsed: 106.01296\n",
            "\n",
            "[DensMAP]\n",
            "Elapsed: 259.4645\n",
            "\n",
            "[HDBSCAN*]\n",
            "Elapsed: 2.21541\n",
            "\n",
            "[pdf-summation]\n",
            "Elapsed: 30.73921\n",
            "\n",
            "[gridded-pdf-summation]\n",
            "Elapsed: 31.0229\n",
            "\n",
            "[train-val-pdf-summation]\n",
            "Elapsed: 11.61034\n",
            "\n",
            "[nearest-neighbor-properties]\n",
            "Elapsed: 14.1617\n",
            "\n",
            "\n",
            "Done with iteration 30\n",
            "\n"
          ]
        },
        {
          "name": "stderr",
          "output_type": "stream",
          "text": [
            "Generating EDM: 100%|██████████| 12415/12415 [00:00<00:00, 94792.70formulae/s]\n"
          ]
        },
        {
          "name": "stdout",
          "output_type": "stream",
          "text": [
            "loading data with up to 8 elements in the formula\n"
          ]
        },
        {
          "name": "stderr",
          "output_type": "stream",
          "text": [
            "Generating EDM: 100%|██████████| 9920/9920 [00:00<00:00, 111385.80formulae/s]\n"
          ]
        },
        {
          "name": "stdout",
          "output_type": "stream",
          "text": [
            "loading data with up to 8 elements in the formula\n",
            "val RMSE:  7.784253662615765\n",
            "Fitting mod_petti kernel matrix\n",
            "Constructing distances\n",
            "[fit-wasserstein]\n",
            "Elapsed: 30.21363\n",
            "\n"
          ]
        },
        {
          "name": "stderr",
          "output_type": "stream",
          "text": [
            "/usr/local/lib/python3.7/dist-packages/umap/umap_.py:1780: UserWarning:\n",
            "\n",
            "using precomputed metric; inverse_transform will be unavailable\n",
            "\n"
          ]
        },
        {
          "name": "stdout",
          "output_type": "stream",
          "text": [
            "[fit-UMAP]\n",
            "Elapsed: 153.36495\n",
            "\n"
          ]
        },
        {
          "name": "stderr",
          "output_type": "stream",
          "text": [
            "/usr/local/lib/python3.7/dist-packages/umap/umap_.py:1780: UserWarning:\n",
            "\n",
            "using precomputed metric; inverse_transform will be unavailable\n",
            "\n"
          ]
        },
        {
          "name": "stdout",
          "output_type": "stream",
          "text": [
            "[fit-vis-UMAP]\n",
            "Elapsed: 106.02817\n",
            "\n",
            "[DensMAP]\n",
            "Elapsed: 259.51694\n",
            "\n",
            "[HDBSCAN*]\n",
            "Elapsed: 2.22258\n",
            "\n",
            "[pdf-summation]\n",
            "Elapsed: 30.85089\n",
            "\n",
            "[gridded-pdf-summation]\n",
            "Elapsed: 31.13588\n",
            "\n",
            "[train-val-pdf-summation]\n",
            "Elapsed: 11.50482\n",
            "\n",
            "[nearest-neighbor-properties]\n",
            "Elapsed: 14.0983\n",
            "\n",
            "\n",
            "Done with iteration 31\n",
            "\n"
          ]
        },
        {
          "name": "stderr",
          "output_type": "stream",
          "text": [
            "Generating EDM: 100%|██████████| 12415/12415 [00:00<00:00, 91265.86formulae/s]\n"
          ]
        },
        {
          "name": "stdout",
          "output_type": "stream",
          "text": [
            "loading data with up to 8 elements in the formula\n"
          ]
        },
        {
          "name": "stderr",
          "output_type": "stream",
          "text": [
            "Generating EDM: 100%|██████████| 9920/9920 [00:00<00:00, 109965.68formulae/s]\n"
          ]
        },
        {
          "name": "stdout",
          "output_type": "stream",
          "text": [
            "loading data with up to 8 elements in the formula\n",
            "val RMSE:  7.9600024221571655\n",
            "Fitting mod_petti kernel matrix\n",
            "Constructing distances\n",
            "[fit-wasserstein]\n",
            "Elapsed: 30.30221\n",
            "\n"
          ]
        },
        {
          "name": "stderr",
          "output_type": "stream",
          "text": [
            "/usr/local/lib/python3.7/dist-packages/umap/umap_.py:1780: UserWarning:\n",
            "\n",
            "using precomputed metric; inverse_transform will be unavailable\n",
            "\n"
          ]
        },
        {
          "name": "stdout",
          "output_type": "stream",
          "text": [
            "[fit-UMAP]\n",
            "Elapsed: 153.12185\n",
            "\n"
          ]
        },
        {
          "name": "stderr",
          "output_type": "stream",
          "text": [
            "/usr/local/lib/python3.7/dist-packages/umap/umap_.py:1780: UserWarning:\n",
            "\n",
            "using precomputed metric; inverse_transform will be unavailable\n",
            "\n"
          ]
        },
        {
          "name": "stdout",
          "output_type": "stream",
          "text": [
            "[fit-vis-UMAP]\n",
            "Elapsed: 105.24314\n",
            "\n",
            "[DensMAP]\n",
            "Elapsed: 258.49299\n",
            "\n",
            "[HDBSCAN*]\n",
            "Elapsed: 2.20121\n",
            "\n",
            "[pdf-summation]\n",
            "Elapsed: 30.33413\n",
            "\n",
            "[gridded-pdf-summation]\n",
            "Elapsed: 30.60877\n",
            "\n",
            "[train-val-pdf-summation]\n",
            "Elapsed: 11.47911\n",
            "\n",
            "[nearest-neighbor-properties]\n",
            "Elapsed: 14.41995\n",
            "\n",
            "\n",
            "Done with iteration 32\n",
            "\n"
          ]
        },
        {
          "name": "stderr",
          "output_type": "stream",
          "text": [
            "Generating EDM: 100%|██████████| 12415/12415 [00:00<00:00, 92487.45formulae/s]\n"
          ]
        },
        {
          "name": "stdout",
          "output_type": "stream",
          "text": [
            "loading data with up to 8 elements in the formula\n"
          ]
        },
        {
          "name": "stderr",
          "output_type": "stream",
          "text": [
            "Generating EDM: 100%|██████████| 9920/9920 [00:00<00:00, 111979.05formulae/s]\n"
          ]
        },
        {
          "name": "stdout",
          "output_type": "stream",
          "text": [
            "loading data with up to 8 elements in the formula\n",
            "val RMSE:  7.991933116567326\n",
            "Fitting mod_petti kernel matrix\n",
            "Constructing distances\n",
            "[fit-wasserstein]\n",
            "Elapsed: 30.07543\n",
            "\n"
          ]
        },
        {
          "name": "stderr",
          "output_type": "stream",
          "text": [
            "/usr/local/lib/python3.7/dist-packages/umap/umap_.py:1780: UserWarning:\n",
            "\n",
            "using precomputed metric; inverse_transform will be unavailable\n",
            "\n"
          ]
        },
        {
          "name": "stdout",
          "output_type": "stream",
          "text": [
            "[fit-UMAP]\n",
            "Elapsed: 153.98748\n",
            "\n"
          ]
        },
        {
          "name": "stderr",
          "output_type": "stream",
          "text": [
            "/usr/local/lib/python3.7/dist-packages/umap/umap_.py:1780: UserWarning:\n",
            "\n",
            "using precomputed metric; inverse_transform will be unavailable\n",
            "\n"
          ]
        },
        {
          "name": "stdout",
          "output_type": "stream",
          "text": [
            "[fit-vis-UMAP]\n",
            "Elapsed: 106.82794\n",
            "\n",
            "[DensMAP]\n",
            "Elapsed: 260.94222\n",
            "\n",
            "[HDBSCAN*]\n",
            "Elapsed: 2.24514\n",
            "\n",
            "[pdf-summation]\n",
            "Elapsed: 30.22403\n",
            "\n",
            "[gridded-pdf-summation]\n",
            "Elapsed: 30.49715\n",
            "\n",
            "[train-val-pdf-summation]\n",
            "Elapsed: 11.35905\n",
            "\n",
            "[nearest-neighbor-properties]\n",
            "Elapsed: 14.59125\n",
            "\n",
            "\n",
            "Done with iteration 33\n",
            "\n"
          ]
        },
        {
          "name": "stderr",
          "output_type": "stream",
          "text": [
            "Generating EDM: 100%|██████████| 12415/12415 [00:00<00:00, 94754.06formulae/s] \n"
          ]
        },
        {
          "name": "stdout",
          "output_type": "stream",
          "text": [
            "loading data with up to 8 elements in the formula\n"
          ]
        },
        {
          "name": "stderr",
          "output_type": "stream",
          "text": [
            "Generating EDM: 100%|██████████| 9920/9920 [00:00<00:00, 114410.97formulae/s]\n"
          ]
        },
        {
          "name": "stdout",
          "output_type": "stream",
          "text": [
            "loading data with up to 8 elements in the formula\n",
            "val RMSE:  7.62043305309193\n",
            "Fitting mod_petti kernel matrix\n",
            "Constructing distances\n",
            "[fit-wasserstein]\n",
            "Elapsed: 30.13673\n",
            "\n"
          ]
        },
        {
          "name": "stderr",
          "output_type": "stream",
          "text": [
            "/usr/local/lib/python3.7/dist-packages/umap/umap_.py:1780: UserWarning:\n",
            "\n",
            "using precomputed metric; inverse_transform will be unavailable\n",
            "\n"
          ]
        },
        {
          "name": "stdout",
          "output_type": "stream",
          "text": [
            "[fit-UMAP]\n",
            "Elapsed: 153.55506\n",
            "\n"
          ]
        },
        {
          "name": "stderr",
          "output_type": "stream",
          "text": [
            "/usr/local/lib/python3.7/dist-packages/umap/umap_.py:1780: UserWarning:\n",
            "\n",
            "using precomputed metric; inverse_transform will be unavailable\n",
            "\n"
          ]
        },
        {
          "name": "stdout",
          "output_type": "stream",
          "text": [
            "[fit-vis-UMAP]\n",
            "Elapsed: 105.62867\n",
            "\n",
            "[DensMAP]\n",
            "Elapsed: 259.312\n",
            "\n",
            "[HDBSCAN*]\n",
            "Elapsed: 2.22226\n",
            "\n",
            "[pdf-summation]\n",
            "Elapsed: 29.19746\n",
            "\n",
            "[gridded-pdf-summation]\n",
            "Elapsed: 29.47062\n",
            "\n",
            "[train-val-pdf-summation]\n",
            "Elapsed: 12.39872\n",
            "\n",
            "[nearest-neighbor-properties]\n",
            "Elapsed: 14.57701\n",
            "\n",
            "\n",
            "Done with iteration 34\n",
            "\n"
          ]
        },
        {
          "name": "stderr",
          "output_type": "stream",
          "text": [
            "Generating EDM: 100%|██████████| 12415/12415 [00:00<00:00, 94601.89formulae/s]\n"
          ]
        },
        {
          "name": "stdout",
          "output_type": "stream",
          "text": [
            "loading data with up to 8 elements in the formula\n"
          ]
        },
        {
          "name": "stderr",
          "output_type": "stream",
          "text": [
            "Generating EDM: 100%|██████████| 9920/9920 [00:00<00:00, 107806.80formulae/s]\n"
          ]
        },
        {
          "name": "stdout",
          "output_type": "stream",
          "text": [
            "loading data with up to 8 elements in the formula\n",
            "val RMSE:  7.8774879983473625\n",
            "Fitting mod_petti kernel matrix\n",
            "Constructing distances\n",
            "[fit-wasserstein]\n",
            "Elapsed: 30.0798\n",
            "\n"
          ]
        },
        {
          "name": "stderr",
          "output_type": "stream",
          "text": [
            "/usr/local/lib/python3.7/dist-packages/umap/umap_.py:1780: UserWarning:\n",
            "\n",
            "using precomputed metric; inverse_transform will be unavailable\n",
            "\n"
          ]
        },
        {
          "name": "stdout",
          "output_type": "stream",
          "text": [
            "[fit-UMAP]\n",
            "Elapsed: 152.62228\n",
            "\n"
          ]
        },
        {
          "name": "stderr",
          "output_type": "stream",
          "text": [
            "/usr/local/lib/python3.7/dist-packages/umap/umap_.py:1780: UserWarning:\n",
            "\n",
            "using precomputed metric; inverse_transform will be unavailable\n",
            "\n"
          ]
        },
        {
          "name": "stdout",
          "output_type": "stream",
          "text": [
            "[fit-vis-UMAP]\n",
            "Elapsed: 104.93496\n",
            "\n",
            "[DensMAP]\n",
            "Elapsed: 257.68242\n",
            "\n",
            "[HDBSCAN*]\n",
            "Elapsed: 2.19536\n",
            "\n",
            "[pdf-summation]\n",
            "Elapsed: 29.29163\n",
            "\n",
            "[gridded-pdf-summation]\n",
            "Elapsed: 29.57391\n",
            "\n",
            "[train-val-pdf-summation]\n",
            "Elapsed: 12.48303\n",
            "\n",
            "[nearest-neighbor-properties]\n",
            "Elapsed: 14.64657\n",
            "\n",
            "\n",
            "Done with iteration 35\n",
            "\n"
          ]
        },
        {
          "name": "stderr",
          "output_type": "stream",
          "text": [
            "Generating EDM: 100%|██████████| 12415/12415 [00:00<00:00, 97452.50formulae/s]\n"
          ]
        },
        {
          "name": "stdout",
          "output_type": "stream",
          "text": [
            "loading data with up to 8 elements in the formula\n"
          ]
        },
        {
          "name": "stderr",
          "output_type": "stream",
          "text": [
            "Generating EDM: 100%|██████████| 9920/9920 [00:00<00:00, 105841.06formulae/s]\n"
          ]
        },
        {
          "name": "stdout",
          "output_type": "stream",
          "text": [
            "loading data with up to 8 elements in the formula\n",
            "val RMSE:  7.533259259638513\n",
            "Fitting mod_petti kernel matrix\n",
            "Constructing distances\n",
            "[fit-wasserstein]\n",
            "Elapsed: 30.16055\n",
            "\n"
          ]
        },
        {
          "name": "stderr",
          "output_type": "stream",
          "text": [
            "/usr/local/lib/python3.7/dist-packages/umap/umap_.py:1780: UserWarning:\n",
            "\n",
            "using precomputed metric; inverse_transform will be unavailable\n",
            "\n"
          ]
        },
        {
          "name": "stdout",
          "output_type": "stream",
          "text": [
            "[fit-UMAP]\n",
            "Elapsed: 152.45865\n",
            "\n"
          ]
        },
        {
          "name": "stderr",
          "output_type": "stream",
          "text": [
            "/usr/local/lib/python3.7/dist-packages/umap/umap_.py:1780: UserWarning:\n",
            "\n",
            "using precomputed metric; inverse_transform will be unavailable\n",
            "\n"
          ]
        },
        {
          "name": "stdout",
          "output_type": "stream",
          "text": [
            "[fit-vis-UMAP]\n",
            "Elapsed: 104.54974\n",
            "\n",
            "[DensMAP]\n",
            "Elapsed: 257.14061\n",
            "\n",
            "[HDBSCAN*]\n",
            "Elapsed: 2.1823\n",
            "\n",
            "[pdf-summation]\n",
            "Elapsed: 29.38715\n",
            "\n",
            "[gridded-pdf-summation]\n",
            "Elapsed: 29.65892\n",
            "\n",
            "[train-val-pdf-summation]\n",
            "Elapsed: 11.41157\n",
            "\n",
            "[nearest-neighbor-properties]\n",
            "Elapsed: 15.26033\n",
            "\n",
            "\n",
            "Done with iteration 36\n",
            "\n"
          ]
        },
        {
          "name": "stderr",
          "output_type": "stream",
          "text": [
            "Generating EDM: 100%|██████████| 12415/12415 [00:00<00:00, 95387.26formulae/s]\n"
          ]
        },
        {
          "name": "stdout",
          "output_type": "stream",
          "text": [
            "loading data with up to 8 elements in the formula\n"
          ]
        },
        {
          "name": "stderr",
          "output_type": "stream",
          "text": [
            "Generating EDM: 100%|██████████| 9920/9920 [00:00<00:00, 112005.28formulae/s]\n"
          ]
        },
        {
          "name": "stdout",
          "output_type": "stream",
          "text": [
            "loading data with up to 8 elements in the formula\n",
            "val RMSE:  7.673863426256696\n",
            "Fitting mod_petti kernel matrix\n",
            "Constructing distances\n",
            "[fit-wasserstein]\n",
            "Elapsed: 29.9706\n",
            "\n"
          ]
        },
        {
          "name": "stderr",
          "output_type": "stream",
          "text": [
            "/usr/local/lib/python3.7/dist-packages/umap/umap_.py:1780: UserWarning:\n",
            "\n",
            "using precomputed metric; inverse_transform will be unavailable\n",
            "\n"
          ]
        },
        {
          "name": "stdout",
          "output_type": "stream",
          "text": [
            "[fit-UMAP]\n",
            "Elapsed: 151.45638\n",
            "\n"
          ]
        },
        {
          "name": "stderr",
          "output_type": "stream",
          "text": [
            "/usr/local/lib/python3.7/dist-packages/umap/umap_.py:1780: UserWarning:\n",
            "\n",
            "using precomputed metric; inverse_transform will be unavailable\n",
            "\n"
          ]
        },
        {
          "name": "stdout",
          "output_type": "stream",
          "text": [
            "[fit-vis-UMAP]\n",
            "Elapsed: 104.62388\n",
            "\n",
            "[DensMAP]\n",
            "Elapsed: 256.20866\n",
            "\n",
            "[HDBSCAN*]\n",
            "Elapsed: 2.24719\n",
            "\n",
            "[pdf-summation]\n",
            "Elapsed: 29.27601\n",
            "\n",
            "[gridded-pdf-summation]\n",
            "Elapsed: 29.55852\n",
            "\n",
            "[train-val-pdf-summation]\n",
            "Elapsed: 11.41613\n",
            "\n",
            "[nearest-neighbor-properties]\n",
            "Elapsed: 14.48498\n",
            "\n",
            "\n",
            "Done with iteration 37\n",
            "\n"
          ]
        },
        {
          "name": "stderr",
          "output_type": "stream",
          "text": [
            "Generating EDM: 100%|██████████| 12415/12415 [00:00<00:00, 93876.54formulae/s]\n"
          ]
        },
        {
          "name": "stdout",
          "output_type": "stream",
          "text": [
            "loading data with up to 8 elements in the formula\n"
          ]
        },
        {
          "name": "stderr",
          "output_type": "stream",
          "text": [
            "Generating EDM: 100%|██████████| 9920/9920 [00:00<00:00, 112114.83formulae/s]\n"
          ]
        },
        {
          "name": "stdout",
          "output_type": "stream",
          "text": [
            "loading data with up to 8 elements in the formula\n",
            "val RMSE:  7.6925094025747045\n",
            "Fitting mod_petti kernel matrix\n",
            "Constructing distances\n",
            "[fit-wasserstein]\n",
            "Elapsed: 30.19392\n",
            "\n"
          ]
        },
        {
          "name": "stderr",
          "output_type": "stream",
          "text": [
            "/usr/local/lib/python3.7/dist-packages/umap/umap_.py:1780: UserWarning:\n",
            "\n",
            "using precomputed metric; inverse_transform will be unavailable\n",
            "\n"
          ]
        },
        {
          "name": "stdout",
          "output_type": "stream",
          "text": [
            "[fit-UMAP]\n",
            "Elapsed: 151.76854\n",
            "\n"
          ]
        },
        {
          "name": "stderr",
          "output_type": "stream",
          "text": [
            "/usr/local/lib/python3.7/dist-packages/umap/umap_.py:1780: UserWarning:\n",
            "\n",
            "using precomputed metric; inverse_transform will be unavailable\n",
            "\n"
          ]
        },
        {
          "name": "stdout",
          "output_type": "stream",
          "text": [
            "[fit-vis-UMAP]\n",
            "Elapsed: 105.03602\n",
            "\n",
            "[DensMAP]\n",
            "Elapsed: 256.9337\n",
            "\n",
            "[HDBSCAN*]\n",
            "Elapsed: 2.23178\n",
            "\n",
            "[pdf-summation]\n",
            "Elapsed: 29.10381\n",
            "\n",
            "[gridded-pdf-summation]\n",
            "Elapsed: 29.38027\n",
            "\n",
            "[train-val-pdf-summation]\n",
            "Elapsed: 11.45746\n",
            "\n",
            "[nearest-neighbor-properties]\n",
            "Elapsed: 14.2013\n",
            "\n",
            "\n",
            "Done with iteration 38\n",
            "\n"
          ]
        },
        {
          "name": "stderr",
          "output_type": "stream",
          "text": [
            "Generating EDM: 100%|██████████| 12415/12415 [00:00<00:00, 96025.07formulae/s]\n"
          ]
        },
        {
          "name": "stdout",
          "output_type": "stream",
          "text": [
            "loading data with up to 8 elements in the formula\n"
          ]
        },
        {
          "name": "stderr",
          "output_type": "stream",
          "text": [
            "Generating EDM: 100%|██████████| 9920/9920 [00:00<00:00, 108908.17formulae/s]\n"
          ]
        },
        {
          "name": "stdout",
          "output_type": "stream",
          "text": [
            "loading data with up to 8 elements in the formula\n",
            "val RMSE:  7.340305801130377\n",
            "Fitting mod_petti kernel matrix\n",
            "Constructing distances\n",
            "[fit-wasserstein]\n",
            "Elapsed: 31.10468\n",
            "\n"
          ]
        },
        {
          "name": "stderr",
          "output_type": "stream",
          "text": [
            "/usr/local/lib/python3.7/dist-packages/umap/umap_.py:1780: UserWarning:\n",
            "\n",
            "using precomputed metric; inverse_transform will be unavailable\n",
            "\n"
          ]
        },
        {
          "name": "stdout",
          "output_type": "stream",
          "text": [
            "[fit-UMAP]\n",
            "Elapsed: 152.40535\n",
            "\n"
          ]
        },
        {
          "name": "stderr",
          "output_type": "stream",
          "text": [
            "/usr/local/lib/python3.7/dist-packages/umap/umap_.py:1780: UserWarning:\n",
            "\n",
            "using precomputed metric; inverse_transform will be unavailable\n",
            "\n"
          ]
        },
        {
          "name": "stdout",
          "output_type": "stream",
          "text": [
            "[fit-vis-UMAP]\n",
            "Elapsed: 105.14392\n",
            "\n",
            "[DensMAP]\n",
            "Elapsed: 257.67167\n",
            "\n",
            "[HDBSCAN*]\n",
            "Elapsed: 2.25281\n",
            "\n",
            "[pdf-summation]\n",
            "Elapsed: 29.59462\n",
            "\n",
            "[gridded-pdf-summation]\n",
            "Elapsed: 29.88501\n",
            "\n",
            "[train-val-pdf-summation]\n",
            "Elapsed: 11.52732\n",
            "\n",
            "[nearest-neighbor-properties]\n",
            "Elapsed: 14.3704\n",
            "\n",
            "\n",
            "Done with iteration 39\n",
            "\n"
          ]
        },
        {
          "name": "stderr",
          "output_type": "stream",
          "text": [
            "Generating EDM: 100%|██████████| 12415/12415 [00:00<00:00, 96187.73formulae/s]\n"
          ]
        },
        {
          "name": "stdout",
          "output_type": "stream",
          "text": [
            "loading data with up to 8 elements in the formula\n"
          ]
        },
        {
          "name": "stderr",
          "output_type": "stream",
          "text": [
            "Generating EDM: 100%|██████████| 9920/9920 [00:00<00:00, 107598.54formulae/s]\n"
          ]
        },
        {
          "name": "stdout",
          "output_type": "stream",
          "text": [
            "loading data with up to 8 elements in the formula\n",
            "val RMSE:  7.551792020538381\n",
            "Fitting mod_petti kernel matrix\n",
            "Constructing distances\n",
            "[fit-wasserstein]\n",
            "Elapsed: 30.21003\n",
            "\n"
          ]
        },
        {
          "name": "stderr",
          "output_type": "stream",
          "text": [
            "/usr/local/lib/python3.7/dist-packages/umap/umap_.py:1780: UserWarning:\n",
            "\n",
            "using precomputed metric; inverse_transform will be unavailable\n",
            "\n"
          ]
        },
        {
          "name": "stdout",
          "output_type": "stream",
          "text": [
            "[fit-UMAP]\n",
            "Elapsed: 154.27092\n",
            "\n"
          ]
        },
        {
          "name": "stderr",
          "output_type": "stream",
          "text": [
            "/usr/local/lib/python3.7/dist-packages/umap/umap_.py:1780: UserWarning:\n",
            "\n",
            "using precomputed metric; inverse_transform will be unavailable\n",
            "\n"
          ]
        },
        {
          "name": "stdout",
          "output_type": "stream",
          "text": [
            "[fit-vis-UMAP]\n",
            "Elapsed: 105.00538\n",
            "\n",
            "[DensMAP]\n",
            "Elapsed: 259.40401\n",
            "\n",
            "[HDBSCAN*]\n",
            "Elapsed: 2.27282\n",
            "\n",
            "[pdf-summation]\n",
            "Elapsed: 29.34901\n",
            "\n",
            "[gridded-pdf-summation]\n",
            "Elapsed: 29.62645\n",
            "\n",
            "[train-val-pdf-summation]\n",
            "Elapsed: 11.45055\n",
            "\n",
            "[nearest-neighbor-properties]\n",
            "Elapsed: 14.81777\n",
            "\n",
            "\n",
            "Done with iteration 40\n",
            "\n"
          ]
        },
        {
          "name": "stderr",
          "output_type": "stream",
          "text": [
            "Generating EDM: 100%|██████████| 12415/12415 [00:00<00:00, 92800.29formulae/s]\n"
          ]
        },
        {
          "name": "stdout",
          "output_type": "stream",
          "text": [
            "loading data with up to 8 elements in the formula\n"
          ]
        },
        {
          "name": "stderr",
          "output_type": "stream",
          "text": [
            "Generating EDM: 100%|██████████| 9920/9920 [00:00<00:00, 110170.67formulae/s]\n"
          ]
        },
        {
          "name": "stdout",
          "output_type": "stream",
          "text": [
            "loading data with up to 8 elements in the formula\n",
            "val RMSE:  7.609675338463657\n",
            "Fitting mod_petti kernel matrix\n",
            "Constructing distances\n",
            "[fit-wasserstein]\n",
            "Elapsed: 30.11348\n",
            "\n"
          ]
        },
        {
          "name": "stderr",
          "output_type": "stream",
          "text": [
            "/usr/local/lib/python3.7/dist-packages/umap/umap_.py:1780: UserWarning:\n",
            "\n",
            "using precomputed metric; inverse_transform will be unavailable\n",
            "\n"
          ]
        },
        {
          "name": "stdout",
          "output_type": "stream",
          "text": [
            "[fit-UMAP]\n",
            "Elapsed: 153.8138\n",
            "\n"
          ]
        },
        {
          "name": "stderr",
          "output_type": "stream",
          "text": [
            "/usr/local/lib/python3.7/dist-packages/umap/umap_.py:1780: UserWarning:\n",
            "\n",
            "using precomputed metric; inverse_transform will be unavailable\n",
            "\n"
          ]
        },
        {
          "name": "stdout",
          "output_type": "stream",
          "text": [
            "[fit-vis-UMAP]\n",
            "Elapsed: 107.09975\n",
            "\n",
            "[DensMAP]\n",
            "Elapsed: 261.04927\n",
            "\n",
            "[HDBSCAN*]\n",
            "Elapsed: 2.27008\n",
            "\n",
            "[pdf-summation]\n",
            "Elapsed: 29.59244\n",
            "\n",
            "[gridded-pdf-summation]\n",
            "Elapsed: 29.87086\n",
            "\n",
            "[train-val-pdf-summation]\n",
            "Elapsed: 11.53728\n",
            "\n",
            "[nearest-neighbor-properties]\n",
            "Elapsed: 14.30821\n",
            "\n",
            "\n",
            "Done with iteration 41\n",
            "\n"
          ]
        },
        {
          "name": "stderr",
          "output_type": "stream",
          "text": [
            "Generating EDM: 100%|██████████| 12415/12415 [00:00<00:00, 95975.52formulae/s]\n"
          ]
        },
        {
          "name": "stdout",
          "output_type": "stream",
          "text": [
            "loading data with up to 8 elements in the formula\n"
          ]
        },
        {
          "name": "stderr",
          "output_type": "stream",
          "text": [
            "Generating EDM: 100%|██████████| 9920/9920 [00:00<00:00, 107412.16formulae/s]\n"
          ]
        },
        {
          "name": "stdout",
          "output_type": "stream",
          "text": [
            "loading data with up to 8 elements in the formula\n",
            "val RMSE:  7.573016803125601\n",
            "Fitting mod_petti kernel matrix\n",
            "Constructing distances\n",
            "[fit-wasserstein]\n",
            "Elapsed: 30.20066\n",
            "\n"
          ]
        },
        {
          "name": "stderr",
          "output_type": "stream",
          "text": [
            "/usr/local/lib/python3.7/dist-packages/umap/umap_.py:1780: UserWarning:\n",
            "\n",
            "using precomputed metric; inverse_transform will be unavailable\n",
            "\n"
          ]
        },
        {
          "name": "stdout",
          "output_type": "stream",
          "text": [
            "[fit-UMAP]\n",
            "Elapsed: 152.99653\n",
            "\n"
          ]
        },
        {
          "name": "stderr",
          "output_type": "stream",
          "text": [
            "/usr/local/lib/python3.7/dist-packages/umap/umap_.py:1780: UserWarning:\n",
            "\n",
            "using precomputed metric; inverse_transform will be unavailable\n",
            "\n"
          ]
        },
        {
          "name": "stdout",
          "output_type": "stream",
          "text": [
            "[fit-vis-UMAP]\n",
            "Elapsed: 105.20516\n",
            "\n",
            "[DensMAP]\n",
            "Elapsed: 258.33242\n",
            "\n",
            "[HDBSCAN*]\n",
            "Elapsed: 2.21822\n",
            "\n",
            "[pdf-summation]\n",
            "Elapsed: 30.34981\n",
            "\n",
            "[gridded-pdf-summation]\n",
            "Elapsed: 30.62369\n",
            "\n",
            "[train-val-pdf-summation]\n",
            "Elapsed: 11.32893\n",
            "\n",
            "[nearest-neighbor-properties]\n",
            "Elapsed: 15.19995\n",
            "\n",
            "\n",
            "Done with iteration 42\n",
            "\n"
          ]
        },
        {
          "name": "stderr",
          "output_type": "stream",
          "text": [
            "Generating EDM: 100%|██████████| 12415/12415 [00:00<00:00, 93482.01formulae/s]\n"
          ]
        },
        {
          "name": "stdout",
          "output_type": "stream",
          "text": [
            "loading data with up to 8 elements in the formula\n"
          ]
        },
        {
          "name": "stderr",
          "output_type": "stream",
          "text": [
            "Generating EDM: 100%|██████████| 9920/9920 [00:00<00:00, 106538.37formulae/s]\n"
          ]
        },
        {
          "name": "stdout",
          "output_type": "stream",
          "text": [
            "loading data with up to 8 elements in the formula\n",
            "val RMSE:  7.651652050236392\n",
            "Fitting mod_petti kernel matrix\n",
            "Constructing distances\n",
            "[fit-wasserstein]\n",
            "Elapsed: 30.12484\n",
            "\n"
          ]
        },
        {
          "name": "stderr",
          "output_type": "stream",
          "text": [
            "/usr/local/lib/python3.7/dist-packages/umap/umap_.py:1780: UserWarning:\n",
            "\n",
            "using precomputed metric; inverse_transform will be unavailable\n",
            "\n"
          ]
        },
        {
          "name": "stdout",
          "output_type": "stream",
          "text": [
            "[fit-UMAP]\n",
            "Elapsed: 152.34046\n",
            "\n"
          ]
        },
        {
          "name": "stderr",
          "output_type": "stream",
          "text": [
            "/usr/local/lib/python3.7/dist-packages/umap/umap_.py:1780: UserWarning:\n",
            "\n",
            "using precomputed metric; inverse_transform will be unavailable\n",
            "\n"
          ]
        },
        {
          "name": "stdout",
          "output_type": "stream",
          "text": [
            "[fit-vis-UMAP]\n",
            "Elapsed: 104.82297\n",
            "\n",
            "[DensMAP]\n",
            "Elapsed: 257.28804\n",
            "\n",
            "[HDBSCAN*]\n",
            "Elapsed: 2.2236\n",
            "\n",
            "[pdf-summation]\n",
            "Elapsed: 30.6442\n",
            "\n",
            "[gridded-pdf-summation]\n",
            "Elapsed: 30.92142\n",
            "\n",
            "[train-val-pdf-summation]\n",
            "Elapsed: 11.37365\n",
            "\n",
            "[nearest-neighbor-properties]\n",
            "Elapsed: 14.25266\n",
            "\n",
            "\n",
            "Done with iteration 43\n",
            "\n"
          ]
        },
        {
          "name": "stderr",
          "output_type": "stream",
          "text": [
            "Generating EDM: 100%|██████████| 12415/12415 [00:00<00:00, 95543.72formulae/s]\n"
          ]
        },
        {
          "name": "stdout",
          "output_type": "stream",
          "text": [
            "loading data with up to 8 elements in the formula\n"
          ]
        },
        {
          "name": "stderr",
          "output_type": "stream",
          "text": [
            "Generating EDM: 100%|██████████| 9920/9920 [00:00<00:00, 111011.05formulae/s]\n"
          ]
        },
        {
          "name": "stdout",
          "output_type": "stream",
          "text": [
            "loading data with up to 8 elements in the formula\n",
            "val RMSE:  7.847258633590954\n",
            "Fitting mod_petti kernel matrix\n",
            "Constructing distances\n",
            "[fit-wasserstein]\n",
            "Elapsed: 30.2062\n",
            "\n"
          ]
        },
        {
          "name": "stderr",
          "output_type": "stream",
          "text": [
            "/usr/local/lib/python3.7/dist-packages/umap/umap_.py:1780: UserWarning:\n",
            "\n",
            "using precomputed metric; inverse_transform will be unavailable\n",
            "\n"
          ]
        },
        {
          "name": "stdout",
          "output_type": "stream",
          "text": [
            "[fit-UMAP]\n",
            "Elapsed: 151.9334\n",
            "\n"
          ]
        },
        {
          "name": "stderr",
          "output_type": "stream",
          "text": [
            "/usr/local/lib/python3.7/dist-packages/umap/umap_.py:1780: UserWarning:\n",
            "\n",
            "using precomputed metric; inverse_transform will be unavailable\n",
            "\n"
          ]
        },
        {
          "name": "stdout",
          "output_type": "stream",
          "text": [
            "[fit-vis-UMAP]\n",
            "Elapsed: 105.16047\n",
            "\n",
            "[DensMAP]\n",
            "Elapsed: 257.22511\n",
            "\n",
            "[HDBSCAN*]\n",
            "Elapsed: 2.20031\n",
            "\n",
            "[pdf-summation]\n",
            "Elapsed: 29.16145\n",
            "\n",
            "[gridded-pdf-summation]\n",
            "Elapsed: 29.43991\n",
            "\n",
            "[train-val-pdf-summation]\n",
            "Elapsed: 11.39147\n",
            "\n",
            "[nearest-neighbor-properties]\n",
            "Elapsed: 15.23463\n",
            "\n",
            "\n",
            "Done with iteration 44\n",
            "\n"
          ]
        },
        {
          "name": "stderr",
          "output_type": "stream",
          "text": [
            "Generating EDM: 100%|██████████| 12415/12415 [00:00<00:00, 93386.28formulae/s]\n"
          ]
        },
        {
          "name": "stdout",
          "output_type": "stream",
          "text": [
            "loading data with up to 8 elements in the formula\n"
          ]
        },
        {
          "name": "stderr",
          "output_type": "stream",
          "text": [
            "Generating EDM: 100%|██████████| 9920/9920 [00:00<00:00, 109609.94formulae/s]\n"
          ]
        },
        {
          "name": "stdout",
          "output_type": "stream",
          "text": [
            "loading data with up to 8 elements in the formula\n",
            "val RMSE:  7.863423200586736\n",
            "Fitting mod_petti kernel matrix\n",
            "Constructing distances\n",
            "[fit-wasserstein]\n",
            "Elapsed: 30.10541\n",
            "\n"
          ]
        },
        {
          "name": "stderr",
          "output_type": "stream",
          "text": [
            "/usr/local/lib/python3.7/dist-packages/umap/umap_.py:1780: UserWarning:\n",
            "\n",
            "using precomputed metric; inverse_transform will be unavailable\n",
            "\n"
          ]
        },
        {
          "name": "stdout",
          "output_type": "stream",
          "text": [
            "[fit-UMAP]\n",
            "Elapsed: 152.42105\n",
            "\n"
          ]
        },
        {
          "name": "stderr",
          "output_type": "stream",
          "text": [
            "/usr/local/lib/python3.7/dist-packages/umap/umap_.py:1780: UserWarning:\n",
            "\n",
            "using precomputed metric; inverse_transform will be unavailable\n",
            "\n"
          ]
        },
        {
          "name": "stdout",
          "output_type": "stream",
          "text": [
            "[fit-vis-UMAP]\n",
            "Elapsed: 104.93697\n",
            "\n",
            "[DensMAP]\n",
            "Elapsed: 257.48967\n",
            "\n",
            "[HDBSCAN*]\n",
            "Elapsed: 2.17915\n",
            "\n",
            "[pdf-summation]\n",
            "Elapsed: 29.09608\n",
            "\n",
            "[gridded-pdf-summation]\n",
            "Elapsed: 29.37405\n",
            "\n",
            "[train-val-pdf-summation]\n",
            "Elapsed: 11.1998\n",
            "\n",
            "[nearest-neighbor-properties]\n",
            "Elapsed: 14.91448\n",
            "\n",
            "\n",
            "Done with iteration 45\n",
            "\n"
          ]
        },
        {
          "name": "stderr",
          "output_type": "stream",
          "text": [
            "Generating EDM: 100%|██████████| 12415/12415 [00:00<00:00, 93834.76formulae/s]\n"
          ]
        },
        {
          "name": "stdout",
          "output_type": "stream",
          "text": [
            "loading data with up to 8 elements in the formula\n"
          ]
        },
        {
          "name": "stderr",
          "output_type": "stream",
          "text": [
            "Generating EDM: 100%|██████████| 9920/9920 [00:00<00:00, 112290.63formulae/s]\n"
          ]
        },
        {
          "name": "stdout",
          "output_type": "stream",
          "text": [
            "loading data with up to 8 elements in the formula\n",
            "val RMSE:  7.97307802628788\n",
            "Fitting mod_petti kernel matrix\n",
            "Constructing distances\n",
            "[fit-wasserstein]\n",
            "Elapsed: 31.27775\n",
            "\n"
          ]
        },
        {
          "name": "stderr",
          "output_type": "stream",
          "text": [
            "/usr/local/lib/python3.7/dist-packages/umap/umap_.py:1780: UserWarning:\n",
            "\n",
            "using precomputed metric; inverse_transform will be unavailable\n",
            "\n"
          ]
        },
        {
          "name": "stdout",
          "output_type": "stream",
          "text": [
            "[fit-UMAP]\n",
            "Elapsed: 152.1296\n",
            "\n"
          ]
        },
        {
          "name": "stderr",
          "output_type": "stream",
          "text": [
            "/usr/local/lib/python3.7/dist-packages/umap/umap_.py:1780: UserWarning:\n",
            "\n",
            "using precomputed metric; inverse_transform will be unavailable\n",
            "\n"
          ]
        },
        {
          "name": "stdout",
          "output_type": "stream",
          "text": [
            "[fit-vis-UMAP]\n",
            "Elapsed: 104.48922\n",
            "\n",
            "[DensMAP]\n",
            "Elapsed: 256.7499\n",
            "\n",
            "[HDBSCAN*]\n",
            "Elapsed: 2.21659\n",
            "\n",
            "[pdf-summation]\n",
            "Elapsed: 28.95909\n",
            "\n",
            "[gridded-pdf-summation]\n",
            "Elapsed: 29.22809\n",
            "\n",
            "[train-val-pdf-summation]\n",
            "Elapsed: 11.30602\n",
            "\n",
            "[nearest-neighbor-properties]\n",
            "Elapsed: 14.48037\n",
            "\n",
            "\n",
            "Done with iteration 46\n",
            "\n"
          ]
        },
        {
          "name": "stderr",
          "output_type": "stream",
          "text": [
            "Generating EDM: 100%|██████████| 12415/12415 [00:00<00:00, 96485.90formulae/s]\n"
          ]
        },
        {
          "name": "stdout",
          "output_type": "stream",
          "text": [
            "loading data with up to 8 elements in the formula\n"
          ]
        },
        {
          "name": "stderr",
          "output_type": "stream",
          "text": [
            "Generating EDM: 100%|██████████| 9920/9920 [00:00<00:00, 112652.12formulae/s]\n"
          ]
        },
        {
          "name": "stdout",
          "output_type": "stream",
          "text": [
            "loading data with up to 8 elements in the formula\n",
            "val RMSE:  7.561587994310036\n",
            "Fitting mod_petti kernel matrix\n",
            "Constructing distances\n",
            "[fit-wasserstein]\n",
            "Elapsed: 30.01171\n",
            "\n"
          ]
        },
        {
          "name": "stderr",
          "output_type": "stream",
          "text": [
            "/usr/local/lib/python3.7/dist-packages/umap/umap_.py:1780: UserWarning:\n",
            "\n",
            "using precomputed metric; inverse_transform will be unavailable\n",
            "\n"
          ]
        },
        {
          "name": "stdout",
          "output_type": "stream",
          "text": [
            "[fit-UMAP]\n",
            "Elapsed: 153.43585\n",
            "\n"
          ]
        },
        {
          "name": "stderr",
          "output_type": "stream",
          "text": [
            "/usr/local/lib/python3.7/dist-packages/umap/umap_.py:1780: UserWarning:\n",
            "\n",
            "using precomputed metric; inverse_transform will be unavailable\n",
            "\n"
          ]
        },
        {
          "name": "stdout",
          "output_type": "stream",
          "text": [
            "[fit-vis-UMAP]\n",
            "Elapsed: 104.65887\n",
            "\n",
            "[DensMAP]\n",
            "Elapsed: 258.22\n",
            "\n",
            "[HDBSCAN*]\n",
            "Elapsed: 2.24033\n",
            "\n",
            "[pdf-summation]\n",
            "Elapsed: 29.48892\n",
            "\n",
            "[gridded-pdf-summation]\n",
            "Elapsed: 29.7669\n",
            "\n",
            "[train-val-pdf-summation]\n",
            "Elapsed: 11.45774\n",
            "\n",
            "[nearest-neighbor-properties]\n",
            "Elapsed: 15.18833\n",
            "\n",
            "\n",
            "Done with iteration 47\n",
            "\n"
          ]
        },
        {
          "name": "stderr",
          "output_type": "stream",
          "text": [
            "Generating EDM: 100%|██████████| 12415/12415 [00:00<00:00, 96973.03formulae/s]\n"
          ]
        },
        {
          "name": "stdout",
          "output_type": "stream",
          "text": [
            "loading data with up to 8 elements in the formula\n"
          ]
        },
        {
          "name": "stderr",
          "output_type": "stream",
          "text": [
            "Generating EDM: 100%|██████████| 9920/9920 [00:00<00:00, 108262.63formulae/s]\n"
          ]
        },
        {
          "name": "stdout",
          "output_type": "stream",
          "text": [
            "loading data with up to 8 elements in the formula\n",
            "val RMSE:  7.944859879607565\n",
            "Fitting mod_petti kernel matrix\n",
            "Constructing distances\n",
            "[fit-wasserstein]\n",
            "Elapsed: 30.22757\n",
            "\n"
          ]
        },
        {
          "name": "stderr",
          "output_type": "stream",
          "text": [
            "/usr/local/lib/python3.7/dist-packages/umap/umap_.py:1780: UserWarning:\n",
            "\n",
            "using precomputed metric; inverse_transform will be unavailable\n",
            "\n"
          ]
        },
        {
          "name": "stdout",
          "output_type": "stream",
          "text": [
            "[fit-UMAP]\n",
            "Elapsed: 151.9906\n",
            "\n"
          ]
        },
        {
          "name": "stderr",
          "output_type": "stream",
          "text": [
            "/usr/local/lib/python3.7/dist-packages/umap/umap_.py:1780: UserWarning:\n",
            "\n",
            "using precomputed metric; inverse_transform will be unavailable\n",
            "\n"
          ]
        },
        {
          "name": "stdout",
          "output_type": "stream",
          "text": [
            "[fit-vis-UMAP]\n",
            "Elapsed: 104.328\n",
            "\n",
            "[DensMAP]\n",
            "Elapsed: 256.45514\n",
            "\n",
            "[HDBSCAN*]\n",
            "Elapsed: 2.21171\n",
            "\n",
            "[pdf-summation]\n",
            "Elapsed: 30.21193\n",
            "\n",
            "[gridded-pdf-summation]\n",
            "Elapsed: 30.48576\n",
            "\n",
            "[train-val-pdf-summation]\n",
            "Elapsed: 11.33562\n",
            "\n",
            "[nearest-neighbor-properties]\n",
            "Elapsed: 14.17701\n",
            "\n",
            "\n",
            "Done with iteration 48\n",
            "\n"
          ]
        },
        {
          "name": "stderr",
          "output_type": "stream",
          "text": [
            "Generating EDM: 100%|██████████| 12415/12415 [00:00<00:00, 95394.94formulae/s]\n"
          ]
        },
        {
          "name": "stdout",
          "output_type": "stream",
          "text": [
            "loading data with up to 8 elements in the formula\n"
          ]
        },
        {
          "name": "stderr",
          "output_type": "stream",
          "text": [
            "Generating EDM: 100%|██████████| 9920/9920 [00:00<00:00, 106686.71formulae/s]\n"
          ]
        },
        {
          "name": "stdout",
          "output_type": "stream",
          "text": [
            "loading data with up to 8 elements in the formula\n",
            "val RMSE:  7.824408592932972\n",
            "Fitting mod_petti kernel matrix\n",
            "Constructing distances\n",
            "[fit-wasserstein]\n",
            "Elapsed: 29.96918\n",
            "\n"
          ]
        },
        {
          "name": "stderr",
          "output_type": "stream",
          "text": [
            "/usr/local/lib/python3.7/dist-packages/umap/umap_.py:1780: UserWarning:\n",
            "\n",
            "using precomputed metric; inverse_transform will be unavailable\n",
            "\n"
          ]
        },
        {
          "name": "stdout",
          "output_type": "stream",
          "text": [
            "[fit-UMAP]\n",
            "Elapsed: 151.04569\n",
            "\n"
          ]
        },
        {
          "name": "stderr",
          "output_type": "stream",
          "text": [
            "/usr/local/lib/python3.7/dist-packages/umap/umap_.py:1780: UserWarning:\n",
            "\n",
            "using precomputed metric; inverse_transform will be unavailable\n",
            "\n"
          ]
        },
        {
          "name": "stdout",
          "output_type": "stream",
          "text": [
            "[fit-vis-UMAP]\n",
            "Elapsed: 104.13358\n",
            "\n",
            "[DensMAP]\n",
            "Elapsed: 255.30406\n",
            "\n",
            "[HDBSCAN*]\n",
            "Elapsed: 2.20995\n",
            "\n",
            "[pdf-summation]\n",
            "Elapsed: 29.17457\n",
            "\n",
            "[gridded-pdf-summation]\n",
            "Elapsed: 29.45373\n",
            "\n",
            "[train-val-pdf-summation]\n",
            "Elapsed: 12.68526\n",
            "\n",
            "[nearest-neighbor-properties]\n",
            "Elapsed: 14.85255\n",
            "\n",
            "\n",
            "Done with iteration 49\n",
            "\n"
          ]
        },
        {
          "name": "stderr",
          "output_type": "stream",
          "text": [
            "Generating EDM: 100%|██████████| 12415/12415 [00:00<00:00, 90021.31formulae/s]\n"
          ]
        },
        {
          "name": "stdout",
          "output_type": "stream",
          "text": [
            "loading data with up to 8 elements in the formula\n"
          ]
        },
        {
          "name": "stderr",
          "output_type": "stream",
          "text": [
            "Generating EDM: 100%|██████████| 9920/9920 [00:00<00:00, 109489.38formulae/s]\n"
          ]
        },
        {
          "name": "stdout",
          "output_type": "stream",
          "text": [
            "loading data with up to 8 elements in the formula\n",
            "val RMSE:  7.856950451460772\n",
            "Fitting mod_petti kernel matrix\n",
            "Constructing distances\n",
            "[fit-wasserstein]\n",
            "Elapsed: 30.26025\n",
            "\n"
          ]
        },
        {
          "name": "stderr",
          "output_type": "stream",
          "text": [
            "/usr/local/lib/python3.7/dist-packages/umap/umap_.py:1780: UserWarning:\n",
            "\n",
            "using precomputed metric; inverse_transform will be unavailable\n",
            "\n"
          ]
        },
        {
          "name": "stdout",
          "output_type": "stream",
          "text": [
            "[fit-UMAP]\n",
            "Elapsed: 152.18265\n",
            "\n"
          ]
        },
        {
          "name": "stderr",
          "output_type": "stream",
          "text": [
            "/usr/local/lib/python3.7/dist-packages/umap/umap_.py:1780: UserWarning:\n",
            "\n",
            "using precomputed metric; inverse_transform will be unavailable\n",
            "\n"
          ]
        },
        {
          "name": "stdout",
          "output_type": "stream",
          "text": [
            "[fit-vis-UMAP]\n",
            "Elapsed: 105.70408\n",
            "\n",
            "[DensMAP]\n",
            "Elapsed: 258.01795\n",
            "\n",
            "[HDBSCAN*]\n",
            "Elapsed: 2.22998\n",
            "\n",
            "[pdf-summation]\n",
            "Elapsed: 29.34446\n",
            "\n",
            "[gridded-pdf-summation]\n",
            "Elapsed: 29.62336\n",
            "\n",
            "[train-val-pdf-summation]\n",
            "Elapsed: 11.40346\n",
            "\n",
            "[nearest-neighbor-properties]\n",
            "Elapsed: 14.34916\n",
            "\n",
            "\n",
            "Done with iteration 50\n",
            "\n"
          ]
        },
        {
          "name": "stderr",
          "output_type": "stream",
          "text": [
            "Generating EDM: 100%|██████████| 12415/12415 [00:00<00:00, 90878.17formulae/s]\n"
          ]
        },
        {
          "name": "stdout",
          "output_type": "stream",
          "text": [
            "loading data with up to 8 elements in the formula\n"
          ]
        },
        {
          "name": "stderr",
          "output_type": "stream",
          "text": [
            "Generating EDM: 100%|██████████| 9920/9920 [00:00<00:00, 110288.65formulae/s]\n"
          ]
        },
        {
          "name": "stdout",
          "output_type": "stream",
          "text": [
            "loading data with up to 8 elements in the formula\n",
            "val RMSE:  7.880269100533665\n",
            "Fitting mod_petti kernel matrix\n",
            "Constructing distances\n",
            "[fit-wasserstein]\n",
            "Elapsed: 30.07955\n",
            "\n"
          ]
        },
        {
          "name": "stderr",
          "output_type": "stream",
          "text": [
            "/usr/local/lib/python3.7/dist-packages/umap/umap_.py:1780: UserWarning:\n",
            "\n",
            "using precomputed metric; inverse_transform will be unavailable\n",
            "\n"
          ]
        },
        {
          "name": "stdout",
          "output_type": "stream",
          "text": [
            "[fit-UMAP]\n",
            "Elapsed: 153.30437\n",
            "\n"
          ]
        },
        {
          "name": "stderr",
          "output_type": "stream",
          "text": [
            "/usr/local/lib/python3.7/dist-packages/umap/umap_.py:1780: UserWarning:\n",
            "\n",
            "using precomputed metric; inverse_transform will be unavailable\n",
            "\n"
          ]
        },
        {
          "name": "stdout",
          "output_type": "stream",
          "text": [
            "[fit-vis-UMAP]\n",
            "Elapsed: 104.97694\n",
            "\n",
            "[DensMAP]\n",
            "Elapsed: 258.40939\n",
            "\n",
            "[HDBSCAN*]\n",
            "Elapsed: 2.23945\n",
            "\n",
            "[pdf-summation]\n",
            "Elapsed: 29.37956\n",
            "\n",
            "[gridded-pdf-summation]\n",
            "Elapsed: 29.65387\n",
            "\n",
            "[train-val-pdf-summation]\n",
            "Elapsed: 11.41098\n",
            "\n",
            "[nearest-neighbor-properties]\n",
            "Elapsed: 14.69312\n",
            "\n",
            "\n",
            "Done with iteration 51\n",
            "\n"
          ]
        },
        {
          "name": "stderr",
          "output_type": "stream",
          "text": [
            "Generating EDM: 100%|██████████| 12415/12415 [00:00<00:00, 93493.42formulae/s]\n"
          ]
        },
        {
          "name": "stdout",
          "output_type": "stream",
          "text": [
            "loading data with up to 8 elements in the formula\n"
          ]
        },
        {
          "name": "stderr",
          "output_type": "stream",
          "text": [
            "Generating EDM: 100%|██████████| 9920/9920 [00:00<00:00, 111388.18formulae/s]\n"
          ]
        },
        {
          "name": "stdout",
          "output_type": "stream",
          "text": [
            "loading data with up to 8 elements in the formula\n",
            "val RMSE:  7.517019761063891\n",
            "Fitting mod_petti kernel matrix\n",
            "Constructing distances\n",
            "[fit-wasserstein]\n",
            "Elapsed: 30.16237\n",
            "\n"
          ]
        },
        {
          "name": "stderr",
          "output_type": "stream",
          "text": [
            "/usr/local/lib/python3.7/dist-packages/umap/umap_.py:1780: UserWarning:\n",
            "\n",
            "using precomputed metric; inverse_transform will be unavailable\n",
            "\n"
          ]
        },
        {
          "name": "stdout",
          "output_type": "stream",
          "text": [
            "[fit-UMAP]\n",
            "Elapsed: 152.22668\n",
            "\n"
          ]
        },
        {
          "name": "stderr",
          "output_type": "stream",
          "text": [
            "/usr/local/lib/python3.7/dist-packages/umap/umap_.py:1780: UserWarning:\n",
            "\n",
            "using precomputed metric; inverse_transform will be unavailable\n",
            "\n"
          ]
        },
        {
          "name": "stdout",
          "output_type": "stream",
          "text": [
            "[fit-vis-UMAP]\n",
            "Elapsed: 104.43598\n",
            "\n",
            "[DensMAP]\n",
            "Elapsed: 256.79473\n",
            "\n",
            "[HDBSCAN*]\n",
            "Elapsed: 2.2477\n",
            "\n",
            "[pdf-summation]\n",
            "Elapsed: 30.2128\n",
            "\n",
            "[gridded-pdf-summation]\n",
            "Elapsed: 30.49072\n",
            "\n",
            "[train-val-pdf-summation]\n",
            "Elapsed: 11.21072\n",
            "\n",
            "[nearest-neighbor-properties]\n",
            "Elapsed: 14.07273\n",
            "\n",
            "\n",
            "Done with iteration 52\n",
            "\n"
          ]
        },
        {
          "name": "stderr",
          "output_type": "stream",
          "text": [
            "Generating EDM: 100%|██████████| 12415/12415 [00:00<00:00, 98646.79formulae/s] \n"
          ]
        },
        {
          "name": "stdout",
          "output_type": "stream",
          "text": [
            "loading data with up to 8 elements in the formula\n"
          ]
        },
        {
          "name": "stderr",
          "output_type": "stream",
          "text": [
            "Generating EDM: 100%|██████████| 9920/9920 [00:00<00:00, 112323.67formulae/s]\n"
          ]
        },
        {
          "name": "stdout",
          "output_type": "stream",
          "text": [
            "loading data with up to 8 elements in the formula\n",
            "val RMSE:  7.8474805969008825\n",
            "Fitting mod_petti kernel matrix\n",
            "Constructing distances\n",
            "[fit-wasserstein]\n",
            "Elapsed: 29.97112\n",
            "\n"
          ]
        },
        {
          "name": "stderr",
          "output_type": "stream",
          "text": [
            "/usr/local/lib/python3.7/dist-packages/umap/umap_.py:1780: UserWarning:\n",
            "\n",
            "using precomputed metric; inverse_transform will be unavailable\n",
            "\n"
          ]
        },
        {
          "name": "stdout",
          "output_type": "stream",
          "text": [
            "[fit-UMAP]\n",
            "Elapsed: 150.94476\n",
            "\n"
          ]
        },
        {
          "name": "stderr",
          "output_type": "stream",
          "text": [
            "/usr/local/lib/python3.7/dist-packages/umap/umap_.py:1780: UserWarning:\n",
            "\n",
            "using precomputed metric; inverse_transform will be unavailable\n",
            "\n"
          ]
        },
        {
          "name": "stdout",
          "output_type": "stream",
          "text": [
            "[fit-vis-UMAP]\n",
            "Elapsed: 104.99934\n",
            "\n",
            "[DensMAP]\n",
            "Elapsed: 256.06731\n",
            "\n",
            "[HDBSCAN*]\n",
            "Elapsed: 2.28778\n",
            "\n",
            "[pdf-summation]\n",
            "Elapsed: 29.37416\n",
            "\n",
            "[gridded-pdf-summation]\n",
            "Elapsed: 29.65258\n",
            "\n",
            "[train-val-pdf-summation]\n",
            "Elapsed: 12.72202\n",
            "\n",
            "[nearest-neighbor-properties]\n",
            "Elapsed: 15.227\n",
            "\n",
            "\n",
            "Done with iteration 53\n",
            "\n"
          ]
        },
        {
          "name": "stderr",
          "output_type": "stream",
          "text": [
            "Generating EDM: 100%|██████████| 12415/12415 [00:00<00:00, 93270.86formulae/s]\n"
          ]
        },
        {
          "name": "stdout",
          "output_type": "stream",
          "text": [
            "loading data with up to 8 elements in the formula\n"
          ]
        },
        {
          "name": "stderr",
          "output_type": "stream",
          "text": [
            "Generating EDM: 100%|██████████| 9920/9920 [00:00<00:00, 111166.76formulae/s]\n"
          ]
        },
        {
          "name": "stdout",
          "output_type": "stream",
          "text": [
            "loading data with up to 8 elements in the formula\n",
            "val RMSE:  7.768062551151079\n",
            "Fitting mod_petti kernel matrix\n",
            "Constructing distances\n",
            "[fit-wasserstein]\n",
            "Elapsed: 30.1638\n",
            "\n"
          ]
        },
        {
          "name": "stderr",
          "output_type": "stream",
          "text": [
            "/usr/local/lib/python3.7/dist-packages/umap/umap_.py:1780: UserWarning:\n",
            "\n",
            "using precomputed metric; inverse_transform will be unavailable\n",
            "\n"
          ]
        },
        {
          "name": "stdout",
          "output_type": "stream",
          "text": [
            "[fit-UMAP]\n",
            "Elapsed: 151.76139\n",
            "\n"
          ]
        },
        {
          "name": "stderr",
          "output_type": "stream",
          "text": [
            "/usr/local/lib/python3.7/dist-packages/umap/umap_.py:1780: UserWarning:\n",
            "\n",
            "using precomputed metric; inverse_transform will be unavailable\n",
            "\n"
          ]
        },
        {
          "name": "stdout",
          "output_type": "stream",
          "text": [
            "[fit-vis-UMAP]\n",
            "Elapsed: 104.82841\n",
            "\n",
            "[DensMAP]\n",
            "Elapsed: 256.72795\n",
            "\n",
            "[HDBSCAN*]\n",
            "Elapsed: 2.22541\n",
            "\n",
            "[pdf-summation]\n",
            "Elapsed: 29.38913\n",
            "\n",
            "[gridded-pdf-summation]\n",
            "Elapsed: 29.66446\n",
            "\n",
            "[train-val-pdf-summation]\n",
            "Elapsed: 11.31324\n",
            "\n",
            "[nearest-neighbor-properties]\n",
            "Elapsed: 14.39829\n",
            "\n",
            "\n",
            "Done with iteration 54\n",
            "\n"
          ]
        },
        {
          "name": "stderr",
          "output_type": "stream",
          "text": [
            "Generating EDM: 100%|██████████| 12415/12415 [00:00<00:00, 93859.62formulae/s]\n"
          ]
        },
        {
          "name": "stdout",
          "output_type": "stream",
          "text": [
            "loading data with up to 8 elements in the formula\n"
          ]
        },
        {
          "name": "stderr",
          "output_type": "stream",
          "text": [
            "Generating EDM: 100%|██████████| 9920/9920 [00:00<00:00, 109350.97formulae/s]\n"
          ]
        },
        {
          "name": "stdout",
          "output_type": "stream",
          "text": [
            "loading data with up to 8 elements in the formula\n",
            "val RMSE:  7.559980900212311\n",
            "Fitting mod_petti kernel matrix\n",
            "Constructing distances\n",
            "[fit-wasserstein]\n",
            "Elapsed: 30.06429\n",
            "\n"
          ]
        },
        {
          "name": "stderr",
          "output_type": "stream",
          "text": [
            "/usr/local/lib/python3.7/dist-packages/umap/umap_.py:1780: UserWarning:\n",
            "\n",
            "using precomputed metric; inverse_transform will be unavailable\n",
            "\n"
          ]
        },
        {
          "name": "stdout",
          "output_type": "stream",
          "text": [
            "[fit-UMAP]\n",
            "Elapsed: 153.26359\n",
            "\n"
          ]
        },
        {
          "name": "stderr",
          "output_type": "stream",
          "text": [
            "/usr/local/lib/python3.7/dist-packages/umap/umap_.py:1780: UserWarning:\n",
            "\n",
            "using precomputed metric; inverse_transform will be unavailable\n",
            "\n"
          ]
        },
        {
          "name": "stdout",
          "output_type": "stream",
          "text": [
            "[fit-vis-UMAP]\n",
            "Elapsed: 104.5471\n",
            "\n",
            "[DensMAP]\n",
            "Elapsed: 257.93544\n",
            "\n",
            "[HDBSCAN*]\n",
            "Elapsed: 2.27025\n",
            "\n",
            "[pdf-summation]\n",
            "Elapsed: 29.4813\n",
            "\n",
            "[gridded-pdf-summation]\n",
            "Elapsed: 29.75954\n",
            "\n",
            "[train-val-pdf-summation]\n",
            "Elapsed: 11.49515\n",
            "\n",
            "[nearest-neighbor-properties]\n",
            "Elapsed: 14.53408\n",
            "\n",
            "\n",
            "Done with iteration 55\n",
            "\n"
          ]
        },
        {
          "name": "stderr",
          "output_type": "stream",
          "text": [
            "Generating EDM: 100%|██████████| 12415/12415 [00:00<00:00, 89510.19formulae/s]\n"
          ]
        },
        {
          "name": "stdout",
          "output_type": "stream",
          "text": [
            "loading data with up to 8 elements in the formula\n"
          ]
        },
        {
          "name": "stderr",
          "output_type": "stream",
          "text": [
            "Generating EDM: 100%|██████████| 9920/9920 [00:00<00:00, 111408.46formulae/s]\n"
          ]
        },
        {
          "name": "stdout",
          "output_type": "stream",
          "text": [
            "loading data with up to 8 elements in the formula\n",
            "val RMSE:  7.741504998719296\n",
            "Fitting mod_petti kernel matrix\n",
            "Constructing distances\n",
            "[fit-wasserstein]\n",
            "Elapsed: 30.0957\n",
            "\n"
          ]
        },
        {
          "name": "stderr",
          "output_type": "stream",
          "text": [
            "/usr/local/lib/python3.7/dist-packages/umap/umap_.py:1780: UserWarning:\n",
            "\n",
            "using precomputed metric; inverse_transform will be unavailable\n",
            "\n"
          ]
        },
        {
          "name": "stdout",
          "output_type": "stream",
          "text": [
            "[fit-UMAP]\n",
            "Elapsed: 151.91441\n",
            "\n"
          ]
        },
        {
          "name": "stderr",
          "output_type": "stream",
          "text": [
            "/usr/local/lib/python3.7/dist-packages/umap/umap_.py:1780: UserWarning:\n",
            "\n",
            "using precomputed metric; inverse_transform will be unavailable\n",
            "\n"
          ]
        },
        {
          "name": "stdout",
          "output_type": "stream",
          "text": [
            "[fit-vis-UMAP]\n",
            "Elapsed: 105.0088\n",
            "\n",
            "[DensMAP]\n",
            "Elapsed: 257.0603\n",
            "\n",
            "[HDBSCAN*]\n",
            "Elapsed: 2.24784\n",
            "\n",
            "[pdf-summation]\n",
            "Elapsed: 30.6057\n",
            "\n",
            "[gridded-pdf-summation]\n",
            "Elapsed: 30.8771\n",
            "\n",
            "[train-val-pdf-summation]\n",
            "Elapsed: 11.49777\n",
            "\n",
            "[nearest-neighbor-properties]\n",
            "Elapsed: 14.94508\n",
            "\n",
            "\n",
            "Done with iteration 56\n",
            "\n"
          ]
        },
        {
          "name": "stderr",
          "output_type": "stream",
          "text": [
            "Generating EDM: 100%|██████████| 12415/12415 [00:00<00:00, 94138.41formulae/s]\n"
          ]
        },
        {
          "name": "stdout",
          "output_type": "stream",
          "text": [
            "loading data with up to 8 elements in the formula\n"
          ]
        },
        {
          "name": "stderr",
          "output_type": "stream",
          "text": [
            "Generating EDM: 100%|██████████| 9920/9920 [00:00<00:00, 105833.79formulae/s]\n"
          ]
        },
        {
          "name": "stdout",
          "output_type": "stream",
          "text": [
            "loading data with up to 8 elements in the formula\n",
            "val RMSE:  7.752617709319452\n",
            "Fitting mod_petti kernel matrix\n",
            "Constructing distances\n",
            "[fit-wasserstein]\n",
            "Elapsed: 30.05274\n",
            "\n"
          ]
        },
        {
          "name": "stderr",
          "output_type": "stream",
          "text": [
            "/usr/local/lib/python3.7/dist-packages/umap/umap_.py:1780: UserWarning:\n",
            "\n",
            "using precomputed metric; inverse_transform will be unavailable\n",
            "\n"
          ]
        },
        {
          "name": "stdout",
          "output_type": "stream",
          "text": [
            "[fit-UMAP]\n",
            "Elapsed: 152.34413\n",
            "\n"
          ]
        },
        {
          "name": "stderr",
          "output_type": "stream",
          "text": [
            "/usr/local/lib/python3.7/dist-packages/umap/umap_.py:1780: UserWarning:\n",
            "\n",
            "using precomputed metric; inverse_transform will be unavailable\n",
            "\n"
          ]
        },
        {
          "name": "stdout",
          "output_type": "stream",
          "text": [
            "[fit-vis-UMAP]\n",
            "Elapsed: 105.10132\n",
            "\n",
            "[DensMAP]\n",
            "Elapsed: 257.5703\n",
            "\n",
            "[HDBSCAN*]\n",
            "Elapsed: 2.26663\n",
            "\n",
            "[pdf-summation]\n",
            "Elapsed: 29.47527\n",
            "\n",
            "[gridded-pdf-summation]\n",
            "Elapsed: 29.74866\n",
            "\n",
            "[train-val-pdf-summation]\n",
            "Elapsed: 11.42754\n",
            "\n",
            "[nearest-neighbor-properties]\n",
            "Elapsed: 15.10769\n",
            "\n",
            "\n",
            "Done with iteration 57\n",
            "\n"
          ]
        },
        {
          "name": "stderr",
          "output_type": "stream",
          "text": [
            "Generating EDM: 100%|██████████| 12415/12415 [00:00<00:00, 94596.90formulae/s]\n"
          ]
        },
        {
          "name": "stdout",
          "output_type": "stream",
          "text": [
            "loading data with up to 8 elements in the formula\n"
          ]
        },
        {
          "name": "stderr",
          "output_type": "stream",
          "text": [
            "Generating EDM: 100%|██████████| 9920/9920 [00:00<00:00, 111296.41formulae/s]\n"
          ]
        },
        {
          "name": "stdout",
          "output_type": "stream",
          "text": [
            "loading data with up to 8 elements in the formula\n",
            "val RMSE:  7.980395572505056\n",
            "Fitting mod_petti kernel matrix\n",
            "Constructing distances\n",
            "[fit-wasserstein]\n",
            "Elapsed: 31.62056\n",
            "\n"
          ]
        },
        {
          "name": "stderr",
          "output_type": "stream",
          "text": [
            "/usr/local/lib/python3.7/dist-packages/umap/umap_.py:1780: UserWarning:\n",
            "\n",
            "using precomputed metric; inverse_transform will be unavailable\n",
            "\n"
          ]
        },
        {
          "name": "stdout",
          "output_type": "stream",
          "text": [
            "[fit-UMAP]\n",
            "Elapsed: 152.979\n",
            "\n"
          ]
        },
        {
          "name": "stderr",
          "output_type": "stream",
          "text": [
            "/usr/local/lib/python3.7/dist-packages/umap/umap_.py:1780: UserWarning:\n",
            "\n",
            "using precomputed metric; inverse_transform will be unavailable\n",
            "\n"
          ]
        },
        {
          "name": "stdout",
          "output_type": "stream",
          "text": [
            "[fit-vis-UMAP]\n",
            "Elapsed: 105.56206\n",
            "\n",
            "[DensMAP]\n",
            "Elapsed: 258.67987\n",
            "\n",
            "[HDBSCAN*]\n",
            "Elapsed: 2.30551\n",
            "\n",
            "[pdf-summation]\n",
            "Elapsed: 29.47648\n",
            "\n",
            "[gridded-pdf-summation]\n",
            "Elapsed: 29.75129\n",
            "\n",
            "[train-val-pdf-summation]\n",
            "Elapsed: 11.48155\n",
            "\n",
            "[nearest-neighbor-properties]\n",
            "Elapsed: 15.34632\n",
            "\n",
            "\n",
            "Done with iteration 58\n",
            "\n"
          ]
        },
        {
          "name": "stderr",
          "output_type": "stream",
          "text": [
            "Generating EDM: 100%|██████████| 12415/12415 [00:00<00:00, 92092.92formulae/s]\n"
          ]
        },
        {
          "name": "stdout",
          "output_type": "stream",
          "text": [
            "loading data with up to 8 elements in the formula\n"
          ]
        },
        {
          "name": "stderr",
          "output_type": "stream",
          "text": [
            "Generating EDM: 100%|██████████| 9920/9920 [00:00<00:00, 111140.04formulae/s]\n"
          ]
        },
        {
          "name": "stdout",
          "output_type": "stream",
          "text": [
            "loading data with up to 8 elements in the formula\n",
            "val RMSE:  7.684938494897218\n",
            "Fitting mod_petti kernel matrix\n",
            "Constructing distances\n",
            "[fit-wasserstein]\n",
            "Elapsed: 30.1103\n",
            "\n"
          ]
        },
        {
          "name": "stderr",
          "output_type": "stream",
          "text": [
            "/usr/local/lib/python3.7/dist-packages/umap/umap_.py:1780: UserWarning:\n",
            "\n",
            "using precomputed metric; inverse_transform will be unavailable\n",
            "\n"
          ]
        },
        {
          "name": "stdout",
          "output_type": "stream",
          "text": [
            "[fit-UMAP]\n",
            "Elapsed: 153.0003\n",
            "\n"
          ]
        },
        {
          "name": "stderr",
          "output_type": "stream",
          "text": [
            "/usr/local/lib/python3.7/dist-packages/umap/umap_.py:1780: UserWarning:\n",
            "\n",
            "using precomputed metric; inverse_transform will be unavailable\n",
            "\n"
          ]
        },
        {
          "name": "stdout",
          "output_type": "stream",
          "text": [
            "[fit-vis-UMAP]\n",
            "Elapsed: 107.29514\n",
            "\n",
            "[DensMAP]\n",
            "Elapsed: 260.42272\n",
            "\n",
            "[HDBSCAN*]\n",
            "Elapsed: 2.28827\n",
            "\n",
            "[pdf-summation]\n",
            "Elapsed: 29.54103\n",
            "\n",
            "[gridded-pdf-summation]\n",
            "Elapsed: 29.81806\n",
            "\n",
            "[train-val-pdf-summation]\n",
            "Elapsed: 11.44668\n",
            "\n",
            "[nearest-neighbor-properties]\n",
            "Elapsed: 14.46181\n",
            "\n",
            "\n",
            "Done with iteration 59\n",
            "\n"
          ]
        },
        {
          "name": "stderr",
          "output_type": "stream",
          "text": [
            "Generating EDM: 100%|██████████| 12415/12415 [00:00<00:00, 92396.86formulae/s]\n"
          ]
        },
        {
          "name": "stdout",
          "output_type": "stream",
          "text": [
            "loading data with up to 8 elements in the formula\n"
          ]
        },
        {
          "name": "stderr",
          "output_type": "stream",
          "text": [
            "Generating EDM: 100%|██████████| 9920/9920 [00:00<00:00, 109822.88formulae/s]\n"
          ]
        },
        {
          "name": "stdout",
          "output_type": "stream",
          "text": [
            "loading data with up to 8 elements in the formula\n",
            "val RMSE:  7.846311766049346\n",
            "Fitting mod_petti kernel matrix\n",
            "Constructing distances\n",
            "[fit-wasserstein]\n",
            "Elapsed: 30.2343\n",
            "\n"
          ]
        },
        {
          "name": "stderr",
          "output_type": "stream",
          "text": [
            "/usr/local/lib/python3.7/dist-packages/umap/umap_.py:1780: UserWarning:\n",
            "\n",
            "using precomputed metric; inverse_transform will be unavailable\n",
            "\n"
          ]
        },
        {
          "name": "stdout",
          "output_type": "stream",
          "text": [
            "[fit-UMAP]\n",
            "Elapsed: 152.95187\n",
            "\n"
          ]
        },
        {
          "name": "stderr",
          "output_type": "stream",
          "text": [
            "/usr/local/lib/python3.7/dist-packages/umap/umap_.py:1780: UserWarning:\n",
            "\n",
            "using precomputed metric; inverse_transform will be unavailable\n",
            "\n"
          ]
        },
        {
          "name": "stdout",
          "output_type": "stream",
          "text": [
            "[fit-vis-UMAP]\n",
            "Elapsed: 105.47315\n",
            "\n",
            "[DensMAP]\n",
            "Elapsed: 258.5613\n",
            "\n",
            "[HDBSCAN*]\n",
            "Elapsed: 2.29502\n",
            "\n",
            "[pdf-summation]\n",
            "Elapsed: 29.53772\n",
            "\n",
            "[gridded-pdf-summation]\n",
            "Elapsed: 29.81014\n",
            "\n",
            "[train-val-pdf-summation]\n",
            "Elapsed: 11.5985\n",
            "\n",
            "[nearest-neighbor-properties]\n",
            "Elapsed: 15.15298\n",
            "\n",
            "\n",
            "Done with iteration 60\n",
            "\n"
          ]
        },
        {
          "name": "stderr",
          "output_type": "stream",
          "text": [
            "Generating EDM: 100%|██████████| 12415/12415 [00:00<00:00, 92979.75formulae/s]\n"
          ]
        },
        {
          "name": "stdout",
          "output_type": "stream",
          "text": [
            "loading data with up to 8 elements in the formula\n"
          ]
        },
        {
          "name": "stderr",
          "output_type": "stream",
          "text": [
            "Generating EDM: 100%|██████████| 9920/9920 [00:00<00:00, 106810.22formulae/s]\n"
          ]
        },
        {
          "name": "stdout",
          "output_type": "stream",
          "text": [
            "loading data with up to 8 elements in the formula\n",
            "val RMSE:  7.845409057650926\n",
            "Fitting mod_petti kernel matrix\n",
            "Constructing distances\n",
            "[fit-wasserstein]\n",
            "Elapsed: 30.14728\n",
            "\n"
          ]
        },
        {
          "name": "stderr",
          "output_type": "stream",
          "text": [
            "/usr/local/lib/python3.7/dist-packages/umap/umap_.py:1780: UserWarning:\n",
            "\n",
            "using precomputed metric; inverse_transform will be unavailable\n",
            "\n"
          ]
        },
        {
          "name": "stdout",
          "output_type": "stream",
          "text": [
            "[fit-UMAP]\n",
            "Elapsed: 152.90624\n",
            "\n"
          ]
        },
        {
          "name": "stderr",
          "output_type": "stream",
          "text": [
            "/usr/local/lib/python3.7/dist-packages/umap/umap_.py:1780: UserWarning:\n",
            "\n",
            "using precomputed metric; inverse_transform will be unavailable\n",
            "\n"
          ]
        },
        {
          "name": "stdout",
          "output_type": "stream",
          "text": [
            "[fit-vis-UMAP]\n",
            "Elapsed: 107.43276\n",
            "\n",
            "[DensMAP]\n",
            "Elapsed: 260.46623\n",
            "\n",
            "[HDBSCAN*]\n",
            "Elapsed: 2.27366\n",
            "\n",
            "[pdf-summation]\n",
            "Elapsed: 29.73705\n",
            "\n",
            "[gridded-pdf-summation]\n",
            "Elapsed: 30.0185\n",
            "\n",
            "[train-val-pdf-summation]\n",
            "Elapsed: 11.43806\n",
            "\n",
            "[nearest-neighbor-properties]\n",
            "Elapsed: 14.18736\n",
            "\n",
            "\n",
            "Done with iteration 61\n",
            "\n"
          ]
        },
        {
          "name": "stderr",
          "output_type": "stream",
          "text": [
            "Generating EDM: 100%|██████████| 12415/12415 [00:00<00:00, 96197.50formulae/s] \n"
          ]
        },
        {
          "name": "stdout",
          "output_type": "stream",
          "text": [
            "loading data with up to 8 elements in the formula\n"
          ]
        },
        {
          "name": "stderr",
          "output_type": "stream",
          "text": [
            "Generating EDM: 100%|██████████| 9920/9920 [00:00<00:00, 109383.45formulae/s]\n"
          ]
        },
        {
          "name": "stdout",
          "output_type": "stream",
          "text": [
            "loading data with up to 8 elements in the formula\n",
            "val RMSE:  7.300265943660308\n",
            "Fitting mod_petti kernel matrix\n",
            "Constructing distances\n",
            "[fit-wasserstein]\n",
            "Elapsed: 30.094\n",
            "\n"
          ]
        },
        {
          "name": "stderr",
          "output_type": "stream",
          "text": [
            "/usr/local/lib/python3.7/dist-packages/umap/umap_.py:1780: UserWarning:\n",
            "\n",
            "using precomputed metric; inverse_transform will be unavailable\n",
            "\n"
          ]
        },
        {
          "name": "stdout",
          "output_type": "stream",
          "text": [
            "[fit-UMAP]\n",
            "Elapsed: 151.26572\n",
            "\n"
          ]
        },
        {
          "name": "stderr",
          "output_type": "stream",
          "text": [
            "/usr/local/lib/python3.7/dist-packages/umap/umap_.py:1780: UserWarning:\n",
            "\n",
            "using precomputed metric; inverse_transform will be unavailable\n",
            "\n"
          ]
        },
        {
          "name": "stdout",
          "output_type": "stream",
          "text": [
            "[fit-vis-UMAP]\n",
            "Elapsed: 105.79246\n",
            "\n",
            "[DensMAP]\n",
            "Elapsed: 257.19769\n",
            "\n",
            "[HDBSCAN*]\n",
            "Elapsed: 2.27441\n",
            "\n",
            "[pdf-summation]\n",
            "Elapsed: 29.0894\n",
            "\n",
            "[gridded-pdf-summation]\n",
            "Elapsed: 29.37791\n",
            "\n",
            "[train-val-pdf-summation]\n",
            "Elapsed: 11.37551\n",
            "\n",
            "[nearest-neighbor-properties]\n",
            "Elapsed: 14.98984\n",
            "\n",
            "\n",
            "Done with iteration 62\n",
            "\n"
          ]
        },
        {
          "name": "stderr",
          "output_type": "stream",
          "text": [
            "Generating EDM: 100%|██████████| 12415/12415 [00:00<00:00, 93631.11formulae/s]\n"
          ]
        },
        {
          "name": "stdout",
          "output_type": "stream",
          "text": [
            "loading data with up to 8 elements in the formula\n"
          ]
        },
        {
          "name": "stderr",
          "output_type": "stream",
          "text": [
            "Generating EDM: 100%|██████████| 9920/9920 [00:00<00:00, 109122.97formulae/s]\n"
          ]
        },
        {
          "name": "stdout",
          "output_type": "stream",
          "text": [
            "loading data with up to 8 elements in the formula\n",
            "val RMSE:  7.801877453560062\n",
            "Fitting mod_petti kernel matrix\n",
            "Constructing distances\n",
            "[fit-wasserstein]\n",
            "Elapsed: 30.10436\n",
            "\n"
          ]
        },
        {
          "name": "stderr",
          "output_type": "stream",
          "text": [
            "/usr/local/lib/python3.7/dist-packages/umap/umap_.py:1780: UserWarning:\n",
            "\n",
            "using precomputed metric; inverse_transform will be unavailable\n",
            "\n"
          ]
        },
        {
          "name": "stdout",
          "output_type": "stream",
          "text": [
            "[fit-UMAP]\n",
            "Elapsed: 151.66844\n",
            "\n"
          ]
        },
        {
          "name": "stderr",
          "output_type": "stream",
          "text": [
            "/usr/local/lib/python3.7/dist-packages/umap/umap_.py:1780: UserWarning:\n",
            "\n",
            "using precomputed metric; inverse_transform will be unavailable\n",
            "\n"
          ]
        },
        {
          "name": "stdout",
          "output_type": "stream",
          "text": [
            "[fit-vis-UMAP]\n",
            "Elapsed: 104.53817\n",
            "\n",
            "[DensMAP]\n",
            "Elapsed: 256.33017\n",
            "\n",
            "[HDBSCAN*]\n",
            "Elapsed: 2.26992\n",
            "\n",
            "[pdf-summation]\n",
            "Elapsed: 29.32324\n",
            "\n",
            "[gridded-pdf-summation]\n",
            "Elapsed: 29.59872\n",
            "\n",
            "[train-val-pdf-summation]\n",
            "Elapsed: 11.43201\n",
            "\n",
            "[nearest-neighbor-properties]\n",
            "Elapsed: 14.32092\n",
            "\n",
            "\n",
            "Done with iteration 63\n",
            "\n"
          ]
        },
        {
          "name": "stderr",
          "output_type": "stream",
          "text": [
            "Generating EDM: 100%|██████████| 12415/12415 [00:00<00:00, 92895.48formulae/s]\n"
          ]
        },
        {
          "name": "stdout",
          "output_type": "stream",
          "text": [
            "loading data with up to 8 elements in the formula\n"
          ]
        },
        {
          "name": "stderr",
          "output_type": "stream",
          "text": [
            "Generating EDM: 100%|██████████| 9920/9920 [00:00<00:00, 110427.39formulae/s]\n"
          ]
        },
        {
          "name": "stdout",
          "output_type": "stream",
          "text": [
            "loading data with up to 8 elements in the formula\n",
            "val RMSE:  7.851424785029013\n",
            "Fitting mod_petti kernel matrix\n",
            "Constructing distances\n",
            "[fit-wasserstein]\n",
            "Elapsed: 30.19814\n",
            "\n"
          ]
        },
        {
          "name": "stderr",
          "output_type": "stream",
          "text": [
            "/usr/local/lib/python3.7/dist-packages/umap/umap_.py:1780: UserWarning:\n",
            "\n",
            "using precomputed metric; inverse_transform will be unavailable\n",
            "\n"
          ]
        },
        {
          "name": "stdout",
          "output_type": "stream",
          "text": [
            "[fit-UMAP]\n",
            "Elapsed: 151.37795\n",
            "\n"
          ]
        },
        {
          "name": "stderr",
          "output_type": "stream",
          "text": [
            "/usr/local/lib/python3.7/dist-packages/umap/umap_.py:1780: UserWarning:\n",
            "\n",
            "using precomputed metric; inverse_transform will be unavailable\n",
            "\n"
          ]
        },
        {
          "name": "stdout",
          "output_type": "stream",
          "text": [
            "[fit-vis-UMAP]\n",
            "Elapsed: 104.32443\n",
            "\n",
            "[DensMAP]\n",
            "Elapsed: 255.83476\n",
            "\n",
            "[HDBSCAN*]\n",
            "Elapsed: 2.31273\n",
            "\n",
            "[pdf-summation]\n",
            "Elapsed: 29.09255\n",
            "\n",
            "[gridded-pdf-summation]\n",
            "Elapsed: 29.35988\n",
            "\n",
            "[train-val-pdf-summation]\n",
            "Elapsed: 11.36299\n",
            "\n",
            "[nearest-neighbor-properties]\n",
            "Elapsed: 14.58592\n",
            "\n",
            "\n",
            "Done with iteration 64\n",
            "\n"
          ]
        },
        {
          "name": "stderr",
          "output_type": "stream",
          "text": [
            "Generating EDM: 100%|██████████| 12415/12415 [00:00<00:00, 92089.34formulae/s]\n"
          ]
        },
        {
          "name": "stdout",
          "output_type": "stream",
          "text": [
            "loading data with up to 8 elements in the formula\n"
          ]
        },
        {
          "name": "stderr",
          "output_type": "stream",
          "text": [
            "Generating EDM: 100%|██████████| 9920/9920 [00:00<00:00, 112198.58formulae/s]\n"
          ]
        },
        {
          "name": "stdout",
          "output_type": "stream",
          "text": [
            "loading data with up to 8 elements in the formula\n",
            "val RMSE:  7.509386058125204\n",
            "Fitting mod_petti kernel matrix\n",
            "Constructing distances\n",
            "[fit-wasserstein]\n",
            "Elapsed: 30.05327\n",
            "\n"
          ]
        },
        {
          "name": "stderr",
          "output_type": "stream",
          "text": [
            "/usr/local/lib/python3.7/dist-packages/umap/umap_.py:1780: UserWarning:\n",
            "\n",
            "using precomputed metric; inverse_transform will be unavailable\n",
            "\n"
          ]
        },
        {
          "name": "stdout",
          "output_type": "stream",
          "text": [
            "[fit-UMAP]\n",
            "Elapsed: 151.35863\n",
            "\n"
          ]
        },
        {
          "name": "stderr",
          "output_type": "stream",
          "text": [
            "/usr/local/lib/python3.7/dist-packages/umap/umap_.py:1780: UserWarning:\n",
            "\n",
            "using precomputed metric; inverse_transform will be unavailable\n",
            "\n"
          ]
        },
        {
          "name": "stdout",
          "output_type": "stream",
          "text": [
            "[fit-vis-UMAP]\n",
            "Elapsed: 106.01279\n",
            "\n",
            "[DensMAP]\n",
            "Elapsed: 257.49729\n",
            "\n",
            "[HDBSCAN*]\n",
            "Elapsed: 2.26872\n",
            "\n",
            "[pdf-summation]\n",
            "Elapsed: 28.99625\n",
            "\n",
            "[gridded-pdf-summation]\n",
            "Elapsed: 29.28168\n",
            "\n",
            "[train-val-pdf-summation]\n",
            "Elapsed: 11.2447\n",
            "\n",
            "[nearest-neighbor-properties]\n",
            "Elapsed: 14.7217\n",
            "\n",
            "\n",
            "Done with iteration 65\n",
            "\n"
          ]
        },
        {
          "name": "stderr",
          "output_type": "stream",
          "text": [
            "Generating EDM: 100%|██████████| 12415/12415 [00:00<00:00, 94497.68formulae/s]\n"
          ]
        },
        {
          "name": "stdout",
          "output_type": "stream",
          "text": [
            "loading data with up to 8 elements in the formula\n"
          ]
        },
        {
          "name": "stderr",
          "output_type": "stream",
          "text": [
            "Generating EDM: 100%|██████████| 9920/9920 [00:00<00:00, 112243.98formulae/s]\n"
          ]
        },
        {
          "name": "stdout",
          "output_type": "stream",
          "text": [
            "loading data with up to 8 elements in the formula\n",
            "val RMSE:  7.608722399238851\n",
            "Fitting mod_petti kernel matrix\n",
            "Constructing distances\n",
            "[fit-wasserstein]\n",
            "Elapsed: 30.10518\n",
            "\n"
          ]
        },
        {
          "name": "stderr",
          "output_type": "stream",
          "text": [
            "/usr/local/lib/python3.7/dist-packages/umap/umap_.py:1780: UserWarning:\n",
            "\n",
            "using precomputed metric; inverse_transform will be unavailable\n",
            "\n"
          ]
        },
        {
          "name": "stdout",
          "output_type": "stream",
          "text": [
            "[fit-UMAP]\n",
            "Elapsed: 154.20392\n",
            "\n"
          ]
        },
        {
          "name": "stderr",
          "output_type": "stream",
          "text": [
            "/usr/local/lib/python3.7/dist-packages/umap/umap_.py:1780: UserWarning:\n",
            "\n",
            "using precomputed metric; inverse_transform will be unavailable\n",
            "\n"
          ]
        },
        {
          "name": "stdout",
          "output_type": "stream",
          "text": [
            "[fit-vis-UMAP]\n",
            "Elapsed: 104.1096\n",
            "\n",
            "[DensMAP]\n",
            "Elapsed: 258.45392\n",
            "\n",
            "[HDBSCAN*]\n",
            "Elapsed: 2.28328\n",
            "\n",
            "[pdf-summation]\n",
            "Elapsed: 29.09066\n",
            "\n",
            "[gridded-pdf-summation]\n",
            "Elapsed: 29.36544\n",
            "\n",
            "[train-val-pdf-summation]\n",
            "Elapsed: 11.32292\n",
            "\n",
            "[nearest-neighbor-properties]\n",
            "Elapsed: 14.53737\n",
            "\n",
            "\n",
            "Done with iteration 66\n",
            "\n"
          ]
        },
        {
          "name": "stderr",
          "output_type": "stream",
          "text": [
            "Generating EDM: 100%|██████████| 12415/12415 [00:00<00:00, 92378.34formulae/s]\n"
          ]
        },
        {
          "name": "stdout",
          "output_type": "stream",
          "text": [
            "loading data with up to 8 elements in the formula\n"
          ]
        },
        {
          "name": "stderr",
          "output_type": "stream",
          "text": [
            "Generating EDM: 100%|██████████| 9920/9920 [00:00<00:00, 110630.87formulae/s]\n"
          ]
        },
        {
          "name": "stdout",
          "output_type": "stream",
          "text": [
            "loading data with up to 8 elements in the formula\n",
            "val RMSE:  7.912146349291238\n",
            "Fitting mod_petti kernel matrix\n",
            "Constructing distances\n",
            "[fit-wasserstein]\n",
            "Elapsed: 30.07998\n",
            "\n"
          ]
        },
        {
          "name": "stderr",
          "output_type": "stream",
          "text": [
            "/usr/local/lib/python3.7/dist-packages/umap/umap_.py:1780: UserWarning:\n",
            "\n",
            "using precomputed metric; inverse_transform will be unavailable\n",
            "\n"
          ]
        },
        {
          "name": "stdout",
          "output_type": "stream",
          "text": [
            "[fit-UMAP]\n",
            "Elapsed: 151.49717\n",
            "\n"
          ]
        },
        {
          "name": "stderr",
          "output_type": "stream",
          "text": [
            "/usr/local/lib/python3.7/dist-packages/umap/umap_.py:1780: UserWarning:\n",
            "\n",
            "using precomputed metric; inverse_transform will be unavailable\n",
            "\n"
          ]
        },
        {
          "name": "stdout",
          "output_type": "stream",
          "text": [
            "[fit-vis-UMAP]\n",
            "Elapsed: 104.58509\n",
            "\n",
            "[DensMAP]\n",
            "Elapsed: 256.21484\n",
            "\n",
            "[HDBSCAN*]\n",
            "Elapsed: 2.25591\n",
            "\n",
            "[pdf-summation]\n",
            "Elapsed: 29.1381\n",
            "\n",
            "[gridded-pdf-summation]\n",
            "Elapsed: 29.41236\n",
            "\n",
            "[train-val-pdf-summation]\n",
            "Elapsed: 11.41545\n",
            "\n",
            "[nearest-neighbor-properties]\n",
            "Elapsed: 14.37396\n",
            "\n",
            "\n",
            "Done with iteration 67\n",
            "\n"
          ]
        },
        {
          "name": "stderr",
          "output_type": "stream",
          "text": [
            "Generating EDM: 100%|██████████| 12415/12415 [00:00<00:00, 93047.37formulae/s]\n"
          ]
        },
        {
          "name": "stdout",
          "output_type": "stream",
          "text": [
            "loading data with up to 8 elements in the formula\n"
          ]
        },
        {
          "name": "stderr",
          "output_type": "stream",
          "text": [
            "Generating EDM: 100%|██████████| 9920/9920 [00:00<00:00, 110014.82formulae/s]\n"
          ]
        },
        {
          "name": "stdout",
          "output_type": "stream",
          "text": [
            "loading data with up to 8 elements in the formula\n",
            "val RMSE:  8.256361803971517\n",
            "Fitting mod_petti kernel matrix\n",
            "Constructing distances\n",
            "[fit-wasserstein]\n",
            "Elapsed: 30.17249\n",
            "\n"
          ]
        },
        {
          "name": "stderr",
          "output_type": "stream",
          "text": [
            "/usr/local/lib/python3.7/dist-packages/umap/umap_.py:1780: UserWarning:\n",
            "\n",
            "using precomputed metric; inverse_transform will be unavailable\n",
            "\n"
          ]
        },
        {
          "name": "stdout",
          "output_type": "stream",
          "text": [
            "[fit-UMAP]\n",
            "Elapsed: 152.28105\n",
            "\n"
          ]
        },
        {
          "name": "stderr",
          "output_type": "stream",
          "text": [
            "/usr/local/lib/python3.7/dist-packages/umap/umap_.py:1780: UserWarning:\n",
            "\n",
            "using precomputed metric; inverse_transform will be unavailable\n",
            "\n"
          ]
        },
        {
          "name": "stdout",
          "output_type": "stream",
          "text": [
            "[fit-vis-UMAP]\n",
            "Elapsed: 106.69789\n",
            "\n",
            "[DensMAP]\n",
            "Elapsed: 259.11584\n",
            "\n",
            "[HDBSCAN*]\n",
            "Elapsed: 2.25972\n",
            "\n",
            "[pdf-summation]\n",
            "Elapsed: 29.36403\n",
            "\n",
            "[gridded-pdf-summation]\n",
            "Elapsed: 29.64135\n",
            "\n",
            "[train-val-pdf-summation]\n",
            "Elapsed: 11.40295\n",
            "\n",
            "[nearest-neighbor-properties]\n",
            "Elapsed: 15.16568\n",
            "\n",
            "\n",
            "Done with iteration 68\n",
            "\n"
          ]
        },
        {
          "name": "stderr",
          "output_type": "stream",
          "text": [
            "Generating EDM: 100%|██████████| 12415/12415 [00:00<00:00, 91177.65formulae/s]\n"
          ]
        },
        {
          "name": "stdout",
          "output_type": "stream",
          "text": [
            "loading data with up to 8 elements in the formula\n"
          ]
        },
        {
          "name": "stderr",
          "output_type": "stream",
          "text": [
            "Generating EDM: 100%|██████████| 9919/9919 [00:00<00:00, 108241.02formulae/s]\n"
          ]
        },
        {
          "name": "stdout",
          "output_type": "stream",
          "text": [
            "loading data with up to 8 elements in the formula\n",
            "val RMSE:  7.857747716150497\n",
            "Fitting mod_petti kernel matrix\n",
            "Constructing distances\n",
            "[fit-wasserstein]\n",
            "Elapsed: 30.03944\n",
            "\n"
          ]
        },
        {
          "name": "stderr",
          "output_type": "stream",
          "text": [
            "/usr/local/lib/python3.7/dist-packages/umap/umap_.py:1780: UserWarning:\n",
            "\n",
            "using precomputed metric; inverse_transform will be unavailable\n",
            "\n"
          ]
        },
        {
          "name": "stdout",
          "output_type": "stream",
          "text": [
            "[fit-UMAP]\n",
            "Elapsed: 152.55862\n",
            "\n"
          ]
        },
        {
          "name": "stderr",
          "output_type": "stream",
          "text": [
            "/usr/local/lib/python3.7/dist-packages/umap/umap_.py:1780: UserWarning:\n",
            "\n",
            "using precomputed metric; inverse_transform will be unavailable\n",
            "\n"
          ]
        },
        {
          "name": "stdout",
          "output_type": "stream",
          "text": [
            "[fit-vis-UMAP]\n",
            "Elapsed: 104.85137\n",
            "\n",
            "[DensMAP]\n",
            "Elapsed: 257.54208\n",
            "\n",
            "[HDBSCAN*]\n",
            "Elapsed: 2.2952\n",
            "\n",
            "[pdf-summation]\n",
            "Elapsed: 29.28607\n",
            "\n",
            "[gridded-pdf-summation]\n",
            "Elapsed: 29.5596\n",
            "\n",
            "[train-val-pdf-summation]\n",
            "Elapsed: 11.48785\n",
            "\n",
            "[nearest-neighbor-properties]\n",
            "Elapsed: 14.21539\n",
            "\n",
            "\n",
            "Done with iteration 69\n",
            "\n"
          ]
        },
        {
          "name": "stderr",
          "output_type": "stream",
          "text": [
            "Generating EDM: 100%|██████████| 12415/12415 [00:00<00:00, 93339.91formulae/s]\n"
          ]
        },
        {
          "name": "stdout",
          "output_type": "stream",
          "text": [
            "loading data with up to 8 elements in the formula\n"
          ]
        },
        {
          "name": "stderr",
          "output_type": "stream",
          "text": [
            "Generating EDM: 100%|██████████| 9919/9919 [00:00<00:00, 109543.77formulae/s]\n"
          ]
        },
        {
          "name": "stdout",
          "output_type": "stream",
          "text": [
            "loading data with up to 8 elements in the formula\n",
            "val RMSE:  8.075300434774219\n",
            "Fitting mod_petti kernel matrix\n",
            "Constructing distances\n",
            "[fit-wasserstein]\n",
            "Elapsed: 31.70501\n",
            "\n"
          ]
        },
        {
          "name": "stderr",
          "output_type": "stream",
          "text": [
            "/usr/local/lib/python3.7/dist-packages/umap/umap_.py:1780: UserWarning:\n",
            "\n",
            "using precomputed metric; inverse_transform will be unavailable\n",
            "\n"
          ]
        },
        {
          "name": "stdout",
          "output_type": "stream",
          "text": [
            "[fit-UMAP]\n",
            "Elapsed: 151.75631\n",
            "\n"
          ]
        },
        {
          "name": "stderr",
          "output_type": "stream",
          "text": [
            "/usr/local/lib/python3.7/dist-packages/umap/umap_.py:1780: UserWarning:\n",
            "\n",
            "using precomputed metric; inverse_transform will be unavailable\n",
            "\n"
          ]
        },
        {
          "name": "stdout",
          "output_type": "stream",
          "text": [
            "[fit-vis-UMAP]\n",
            "Elapsed: 105.13139\n",
            "\n",
            "[DensMAP]\n",
            "Elapsed: 257.02434\n",
            "\n",
            "[HDBSCAN*]\n",
            "Elapsed: 2.29371\n",
            "\n",
            "[pdf-summation]\n",
            "Elapsed: 28.94055\n",
            "\n",
            "[gridded-pdf-summation]\n",
            "Elapsed: 29.22591\n",
            "\n",
            "[train-val-pdf-summation]\n",
            "Elapsed: 11.47939\n",
            "\n",
            "[nearest-neighbor-properties]\n",
            "Elapsed: 14.04155\n",
            "\n",
            "\n",
            "Done with iteration 70\n",
            "\n"
          ]
        }
      ],
      "source": [
        "#Predict through val_df in chunks (chunks are split to match 70/30 Training/Validation data)\n",
        "#There are 70 chunks each with ~10,000 compositions\n",
        "\n",
        "dens_score = []\n",
        "peak_score = []\n",
        "\n",
        "val_dfs = np.array_split(val_df, 70)\n",
        "# print((val_dfs[0]))\n",
        "\n",
        "jd = 0\n",
        "for i, val_df in enumerate(val_dfs):\n",
        "    jd = jd + 1\n",
        "    disc.predict(val_df, umap_random_state=42)\n",
        "    dens_score.append(disc.dens_score_df.sample(frac=1))\n",
        "    peak_score.append(disc.peak_score_df.sample(frac=1))\n",
        "    print(f\"\\nDone with iteration {jd}\\n\")"
      ]
    },
    {
      "cell_type": "code",
      "execution_count": null,
      "metadata": {
        "colab": {
          "base_uri": "https://localhost:8080/",
          "height": 1000
        },
        "id": "9Mi4qHR25opP",
        "outputId": "0c56b0f8-a9d9-429a-ea3c-f0090a73dbca"
      },
      "outputs": [
        {
          "data": {
            "text/html": [
              "\n",
              "  <div id=\"df-4dd7a409-8831-4d55-b072-ca2cbad5d4d7\">\n",
              "    <div class=\"colab-df-container\">\n",
              "      <div>\n",
              "<style scoped>\n",
              "    .dataframe tbody tr th:only-of-type {\n",
              "        vertical-align: middle;\n",
              "    }\n",
              "\n",
              "    .dataframe tbody tr th {\n",
              "        vertical-align: top;\n",
              "    }\n",
              "\n",
              "    .dataframe thead th {\n",
              "        text-align: right;\n",
              "    }\n",
              "</style>\n",
              "<table border=\"1\" class=\"dataframe\">\n",
              "  <thead>\n",
              "    <tr style=\"text-align: right;\">\n",
              "      <th></th>\n",
              "      <th>formula</th>\n",
              "      <th>prediction</th>\n",
              "      <th>density</th>\n",
              "      <th>score</th>\n",
              "      <th>index</th>\n",
              "    </tr>\n",
              "  </thead>\n",
              "  <tbody>\n",
              "    <tr>\n",
              "      <th>600059</th>\n",
              "      <td>CaCu4Sb</td>\n",
              "      <td>150.656235</td>\n",
              "      <td>3.385642</td>\n",
              "      <td>29.250681</td>\n",
              "      <td>90066</td>\n",
              "    </tr>\n",
              "    <tr>\n",
              "      <th>253958</th>\n",
              "      <td>CaAl2O12</td>\n",
              "      <td>132.798248</td>\n",
              "      <td>6.247991</td>\n",
              "      <td>25.816469</td>\n",
              "      <td>86453</td>\n",
              "    </tr>\n",
              "    <tr>\n",
              "      <th>440941</th>\n",
              "      <td>Ca(NO5)2</td>\n",
              "      <td>135.998795</td>\n",
              "      <td>6.453689</td>\n",
              "      <td>25.167288</td>\n",
              "      <td>79500</td>\n",
              "    </tr>\n",
              "    <tr>\n",
              "      <th>155065</th>\n",
              "      <td>YCu13</td>\n",
              "      <td>125.323814</td>\n",
              "      <td>6.211921</td>\n",
              "      <td>25.133519</td>\n",
              "      <td>643624</td>\n",
              "    </tr>\n",
              "    <tr>\n",
              "      <th>660206</th>\n",
              "      <td>Ca(IO6)2</td>\n",
              "      <td>134.643600</td>\n",
              "      <td>6.899210</td>\n",
              "      <td>24.973459</td>\n",
              "      <td>79435</td>\n",
              "    </tr>\n",
              "    <tr>\n",
              "      <th>551415</th>\n",
              "      <td>Ba2CaTl</td>\n",
              "      <td>126.584602</td>\n",
              "      <td>2.402361</td>\n",
              "      <td>24.831666</td>\n",
              "      <td>29774</td>\n",
              "    </tr>\n",
              "    <tr>\n",
              "      <th>628223</th>\n",
              "      <td>BaMg8</td>\n",
              "      <td>128.096863</td>\n",
              "      <td>5.390813</td>\n",
              "      <td>24.815515</td>\n",
              "      <td>48983</td>\n",
              "    </tr>\n",
              "    <tr>\n",
              "      <th>324453</th>\n",
              "      <td>CaSbPb4</td>\n",
              "      <td>129.982697</td>\n",
              "      <td>12.087344</td>\n",
              "      <td>24.587870</td>\n",
              "      <td>99503</td>\n",
              "    </tr>\n",
              "    <tr>\n",
              "      <th>672820</th>\n",
              "      <td>YCu8</td>\n",
              "      <td>133.906372</td>\n",
              "      <td>4.373719</td>\n",
              "      <td>24.431935</td>\n",
              "      <td>643729</td>\n",
              "    </tr>\n",
              "    <tr>\n",
              "      <th>517842</th>\n",
              "      <td>Ba2Mg17</td>\n",
              "      <td>122.497086</td>\n",
              "      <td>2.257852</td>\n",
              "      <td>23.672225</td>\n",
              "      <td>30981</td>\n",
              "    </tr>\n",
              "    <tr>\n",
              "      <th>482803</th>\n",
              "      <td>BaCa(AgO2)4</td>\n",
              "      <td>126.229439</td>\n",
              "      <td>15.346042</td>\n",
              "      <td>23.449426</td>\n",
              "      <td>40025</td>\n",
              "    </tr>\n",
              "    <tr>\n",
              "      <th>259315</th>\n",
              "      <td>CrAgO2</td>\n",
              "      <td>125.737503</td>\n",
              "      <td>29.267571</td>\n",
              "      <td>23.047100</td>\n",
              "      <td>134355</td>\n",
              "    </tr>\n",
              "    <tr>\n",
              "      <th>228803</th>\n",
              "      <td>Ba2Cr3O7</td>\n",
              "      <td>122.789215</td>\n",
              "      <td>10.047655</td>\n",
              "      <td>22.955930</td>\n",
              "      <td>29978</td>\n",
              "    </tr>\n",
              "    <tr>\n",
              "      <th>576514</th>\n",
              "      <td>Ba2Ca3Tl2V4O12</td>\n",
              "      <td>117.223846</td>\n",
              "      <td>12.736989</td>\n",
              "      <td>22.599131</td>\n",
              "      <td>29682</td>\n",
              "    </tr>\n",
              "    <tr>\n",
              "      <th>280802</th>\n",
              "      <td>BaY7</td>\n",
              "      <td>119.311790</td>\n",
              "      <td>2.756119</td>\n",
              "      <td>22.165617</td>\n",
              "      <td>60262</td>\n",
              "    </tr>\n",
              "    <tr>\n",
              "      <th>208818</th>\n",
              "      <td>Ca5Al11TlSi13O48</td>\n",
              "      <td>117.360085</td>\n",
              "      <td>4.429152</td>\n",
              "      <td>21.921718</td>\n",
              "      <td>85497</td>\n",
              "    </tr>\n",
              "    <tr>\n",
              "      <th>455430</th>\n",
              "      <td>YCrO2</td>\n",
              "      <td>119.127472</td>\n",
              "      <td>16.232205</td>\n",
              "      <td>21.548900</td>\n",
              "      <td>643494</td>\n",
              "    </tr>\n",
              "    <tr>\n",
              "      <th>626708</th>\n",
              "      <td>Ba2Cr3O8</td>\n",
              "      <td>112.926033</td>\n",
              "      <td>10.549232</td>\n",
              "      <td>21.488577</td>\n",
              "      <td>29979</td>\n",
              "    </tr>\n",
              "    <tr>\n",
              "      <th>346886</th>\n",
              "      <td>Ba(ClO4)2</td>\n",
              "      <td>119.621162</td>\n",
              "      <td>5.489098</td>\n",
              "      <td>21.391823</td>\n",
              "      <td>28827</td>\n",
              "    </tr>\n",
              "    <tr>\n",
              "      <th>184887</th>\n",
              "      <td>CaCrO2</td>\n",
              "      <td>115.995361</td>\n",
              "      <td>35.669668</td>\n",
              "      <td>21.294285</td>\n",
              "      <td>89833</td>\n",
              "    </tr>\n",
              "    <tr>\n",
              "      <th>145101</th>\n",
              "      <td>Ba2Ca3TlCu4O11</td>\n",
              "      <td>125.170815</td>\n",
              "      <td>51.912175</td>\n",
              "      <td>20.974875</td>\n",
              "      <td>29683</td>\n",
              "    </tr>\n",
              "    <tr>\n",
              "      <th>284752</th>\n",
              "      <td>Ba2Ca3Ti4Tl2O12</td>\n",
              "      <td>113.983223</td>\n",
              "      <td>6.843226</td>\n",
              "      <td>20.935164</td>\n",
              "      <td>29678</td>\n",
              "    </tr>\n",
              "    <tr>\n",
              "      <th>23007</th>\n",
              "      <td>BaCa(CuO2)4</td>\n",
              "      <td>111.354675</td>\n",
              "      <td>10.934295</td>\n",
              "      <td>20.878202</td>\n",
              "      <td>40030</td>\n",
              "    </tr>\n",
              "    <tr>\n",
              "      <th>320287</th>\n",
              "      <td>Ca(SO5)2</td>\n",
              "      <td>108.938591</td>\n",
              "      <td>6.418445</td>\n",
              "      <td>20.784938</td>\n",
              "      <td>79547</td>\n",
              "    </tr>\n",
              "    <tr>\n",
              "      <th>626751</th>\n",
              "      <td>BaCa2Cu3O5</td>\n",
              "      <td>110.019180</td>\n",
              "      <td>15.205222</td>\n",
              "      <td>20.639706</td>\n",
              "      <td>40058</td>\n",
              "    </tr>\n",
              "  </tbody>\n",
              "</table>\n",
              "</div>\n",
              "      <button class=\"colab-df-convert\" onclick=\"convertToInteractive('df-4dd7a409-8831-4d55-b072-ca2cbad5d4d7')\"\n",
              "              title=\"Convert this dataframe to an interactive table.\"\n",
              "              style=\"display:none;\">\n",
              "        \n",
              "  <svg xmlns=\"http://www.w3.org/2000/svg\" height=\"24px\"viewBox=\"0 0 24 24\"\n",
              "       width=\"24px\">\n",
              "    <path d=\"M0 0h24v24H0V0z\" fill=\"none\"/>\n",
              "    <path d=\"M18.56 5.44l.94 2.06.94-2.06 2.06-.94-2.06-.94-.94-2.06-.94 2.06-2.06.94zm-11 1L8.5 8.5l.94-2.06 2.06-.94-2.06-.94L8.5 2.5l-.94 2.06-2.06.94zm10 10l.94 2.06.94-2.06 2.06-.94-2.06-.94-.94-2.06-.94 2.06-2.06.94z\"/><path d=\"M17.41 7.96l-1.37-1.37c-.4-.4-.92-.59-1.43-.59-.52 0-1.04.2-1.43.59L10.3 9.45l-7.72 7.72c-.78.78-.78 2.05 0 2.83L4 21.41c.39.39.9.59 1.41.59.51 0 1.02-.2 1.41-.59l7.78-7.78 2.81-2.81c.8-.78.8-2.07 0-2.86zM5.41 20L4 18.59l7.72-7.72 1.47 1.35L5.41 20z\"/>\n",
              "  </svg>\n",
              "      </button>\n",
              "      \n",
              "  <style>\n",
              "    .colab-df-container {\n",
              "      display:flex;\n",
              "      flex-wrap:wrap;\n",
              "      gap: 12px;\n",
              "    }\n",
              "\n",
              "    .colab-df-convert {\n",
              "      background-color: #E8F0FE;\n",
              "      border: none;\n",
              "      border-radius: 50%;\n",
              "      cursor: pointer;\n",
              "      display: none;\n",
              "      fill: #1967D2;\n",
              "      height: 32px;\n",
              "      padding: 0 0 0 0;\n",
              "      width: 32px;\n",
              "    }\n",
              "\n",
              "    .colab-df-convert:hover {\n",
              "      background-color: #E2EBFA;\n",
              "      box-shadow: 0px 1px 2px rgba(60, 64, 67, 0.3), 0px 1px 3px 1px rgba(60, 64, 67, 0.15);\n",
              "      fill: #174EA6;\n",
              "    }\n",
              "\n",
              "    [theme=dark] .colab-df-convert {\n",
              "      background-color: #3B4455;\n",
              "      fill: #D2E3FC;\n",
              "    }\n",
              "\n",
              "    [theme=dark] .colab-df-convert:hover {\n",
              "      background-color: #434B5C;\n",
              "      box-shadow: 0px 1px 3px 1px rgba(0, 0, 0, 0.15);\n",
              "      filter: drop-shadow(0px 1px 2px rgba(0, 0, 0, 0.3));\n",
              "      fill: #FFFFFF;\n",
              "    }\n",
              "  </style>\n",
              "\n",
              "      <script>\n",
              "        const buttonEl =\n",
              "          document.querySelector('#df-4dd7a409-8831-4d55-b072-ca2cbad5d4d7 button.colab-df-convert');\n",
              "        buttonEl.style.display =\n",
              "          google.colab.kernel.accessAllowed ? 'block' : 'none';\n",
              "\n",
              "        async function convertToInteractive(key) {\n",
              "          const element = document.querySelector('#df-4dd7a409-8831-4d55-b072-ca2cbad5d4d7');\n",
              "          const dataTable =\n",
              "            await google.colab.kernel.invokeFunction('convertToInteractive',\n",
              "                                                     [key], {});\n",
              "          if (!dataTable) return;\n",
              "\n",
              "          const docLinkHtml = 'Like what you see? Visit the ' +\n",
              "            '<a target=\"_blank\" href=https://colab.research.google.com/notebooks/data_table.ipynb>data table notebook</a>'\n",
              "            + ' to learn more about interactive tables.';\n",
              "          element.innerHTML = '';\n",
              "          dataTable['output_type'] = 'display_data';\n",
              "          await google.colab.output.renderOutput(dataTable, element);\n",
              "          const docLink = document.createElement('div');\n",
              "          docLink.innerHTML = docLinkHtml;\n",
              "          element.appendChild(docLink);\n",
              "        }\n",
              "      </script>\n",
              "    </div>\n",
              "  </div>\n",
              "  "
            ],
            "text/plain": [
              "                 formula  prediction    density      score   index\n",
              "600059           CaCu4Sb  150.656235   3.385642  29.250681   90066\n",
              "253958          CaAl2O12  132.798248   6.247991  25.816469   86453\n",
              "440941          Ca(NO5)2  135.998795   6.453689  25.167288   79500\n",
              "155065             YCu13  125.323814   6.211921  25.133519  643624\n",
              "660206          Ca(IO6)2  134.643600   6.899210  24.973459   79435\n",
              "551415           Ba2CaTl  126.584602   2.402361  24.831666   29774\n",
              "628223             BaMg8  128.096863   5.390813  24.815515   48983\n",
              "324453           CaSbPb4  129.982697  12.087344  24.587870   99503\n",
              "672820              YCu8  133.906372   4.373719  24.431935  643729\n",
              "517842           Ba2Mg17  122.497086   2.257852  23.672225   30981\n",
              "482803       BaCa(AgO2)4  126.229439  15.346042  23.449426   40025\n",
              "259315            CrAgO2  125.737503  29.267571  23.047100  134355\n",
              "228803          Ba2Cr3O7  122.789215  10.047655  22.955930   29978\n",
              "576514    Ba2Ca3Tl2V4O12  117.223846  12.736989  22.599131   29682\n",
              "280802              BaY7  119.311790   2.756119  22.165617   60262\n",
              "208818  Ca5Al11TlSi13O48  117.360085   4.429152  21.921718   85497\n",
              "455430             YCrO2  119.127472  16.232205  21.548900  643494\n",
              "626708          Ba2Cr3O8  112.926033  10.549232  21.488577   29979\n",
              "346886         Ba(ClO4)2  119.621162   5.489098  21.391823   28827\n",
              "184887            CaCrO2  115.995361  35.669668  21.294285   89833\n",
              "145101    Ba2Ca3TlCu4O11  125.170815  51.912175  20.974875   29683\n",
              "284752   Ba2Ca3Ti4Tl2O12  113.983223   6.843226  20.935164   29678\n",
              "23007        BaCa(CuO2)4  111.354675  10.934295  20.878202   40030\n",
              "320287          Ca(SO5)2  108.938591   6.418445  20.784938   79547\n",
              "626751        BaCa2Cu3O5  110.019180  15.205222  20.639706   40058"
            ]
          },
          "metadata": {},
          "output_type": "display_data"
        },
        {
          "name": "stdout",
          "output_type": "stream",
          "text": [
            "\n"
          ]
        },
        {
          "data": {
            "text/html": [
              "\n",
              "  <div id=\"df-62445039-7e60-454c-aa61-600c2b891c40\">\n",
              "    <div class=\"colab-df-container\">\n",
              "      <div>\n",
              "<style scoped>\n",
              "    .dataframe tbody tr th:only-of-type {\n",
              "        vertical-align: middle;\n",
              "    }\n",
              "\n",
              "    .dataframe tbody tr th {\n",
              "        vertical-align: top;\n",
              "    }\n",
              "\n",
              "    .dataframe thead th {\n",
              "        text-align: right;\n",
              "    }\n",
              "</style>\n",
              "<table border=\"1\" class=\"dataframe\">\n",
              "  <thead>\n",
              "    <tr style=\"text-align: right;\">\n",
              "      <th></th>\n",
              "      <th>formula</th>\n",
              "      <th>prediction</th>\n",
              "      <th>density</th>\n",
              "      <th>score</th>\n",
              "      <th>index</th>\n",
              "    </tr>\n",
              "  </thead>\n",
              "  <tbody>\n",
              "    <tr>\n",
              "      <th>598371</th>\n",
              "      <td>CaCu4Sb</td>\n",
              "      <td>150.656235</td>\n",
              "      <td>3.385642</td>\n",
              "      <td>47.052665</td>\n",
              "      <td>90066</td>\n",
              "    </tr>\n",
              "    <tr>\n",
              "      <th>674416</th>\n",
              "      <td>YCu8</td>\n",
              "      <td>133.906372</td>\n",
              "      <td>4.373719</td>\n",
              "      <td>41.937544</td>\n",
              "      <td>643729</td>\n",
              "    </tr>\n",
              "    <tr>\n",
              "      <th>154411</th>\n",
              "      <td>YCu13</td>\n",
              "      <td>125.323814</td>\n",
              "      <td>6.211921</td>\n",
              "      <td>40.821976</td>\n",
              "      <td>643624</td>\n",
              "    </tr>\n",
              "    <tr>\n",
              "      <th>627617</th>\n",
              "      <td>BaMg8</td>\n",
              "      <td>128.096863</td>\n",
              "      <td>5.390813</td>\n",
              "      <td>40.673097</td>\n",
              "      <td>48983</td>\n",
              "    </tr>\n",
              "    <tr>\n",
              "      <th>325169</th>\n",
              "      <td>CaSbPb4</td>\n",
              "      <td>129.982697</td>\n",
              "      <td>12.087344</td>\n",
              "      <td>40.564527</td>\n",
              "      <td>99503</td>\n",
              "    </tr>\n",
              "    <tr>\n",
              "      <th>248074</th>\n",
              "      <td>CaAl2O12</td>\n",
              "      <td>132.798248</td>\n",
              "      <td>6.247991</td>\n",
              "      <td>40.036386</td>\n",
              "      <td>86453</td>\n",
              "    </tr>\n",
              "    <tr>\n",
              "      <th>522996</th>\n",
              "      <td>Ba2Mg17</td>\n",
              "      <td>122.497086</td>\n",
              "      <td>2.257852</td>\n",
              "      <td>39.019987</td>\n",
              "      <td>30981</td>\n",
              "    </tr>\n",
              "    <tr>\n",
              "      <th>441143</th>\n",
              "      <td>Ca(NO5)2</td>\n",
              "      <td>135.998795</td>\n",
              "      <td>6.453689</td>\n",
              "      <td>38.465214</td>\n",
              "      <td>79500</td>\n",
              "    </tr>\n",
              "    <tr>\n",
              "      <th>550389</th>\n",
              "      <td>Ba2CaTl</td>\n",
              "      <td>126.584602</td>\n",
              "      <td>2.402361</td>\n",
              "      <td>37.183831</td>\n",
              "      <td>29774</td>\n",
              "    </tr>\n",
              "    <tr>\n",
              "      <th>282759</th>\n",
              "      <td>BaY7</td>\n",
              "      <td>119.311790</td>\n",
              "      <td>2.756119</td>\n",
              "      <td>36.999765</td>\n",
              "      <td>60262</td>\n",
              "    </tr>\n",
              "    <tr>\n",
              "      <th>452744</th>\n",
              "      <td>YCrO2</td>\n",
              "      <td>119.127472</td>\n",
              "      <td>16.232205</td>\n",
              "      <td>34.918461</td>\n",
              "      <td>643494</td>\n",
              "    </tr>\n",
              "    <tr>\n",
              "      <th>655964</th>\n",
              "      <td>TlCuO2</td>\n",
              "      <td>110.693764</td>\n",
              "      <td>11.381377</td>\n",
              "      <td>34.597033</td>\n",
              "      <td>613396</td>\n",
              "    </tr>\n",
              "    <tr>\n",
              "      <th>660652</th>\n",
              "      <td>Ca(IO6)2</td>\n",
              "      <td>134.643600</td>\n",
              "      <td>6.899210</td>\n",
              "      <td>34.213949</td>\n",
              "      <td>79435</td>\n",
              "    </tr>\n",
              "    <tr>\n",
              "      <th>280257</th>\n",
              "      <td>Ba2Ca3Ti4Tl2O12</td>\n",
              "      <td>113.983223</td>\n",
              "      <td>6.843226</td>\n",
              "      <td>33.448482</td>\n",
              "      <td>29678</td>\n",
              "    </tr>\n",
              "    <tr>\n",
              "      <th>627592</th>\n",
              "      <td>Ba2Cr3O8</td>\n",
              "      <td>112.926033</td>\n",
              "      <td>10.549232</td>\n",
              "      <td>32.922378</td>\n",
              "      <td>29979</td>\n",
              "    </tr>\n",
              "    <tr>\n",
              "      <th>236496</th>\n",
              "      <td>Ba2Cr3O7</td>\n",
              "      <td>122.789215</td>\n",
              "      <td>10.047655</td>\n",
              "      <td>32.625652</td>\n",
              "      <td>29978</td>\n",
              "    </tr>\n",
              "    <tr>\n",
              "      <th>216137</th>\n",
              "      <td>BaMg7</td>\n",
              "      <td>102.706703</td>\n",
              "      <td>15.384114</td>\n",
              "      <td>32.568932</td>\n",
              "      <td>48982</td>\n",
              "    </tr>\n",
              "    <tr>\n",
              "      <th>310148</th>\n",
              "      <td>Ca2SbTe</td>\n",
              "      <td>98.592621</td>\n",
              "      <td>1.776965</td>\n",
              "      <td>32.014960</td>\n",
              "      <td>81199</td>\n",
              "    </tr>\n",
              "    <tr>\n",
              "      <th>232447</th>\n",
              "      <td>CrHO2</td>\n",
              "      <td>103.073952</td>\n",
              "      <td>9.615403</td>\n",
              "      <td>31.986082</td>\n",
              "      <td>137366</td>\n",
              "    </tr>\n",
              "    <tr>\n",
              "      <th>348167</th>\n",
              "      <td>KCrO2</td>\n",
              "      <td>104.042702</td>\n",
              "      <td>40.861254</td>\n",
              "      <td>31.970452</td>\n",
              "      <td>282929</td>\n",
              "    </tr>\n",
              "    <tr>\n",
              "      <th>81655</th>\n",
              "      <td>BaCa2C2(O3F)2</td>\n",
              "      <td>114.646912</td>\n",
              "      <td>16.920376</td>\n",
              "      <td>31.912684</td>\n",
              "      <td>40052</td>\n",
              "    </tr>\n",
              "    <tr>\n",
              "      <th>346750</th>\n",
              "      <td>Ba(ClO4)2</td>\n",
              "      <td>119.621162</td>\n",
              "      <td>5.489098</td>\n",
              "      <td>31.829739</td>\n",
              "      <td>28827</td>\n",
              "    </tr>\n",
              "    <tr>\n",
              "      <th>129487</th>\n",
              "      <td>Ca3SiCSO24</td>\n",
              "      <td>107.808052</td>\n",
              "      <td>8.654847</td>\n",
              "      <td>31.589771</td>\n",
              "      <td>83438</td>\n",
              "    </tr>\n",
              "    <tr>\n",
              "      <th>452410</th>\n",
              "      <td>YCd8</td>\n",
              "      <td>97.366196</td>\n",
              "      <td>7.771334</td>\n",
              "      <td>31.383595</td>\n",
              "      <td>642274</td>\n",
              "    </tr>\n",
              "    <tr>\n",
              "      <th>123391</th>\n",
              "      <td>DyCrO2</td>\n",
              "      <td>106.569847</td>\n",
              "      <td>14.376148</td>\n",
              "      <td>31.246995</td>\n",
              "      <td>166699</td>\n",
              "    </tr>\n",
              "  </tbody>\n",
              "</table>\n",
              "</div>\n",
              "      <button class=\"colab-df-convert\" onclick=\"convertToInteractive('df-62445039-7e60-454c-aa61-600c2b891c40')\"\n",
              "              title=\"Convert this dataframe to an interactive table.\"\n",
              "              style=\"display:none;\">\n",
              "        \n",
              "  <svg xmlns=\"http://www.w3.org/2000/svg\" height=\"24px\"viewBox=\"0 0 24 24\"\n",
              "       width=\"24px\">\n",
              "    <path d=\"M0 0h24v24H0V0z\" fill=\"none\"/>\n",
              "    <path d=\"M18.56 5.44l.94 2.06.94-2.06 2.06-.94-2.06-.94-.94-2.06-.94 2.06-2.06.94zm-11 1L8.5 8.5l.94-2.06 2.06-.94-2.06-.94L8.5 2.5l-.94 2.06-2.06.94zm10 10l.94 2.06.94-2.06 2.06-.94-2.06-.94-.94-2.06-.94 2.06-2.06.94z\"/><path d=\"M17.41 7.96l-1.37-1.37c-.4-.4-.92-.59-1.43-.59-.52 0-1.04.2-1.43.59L10.3 9.45l-7.72 7.72c-.78.78-.78 2.05 0 2.83L4 21.41c.39.39.9.59 1.41.59.51 0 1.02-.2 1.41-.59l7.78-7.78 2.81-2.81c.8-.78.8-2.07 0-2.86zM5.41 20L4 18.59l7.72-7.72 1.47 1.35L5.41 20z\"/>\n",
              "  </svg>\n",
              "      </button>\n",
              "      \n",
              "  <style>\n",
              "    .colab-df-container {\n",
              "      display:flex;\n",
              "      flex-wrap:wrap;\n",
              "      gap: 12px;\n",
              "    }\n",
              "\n",
              "    .colab-df-convert {\n",
              "      background-color: #E8F0FE;\n",
              "      border: none;\n",
              "      border-radius: 50%;\n",
              "      cursor: pointer;\n",
              "      display: none;\n",
              "      fill: #1967D2;\n",
              "      height: 32px;\n",
              "      padding: 0 0 0 0;\n",
              "      width: 32px;\n",
              "    }\n",
              "\n",
              "    .colab-df-convert:hover {\n",
              "      background-color: #E2EBFA;\n",
              "      box-shadow: 0px 1px 2px rgba(60, 64, 67, 0.3), 0px 1px 3px 1px rgba(60, 64, 67, 0.15);\n",
              "      fill: #174EA6;\n",
              "    }\n",
              "\n",
              "    [theme=dark] .colab-df-convert {\n",
              "      background-color: #3B4455;\n",
              "      fill: #D2E3FC;\n",
              "    }\n",
              "\n",
              "    [theme=dark] .colab-df-convert:hover {\n",
              "      background-color: #434B5C;\n",
              "      box-shadow: 0px 1px 3px 1px rgba(0, 0, 0, 0.15);\n",
              "      filter: drop-shadow(0px 1px 2px rgba(0, 0, 0, 0.3));\n",
              "      fill: #FFFFFF;\n",
              "    }\n",
              "  </style>\n",
              "\n",
              "      <script>\n",
              "        const buttonEl =\n",
              "          document.querySelector('#df-62445039-7e60-454c-aa61-600c2b891c40 button.colab-df-convert');\n",
              "        buttonEl.style.display =\n",
              "          google.colab.kernel.accessAllowed ? 'block' : 'none';\n",
              "\n",
              "        async function convertToInteractive(key) {\n",
              "          const element = document.querySelector('#df-62445039-7e60-454c-aa61-600c2b891c40');\n",
              "          const dataTable =\n",
              "            await google.colab.kernel.invokeFunction('convertToInteractive',\n",
              "                                                     [key], {});\n",
              "          if (!dataTable) return;\n",
              "\n",
              "          const docLinkHtml = 'Like what you see? Visit the ' +\n",
              "            '<a target=\"_blank\" href=https://colab.research.google.com/notebooks/data_table.ipynb>data table notebook</a>'\n",
              "            + ' to learn more about interactive tables.';\n",
              "          element.innerHTML = '';\n",
              "          dataTable['output_type'] = 'display_data';\n",
              "          await google.colab.output.renderOutput(dataTable, element);\n",
              "          const docLink = document.createElement('div');\n",
              "          docLink.innerHTML = docLinkHtml;\n",
              "          element.appendChild(docLink);\n",
              "        }\n",
              "      </script>\n",
              "    </div>\n",
              "  </div>\n",
              "  "
            ],
            "text/plain": [
              "                formula  prediction    density      score   index\n",
              "598371          CaCu4Sb  150.656235   3.385642  47.052665   90066\n",
              "674416             YCu8  133.906372   4.373719  41.937544  643729\n",
              "154411            YCu13  125.323814   6.211921  40.821976  643624\n",
              "627617            BaMg8  128.096863   5.390813  40.673097   48983\n",
              "325169          CaSbPb4  129.982697  12.087344  40.564527   99503\n",
              "248074         CaAl2O12  132.798248   6.247991  40.036386   86453\n",
              "522996          Ba2Mg17  122.497086   2.257852  39.019987   30981\n",
              "441143         Ca(NO5)2  135.998795   6.453689  38.465214   79500\n",
              "550389          Ba2CaTl  126.584602   2.402361  37.183831   29774\n",
              "282759             BaY7  119.311790   2.756119  36.999765   60262\n",
              "452744            YCrO2  119.127472  16.232205  34.918461  643494\n",
              "655964           TlCuO2  110.693764  11.381377  34.597033  613396\n",
              "660652         Ca(IO6)2  134.643600   6.899210  34.213949   79435\n",
              "280257  Ba2Ca3Ti4Tl2O12  113.983223   6.843226  33.448482   29678\n",
              "627592         Ba2Cr3O8  112.926033  10.549232  32.922378   29979\n",
              "236496         Ba2Cr3O7  122.789215  10.047655  32.625652   29978\n",
              "216137            BaMg7  102.706703  15.384114  32.568932   48982\n",
              "310148          Ca2SbTe   98.592621   1.776965  32.014960   81199\n",
              "232447            CrHO2  103.073952   9.615403  31.986082  137366\n",
              "348167            KCrO2  104.042702  40.861254  31.970452  282929\n",
              "81655     BaCa2C2(O3F)2  114.646912  16.920376  31.912684   40052\n",
              "346750        Ba(ClO4)2  119.621162   5.489098  31.829739   28827\n",
              "129487       Ca3SiCSO24  107.808052   8.654847  31.589771   83438\n",
              "452410             YCd8   97.366196   7.771334  31.383595  642274\n",
              "123391           DyCrO2  106.569847  14.376148  31.246995  166699"
            ]
          },
          "metadata": {},
          "output_type": "display_data"
        }
      ],
      "source": [
        "# Organize list of DataFrames and sort by score\n",
        "\n",
        "dens_score_df = pd.DataFrame()\n",
        "peak_score_df = pd.DataFrame()\n",
        "\n",
        "for i in dens_score:\n",
        "  dens_score_df = dens_score_df.append(i, ignore_index=True)\n",
        "\n",
        "dens_score_df.sort_values('score',inplace=True,ascending=False)\n",
        "\n",
        "for j in peak_score:\n",
        "  peak_score_df = peak_score_df.append(j, ignore_index=True)\n",
        "\n",
        "peak_score_df.sort_values('score',inplace=True,ascending=False)\n",
        "\n",
        "display(dens_score_df.head(25))\n",
        "print(\"\")\n",
        "display(peak_score_df.head(25))"
      ]
    },
    {
      "cell_type": "markdown",
      "metadata": {
        "id": "aVwXrfG9VIaA"
      },
      "source": [
        "**Append the Boolean values to each dataframe and then resort by score**"
      ]
    },
    {
      "cell_type": "code",
      "execution_count": null,
      "metadata": {
        "id": "qtmkqNmevtM6"
      },
      "outputs": [],
      "source": [
        "dens_score_df = dens_score_df.sort_values(by='index')\n",
        "dens_score_df['is_valid'] = val_df['is_valid']\n",
        "dens_score_df = dens_score_df.sort_values(by='score', ascending=False)\n",
        "\n",
        "\n",
        "peak_score_df = peak_score_df.sort_values(by='index')\n",
        "peak_score_df['is_valid'] = val_df['is_valid']\n",
        "peak_score_df = peak_score_df.sort_values(by='score', ascending=False)"
      ]
    },
    {
      "cell_type": "code",
      "execution_count": null,
      "metadata": {
        "id": "qhQjoAT3yC1X"
      },
      "outputs": [],
      "source": [
        "dsdf = dens_score_df.drop(['index'], axis=1)\n",
        "dsdf"
      ]
    },
    {
      "cell_type": "code",
      "execution_count": null,
      "metadata": {
        "id": "KhTPhL1szUD_"
      },
      "outputs": [],
      "source": [
        "psdf = peak_score_df.drop(['index'], axis=1)\n"
      ]
    },
    {
      "cell_type": "markdown",
      "metadata": {
        "id": "nE3g-yFMVzgc"
      },
      "source": [
        "**Import/Export files for future use**"
      ]
    },
    {
      "cell_type": "code",
      "execution_count": null,
      "metadata": {
        "id": "O8AVTKWky4VR"
      },
      "outputs": [],
      "source": [
        "#export dens_score and peak_score as csv files\n",
        "\n",
        "dsdf.to_csv(r\"/content/drive/MyDrive/ReUSE/CDVAE-Discover/dens_score.csv\", index = False)\n",
        "\n",
        "psdf.to_csv(r\"/content/drive/MyDrive/ReUSE/CDVAE-Discover/peak_score.csv\", index = False)"
      ]
    },
    {
      "cell_type": "code",
      "execution_count": null,
      "metadata": {
        "id": "ovZvjqMgSsAx"
      },
      "outputs": [],
      "source": [
        "#import files if needed\n",
        "\n",
        "dens_score_df = pd.read_csv(\"/content/drive/MyDrive/ReUSE/CDVAE-Discover/dens_score.csv\")\n",
        "peak_score_df = pd.read_csv(\"/content/drive/MyDrive/ReUSE/CDVAE-Discover/peak_score.csv\")"
      ]
    },
    {
      "cell_type": "markdown",
      "metadata": {
        "id": "TrkjUqXxlMLW"
      },
      "source": [
        "#**Visualizing data**"
      ]
    },
    {
      "cell_type": "code",
      "execution_count": null,
      "metadata": {
        "colab": {
          "base_uri": "https://localhost:8080/",
          "height": 983
        },
        "id": "pBCtQGm9J0ce",
        "outputId": "e16d4cb6-a157-476e-d5cd-75776f444c6a"
      },
      "outputs": [
        {
          "data": {
            "image/png": "[encoded data removed]",
            "text/plain": [
              "<Figure size 1050x1050 with 1 Axes>"
            ]
          },
          "metadata": {},
          "output_type": "display_data"
        }
      ],
      "source": [
        "#Histogram of train_df with critical temperatures above 77.36 which is the range for high-temperature superconductors\n",
        "\n",
        "hist = train_df.hist(column='target', bins=50, range=[77.36,140], align='mid')"
      ]
    },
    {
      "cell_type": "code",
      "execution_count": null,
      "metadata": {
        "colab": {
          "base_uri": "https://localhost:8080/",
          "height": 1000
        },
        "id": "KS7HM7CjTCR1",
        "outputId": "26a50092-b8bf-4b9d-96d4-507e09480fc9"
      },
      "outputs": [
        {
          "name": "stdout",
          "output_type": "stream",
          "text": [
            "There are 335 predicted high-temp superconductors with a critical temperatures above 77.36 K\n"
          ]
        },
        {
          "data": {
            "image/png": "[encoded data removed]",
            "text/plain": [
              "<Figure size 1050x1050 with 1 Axes>"
            ]
          },
          "metadata": {},
          "output_type": "display_data"
        },
        {
          "data": {
            "image/png": "[encoded data removed]",
            "text/plain": [
              "<Figure size 1050x1050 with 1 Axes>"
            ]
          },
          "metadata": {},
          "output_type": "display_data"
        }
      ],
      "source": [
        "#histograms for predictions\n",
        "\n",
        "dens_hist = dens_score_df.hist(column='prediction', bins=100 ,align='mid', range= [77.36,140])\n",
        "\n",
        "peak_hist = peak_score_df.hist(column='prediction', bins=100 ,align='mid', range= [77.36,140])\n",
        "\n",
        "print(f\"There are {(peak_score_df['prediction'] >= 77.36).sum()} predicted high-temp superconductors with a critical temperatures above 77.36 K\")"
      ]
    }
  ],
  "metadata": {
    "accelerator": "GPU",
    "colab": {
      "collapsed_sections": [
        "Gem6R9XIfpGw",
        "I-n_xwub8pdZ"
      ],
      "machine_shape": "hm",
      "name": "main.ipynb",
      "provenance": [],
      "authorship_tag": "ABX9TyNvaoXA/Fz/8r/DKIw3ysmm",
      "include_colab_link": true
    },
    "gpuClass": "standard",
    "kernelspec": {
      "display_name": "Python 3",
      "name": "python3"
    },
    "language_info": {
      "name": "python"
    }
  },
  "nbformat": 4,
  "nbformat_minor": 0
}